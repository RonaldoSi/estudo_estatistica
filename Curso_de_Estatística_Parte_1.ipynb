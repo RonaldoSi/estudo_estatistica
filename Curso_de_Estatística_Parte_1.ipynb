{
  "cells": [
    {
      "cell_type": "markdown",
      "metadata": {
        "id": "view-in-github",
        "colab_type": "text"
      },
      "source": [
        "<a href=\"https://colab.research.google.com/github/RonaldoSi/estudo_estatistica/blob/main/Curso_de_Estat%C3%ADstica_Parte_1.ipynb\" target=\"_parent\"><img src=\"https://colab.research.google.com/assets/colab-badge.svg\" alt=\"Open In Colab\"/></a>"
      ]
    },
    {
      "cell_type": "markdown",
      "metadata": {
        "id": "WvMflodMjQKe"
      },
      "source": [
        "***\n",
        "# <font color=green size=10>CURSO DE ESTATÍSTICA - PARTE 1</font>\n",
        "***"
      ]
    },
    {
      "cell_type": "markdown",
      "metadata": {
        "id": "cVgsZ_E3jQKg"
      },
      "source": [
        "# <font color=green>1 CONHECENDO OS DADOS</font>\n",
        "***"
      ]
    },
    {
      "cell_type": "markdown",
      "metadata": {
        "id": "TDjqYYNojQKh"
      },
      "source": [
        "## <font color=green>1.1 Dataset do projeto</font>\n",
        "***"
      ]
    },
    {
      "cell_type": "markdown",
      "metadata": {
        "id": "iN1gIbaKjQKh"
      },
      "source": [
        "### Pesquisa Nacional por Amostra de Domicílios - 2015\n",
        "\n",
        "A <b>Pesquisa Nacional por Amostra de Domicílios - PNAD</b> investiga anualmente, de forma permanente, características gerais da população, de educação, trabalho, rendimento e habitação e outras, com periodicidade variável, de acordo com as necessidades de informação para o país, como as características sobre migração, fecundidade, nupcialidade, saúde, segurança alimentar, entre outros temas. O levantamento dessas estatísticas constitui, ao longo dos 49 anos de realização da pesquisa, um importante instrumento para formulação, validação e avaliação de políticas orientadas para o desenvolvimento socioeconômico e a melhoria das condições de vida no Brasil."
      ]
    },
    {
      "cell_type": "markdown",
      "metadata": {
        "id": "U6V7br1RjQKi"
      },
      "source": [
        "### Fonte dos Dados\n",
        "\n",
        "https://ww2.ibge.gov.br/home/estatistica/populacao/trabalhoerendimento/pnad2015/microdados.shtm"
      ]
    },
    {
      "cell_type": "markdown",
      "metadata": {
        "id": "r0Fe_qnzjQKj"
      },
      "source": [
        "### Variáveis utilizadas\n",
        "\n",
        "> ### Renda\n",
        "> ***\n",
        "\n",
        "Rendimento mensal do trabalho principal para pessoas de 10 anos ou mais de idade.\n",
        "\n",
        "> ### Idade\n",
        "> ***\n",
        "\n",
        "Idade do morador na data de referência em anos.\n",
        "\n",
        "> ### Altura (elaboração própria)\n",
        "> ***\n",
        "\n",
        "Altura do morador em metros.\n",
        "\n",
        "> ### UF\n",
        "> ***\n",
        "\n",
        "|Código|Descrição|\n",
        "|---|---|\n",
        "|11|Rondônia|\n",
        "|12|Acre|\n",
        "|13|Amazonas|\n",
        "|14|Roraima|\n",
        "|15|Pará|\n",
        "|16|Amapá|\n",
        "|17|Tocantins|\n",
        "|21|Maranhão|\n",
        "|22|Piauí|\n",
        "|23|Ceará|\n",
        "|24|Rio Grande do Norte|\n",
        "|25|Paraíba|\n",
        "|26|Pernambuco|\n",
        "|27|Alagoas|\n",
        "|28|Sergipe|\n",
        "|29|Bahia|\n",
        "|31|Minas Gerais|\n",
        "|32|Espírito Santo|\n",
        "|33|Rio de Janeiro|\n",
        "|35|São Paulo|\n",
        "|41|Paraná|\n",
        "|42|Santa Catarina|\n",
        "|43|Rio Grande do Sul|\n",
        "|50|Mato Grosso do Sul|\n",
        "|51|Mato Grosso|\n",
        "|52|Goiás|\n",
        "|53|Distrito Federal|\n",
        "\n",
        "> ### Sexo\n",
        "> ***\n",
        "\n",
        "|Código|Descrição|\n",
        "|---|---|\n",
        "|0|Masculino|\n",
        "|1|Feminino|\n",
        "\n",
        "> ### Anos de Estudo\n",
        "> ***\n",
        "\n",
        "|Código|Descrição|\n",
        "|---|---|\n",
        "|1|Sem instrução e menos de 1 ano|\n",
        "|2|1 ano|\n",
        "|3|2 anos|\n",
        "|4|3 anos|\n",
        "|5|4 anos|\n",
        "|6|5 anos|\n",
        "|7|6 anos|\n",
        "|8|7 anos|\n",
        "|9|8 anos|\n",
        "|10|9 anos|\n",
        "|11|10 anos|\n",
        "|12|11 anos|\n",
        "|13|12 anos|\n",
        "|14|13 anos|\n",
        "|15|14 anos|\n",
        "|16|15 anos ou mais|\n",
        "|17|Não determinados|\n",
        "||Não aplicável|\n",
        "\n",
        "> ### Cor\n",
        "> ***\n",
        "\n",
        "|Código|Descrição|\n",
        "|---|---|\n",
        "|0|Indígena|\n",
        "|2|Branca|\n",
        "|4|Preta|\n",
        "|6|Amarela|\n",
        "|8|Parda|\n",
        "|9|Sem declaração|"
      ]
    },
    {
      "cell_type": "markdown",
      "metadata": {
        "id": "OK1IQH5cX7Gb"
      },
      "source": [
        "#### <font color='red'>Observação</font>\n",
        "***\n",
        "> Os seguintes tratamentos foram realizados nos dados originais:\n",
        "> 1. Foram eliminados os registros onde a <b>Renda</b> era inválida (999 999 999 999);\n",
        "> 2. Foram eliminados os registros onde a <b>Renda</b> era missing;\n",
        "> 3. Foram considerados somente os registros das <b>Pessoas de Referência</b> de cada domicílio (responsável pelo domicílio)."
      ]
    },
    {
      "cell_type": "markdown",
      "metadata": {
        "id": "8Rw70V6ojQKk"
      },
      "source": [
        "### Importando pandas e lendo o dataset do projeto\n",
        "\n",
        "https://pandas.pydata.org/"
      ]
    },
    {
      "cell_type": "code",
      "execution_count": 3,
      "metadata": {
        "id": "8QgOpE-wjQKl"
      },
      "outputs": [],
      "source": [
        "import pandas as pd"
      ]
    },
    {
      "cell_type": "code",
      "execution_count": 4,
      "metadata": {
        "colab": {
          "base_uri": "https://localhost:8080/",
          "height": 206
        },
        "id": "ufRZ7TLwjQKo",
        "outputId": "bd741a2e-8178-487a-cae4-436813637066"
      },
      "outputs": [
        {
          "output_type": "execute_result",
          "data": {
            "text/plain": [
              "   UF  Sexo  Idade  Cor  Anos de Estudo  Renda    Altura\n",
              "0  11     0     23    8              12    800  1.603808\n",
              "1  11     1     23    2              12   1150  1.739790\n",
              "2  11     1     35    8              15    880  1.760444\n",
              "3  11     0     46    2               6   3500  1.783158\n",
              "4  11     1     47    8               9    150  1.690631"
            ],
            "text/html": [
              "\n",
              "  <div id=\"df-d8b74905-4cf2-444f-99c3-d5f7fae89d28\" class=\"colab-df-container\">\n",
              "    <div>\n",
              "<style scoped>\n",
              "    .dataframe tbody tr th:only-of-type {\n",
              "        vertical-align: middle;\n",
              "    }\n",
              "\n",
              "    .dataframe tbody tr th {\n",
              "        vertical-align: top;\n",
              "    }\n",
              "\n",
              "    .dataframe thead th {\n",
              "        text-align: right;\n",
              "    }\n",
              "</style>\n",
              "<table border=\"1\" class=\"dataframe\">\n",
              "  <thead>\n",
              "    <tr style=\"text-align: right;\">\n",
              "      <th></th>\n",
              "      <th>UF</th>\n",
              "      <th>Sexo</th>\n",
              "      <th>Idade</th>\n",
              "      <th>Cor</th>\n",
              "      <th>Anos de Estudo</th>\n",
              "      <th>Renda</th>\n",
              "      <th>Altura</th>\n",
              "    </tr>\n",
              "  </thead>\n",
              "  <tbody>\n",
              "    <tr>\n",
              "      <th>0</th>\n",
              "      <td>11</td>\n",
              "      <td>0</td>\n",
              "      <td>23</td>\n",
              "      <td>8</td>\n",
              "      <td>12</td>\n",
              "      <td>800</td>\n",
              "      <td>1.603808</td>\n",
              "    </tr>\n",
              "    <tr>\n",
              "      <th>1</th>\n",
              "      <td>11</td>\n",
              "      <td>1</td>\n",
              "      <td>23</td>\n",
              "      <td>2</td>\n",
              "      <td>12</td>\n",
              "      <td>1150</td>\n",
              "      <td>1.739790</td>\n",
              "    </tr>\n",
              "    <tr>\n",
              "      <th>2</th>\n",
              "      <td>11</td>\n",
              "      <td>1</td>\n",
              "      <td>35</td>\n",
              "      <td>8</td>\n",
              "      <td>15</td>\n",
              "      <td>880</td>\n",
              "      <td>1.760444</td>\n",
              "    </tr>\n",
              "    <tr>\n",
              "      <th>3</th>\n",
              "      <td>11</td>\n",
              "      <td>0</td>\n",
              "      <td>46</td>\n",
              "      <td>2</td>\n",
              "      <td>6</td>\n",
              "      <td>3500</td>\n",
              "      <td>1.783158</td>\n",
              "    </tr>\n",
              "    <tr>\n",
              "      <th>4</th>\n",
              "      <td>11</td>\n",
              "      <td>1</td>\n",
              "      <td>47</td>\n",
              "      <td>8</td>\n",
              "      <td>9</td>\n",
              "      <td>150</td>\n",
              "      <td>1.690631</td>\n",
              "    </tr>\n",
              "  </tbody>\n",
              "</table>\n",
              "</div>\n",
              "    <div class=\"colab-df-buttons\">\n",
              "\n",
              "  <div class=\"colab-df-container\">\n",
              "    <button class=\"colab-df-convert\" onclick=\"convertToInteractive('df-d8b74905-4cf2-444f-99c3-d5f7fae89d28')\"\n",
              "            title=\"Convert this dataframe to an interactive table.\"\n",
              "            style=\"display:none;\">\n",
              "\n",
              "  <svg xmlns=\"http://www.w3.org/2000/svg\" height=\"24px\" viewBox=\"0 -960 960 960\">\n",
              "    <path d=\"M120-120v-720h720v720H120Zm60-500h600v-160H180v160Zm220 220h160v-160H400v160Zm0 220h160v-160H400v160ZM180-400h160v-160H180v160Zm440 0h160v-160H620v160ZM180-180h160v-160H180v160Zm440 0h160v-160H620v160Z\"/>\n",
              "  </svg>\n",
              "    </button>\n",
              "\n",
              "  <style>\n",
              "    .colab-df-container {\n",
              "      display:flex;\n",
              "      gap: 12px;\n",
              "    }\n",
              "\n",
              "    .colab-df-convert {\n",
              "      background-color: #E8F0FE;\n",
              "      border: none;\n",
              "      border-radius: 50%;\n",
              "      cursor: pointer;\n",
              "      display: none;\n",
              "      fill: #1967D2;\n",
              "      height: 32px;\n",
              "      padding: 0 0 0 0;\n",
              "      width: 32px;\n",
              "    }\n",
              "\n",
              "    .colab-df-convert:hover {\n",
              "      background-color: #E2EBFA;\n",
              "      box-shadow: 0px 1px 2px rgba(60, 64, 67, 0.3), 0px 1px 3px 1px rgba(60, 64, 67, 0.15);\n",
              "      fill: #174EA6;\n",
              "    }\n",
              "\n",
              "    .colab-df-buttons div {\n",
              "      margin-bottom: 4px;\n",
              "    }\n",
              "\n",
              "    [theme=dark] .colab-df-convert {\n",
              "      background-color: #3B4455;\n",
              "      fill: #D2E3FC;\n",
              "    }\n",
              "\n",
              "    [theme=dark] .colab-df-convert:hover {\n",
              "      background-color: #434B5C;\n",
              "      box-shadow: 0px 1px 3px 1px rgba(0, 0, 0, 0.15);\n",
              "      filter: drop-shadow(0px 1px 2px rgba(0, 0, 0, 0.3));\n",
              "      fill: #FFFFFF;\n",
              "    }\n",
              "  </style>\n",
              "\n",
              "    <script>\n",
              "      const buttonEl =\n",
              "        document.querySelector('#df-d8b74905-4cf2-444f-99c3-d5f7fae89d28 button.colab-df-convert');\n",
              "      buttonEl.style.display =\n",
              "        google.colab.kernel.accessAllowed ? 'block' : 'none';\n",
              "\n",
              "      async function convertToInteractive(key) {\n",
              "        const element = document.querySelector('#df-d8b74905-4cf2-444f-99c3-d5f7fae89d28');\n",
              "        const dataTable =\n",
              "          await google.colab.kernel.invokeFunction('convertToInteractive',\n",
              "                                                    [key], {});\n",
              "        if (!dataTable) return;\n",
              "\n",
              "        const docLinkHtml = 'Like what you see? Visit the ' +\n",
              "          '<a target=\"_blank\" href=https://colab.research.google.com/notebooks/data_table.ipynb>data table notebook</a>'\n",
              "          + ' to learn more about interactive tables.';\n",
              "        element.innerHTML = '';\n",
              "        dataTable['output_type'] = 'display_data';\n",
              "        await google.colab.output.renderOutput(dataTable, element);\n",
              "        const docLink = document.createElement('div');\n",
              "        docLink.innerHTML = docLinkHtml;\n",
              "        element.appendChild(docLink);\n",
              "      }\n",
              "    </script>\n",
              "  </div>\n",
              "\n",
              "\n",
              "<div id=\"df-ba672587-35e8-4e95-84e0-e6b358cc7e0b\">\n",
              "  <button class=\"colab-df-quickchart\" onclick=\"quickchart('df-ba672587-35e8-4e95-84e0-e6b358cc7e0b')\"\n",
              "            title=\"Suggest charts\"\n",
              "            style=\"display:none;\">\n",
              "\n",
              "<svg xmlns=\"http://www.w3.org/2000/svg\" height=\"24px\"viewBox=\"0 0 24 24\"\n",
              "     width=\"24px\">\n",
              "    <g>\n",
              "        <path d=\"M19 3H5c-1.1 0-2 .9-2 2v14c0 1.1.9 2 2 2h14c1.1 0 2-.9 2-2V5c0-1.1-.9-2-2-2zM9 17H7v-7h2v7zm4 0h-2V7h2v10zm4 0h-2v-4h2v4z\"/>\n",
              "    </g>\n",
              "</svg>\n",
              "  </button>\n",
              "\n",
              "<style>\n",
              "  .colab-df-quickchart {\n",
              "      --bg-color: #E8F0FE;\n",
              "      --fill-color: #1967D2;\n",
              "      --hover-bg-color: #E2EBFA;\n",
              "      --hover-fill-color: #174EA6;\n",
              "      --disabled-fill-color: #AAA;\n",
              "      --disabled-bg-color: #DDD;\n",
              "  }\n",
              "\n",
              "  [theme=dark] .colab-df-quickchart {\n",
              "      --bg-color: #3B4455;\n",
              "      --fill-color: #D2E3FC;\n",
              "      --hover-bg-color: #434B5C;\n",
              "      --hover-fill-color: #FFFFFF;\n",
              "      --disabled-bg-color: #3B4455;\n",
              "      --disabled-fill-color: #666;\n",
              "  }\n",
              "\n",
              "  .colab-df-quickchart {\n",
              "    background-color: var(--bg-color);\n",
              "    border: none;\n",
              "    border-radius: 50%;\n",
              "    cursor: pointer;\n",
              "    display: none;\n",
              "    fill: var(--fill-color);\n",
              "    height: 32px;\n",
              "    padding: 0;\n",
              "    width: 32px;\n",
              "  }\n",
              "\n",
              "  .colab-df-quickchart:hover {\n",
              "    background-color: var(--hover-bg-color);\n",
              "    box-shadow: 0 1px 2px rgba(60, 64, 67, 0.3), 0 1px 3px 1px rgba(60, 64, 67, 0.15);\n",
              "    fill: var(--button-hover-fill-color);\n",
              "  }\n",
              "\n",
              "  .colab-df-quickchart-complete:disabled,\n",
              "  .colab-df-quickchart-complete:disabled:hover {\n",
              "    background-color: var(--disabled-bg-color);\n",
              "    fill: var(--disabled-fill-color);\n",
              "    box-shadow: none;\n",
              "  }\n",
              "\n",
              "  .colab-df-spinner {\n",
              "    border: 2px solid var(--fill-color);\n",
              "    border-color: transparent;\n",
              "    border-bottom-color: var(--fill-color);\n",
              "    animation:\n",
              "      spin 1s steps(1) infinite;\n",
              "  }\n",
              "\n",
              "  @keyframes spin {\n",
              "    0% {\n",
              "      border-color: transparent;\n",
              "      border-bottom-color: var(--fill-color);\n",
              "      border-left-color: var(--fill-color);\n",
              "    }\n",
              "    20% {\n",
              "      border-color: transparent;\n",
              "      border-left-color: var(--fill-color);\n",
              "      border-top-color: var(--fill-color);\n",
              "    }\n",
              "    30% {\n",
              "      border-color: transparent;\n",
              "      border-left-color: var(--fill-color);\n",
              "      border-top-color: var(--fill-color);\n",
              "      border-right-color: var(--fill-color);\n",
              "    }\n",
              "    40% {\n",
              "      border-color: transparent;\n",
              "      border-right-color: var(--fill-color);\n",
              "      border-top-color: var(--fill-color);\n",
              "    }\n",
              "    60% {\n",
              "      border-color: transparent;\n",
              "      border-right-color: var(--fill-color);\n",
              "    }\n",
              "    80% {\n",
              "      border-color: transparent;\n",
              "      border-right-color: var(--fill-color);\n",
              "      border-bottom-color: var(--fill-color);\n",
              "    }\n",
              "    90% {\n",
              "      border-color: transparent;\n",
              "      border-bottom-color: var(--fill-color);\n",
              "    }\n",
              "  }\n",
              "</style>\n",
              "\n",
              "  <script>\n",
              "    async function quickchart(key) {\n",
              "      const quickchartButtonEl =\n",
              "        document.querySelector('#' + key + ' button');\n",
              "      quickchartButtonEl.disabled = true;  // To prevent multiple clicks.\n",
              "      quickchartButtonEl.classList.add('colab-df-spinner');\n",
              "      try {\n",
              "        const charts = await google.colab.kernel.invokeFunction(\n",
              "            'suggestCharts', [key], {});\n",
              "      } catch (error) {\n",
              "        console.error('Error during call to suggestCharts:', error);\n",
              "      }\n",
              "      quickchartButtonEl.classList.remove('colab-df-spinner');\n",
              "      quickchartButtonEl.classList.add('colab-df-quickchart-complete');\n",
              "    }\n",
              "    (() => {\n",
              "      let quickchartButtonEl =\n",
              "        document.querySelector('#df-ba672587-35e8-4e95-84e0-e6b358cc7e0b button');\n",
              "      quickchartButtonEl.style.display =\n",
              "        google.colab.kernel.accessAllowed ? 'block' : 'none';\n",
              "    })();\n",
              "  </script>\n",
              "</div>\n",
              "\n",
              "    </div>\n",
              "  </div>\n"
            ],
            "application/vnd.google.colaboratory.intrinsic+json": {
              "type": "dataframe",
              "variable_name": "dataset",
              "summary": "{\n  \"name\": \"dataset\",\n  \"rows\": 76840,\n  \"fields\": [\n    {\n      \"column\": \"UF\",\n      \"properties\": {\n        \"dtype\": \"number\",\n        \"std\": 11,\n        \"min\": 11,\n        \"max\": 53,\n        \"samples\": [\n          22,\n          27,\n          23\n        ],\n        \"num_unique_values\": 27,\n        \"semantic_type\": \"\",\n        \"description\": \"\"\n      }\n    },\n    {\n      \"column\": \"Sexo\",\n      \"properties\": {\n        \"dtype\": \"number\",\n        \"std\": 0,\n        \"min\": 0,\n        \"max\": 1,\n        \"samples\": [\n          1,\n          0\n        ],\n        \"num_unique_values\": 2,\n        \"semantic_type\": \"\",\n        \"description\": \"\"\n      }\n    },\n    {\n      \"column\": \"Idade\",\n      \"properties\": {\n        \"dtype\": \"number\",\n        \"std\": 12,\n        \"min\": 13,\n        \"max\": 99,\n        \"samples\": [\n          88,\n          23\n        ],\n        \"num_unique_values\": 84,\n        \"semantic_type\": \"\",\n        \"description\": \"\"\n      }\n    },\n    {\n      \"column\": \"Cor\",\n      \"properties\": {\n        \"dtype\": \"number\",\n        \"std\": 2,\n        \"min\": 0,\n        \"max\": 8,\n        \"samples\": [\n          2,\n          0\n        ],\n        \"num_unique_values\": 5,\n        \"semantic_type\": \"\",\n        \"description\": \"\"\n      }\n    },\n    {\n      \"column\": \"Anos de Estudo\",\n      \"properties\": {\n        \"dtype\": \"number\",\n        \"std\": 4,\n        \"min\": 1,\n        \"max\": 17,\n        \"samples\": [\n          12,\n          15\n        ],\n        \"num_unique_values\": 17,\n        \"semantic_type\": \"\",\n        \"description\": \"\"\n      }\n    },\n    {\n      \"column\": \"Renda\",\n      \"properties\": {\n        \"dtype\": \"number\",\n        \"std\": 3323,\n        \"min\": 0,\n        \"max\": 200000,\n        \"samples\": [\n          3279,\n          2456\n        ],\n        \"num_unique_values\": 1606,\n        \"semantic_type\": \"\",\n        \"description\": \"\"\n      }\n    },\n    {\n      \"column\": \"Altura\",\n      \"properties\": {\n        \"dtype\": \"number\",\n        \"std\": 0.07971743006825292,\n        \"min\": 1.339244614,\n        \"max\": 2.028496765,\n        \"samples\": [\n          1.616531581,\n          1.799777606\n        ],\n        \"num_unique_values\": 76831,\n        \"semantic_type\": \"\",\n        \"description\": \"\"\n      }\n    }\n  ]\n}"
            }
          },
          "metadata": {},
          "execution_count": 4
        }
      ],
      "source": [
        "dataset = pd.read_csv('/content/dados.csv')\n",
        "dataset.head()"
      ]
    },
    {
      "cell_type": "code",
      "execution_count": 117,
      "metadata": {
        "id": "GsC_WhLFjQKq",
        "scrolled": true,
        "colab": {
          "base_uri": "https://localhost:8080/",
          "height": 204
        },
        "outputId": "8a4ca8ae-3c0c-406e-96bc-d5a29f642d31"
      },
      "outputs": [
        {
          "output_type": "execute_result",
          "data": {
            "text/plain": [
              "pandas.core.frame.DataFrame"
            ],
            "text/html": [
              "<div style=\"max-width:800px; border: 1px solid var(--colab-border-color);\"><style>\n",
              "      pre.function-repr-contents {\n",
              "        overflow-x: auto;\n",
              "        padding: 8px 12px;\n",
              "        max-height: 500px;\n",
              "      }\n",
              "\n",
              "      pre.function-repr-contents.function-repr-contents-collapsed {\n",
              "        cursor: pointer;\n",
              "        max-height: 100px;\n",
              "      }\n",
              "    </style>\n",
              "    <pre style=\"white-space: initial; background:\n",
              "         var(--colab-secondary-surface-color); padding: 8px 12px;\n",
              "         border-bottom: 1px solid var(--colab-border-color);\"><b>pandas.core.frame.DataFrame</b><br/>def __init__(data=None, index: Axes | None=None, columns: Axes | None=None, dtype: Dtype | None=None, copy: bool | None=None) -&gt; None</pre><pre class=\"function-repr-contents function-repr-contents-collapsed\" style=\"\"><a class=\"filepath\" style=\"display:none\" href=\"#\">/usr/local/lib/python3.10/dist-packages/pandas/core/frame.py</a>Two-dimensional, size-mutable, potentially heterogeneous tabular data.\n",
              "\n",
              "Data structure also contains labeled axes (rows and columns).\n",
              "Arithmetic operations align on both row and column labels. Can be\n",
              "thought of as a dict-like container for Series objects. The primary\n",
              "pandas data structure.\n",
              "\n",
              "Parameters\n",
              "----------\n",
              "data : ndarray (structured or homogeneous), Iterable, dict, or DataFrame\n",
              "    Dict can contain Series, arrays, constants, dataclass or list-like objects. If\n",
              "    data is a dict, column order follows insertion-order. If a dict contains Series\n",
              "    which have an index defined, it is aligned by its index.\n",
              "\n",
              "    .. versionchanged:: 0.25.0\n",
              "       If data is a list of dicts, column order follows insertion-order.\n",
              "\n",
              "index : Index or array-like\n",
              "    Index to use for resulting frame. Will default to RangeIndex if\n",
              "    no indexing information part of input data and no index provided.\n",
              "columns : Index or array-like\n",
              "    Column labels to use for resulting frame when data does not have them,\n",
              "    defaulting to RangeIndex(0, 1, 2, ..., n). If data contains column labels,\n",
              "    will perform column selection instead.\n",
              "dtype : dtype, default None\n",
              "    Data type to force. Only a single dtype is allowed. If None, infer.\n",
              "copy : bool or None, default None\n",
              "    Copy data from inputs.\n",
              "    For dict data, the default of None behaves like ``copy=True``.  For DataFrame\n",
              "    or 2d ndarray input, the default of None behaves like ``copy=False``.\n",
              "    If data is a dict containing one or more Series (possibly of different dtypes),\n",
              "    ``copy=False`` will ensure that these inputs are not copied.\n",
              "\n",
              "    .. versionchanged:: 1.3.0\n",
              "\n",
              "See Also\n",
              "--------\n",
              "DataFrame.from_records : Constructor from tuples, also record arrays.\n",
              "DataFrame.from_dict : From dicts of Series, arrays, or dicts.\n",
              "read_csv : Read a comma-separated values (csv) file into DataFrame.\n",
              "read_table : Read general delimited file into DataFrame.\n",
              "read_clipboard : Read text from clipboard into DataFrame.\n",
              "\n",
              "Notes\n",
              "-----\n",
              "Please reference the :ref:`User Guide &lt;basics.dataframe&gt;` for more information.\n",
              "\n",
              "Examples\n",
              "--------\n",
              "Constructing DataFrame from a dictionary.\n",
              "\n",
              "&gt;&gt;&gt; d = {&#x27;col1&#x27;: [1, 2], &#x27;col2&#x27;: [3, 4]}\n",
              "&gt;&gt;&gt; df = pd.DataFrame(data=d)\n",
              "&gt;&gt;&gt; df\n",
              "   col1  col2\n",
              "0     1     3\n",
              "1     2     4\n",
              "\n",
              "Notice that the inferred dtype is int64.\n",
              "\n",
              "&gt;&gt;&gt; df.dtypes\n",
              "col1    int64\n",
              "col2    int64\n",
              "dtype: object\n",
              "\n",
              "To enforce a single dtype:\n",
              "\n",
              "&gt;&gt;&gt; df = pd.DataFrame(data=d, dtype=np.int8)\n",
              "&gt;&gt;&gt; df.dtypes\n",
              "col1    int8\n",
              "col2    int8\n",
              "dtype: object\n",
              "\n",
              "Constructing DataFrame from a dictionary including Series:\n",
              "\n",
              "&gt;&gt;&gt; d = {&#x27;col1&#x27;: [0, 1, 2, 3], &#x27;col2&#x27;: pd.Series([2, 3], index=[2, 3])}\n",
              "&gt;&gt;&gt; pd.DataFrame(data=d, index=[0, 1, 2, 3])\n",
              "   col1  col2\n",
              "0     0   NaN\n",
              "1     1   NaN\n",
              "2     2   2.0\n",
              "3     3   3.0\n",
              "\n",
              "Constructing DataFrame from numpy ndarray:\n",
              "\n",
              "&gt;&gt;&gt; df2 = pd.DataFrame(np.array([[1, 2, 3], [4, 5, 6], [7, 8, 9]]),\n",
              "...                    columns=[&#x27;a&#x27;, &#x27;b&#x27;, &#x27;c&#x27;])\n",
              "&gt;&gt;&gt; df2\n",
              "   a  b  c\n",
              "0  1  2  3\n",
              "1  4  5  6\n",
              "2  7  8  9\n",
              "\n",
              "Constructing DataFrame from a numpy ndarray that has labeled columns:\n",
              "\n",
              "&gt;&gt;&gt; data = np.array([(1, 2, 3), (4, 5, 6), (7, 8, 9)],\n",
              "...                 dtype=[(&quot;a&quot;, &quot;i4&quot;), (&quot;b&quot;, &quot;i4&quot;), (&quot;c&quot;, &quot;i4&quot;)])\n",
              "&gt;&gt;&gt; df3 = pd.DataFrame(data, columns=[&#x27;c&#x27;, &#x27;a&#x27;])\n",
              "...\n",
              "&gt;&gt;&gt; df3\n",
              "   c  a\n",
              "0  3  1\n",
              "1  6  4\n",
              "2  9  7\n",
              "\n",
              "Constructing DataFrame from dataclass:\n",
              "\n",
              "&gt;&gt;&gt; from dataclasses import make_dataclass\n",
              "&gt;&gt;&gt; Point = make_dataclass(&quot;Point&quot;, [(&quot;x&quot;, int), (&quot;y&quot;, int)])\n",
              "&gt;&gt;&gt; pd.DataFrame([Point(0, 0), Point(0, 3), Point(2, 3)])\n",
              "   x  y\n",
              "0  0  0\n",
              "1  0  3\n",
              "2  2  3</pre>\n",
              "      <script>\n",
              "      if (google.colab.kernel.accessAllowed && google.colab.files && google.colab.files.view) {\n",
              "        for (const element of document.querySelectorAll('.filepath')) {\n",
              "          element.style.display = 'block'\n",
              "          element.onclick = (event) => {\n",
              "            event.preventDefault();\n",
              "            event.stopPropagation();\n",
              "            google.colab.files.view(element.textContent, 475);\n",
              "          };\n",
              "        }\n",
              "      }\n",
              "      for (const element of document.querySelectorAll('.function-repr-contents')) {\n",
              "        element.onclick = (event) => {\n",
              "          event.preventDefault();\n",
              "          event.stopPropagation();\n",
              "          element.classList.toggle('function-repr-contents-collapsed');\n",
              "        };\n",
              "      }\n",
              "      </script>\n",
              "      </div>"
            ]
          },
          "metadata": {},
          "execution_count": 117
        }
      ],
      "source": [
        "type(dataset)"
      ]
    },
    {
      "cell_type": "markdown",
      "metadata": {
        "id": "E3Mx0tVqjQKs"
      },
      "source": [
        "## <font color=green>1.2 Tipos de dados</font>\n",
        "***"
      ]
    },
    {
      "cell_type": "markdown",
      "metadata": {
        "id": "oB4TCBFojQKt"
      },
      "source": [
        "### Variáveis qualitativas ordinais\n",
        "\n",
        "► Variáveis que podem ser ordenadas ou hierarquizardas"
      ]
    },
    {
      "cell_type": "code",
      "execution_count": 6,
      "metadata": {
        "id": "NtQZNGNbjQKt",
        "colab": {
          "base_uri": "https://localhost:8080/"
        },
        "outputId": "9bc143a3-a4b2-4779-ed93-8712646ac4ab"
      },
      "outputs": [
        {
          "output_type": "execute_result",
          "data": {
            "text/plain": [
              "[1, 2, 3, 4, 5, 6, 7, 8, 9, 10, 11, 12, 13, 14, 15, 16, 17]"
            ]
          },
          "metadata": {},
          "execution_count": 6
        }
      ],
      "source": [
        "sorted(dataset['Anos de Estudo'].unique())"
      ]
    },
    {
      "cell_type": "markdown",
      "metadata": {
        "id": "i2mCIMyojQKv"
      },
      "source": [
        "### Variáveis qualitativas nominais\n",
        "\n",
        "► Variáveis que não podem ser ordenadas ou hierarquizardas"
      ]
    },
    {
      "cell_type": "code",
      "execution_count": 7,
      "metadata": {
        "id": "NODtY5IxjQKw",
        "scrolled": true,
        "colab": {
          "base_uri": "https://localhost:8080/"
        },
        "outputId": "b1e5fcee-b743-4a81-a123-2f77ce2d2bd8"
      },
      "outputs": [
        {
          "output_type": "execute_result",
          "data": {
            "text/plain": [
              "[11,\n",
              " 12,\n",
              " 13,\n",
              " 14,\n",
              " 15,\n",
              " 16,\n",
              " 17,\n",
              " 21,\n",
              " 22,\n",
              " 23,\n",
              " 24,\n",
              " 25,\n",
              " 26,\n",
              " 27,\n",
              " 28,\n",
              " 29,\n",
              " 31,\n",
              " 32,\n",
              " 33,\n",
              " 35,\n",
              " 41,\n",
              " 42,\n",
              " 43,\n",
              " 50,\n",
              " 51,\n",
              " 52,\n",
              " 53]"
            ]
          },
          "metadata": {},
          "execution_count": 7
        }
      ],
      "source": [
        "sorted(dataset['UF'].unique())"
      ]
    },
    {
      "cell_type": "code",
      "execution_count": 8,
      "metadata": {
        "id": "NURfft2QjQKy",
        "colab": {
          "base_uri": "https://localhost:8080/"
        },
        "outputId": "2b4dc1ac-9b52-4b50-9c54-548e51a4cabb"
      },
      "outputs": [
        {
          "output_type": "execute_result",
          "data": {
            "text/plain": [
              "[0, 1]"
            ]
          },
          "metadata": {},
          "execution_count": 8
        }
      ],
      "source": [
        "sorted(dataset['Sexo'].unique())"
      ]
    },
    {
      "cell_type": "code",
      "execution_count": 9,
      "metadata": {
        "id": "6VwGyqxMjQK1",
        "colab": {
          "base_uri": "https://localhost:8080/"
        },
        "outputId": "3d7d4663-3792-45d9-8ac7-92789f050b92"
      },
      "outputs": [
        {
          "output_type": "execute_result",
          "data": {
            "text/plain": [
              "[0, 2, 4, 6, 8]"
            ]
          },
          "metadata": {},
          "execution_count": 9
        }
      ],
      "source": [
        "sorted(dataset['Cor'].unique())"
      ]
    },
    {
      "cell_type": "markdown",
      "metadata": {
        "id": "FQhi81LsjQK5"
      },
      "source": [
        "### Variáveis quantitativas discretas\n",
        "\n",
        "► Variáveis que representam uma contagem onde os valores possíveis formam um conjunto finito ou enumerável."
      ]
    },
    {
      "cell_type": "code",
      "execution_count": 10,
      "metadata": {
        "id": "sr4JXeZkjQK5",
        "colab": {
          "base_uri": "https://localhost:8080/"
        },
        "outputId": "8c739a2f-e900-4c55-c89e-80a73b791e5c"
      },
      "outputs": [
        {
          "output_type": "stream",
          "name": "stdout",
          "text": [
            "De 13 até 99 em anos\n"
          ]
        }
      ],
      "source": [
        "print('De %s até %s em anos' % (dataset.Idade.min(), dataset.Idade.max()))"
      ]
    },
    {
      "cell_type": "markdown",
      "metadata": {
        "id": "7mMXLTukjQK-"
      },
      "source": [
        "#### <font color='red'>Observação</font>\n",
        "***\n",
        "> A variável idade pode ser classificada de três formas distintas:\n",
        "> 1. <b>QUANTITATIVA DISCRETA</b> - quando representa anos completos (números inteiros);\n",
        "> 2. <b>QUANTITATIVA CONTÍNUA</b> - quando representa a idade exata, sendo representado por frações de anos; e\n",
        "> 3. <b>QUALITATIVA ORDINAL</b> - quando representa faixas de idade."
      ]
    },
    {
      "cell_type": "markdown",
      "metadata": {
        "id": "J0L2OkaQjQK7"
      },
      "source": [
        "### Variáveis quantitativas contínuas\n",
        "\n",
        "► Variáveis que representam uma contagem ou mensuração que assumem valores em uma escala contínua (números reais)."
      ]
    },
    {
      "cell_type": "code",
      "execution_count": 11,
      "metadata": {
        "id": "jOW-bGyRjQK8",
        "colab": {
          "base_uri": "https://localhost:8080/"
        },
        "outputId": "f6e008a8-2707-45e2-a597-8e0cb75fa88f"
      },
      "outputs": [
        {
          "output_type": "stream",
          "name": "stdout",
          "text": [
            "De 1.339244614 até 2.028496765 em metros\n"
          ]
        }
      ],
      "source": [
        "print('De %s até %s em metros' % (dataset.Altura.min(), dataset.Altura.max()))"
      ]
    },
    {
      "cell_type": "markdown",
      "metadata": {
        "id": "d_LW5gMIjQK_"
      },
      "source": [
        "### Classificação de uma variável\n",
        "<img src='https://caelum-online-public.s3.amazonaws.com/1177-estatistica-parte1/01/img001.png' width='70%'>"
      ]
    },
    {
      "cell_type": "markdown",
      "metadata": {
        "id": "PNIg_4VEjQK_"
      },
      "source": [
        "# <font color=green>2 DISTRIBUIÇÃO DE FREQUÊNCIAS</font>\n",
        "***\n",
        "\n",
        "O primeiro passo em um trabalho de análise é o conhecimento do comportamento das variáveis envolvidas no estudo. Utilizando técnicas estatísticas como as análises das <b>DISTRIBUIÇÕES DE FREQUÊNCIAS</b> e <b>HISTOGRAMAS</b> podemos avaliar melhor a forma como os fenômenos em estudo se distribuem."
      ]
    },
    {
      "cell_type": "markdown",
      "metadata": {
        "id": "JhpyjkEFjQLA"
      },
      "source": [
        "## <font color=green>2.1 Distribuição de frequências para variáveis qualitativas</font>\n",
        "***"
      ]
    },
    {
      "cell_type": "markdown",
      "metadata": {
        "id": "SsN3ikjqjQLB"
      },
      "source": [
        "### Método 1"
      ]
    },
    {
      "cell_type": "markdown",
      "metadata": {
        "id": "dj_v0M44X7G3"
      },
      "source": [
        "https://pandas.pydata.org/pandas-docs/version/0.22/generated/pandas.Series.value_counts.html"
      ]
    },
    {
      "cell_type": "code",
      "execution_count": 12,
      "metadata": {
        "id": "cA4gUboZjQLB",
        "colab": {
          "base_uri": "https://localhost:8080/"
        },
        "outputId": "d9aaeb02-5624-453c-a595-8a32bb518e2d"
      },
      "outputs": [
        {
          "output_type": "execute_result",
          "data": {
            "text/plain": [
              "0    69.299844\n",
              "1    30.700156\n",
              "Name: Sexo, dtype: float64"
            ]
          },
          "metadata": {},
          "execution_count": 12
        }
      ],
      "source": [
        "dataset['Sexo'].value_counts(normalize=True) * 100"
      ]
    },
    {
      "cell_type": "code",
      "execution_count": 13,
      "metadata": {
        "id": "iy4-ijknjQLD"
      },
      "outputs": [],
      "source": [
        "frequencia = dataset['Sexo'].value_counts()"
      ]
    },
    {
      "cell_type": "code",
      "execution_count": 14,
      "metadata": {
        "id": "qfkiLcFijQLG"
      },
      "outputs": [],
      "source": [
        "percentual = dataset['Sexo'].value_counts(normalize=True) * 100"
      ]
    },
    {
      "cell_type": "code",
      "execution_count": 15,
      "metadata": {
        "id": "t4uFMt6fjQLI"
      },
      "outputs": [],
      "source": [
        "dist_freq_qualitativas = pd.DataFrame({'Frequência': frequencia, \"Percentual (%)\": percentual})"
      ]
    },
    {
      "cell_type": "code",
      "execution_count": 16,
      "metadata": {
        "id": "zUGfju86jQLM",
        "colab": {
          "base_uri": "https://localhost:8080/",
          "height": 125
        },
        "outputId": "c7f4afc9-b765-4c9a-9eb9-fa0ca9356afe"
      },
      "outputs": [
        {
          "output_type": "execute_result",
          "data": {
            "text/plain": [
              "   Frequência  Percentual (%)\n",
              "0       53250       69.299844\n",
              "1       23590       30.700156"
            ],
            "text/html": [
              "\n",
              "  <div id=\"df-557affc2-06cc-448e-8f96-6d3f190f14dc\" class=\"colab-df-container\">\n",
              "    <div>\n",
              "<style scoped>\n",
              "    .dataframe tbody tr th:only-of-type {\n",
              "        vertical-align: middle;\n",
              "    }\n",
              "\n",
              "    .dataframe tbody tr th {\n",
              "        vertical-align: top;\n",
              "    }\n",
              "\n",
              "    .dataframe thead th {\n",
              "        text-align: right;\n",
              "    }\n",
              "</style>\n",
              "<table border=\"1\" class=\"dataframe\">\n",
              "  <thead>\n",
              "    <tr style=\"text-align: right;\">\n",
              "      <th></th>\n",
              "      <th>Frequência</th>\n",
              "      <th>Percentual (%)</th>\n",
              "    </tr>\n",
              "  </thead>\n",
              "  <tbody>\n",
              "    <tr>\n",
              "      <th>0</th>\n",
              "      <td>53250</td>\n",
              "      <td>69.299844</td>\n",
              "    </tr>\n",
              "    <tr>\n",
              "      <th>1</th>\n",
              "      <td>23590</td>\n",
              "      <td>30.700156</td>\n",
              "    </tr>\n",
              "  </tbody>\n",
              "</table>\n",
              "</div>\n",
              "    <div class=\"colab-df-buttons\">\n",
              "\n",
              "  <div class=\"colab-df-container\">\n",
              "    <button class=\"colab-df-convert\" onclick=\"convertToInteractive('df-557affc2-06cc-448e-8f96-6d3f190f14dc')\"\n",
              "            title=\"Convert this dataframe to an interactive table.\"\n",
              "            style=\"display:none;\">\n",
              "\n",
              "  <svg xmlns=\"http://www.w3.org/2000/svg\" height=\"24px\" viewBox=\"0 -960 960 960\">\n",
              "    <path d=\"M120-120v-720h720v720H120Zm60-500h600v-160H180v160Zm220 220h160v-160H400v160Zm0 220h160v-160H400v160ZM180-400h160v-160H180v160Zm440 0h160v-160H620v160ZM180-180h160v-160H180v160Zm440 0h160v-160H620v160Z\"/>\n",
              "  </svg>\n",
              "    </button>\n",
              "\n",
              "  <style>\n",
              "    .colab-df-container {\n",
              "      display:flex;\n",
              "      gap: 12px;\n",
              "    }\n",
              "\n",
              "    .colab-df-convert {\n",
              "      background-color: #E8F0FE;\n",
              "      border: none;\n",
              "      border-radius: 50%;\n",
              "      cursor: pointer;\n",
              "      display: none;\n",
              "      fill: #1967D2;\n",
              "      height: 32px;\n",
              "      padding: 0 0 0 0;\n",
              "      width: 32px;\n",
              "    }\n",
              "\n",
              "    .colab-df-convert:hover {\n",
              "      background-color: #E2EBFA;\n",
              "      box-shadow: 0px 1px 2px rgba(60, 64, 67, 0.3), 0px 1px 3px 1px rgba(60, 64, 67, 0.15);\n",
              "      fill: #174EA6;\n",
              "    }\n",
              "\n",
              "    .colab-df-buttons div {\n",
              "      margin-bottom: 4px;\n",
              "    }\n",
              "\n",
              "    [theme=dark] .colab-df-convert {\n",
              "      background-color: #3B4455;\n",
              "      fill: #D2E3FC;\n",
              "    }\n",
              "\n",
              "    [theme=dark] .colab-df-convert:hover {\n",
              "      background-color: #434B5C;\n",
              "      box-shadow: 0px 1px 3px 1px rgba(0, 0, 0, 0.15);\n",
              "      filter: drop-shadow(0px 1px 2px rgba(0, 0, 0, 0.3));\n",
              "      fill: #FFFFFF;\n",
              "    }\n",
              "  </style>\n",
              "\n",
              "    <script>\n",
              "      const buttonEl =\n",
              "        document.querySelector('#df-557affc2-06cc-448e-8f96-6d3f190f14dc button.colab-df-convert');\n",
              "      buttonEl.style.display =\n",
              "        google.colab.kernel.accessAllowed ? 'block' : 'none';\n",
              "\n",
              "      async function convertToInteractive(key) {\n",
              "        const element = document.querySelector('#df-557affc2-06cc-448e-8f96-6d3f190f14dc');\n",
              "        const dataTable =\n",
              "          await google.colab.kernel.invokeFunction('convertToInteractive',\n",
              "                                                    [key], {});\n",
              "        if (!dataTable) return;\n",
              "\n",
              "        const docLinkHtml = 'Like what you see? Visit the ' +\n",
              "          '<a target=\"_blank\" href=https://colab.research.google.com/notebooks/data_table.ipynb>data table notebook</a>'\n",
              "          + ' to learn more about interactive tables.';\n",
              "        element.innerHTML = '';\n",
              "        dataTable['output_type'] = 'display_data';\n",
              "        await google.colab.output.renderOutput(dataTable, element);\n",
              "        const docLink = document.createElement('div');\n",
              "        docLink.innerHTML = docLinkHtml;\n",
              "        element.appendChild(docLink);\n",
              "      }\n",
              "    </script>\n",
              "  </div>\n",
              "\n",
              "\n",
              "<div id=\"df-dd2eda49-370b-4c53-9693-d942a8a83745\">\n",
              "  <button class=\"colab-df-quickchart\" onclick=\"quickchart('df-dd2eda49-370b-4c53-9693-d942a8a83745')\"\n",
              "            title=\"Suggest charts\"\n",
              "            style=\"display:none;\">\n",
              "\n",
              "<svg xmlns=\"http://www.w3.org/2000/svg\" height=\"24px\"viewBox=\"0 0 24 24\"\n",
              "     width=\"24px\">\n",
              "    <g>\n",
              "        <path d=\"M19 3H5c-1.1 0-2 .9-2 2v14c0 1.1.9 2 2 2h14c1.1 0 2-.9 2-2V5c0-1.1-.9-2-2-2zM9 17H7v-7h2v7zm4 0h-2V7h2v10zm4 0h-2v-4h2v4z\"/>\n",
              "    </g>\n",
              "</svg>\n",
              "  </button>\n",
              "\n",
              "<style>\n",
              "  .colab-df-quickchart {\n",
              "      --bg-color: #E8F0FE;\n",
              "      --fill-color: #1967D2;\n",
              "      --hover-bg-color: #E2EBFA;\n",
              "      --hover-fill-color: #174EA6;\n",
              "      --disabled-fill-color: #AAA;\n",
              "      --disabled-bg-color: #DDD;\n",
              "  }\n",
              "\n",
              "  [theme=dark] .colab-df-quickchart {\n",
              "      --bg-color: #3B4455;\n",
              "      --fill-color: #D2E3FC;\n",
              "      --hover-bg-color: #434B5C;\n",
              "      --hover-fill-color: #FFFFFF;\n",
              "      --disabled-bg-color: #3B4455;\n",
              "      --disabled-fill-color: #666;\n",
              "  }\n",
              "\n",
              "  .colab-df-quickchart {\n",
              "    background-color: var(--bg-color);\n",
              "    border: none;\n",
              "    border-radius: 50%;\n",
              "    cursor: pointer;\n",
              "    display: none;\n",
              "    fill: var(--fill-color);\n",
              "    height: 32px;\n",
              "    padding: 0;\n",
              "    width: 32px;\n",
              "  }\n",
              "\n",
              "  .colab-df-quickchart:hover {\n",
              "    background-color: var(--hover-bg-color);\n",
              "    box-shadow: 0 1px 2px rgba(60, 64, 67, 0.3), 0 1px 3px 1px rgba(60, 64, 67, 0.15);\n",
              "    fill: var(--button-hover-fill-color);\n",
              "  }\n",
              "\n",
              "  .colab-df-quickchart-complete:disabled,\n",
              "  .colab-df-quickchart-complete:disabled:hover {\n",
              "    background-color: var(--disabled-bg-color);\n",
              "    fill: var(--disabled-fill-color);\n",
              "    box-shadow: none;\n",
              "  }\n",
              "\n",
              "  .colab-df-spinner {\n",
              "    border: 2px solid var(--fill-color);\n",
              "    border-color: transparent;\n",
              "    border-bottom-color: var(--fill-color);\n",
              "    animation:\n",
              "      spin 1s steps(1) infinite;\n",
              "  }\n",
              "\n",
              "  @keyframes spin {\n",
              "    0% {\n",
              "      border-color: transparent;\n",
              "      border-bottom-color: var(--fill-color);\n",
              "      border-left-color: var(--fill-color);\n",
              "    }\n",
              "    20% {\n",
              "      border-color: transparent;\n",
              "      border-left-color: var(--fill-color);\n",
              "      border-top-color: var(--fill-color);\n",
              "    }\n",
              "    30% {\n",
              "      border-color: transparent;\n",
              "      border-left-color: var(--fill-color);\n",
              "      border-top-color: var(--fill-color);\n",
              "      border-right-color: var(--fill-color);\n",
              "    }\n",
              "    40% {\n",
              "      border-color: transparent;\n",
              "      border-right-color: var(--fill-color);\n",
              "      border-top-color: var(--fill-color);\n",
              "    }\n",
              "    60% {\n",
              "      border-color: transparent;\n",
              "      border-right-color: var(--fill-color);\n",
              "    }\n",
              "    80% {\n",
              "      border-color: transparent;\n",
              "      border-right-color: var(--fill-color);\n",
              "      border-bottom-color: var(--fill-color);\n",
              "    }\n",
              "    90% {\n",
              "      border-color: transparent;\n",
              "      border-bottom-color: var(--fill-color);\n",
              "    }\n",
              "  }\n",
              "</style>\n",
              "\n",
              "  <script>\n",
              "    async function quickchart(key) {\n",
              "      const quickchartButtonEl =\n",
              "        document.querySelector('#' + key + ' button');\n",
              "      quickchartButtonEl.disabled = true;  // To prevent multiple clicks.\n",
              "      quickchartButtonEl.classList.add('colab-df-spinner');\n",
              "      try {\n",
              "        const charts = await google.colab.kernel.invokeFunction(\n",
              "            'suggestCharts', [key], {});\n",
              "      } catch (error) {\n",
              "        console.error('Error during call to suggestCharts:', error);\n",
              "      }\n",
              "      quickchartButtonEl.classList.remove('colab-df-spinner');\n",
              "      quickchartButtonEl.classList.add('colab-df-quickchart-complete');\n",
              "    }\n",
              "    (() => {\n",
              "      let quickchartButtonEl =\n",
              "        document.querySelector('#df-dd2eda49-370b-4c53-9693-d942a8a83745 button');\n",
              "      quickchartButtonEl.style.display =\n",
              "        google.colab.kernel.accessAllowed ? 'block' : 'none';\n",
              "    })();\n",
              "  </script>\n",
              "</div>\n",
              "\n",
              "  <div id=\"id_40564f4b-e23c-4d9d-9e9d-6c4ad6fae2af\">\n",
              "    <style>\n",
              "      .colab-df-generate {\n",
              "        background-color: #E8F0FE;\n",
              "        border: none;\n",
              "        border-radius: 50%;\n",
              "        cursor: pointer;\n",
              "        display: none;\n",
              "        fill: #1967D2;\n",
              "        height: 32px;\n",
              "        padding: 0 0 0 0;\n",
              "        width: 32px;\n",
              "      }\n",
              "\n",
              "      .colab-df-generate:hover {\n",
              "        background-color: #E2EBFA;\n",
              "        box-shadow: 0px 1px 2px rgba(60, 64, 67, 0.3), 0px 1px 3px 1px rgba(60, 64, 67, 0.15);\n",
              "        fill: #174EA6;\n",
              "      }\n",
              "\n",
              "      [theme=dark] .colab-df-generate {\n",
              "        background-color: #3B4455;\n",
              "        fill: #D2E3FC;\n",
              "      }\n",
              "\n",
              "      [theme=dark] .colab-df-generate:hover {\n",
              "        background-color: #434B5C;\n",
              "        box-shadow: 0px 1px 3px 1px rgba(0, 0, 0, 0.15);\n",
              "        filter: drop-shadow(0px 1px 2px rgba(0, 0, 0, 0.3));\n",
              "        fill: #FFFFFF;\n",
              "      }\n",
              "    </style>\n",
              "    <button class=\"colab-df-generate\" onclick=\"generateWithVariable('dist_freq_qualitativas')\"\n",
              "            title=\"Generate code using this dataframe.\"\n",
              "            style=\"display:none;\">\n",
              "\n",
              "  <svg xmlns=\"http://www.w3.org/2000/svg\" height=\"24px\"viewBox=\"0 0 24 24\"\n",
              "       width=\"24px\">\n",
              "    <path d=\"M7,19H8.4L18.45,9,17,7.55,7,17.6ZM5,21V16.75L18.45,3.32a2,2,0,0,1,2.83,0l1.4,1.43a1.91,1.91,0,0,1,.58,1.4,1.91,1.91,0,0,1-.58,1.4L9.25,21ZM18.45,9,17,7.55Zm-12,3A5.31,5.31,0,0,0,4.9,8.1,5.31,5.31,0,0,0,1,6.5,5.31,5.31,0,0,0,4.9,4.9,5.31,5.31,0,0,0,6.5,1,5.31,5.31,0,0,0,8.1,4.9,5.31,5.31,0,0,0,12,6.5,5.46,5.46,0,0,0,6.5,12Z\"/>\n",
              "  </svg>\n",
              "    </button>\n",
              "    <script>\n",
              "      (() => {\n",
              "      const buttonEl =\n",
              "        document.querySelector('#id_40564f4b-e23c-4d9d-9e9d-6c4ad6fae2af button.colab-df-generate');\n",
              "      buttonEl.style.display =\n",
              "        google.colab.kernel.accessAllowed ? 'block' : 'none';\n",
              "\n",
              "      buttonEl.onclick = () => {\n",
              "        google.colab.notebook.generateWithVariable('dist_freq_qualitativas');\n",
              "      }\n",
              "      })();\n",
              "    </script>\n",
              "  </div>\n",
              "\n",
              "    </div>\n",
              "  </div>\n"
            ],
            "application/vnd.google.colaboratory.intrinsic+json": {
              "type": "dataframe",
              "variable_name": "dist_freq_qualitativas",
              "summary": "{\n  \"name\": \"dist_freq_qualitativas\",\n  \"rows\": 2,\n  \"fields\": [\n    {\n      \"column\": \"Frequ\\u00eancia\",\n      \"properties\": {\n        \"dtype\": \"number\",\n        \"std\": 20972,\n        \"min\": 23590,\n        \"max\": 53250,\n        \"samples\": [\n          23590,\n          53250\n        ],\n        \"num_unique_values\": 2,\n        \"semantic_type\": \"\",\n        \"description\": \"\"\n      }\n    },\n    {\n      \"column\": \"Percentual (%)\",\n      \"properties\": {\n        \"dtype\": \"number\",\n        \"std\": 27.2941008979607,\n        \"min\": 30.700156168662158,\n        \"max\": 69.29984383133785,\n        \"samples\": [\n          30.700156168662158,\n          69.29984383133785\n        ],\n        \"num_unique_values\": 2,\n        \"semantic_type\": \"\",\n        \"description\": \"\"\n      }\n    }\n  ]\n}"
            }
          },
          "metadata": {},
          "execution_count": 16
        }
      ],
      "source": [
        "dist_freq_qualitativas"
      ]
    },
    {
      "cell_type": "code",
      "execution_count": 17,
      "metadata": {
        "id": "kPOYfijijQLO"
      },
      "outputs": [],
      "source": [
        "dist_freq_qualitativas.rename({0:\"Masculino\", 1:\"Feminino\"}, inplace=True) # renomeano os indíces 0 e 1 para masculino e feminino\n",
        "dist_freq_qualitativas.rename_axis(\"Sexo\", axis='columns', inplace=True)# adicionando título na coluna de genêro"
      ]
    },
    {
      "cell_type": "code",
      "execution_count": 18,
      "metadata": {
        "id": "tMS-VSk3jQLQ",
        "colab": {
          "base_uri": "https://localhost:8080/",
          "height": 125
        },
        "outputId": "1feefa53-4e5e-4e33-addf-34f0ff28a67a"
      },
      "outputs": [
        {
          "output_type": "execute_result",
          "data": {
            "text/plain": [
              "Sexo       Frequência  Percentual (%)\n",
              "Masculino       53250       69.299844\n",
              "Feminino        23590       30.700156"
            ],
            "text/html": [
              "\n",
              "  <div id=\"df-6ae93355-33a8-486c-acec-cfc9ca8457ca\" class=\"colab-df-container\">\n",
              "    <div>\n",
              "<style scoped>\n",
              "    .dataframe tbody tr th:only-of-type {\n",
              "        vertical-align: middle;\n",
              "    }\n",
              "\n",
              "    .dataframe tbody tr th {\n",
              "        vertical-align: top;\n",
              "    }\n",
              "\n",
              "    .dataframe thead th {\n",
              "        text-align: right;\n",
              "    }\n",
              "</style>\n",
              "<table border=\"1\" class=\"dataframe\">\n",
              "  <thead>\n",
              "    <tr style=\"text-align: right;\">\n",
              "      <th>Sexo</th>\n",
              "      <th>Frequência</th>\n",
              "      <th>Percentual (%)</th>\n",
              "    </tr>\n",
              "  </thead>\n",
              "  <tbody>\n",
              "    <tr>\n",
              "      <th>Masculino</th>\n",
              "      <td>53250</td>\n",
              "      <td>69.299844</td>\n",
              "    </tr>\n",
              "    <tr>\n",
              "      <th>Feminino</th>\n",
              "      <td>23590</td>\n",
              "      <td>30.700156</td>\n",
              "    </tr>\n",
              "  </tbody>\n",
              "</table>\n",
              "</div>\n",
              "    <div class=\"colab-df-buttons\">\n",
              "\n",
              "  <div class=\"colab-df-container\">\n",
              "    <button class=\"colab-df-convert\" onclick=\"convertToInteractive('df-6ae93355-33a8-486c-acec-cfc9ca8457ca')\"\n",
              "            title=\"Convert this dataframe to an interactive table.\"\n",
              "            style=\"display:none;\">\n",
              "\n",
              "  <svg xmlns=\"http://www.w3.org/2000/svg\" height=\"24px\" viewBox=\"0 -960 960 960\">\n",
              "    <path d=\"M120-120v-720h720v720H120Zm60-500h600v-160H180v160Zm220 220h160v-160H400v160Zm0 220h160v-160H400v160ZM180-400h160v-160H180v160Zm440 0h160v-160H620v160ZM180-180h160v-160H180v160Zm440 0h160v-160H620v160Z\"/>\n",
              "  </svg>\n",
              "    </button>\n",
              "\n",
              "  <style>\n",
              "    .colab-df-container {\n",
              "      display:flex;\n",
              "      gap: 12px;\n",
              "    }\n",
              "\n",
              "    .colab-df-convert {\n",
              "      background-color: #E8F0FE;\n",
              "      border: none;\n",
              "      border-radius: 50%;\n",
              "      cursor: pointer;\n",
              "      display: none;\n",
              "      fill: #1967D2;\n",
              "      height: 32px;\n",
              "      padding: 0 0 0 0;\n",
              "      width: 32px;\n",
              "    }\n",
              "\n",
              "    .colab-df-convert:hover {\n",
              "      background-color: #E2EBFA;\n",
              "      box-shadow: 0px 1px 2px rgba(60, 64, 67, 0.3), 0px 1px 3px 1px rgba(60, 64, 67, 0.15);\n",
              "      fill: #174EA6;\n",
              "    }\n",
              "\n",
              "    .colab-df-buttons div {\n",
              "      margin-bottom: 4px;\n",
              "    }\n",
              "\n",
              "    [theme=dark] .colab-df-convert {\n",
              "      background-color: #3B4455;\n",
              "      fill: #D2E3FC;\n",
              "    }\n",
              "\n",
              "    [theme=dark] .colab-df-convert:hover {\n",
              "      background-color: #434B5C;\n",
              "      box-shadow: 0px 1px 3px 1px rgba(0, 0, 0, 0.15);\n",
              "      filter: drop-shadow(0px 1px 2px rgba(0, 0, 0, 0.3));\n",
              "      fill: #FFFFFF;\n",
              "    }\n",
              "  </style>\n",
              "\n",
              "    <script>\n",
              "      const buttonEl =\n",
              "        document.querySelector('#df-6ae93355-33a8-486c-acec-cfc9ca8457ca button.colab-df-convert');\n",
              "      buttonEl.style.display =\n",
              "        google.colab.kernel.accessAllowed ? 'block' : 'none';\n",
              "\n",
              "      async function convertToInteractive(key) {\n",
              "        const element = document.querySelector('#df-6ae93355-33a8-486c-acec-cfc9ca8457ca');\n",
              "        const dataTable =\n",
              "          await google.colab.kernel.invokeFunction('convertToInteractive',\n",
              "                                                    [key], {});\n",
              "        if (!dataTable) return;\n",
              "\n",
              "        const docLinkHtml = 'Like what you see? Visit the ' +\n",
              "          '<a target=\"_blank\" href=https://colab.research.google.com/notebooks/data_table.ipynb>data table notebook</a>'\n",
              "          + ' to learn more about interactive tables.';\n",
              "        element.innerHTML = '';\n",
              "        dataTable['output_type'] = 'display_data';\n",
              "        await google.colab.output.renderOutput(dataTable, element);\n",
              "        const docLink = document.createElement('div');\n",
              "        docLink.innerHTML = docLinkHtml;\n",
              "        element.appendChild(docLink);\n",
              "      }\n",
              "    </script>\n",
              "  </div>\n",
              "\n",
              "\n",
              "<div id=\"df-4bbeed0f-abf3-435b-badb-aa0c13f309cc\">\n",
              "  <button class=\"colab-df-quickchart\" onclick=\"quickchart('df-4bbeed0f-abf3-435b-badb-aa0c13f309cc')\"\n",
              "            title=\"Suggest charts\"\n",
              "            style=\"display:none;\">\n",
              "\n",
              "<svg xmlns=\"http://www.w3.org/2000/svg\" height=\"24px\"viewBox=\"0 0 24 24\"\n",
              "     width=\"24px\">\n",
              "    <g>\n",
              "        <path d=\"M19 3H5c-1.1 0-2 .9-2 2v14c0 1.1.9 2 2 2h14c1.1 0 2-.9 2-2V5c0-1.1-.9-2-2-2zM9 17H7v-7h2v7zm4 0h-2V7h2v10zm4 0h-2v-4h2v4z\"/>\n",
              "    </g>\n",
              "</svg>\n",
              "  </button>\n",
              "\n",
              "<style>\n",
              "  .colab-df-quickchart {\n",
              "      --bg-color: #E8F0FE;\n",
              "      --fill-color: #1967D2;\n",
              "      --hover-bg-color: #E2EBFA;\n",
              "      --hover-fill-color: #174EA6;\n",
              "      --disabled-fill-color: #AAA;\n",
              "      --disabled-bg-color: #DDD;\n",
              "  }\n",
              "\n",
              "  [theme=dark] .colab-df-quickchart {\n",
              "      --bg-color: #3B4455;\n",
              "      --fill-color: #D2E3FC;\n",
              "      --hover-bg-color: #434B5C;\n",
              "      --hover-fill-color: #FFFFFF;\n",
              "      --disabled-bg-color: #3B4455;\n",
              "      --disabled-fill-color: #666;\n",
              "  }\n",
              "\n",
              "  .colab-df-quickchart {\n",
              "    background-color: var(--bg-color);\n",
              "    border: none;\n",
              "    border-radius: 50%;\n",
              "    cursor: pointer;\n",
              "    display: none;\n",
              "    fill: var(--fill-color);\n",
              "    height: 32px;\n",
              "    padding: 0;\n",
              "    width: 32px;\n",
              "  }\n",
              "\n",
              "  .colab-df-quickchart:hover {\n",
              "    background-color: var(--hover-bg-color);\n",
              "    box-shadow: 0 1px 2px rgba(60, 64, 67, 0.3), 0 1px 3px 1px rgba(60, 64, 67, 0.15);\n",
              "    fill: var(--button-hover-fill-color);\n",
              "  }\n",
              "\n",
              "  .colab-df-quickchart-complete:disabled,\n",
              "  .colab-df-quickchart-complete:disabled:hover {\n",
              "    background-color: var(--disabled-bg-color);\n",
              "    fill: var(--disabled-fill-color);\n",
              "    box-shadow: none;\n",
              "  }\n",
              "\n",
              "  .colab-df-spinner {\n",
              "    border: 2px solid var(--fill-color);\n",
              "    border-color: transparent;\n",
              "    border-bottom-color: var(--fill-color);\n",
              "    animation:\n",
              "      spin 1s steps(1) infinite;\n",
              "  }\n",
              "\n",
              "  @keyframes spin {\n",
              "    0% {\n",
              "      border-color: transparent;\n",
              "      border-bottom-color: var(--fill-color);\n",
              "      border-left-color: var(--fill-color);\n",
              "    }\n",
              "    20% {\n",
              "      border-color: transparent;\n",
              "      border-left-color: var(--fill-color);\n",
              "      border-top-color: var(--fill-color);\n",
              "    }\n",
              "    30% {\n",
              "      border-color: transparent;\n",
              "      border-left-color: var(--fill-color);\n",
              "      border-top-color: var(--fill-color);\n",
              "      border-right-color: var(--fill-color);\n",
              "    }\n",
              "    40% {\n",
              "      border-color: transparent;\n",
              "      border-right-color: var(--fill-color);\n",
              "      border-top-color: var(--fill-color);\n",
              "    }\n",
              "    60% {\n",
              "      border-color: transparent;\n",
              "      border-right-color: var(--fill-color);\n",
              "    }\n",
              "    80% {\n",
              "      border-color: transparent;\n",
              "      border-right-color: var(--fill-color);\n",
              "      border-bottom-color: var(--fill-color);\n",
              "    }\n",
              "    90% {\n",
              "      border-color: transparent;\n",
              "      border-bottom-color: var(--fill-color);\n",
              "    }\n",
              "  }\n",
              "</style>\n",
              "\n",
              "  <script>\n",
              "    async function quickchart(key) {\n",
              "      const quickchartButtonEl =\n",
              "        document.querySelector('#' + key + ' button');\n",
              "      quickchartButtonEl.disabled = true;  // To prevent multiple clicks.\n",
              "      quickchartButtonEl.classList.add('colab-df-spinner');\n",
              "      try {\n",
              "        const charts = await google.colab.kernel.invokeFunction(\n",
              "            'suggestCharts', [key], {});\n",
              "      } catch (error) {\n",
              "        console.error('Error during call to suggestCharts:', error);\n",
              "      }\n",
              "      quickchartButtonEl.classList.remove('colab-df-spinner');\n",
              "      quickchartButtonEl.classList.add('colab-df-quickchart-complete');\n",
              "    }\n",
              "    (() => {\n",
              "      let quickchartButtonEl =\n",
              "        document.querySelector('#df-4bbeed0f-abf3-435b-badb-aa0c13f309cc button');\n",
              "      quickchartButtonEl.style.display =\n",
              "        google.colab.kernel.accessAllowed ? 'block' : 'none';\n",
              "    })();\n",
              "  </script>\n",
              "</div>\n",
              "\n",
              "  <div id=\"id_700a1522-77f0-45e8-bce2-e1694cb1fb64\">\n",
              "    <style>\n",
              "      .colab-df-generate {\n",
              "        background-color: #E8F0FE;\n",
              "        border: none;\n",
              "        border-radius: 50%;\n",
              "        cursor: pointer;\n",
              "        display: none;\n",
              "        fill: #1967D2;\n",
              "        height: 32px;\n",
              "        padding: 0 0 0 0;\n",
              "        width: 32px;\n",
              "      }\n",
              "\n",
              "      .colab-df-generate:hover {\n",
              "        background-color: #E2EBFA;\n",
              "        box-shadow: 0px 1px 2px rgba(60, 64, 67, 0.3), 0px 1px 3px 1px rgba(60, 64, 67, 0.15);\n",
              "        fill: #174EA6;\n",
              "      }\n",
              "\n",
              "      [theme=dark] .colab-df-generate {\n",
              "        background-color: #3B4455;\n",
              "        fill: #D2E3FC;\n",
              "      }\n",
              "\n",
              "      [theme=dark] .colab-df-generate:hover {\n",
              "        background-color: #434B5C;\n",
              "        box-shadow: 0px 1px 3px 1px rgba(0, 0, 0, 0.15);\n",
              "        filter: drop-shadow(0px 1px 2px rgba(0, 0, 0, 0.3));\n",
              "        fill: #FFFFFF;\n",
              "      }\n",
              "    </style>\n",
              "    <button class=\"colab-df-generate\" onclick=\"generateWithVariable('dist_freq_qualitativas')\"\n",
              "            title=\"Generate code using this dataframe.\"\n",
              "            style=\"display:none;\">\n",
              "\n",
              "  <svg xmlns=\"http://www.w3.org/2000/svg\" height=\"24px\"viewBox=\"0 0 24 24\"\n",
              "       width=\"24px\">\n",
              "    <path d=\"M7,19H8.4L18.45,9,17,7.55,7,17.6ZM5,21V16.75L18.45,3.32a2,2,0,0,1,2.83,0l1.4,1.43a1.91,1.91,0,0,1,.58,1.4,1.91,1.91,0,0,1-.58,1.4L9.25,21ZM18.45,9,17,7.55Zm-12,3A5.31,5.31,0,0,0,4.9,8.1,5.31,5.31,0,0,0,1,6.5,5.31,5.31,0,0,0,4.9,4.9,5.31,5.31,0,0,0,6.5,1,5.31,5.31,0,0,0,8.1,4.9,5.31,5.31,0,0,0,12,6.5,5.46,5.46,0,0,0,6.5,12Z\"/>\n",
              "  </svg>\n",
              "    </button>\n",
              "    <script>\n",
              "      (() => {\n",
              "      const buttonEl =\n",
              "        document.querySelector('#id_700a1522-77f0-45e8-bce2-e1694cb1fb64 button.colab-df-generate');\n",
              "      buttonEl.style.display =\n",
              "        google.colab.kernel.accessAllowed ? 'block' : 'none';\n",
              "\n",
              "      buttonEl.onclick = () => {\n",
              "        google.colab.notebook.generateWithVariable('dist_freq_qualitativas');\n",
              "      }\n",
              "      })();\n",
              "    </script>\n",
              "  </div>\n",
              "\n",
              "    </div>\n",
              "  </div>\n"
            ],
            "application/vnd.google.colaboratory.intrinsic+json": {
              "type": "dataframe",
              "variable_name": "dist_freq_qualitativas",
              "summary": "{\n  \"name\": \"dist_freq_qualitativas\",\n  \"rows\": 2,\n  \"fields\": [\n    {\n      \"column\": \"Frequ\\u00eancia\",\n      \"properties\": {\n        \"dtype\": \"number\",\n        \"std\": 20972,\n        \"min\": 23590,\n        \"max\": 53250,\n        \"samples\": [\n          23590,\n          53250\n        ],\n        \"num_unique_values\": 2,\n        \"semantic_type\": \"\",\n        \"description\": \"\"\n      }\n    },\n    {\n      \"column\": \"Percentual (%)\",\n      \"properties\": {\n        \"dtype\": \"number\",\n        \"std\": 27.2941008979607,\n        \"min\": 30.700156168662158,\n        \"max\": 69.29984383133785,\n        \"samples\": [\n          30.700156168662158,\n          69.29984383133785\n        ],\n        \"num_unique_values\": 2,\n        \"semantic_type\": \"\",\n        \"description\": \"\"\n      }\n    }\n  ]\n}"
            }
          },
          "metadata": {},
          "execution_count": 18
        }
      ],
      "source": [
        "dist_freq_qualitativas"
      ]
    },
    {
      "cell_type": "markdown",
      "metadata": {
        "id": "D82ocp_djQLR"
      },
      "source": [
        "### Método 2"
      ]
    },
    {
      "cell_type": "markdown",
      "metadata": {
        "id": "rLbfeA_UX7HF"
      },
      "source": [
        "https://pandas.pydata.org/pandas-docs/version/0.22/generated/pandas.crosstab.html"
      ]
    },
    {
      "cell_type": "code",
      "execution_count": 19,
      "metadata": {
        "id": "d8XMZiEfjQLS"
      },
      "outputs": [],
      "source": [
        "sexo = {0: 'Masculino',\n",
        "        1: 'Feminino'}\n",
        "\n",
        "cor = {0: 'Indígena',\n",
        "        2: 'Branca',\n",
        "        4: 'Preta',\n",
        "        6: 'Amarela',\n",
        "        8: 'Parda',\n",
        "        9: 'Sem declaração'}"
      ]
    },
    {
      "cell_type": "code",
      "execution_count": 20,
      "metadata": {
        "id": "YLCyOKYcjQLU",
        "colab": {
          "base_uri": "https://localhost:8080/",
          "height": 143
        },
        "outputId": "868862ca-6219-4f12-e8bc-cdaa0f05aa54"
      },
      "outputs": [
        {
          "output_type": "execute_result",
          "data": {
            "text/plain": [
              "Cor           Indígena       Branca        Preta      Amarela        Parda\n",
              "Sexo                                                                      \n",
              "Masculino  1081.710938  2925.744435  1603.861687  4758.251064  1659.577425\n",
              "Feminino   2464.386139  2109.866750  1134.596400  3027.341880  1176.758516"
            ],
            "text/html": [
              "\n",
              "  <div id=\"df-d926f8d1-0cf6-4063-9f70-a98e24dc1e42\" class=\"colab-df-container\">\n",
              "    <div>\n",
              "<style scoped>\n",
              "    .dataframe tbody tr th:only-of-type {\n",
              "        vertical-align: middle;\n",
              "    }\n",
              "\n",
              "    .dataframe tbody tr th {\n",
              "        vertical-align: top;\n",
              "    }\n",
              "\n",
              "    .dataframe thead th {\n",
              "        text-align: right;\n",
              "    }\n",
              "</style>\n",
              "<table border=\"1\" class=\"dataframe\">\n",
              "  <thead>\n",
              "    <tr style=\"text-align: right;\">\n",
              "      <th>Cor</th>\n",
              "      <th>Indígena</th>\n",
              "      <th>Branca</th>\n",
              "      <th>Preta</th>\n",
              "      <th>Amarela</th>\n",
              "      <th>Parda</th>\n",
              "    </tr>\n",
              "    <tr>\n",
              "      <th>Sexo</th>\n",
              "      <th></th>\n",
              "      <th></th>\n",
              "      <th></th>\n",
              "      <th></th>\n",
              "      <th></th>\n",
              "    </tr>\n",
              "  </thead>\n",
              "  <tbody>\n",
              "    <tr>\n",
              "      <th>Masculino</th>\n",
              "      <td>1081.710938</td>\n",
              "      <td>2925.744435</td>\n",
              "      <td>1603.861687</td>\n",
              "      <td>4758.251064</td>\n",
              "      <td>1659.577425</td>\n",
              "    </tr>\n",
              "    <tr>\n",
              "      <th>Feminino</th>\n",
              "      <td>2464.386139</td>\n",
              "      <td>2109.866750</td>\n",
              "      <td>1134.596400</td>\n",
              "      <td>3027.341880</td>\n",
              "      <td>1176.758516</td>\n",
              "    </tr>\n",
              "  </tbody>\n",
              "</table>\n",
              "</div>\n",
              "    <div class=\"colab-df-buttons\">\n",
              "\n",
              "  <div class=\"colab-df-container\">\n",
              "    <button class=\"colab-df-convert\" onclick=\"convertToInteractive('df-d926f8d1-0cf6-4063-9f70-a98e24dc1e42')\"\n",
              "            title=\"Convert this dataframe to an interactive table.\"\n",
              "            style=\"display:none;\">\n",
              "\n",
              "  <svg xmlns=\"http://www.w3.org/2000/svg\" height=\"24px\" viewBox=\"0 -960 960 960\">\n",
              "    <path d=\"M120-120v-720h720v720H120Zm60-500h600v-160H180v160Zm220 220h160v-160H400v160Zm0 220h160v-160H400v160ZM180-400h160v-160H180v160Zm440 0h160v-160H620v160ZM180-180h160v-160H180v160Zm440 0h160v-160H620v160Z\"/>\n",
              "  </svg>\n",
              "    </button>\n",
              "\n",
              "  <style>\n",
              "    .colab-df-container {\n",
              "      display:flex;\n",
              "      gap: 12px;\n",
              "    }\n",
              "\n",
              "    .colab-df-convert {\n",
              "      background-color: #E8F0FE;\n",
              "      border: none;\n",
              "      border-radius: 50%;\n",
              "      cursor: pointer;\n",
              "      display: none;\n",
              "      fill: #1967D2;\n",
              "      height: 32px;\n",
              "      padding: 0 0 0 0;\n",
              "      width: 32px;\n",
              "    }\n",
              "\n",
              "    .colab-df-convert:hover {\n",
              "      background-color: #E2EBFA;\n",
              "      box-shadow: 0px 1px 2px rgba(60, 64, 67, 0.3), 0px 1px 3px 1px rgba(60, 64, 67, 0.15);\n",
              "      fill: #174EA6;\n",
              "    }\n",
              "\n",
              "    .colab-df-buttons div {\n",
              "      margin-bottom: 4px;\n",
              "    }\n",
              "\n",
              "    [theme=dark] .colab-df-convert {\n",
              "      background-color: #3B4455;\n",
              "      fill: #D2E3FC;\n",
              "    }\n",
              "\n",
              "    [theme=dark] .colab-df-convert:hover {\n",
              "      background-color: #434B5C;\n",
              "      box-shadow: 0px 1px 3px 1px rgba(0, 0, 0, 0.15);\n",
              "      filter: drop-shadow(0px 1px 2px rgba(0, 0, 0, 0.3));\n",
              "      fill: #FFFFFF;\n",
              "    }\n",
              "  </style>\n",
              "\n",
              "    <script>\n",
              "      const buttonEl =\n",
              "        document.querySelector('#df-d926f8d1-0cf6-4063-9f70-a98e24dc1e42 button.colab-df-convert');\n",
              "      buttonEl.style.display =\n",
              "        google.colab.kernel.accessAllowed ? 'block' : 'none';\n",
              "\n",
              "      async function convertToInteractive(key) {\n",
              "        const element = document.querySelector('#df-d926f8d1-0cf6-4063-9f70-a98e24dc1e42');\n",
              "        const dataTable =\n",
              "          await google.colab.kernel.invokeFunction('convertToInteractive',\n",
              "                                                    [key], {});\n",
              "        if (!dataTable) return;\n",
              "\n",
              "        const docLinkHtml = 'Like what you see? Visit the ' +\n",
              "          '<a target=\"_blank\" href=https://colab.research.google.com/notebooks/data_table.ipynb>data table notebook</a>'\n",
              "          + ' to learn more about interactive tables.';\n",
              "        element.innerHTML = '';\n",
              "        dataTable['output_type'] = 'display_data';\n",
              "        await google.colab.output.renderOutput(dataTable, element);\n",
              "        const docLink = document.createElement('div');\n",
              "        docLink.innerHTML = docLinkHtml;\n",
              "        element.appendChild(docLink);\n",
              "      }\n",
              "    </script>\n",
              "  </div>\n",
              "\n",
              "\n",
              "<div id=\"df-1db4ecce-34c8-4b6b-899d-8016244c151c\">\n",
              "  <button class=\"colab-df-quickchart\" onclick=\"quickchart('df-1db4ecce-34c8-4b6b-899d-8016244c151c')\"\n",
              "            title=\"Suggest charts\"\n",
              "            style=\"display:none;\">\n",
              "\n",
              "<svg xmlns=\"http://www.w3.org/2000/svg\" height=\"24px\"viewBox=\"0 0 24 24\"\n",
              "     width=\"24px\">\n",
              "    <g>\n",
              "        <path d=\"M19 3H5c-1.1 0-2 .9-2 2v14c0 1.1.9 2 2 2h14c1.1 0 2-.9 2-2V5c0-1.1-.9-2-2-2zM9 17H7v-7h2v7zm4 0h-2V7h2v10zm4 0h-2v-4h2v4z\"/>\n",
              "    </g>\n",
              "</svg>\n",
              "  </button>\n",
              "\n",
              "<style>\n",
              "  .colab-df-quickchart {\n",
              "      --bg-color: #E8F0FE;\n",
              "      --fill-color: #1967D2;\n",
              "      --hover-bg-color: #E2EBFA;\n",
              "      --hover-fill-color: #174EA6;\n",
              "      --disabled-fill-color: #AAA;\n",
              "      --disabled-bg-color: #DDD;\n",
              "  }\n",
              "\n",
              "  [theme=dark] .colab-df-quickchart {\n",
              "      --bg-color: #3B4455;\n",
              "      --fill-color: #D2E3FC;\n",
              "      --hover-bg-color: #434B5C;\n",
              "      --hover-fill-color: #FFFFFF;\n",
              "      --disabled-bg-color: #3B4455;\n",
              "      --disabled-fill-color: #666;\n",
              "  }\n",
              "\n",
              "  .colab-df-quickchart {\n",
              "    background-color: var(--bg-color);\n",
              "    border: none;\n",
              "    border-radius: 50%;\n",
              "    cursor: pointer;\n",
              "    display: none;\n",
              "    fill: var(--fill-color);\n",
              "    height: 32px;\n",
              "    padding: 0;\n",
              "    width: 32px;\n",
              "  }\n",
              "\n",
              "  .colab-df-quickchart:hover {\n",
              "    background-color: var(--hover-bg-color);\n",
              "    box-shadow: 0 1px 2px rgba(60, 64, 67, 0.3), 0 1px 3px 1px rgba(60, 64, 67, 0.15);\n",
              "    fill: var(--button-hover-fill-color);\n",
              "  }\n",
              "\n",
              "  .colab-df-quickchart-complete:disabled,\n",
              "  .colab-df-quickchart-complete:disabled:hover {\n",
              "    background-color: var(--disabled-bg-color);\n",
              "    fill: var(--disabled-fill-color);\n",
              "    box-shadow: none;\n",
              "  }\n",
              "\n",
              "  .colab-df-spinner {\n",
              "    border: 2px solid var(--fill-color);\n",
              "    border-color: transparent;\n",
              "    border-bottom-color: var(--fill-color);\n",
              "    animation:\n",
              "      spin 1s steps(1) infinite;\n",
              "  }\n",
              "\n",
              "  @keyframes spin {\n",
              "    0% {\n",
              "      border-color: transparent;\n",
              "      border-bottom-color: var(--fill-color);\n",
              "      border-left-color: var(--fill-color);\n",
              "    }\n",
              "    20% {\n",
              "      border-color: transparent;\n",
              "      border-left-color: var(--fill-color);\n",
              "      border-top-color: var(--fill-color);\n",
              "    }\n",
              "    30% {\n",
              "      border-color: transparent;\n",
              "      border-left-color: var(--fill-color);\n",
              "      border-top-color: var(--fill-color);\n",
              "      border-right-color: var(--fill-color);\n",
              "    }\n",
              "    40% {\n",
              "      border-color: transparent;\n",
              "      border-right-color: var(--fill-color);\n",
              "      border-top-color: var(--fill-color);\n",
              "    }\n",
              "    60% {\n",
              "      border-color: transparent;\n",
              "      border-right-color: var(--fill-color);\n",
              "    }\n",
              "    80% {\n",
              "      border-color: transparent;\n",
              "      border-right-color: var(--fill-color);\n",
              "      border-bottom-color: var(--fill-color);\n",
              "    }\n",
              "    90% {\n",
              "      border-color: transparent;\n",
              "      border-bottom-color: var(--fill-color);\n",
              "    }\n",
              "  }\n",
              "</style>\n",
              "\n",
              "  <script>\n",
              "    async function quickchart(key) {\n",
              "      const quickchartButtonEl =\n",
              "        document.querySelector('#' + key + ' button');\n",
              "      quickchartButtonEl.disabled = true;  // To prevent multiple clicks.\n",
              "      quickchartButtonEl.classList.add('colab-df-spinner');\n",
              "      try {\n",
              "        const charts = await google.colab.kernel.invokeFunction(\n",
              "            'suggestCharts', [key], {});\n",
              "      } catch (error) {\n",
              "        console.error('Error during call to suggestCharts:', error);\n",
              "      }\n",
              "      quickchartButtonEl.classList.remove('colab-df-spinner');\n",
              "      quickchartButtonEl.classList.add('colab-df-quickchart-complete');\n",
              "    }\n",
              "    (() => {\n",
              "      let quickchartButtonEl =\n",
              "        document.querySelector('#df-1db4ecce-34c8-4b6b-899d-8016244c151c button');\n",
              "      quickchartButtonEl.style.display =\n",
              "        google.colab.kernel.accessAllowed ? 'block' : 'none';\n",
              "    })();\n",
              "  </script>\n",
              "</div>\n",
              "\n",
              "  <div id=\"id_6d97c6f2-a320-4721-9156-0d4015011aa3\">\n",
              "    <style>\n",
              "      .colab-df-generate {\n",
              "        background-color: #E8F0FE;\n",
              "        border: none;\n",
              "        border-radius: 50%;\n",
              "        cursor: pointer;\n",
              "        display: none;\n",
              "        fill: #1967D2;\n",
              "        height: 32px;\n",
              "        padding: 0 0 0 0;\n",
              "        width: 32px;\n",
              "      }\n",
              "\n",
              "      .colab-df-generate:hover {\n",
              "        background-color: #E2EBFA;\n",
              "        box-shadow: 0px 1px 2px rgba(60, 64, 67, 0.3), 0px 1px 3px 1px rgba(60, 64, 67, 0.15);\n",
              "        fill: #174EA6;\n",
              "      }\n",
              "\n",
              "      [theme=dark] .colab-df-generate {\n",
              "        background-color: #3B4455;\n",
              "        fill: #D2E3FC;\n",
              "      }\n",
              "\n",
              "      [theme=dark] .colab-df-generate:hover {\n",
              "        background-color: #434B5C;\n",
              "        box-shadow: 0px 1px 3px 1px rgba(0, 0, 0, 0.15);\n",
              "        filter: drop-shadow(0px 1px 2px rgba(0, 0, 0, 0.3));\n",
              "        fill: #FFFFFF;\n",
              "      }\n",
              "    </style>\n",
              "    <button class=\"colab-df-generate\" onclick=\"generateWithVariable('frequencia')\"\n",
              "            title=\"Generate code using this dataframe.\"\n",
              "            style=\"display:none;\">\n",
              "\n",
              "  <svg xmlns=\"http://www.w3.org/2000/svg\" height=\"24px\"viewBox=\"0 0 24 24\"\n",
              "       width=\"24px\">\n",
              "    <path d=\"M7,19H8.4L18.45,9,17,7.55,7,17.6ZM5,21V16.75L18.45,3.32a2,2,0,0,1,2.83,0l1.4,1.43a1.91,1.91,0,0,1,.58,1.4,1.91,1.91,0,0,1-.58,1.4L9.25,21ZM18.45,9,17,7.55Zm-12,3A5.31,5.31,0,0,0,4.9,8.1,5.31,5.31,0,0,0,1,6.5,5.31,5.31,0,0,0,4.9,4.9,5.31,5.31,0,0,0,6.5,1,5.31,5.31,0,0,0,8.1,4.9,5.31,5.31,0,0,0,12,6.5,5.46,5.46,0,0,0,6.5,12Z\"/>\n",
              "  </svg>\n",
              "    </button>\n",
              "    <script>\n",
              "      (() => {\n",
              "      const buttonEl =\n",
              "        document.querySelector('#id_6d97c6f2-a320-4721-9156-0d4015011aa3 button.colab-df-generate');\n",
              "      buttonEl.style.display =\n",
              "        google.colab.kernel.accessAllowed ? 'block' : 'none';\n",
              "\n",
              "      buttonEl.onclick = () => {\n",
              "        google.colab.notebook.generateWithVariable('frequencia');\n",
              "      }\n",
              "      })();\n",
              "    </script>\n",
              "  </div>\n",
              "\n",
              "    </div>\n",
              "  </div>\n"
            ],
            "application/vnd.google.colaboratory.intrinsic+json": {
              "type": "dataframe",
              "variable_name": "frequencia",
              "summary": "{\n  \"name\": \"frequencia\",\n  \"rows\": 2,\n  \"fields\": [\n    {\n      \"column\": \"Ind\\u00edgena\",\n      \"properties\": {\n        \"dtype\": \"number\",\n        \"std\": 977.6990108860848,\n        \"min\": 1081.7109375,\n        \"max\": 2464.3861386138615,\n        \"samples\": [\n          2464.3861386138615,\n          1081.7109375\n        ],\n        \"num_unique_values\": 2,\n        \"semantic_type\": \"\",\n        \"description\": \"\"\n      }\n    },\n    {\n      \"column\": \"Branca\",\n      \"properties\": {\n        \"dtype\": \"number\",\n        \"std\": 576.9126441170775,\n        \"min\": 2109.866749818106,\n        \"max\": 2925.744435433,\n        \"samples\": [\n          2109.866749818106,\n          2925.744435433\n        ],\n        \"num_unique_values\": 2,\n        \"semantic_type\": \"\",\n        \"description\": \"\"\n      }\n    },\n    {\n      \"column\": \"Preta\",\n      \"properties\": {\n        \"dtype\": \"number\",\n        \"std\": 331.8206662744052,\n        \"min\": 1134.5964001384561,\n        \"max\": 1603.8616866593966,\n        \"samples\": [\n          1134.5964001384561,\n          1603.8616866593966\n        ],\n        \"num_unique_values\": 2,\n        \"semantic_type\": \"\",\n        \"description\": \"\"\n      }\n    },\n    {\n      \"column\": \"Amarela\",\n      \"properties\": {\n        \"dtype\": \"number\",\n        \"std\": 1223.937621262369,\n        \"min\": 3027.3418803418804,\n        \"max\": 4758.251063829787,\n        \"samples\": [\n          3027.3418803418804,\n          4758.251063829787\n        ],\n        \"num_unique_values\": 2,\n        \"semantic_type\": \"\",\n        \"description\": \"\"\n      }\n    },\n    {\n      \"column\": \"Parda\",\n      \"properties\": {\n        \"dtype\": \"number\",\n        \"std\": 341.40452461225755,\n        \"min\": 1176.7585159270852,\n        \"max\": 1659.577424889279,\n        \"samples\": [\n          1176.7585159270852,\n          1659.577424889279\n        ],\n        \"num_unique_values\": 2,\n        \"semantic_type\": \"\",\n        \"description\": \"\"\n      }\n    }\n  ]\n}"
            }
          },
          "metadata": {},
          "execution_count": 20
        }
      ],
      "source": [
        "frequencia = pd.crosstab(dataset.Sexo,\n",
        "                         dataset.Cor,\n",
        "                         aggfunc='mean',\n",
        "                         values = dataset['Renda'])\n",
        "\n",
        "frequencia.rename(index = sexo, inplace=True) # passando a variável com os valores qualitativos relativos ao genêro (NAS LINHAS (index))\n",
        "frequencia.rename(columns = cor, inplace=True) # passando a variável com os valores quantitativos relativos ao genêro (NAS COLUNAS (columns))\n",
        "frequencia"
      ]
    },
    {
      "cell_type": "markdown",
      "metadata": {
        "id": "eaXQUxnXjQLa"
      },
      "source": [
        "## <font color=green>2.2 Distribuição de frequências para variáveis quantitativas (classes personalizadas)</font>\n",
        "***"
      ]
    },
    {
      "cell_type": "markdown",
      "metadata": {
        "id": "wxsSD-VVjQLb"
      },
      "source": [
        "### Passo 1 - Especificar os limites de cada classe\n",
        "\n",
        "Utilizar a seguinte classificação:\n",
        "\n",
        "<b>A</b> ► Acima de 20 SM\n",
        "\n",
        "<b>B</b> ► De 10 a 20 SM\n",
        "\n",
        "<b>C</b> ► De 4 a 10 SM\n",
        "\n",
        "<b>D</b> ► De 2 a 4 SM\n",
        "\n",
        "<b>E</b> ► Até 2 SM\n",
        "\n",
        "onde <b>SM</b> é o valor do salário mínimo na época. Em nosso caso <b>R$ 788,00</b> (2015):\n",
        "\n",
        "<b>A</b> ► Acima de 15.760\n",
        "\n",
        "<b>B</b> ► De 7.880 a 15.760\n",
        "\n",
        "<b>C</b> ► De 3.152 a 7.880\n",
        "\n",
        "<b>D</b> ► De 1.576 a 3.152\n",
        "\n",
        "<b>E</b> ► Até 1.576\n"
      ]
    },
    {
      "cell_type": "code",
      "execution_count": 21,
      "metadata": {
        "id": "Z08790GUjQLc",
        "colab": {
          "base_uri": "https://localhost:8080/"
        },
        "outputId": "e0f30f87-86a4-4592-bd0b-ec91d7901f4c"
      },
      "outputs": [
        {
          "output_type": "execute_result",
          "data": {
            "text/plain": [
              "0"
            ]
          },
          "metadata": {},
          "execution_count": 21
        }
      ],
      "source": [
        "dataset['Renda'].min()"
      ]
    },
    {
      "cell_type": "code",
      "execution_count": 22,
      "metadata": {
        "id": "5q2V5-0FjQLe",
        "colab": {
          "base_uri": "https://localhost:8080/"
        },
        "outputId": "f1337977-3de6-45a9-8544-7abd5f109ed5"
      },
      "outputs": [
        {
          "output_type": "execute_result",
          "data": {
            "text/plain": [
              "200000"
            ]
          },
          "metadata": {},
          "execution_count": 22
        }
      ],
      "source": [
        "dataset['Renda'].max()"
      ]
    },
    {
      "cell_type": "code",
      "execution_count": 23,
      "metadata": {
        "id": "Qt5F5w2UjQLg"
      },
      "outputs": [],
      "source": [
        "classes = [0, 1576, 3152, 7880, 15760, 200000]"
      ]
    },
    {
      "cell_type": "code",
      "execution_count": 24,
      "metadata": {
        "id": "DKPIGOLLjQLi"
      },
      "outputs": [],
      "source": [
        "labels = ['E', 'D', 'C', 'B', 'A']"
      ]
    },
    {
      "cell_type": "markdown",
      "metadata": {
        "id": "IQhlvrQUjQLk"
      },
      "source": [
        "### Passo 2 - Criar a tabela de frequências"
      ]
    },
    {
      "cell_type": "markdown",
      "metadata": {
        "id": "Uy3fH4IxX7Hc"
      },
      "source": [
        "https://pandas.pydata.org/pandas-docs/version/0.22/generated/pandas.cut.html"
      ]
    },
    {
      "cell_type": "code",
      "source": [
        "dataset.head()"
      ],
      "metadata": {
        "id": "jipWgbvf4-Fa",
        "colab": {
          "base_uri": "https://localhost:8080/",
          "height": 206
        },
        "outputId": "aa7ee4a5-aa2d-4822-943f-33d7e7ae154c"
      },
      "execution_count": 25,
      "outputs": [
        {
          "output_type": "execute_result",
          "data": {
            "text/plain": [
              "   UF  Sexo  Idade  Cor  Anos de Estudo  Renda    Altura\n",
              "0  11     0     23    8              12    800  1.603808\n",
              "1  11     1     23    2              12   1150  1.739790\n",
              "2  11     1     35    8              15    880  1.760444\n",
              "3  11     0     46    2               6   3500  1.783158\n",
              "4  11     1     47    8               9    150  1.690631"
            ],
            "text/html": [
              "\n",
              "  <div id=\"df-2447b5d8-6826-45bc-822a-b373c1238dec\" class=\"colab-df-container\">\n",
              "    <div>\n",
              "<style scoped>\n",
              "    .dataframe tbody tr th:only-of-type {\n",
              "        vertical-align: middle;\n",
              "    }\n",
              "\n",
              "    .dataframe tbody tr th {\n",
              "        vertical-align: top;\n",
              "    }\n",
              "\n",
              "    .dataframe thead th {\n",
              "        text-align: right;\n",
              "    }\n",
              "</style>\n",
              "<table border=\"1\" class=\"dataframe\">\n",
              "  <thead>\n",
              "    <tr style=\"text-align: right;\">\n",
              "      <th></th>\n",
              "      <th>UF</th>\n",
              "      <th>Sexo</th>\n",
              "      <th>Idade</th>\n",
              "      <th>Cor</th>\n",
              "      <th>Anos de Estudo</th>\n",
              "      <th>Renda</th>\n",
              "      <th>Altura</th>\n",
              "    </tr>\n",
              "  </thead>\n",
              "  <tbody>\n",
              "    <tr>\n",
              "      <th>0</th>\n",
              "      <td>11</td>\n",
              "      <td>0</td>\n",
              "      <td>23</td>\n",
              "      <td>8</td>\n",
              "      <td>12</td>\n",
              "      <td>800</td>\n",
              "      <td>1.603808</td>\n",
              "    </tr>\n",
              "    <tr>\n",
              "      <th>1</th>\n",
              "      <td>11</td>\n",
              "      <td>1</td>\n",
              "      <td>23</td>\n",
              "      <td>2</td>\n",
              "      <td>12</td>\n",
              "      <td>1150</td>\n",
              "      <td>1.739790</td>\n",
              "    </tr>\n",
              "    <tr>\n",
              "      <th>2</th>\n",
              "      <td>11</td>\n",
              "      <td>1</td>\n",
              "      <td>35</td>\n",
              "      <td>8</td>\n",
              "      <td>15</td>\n",
              "      <td>880</td>\n",
              "      <td>1.760444</td>\n",
              "    </tr>\n",
              "    <tr>\n",
              "      <th>3</th>\n",
              "      <td>11</td>\n",
              "      <td>0</td>\n",
              "      <td>46</td>\n",
              "      <td>2</td>\n",
              "      <td>6</td>\n",
              "      <td>3500</td>\n",
              "      <td>1.783158</td>\n",
              "    </tr>\n",
              "    <tr>\n",
              "      <th>4</th>\n",
              "      <td>11</td>\n",
              "      <td>1</td>\n",
              "      <td>47</td>\n",
              "      <td>8</td>\n",
              "      <td>9</td>\n",
              "      <td>150</td>\n",
              "      <td>1.690631</td>\n",
              "    </tr>\n",
              "  </tbody>\n",
              "</table>\n",
              "</div>\n",
              "    <div class=\"colab-df-buttons\">\n",
              "\n",
              "  <div class=\"colab-df-container\">\n",
              "    <button class=\"colab-df-convert\" onclick=\"convertToInteractive('df-2447b5d8-6826-45bc-822a-b373c1238dec')\"\n",
              "            title=\"Convert this dataframe to an interactive table.\"\n",
              "            style=\"display:none;\">\n",
              "\n",
              "  <svg xmlns=\"http://www.w3.org/2000/svg\" height=\"24px\" viewBox=\"0 -960 960 960\">\n",
              "    <path d=\"M120-120v-720h720v720H120Zm60-500h600v-160H180v160Zm220 220h160v-160H400v160Zm0 220h160v-160H400v160ZM180-400h160v-160H180v160Zm440 0h160v-160H620v160ZM180-180h160v-160H180v160Zm440 0h160v-160H620v160Z\"/>\n",
              "  </svg>\n",
              "    </button>\n",
              "\n",
              "  <style>\n",
              "    .colab-df-container {\n",
              "      display:flex;\n",
              "      gap: 12px;\n",
              "    }\n",
              "\n",
              "    .colab-df-convert {\n",
              "      background-color: #E8F0FE;\n",
              "      border: none;\n",
              "      border-radius: 50%;\n",
              "      cursor: pointer;\n",
              "      display: none;\n",
              "      fill: #1967D2;\n",
              "      height: 32px;\n",
              "      padding: 0 0 0 0;\n",
              "      width: 32px;\n",
              "    }\n",
              "\n",
              "    .colab-df-convert:hover {\n",
              "      background-color: #E2EBFA;\n",
              "      box-shadow: 0px 1px 2px rgba(60, 64, 67, 0.3), 0px 1px 3px 1px rgba(60, 64, 67, 0.15);\n",
              "      fill: #174EA6;\n",
              "    }\n",
              "\n",
              "    .colab-df-buttons div {\n",
              "      margin-bottom: 4px;\n",
              "    }\n",
              "\n",
              "    [theme=dark] .colab-df-convert {\n",
              "      background-color: #3B4455;\n",
              "      fill: #D2E3FC;\n",
              "    }\n",
              "\n",
              "    [theme=dark] .colab-df-convert:hover {\n",
              "      background-color: #434B5C;\n",
              "      box-shadow: 0px 1px 3px 1px rgba(0, 0, 0, 0.15);\n",
              "      filter: drop-shadow(0px 1px 2px rgba(0, 0, 0, 0.3));\n",
              "      fill: #FFFFFF;\n",
              "    }\n",
              "  </style>\n",
              "\n",
              "    <script>\n",
              "      const buttonEl =\n",
              "        document.querySelector('#df-2447b5d8-6826-45bc-822a-b373c1238dec button.colab-df-convert');\n",
              "      buttonEl.style.display =\n",
              "        google.colab.kernel.accessAllowed ? 'block' : 'none';\n",
              "\n",
              "      async function convertToInteractive(key) {\n",
              "        const element = document.querySelector('#df-2447b5d8-6826-45bc-822a-b373c1238dec');\n",
              "        const dataTable =\n",
              "          await google.colab.kernel.invokeFunction('convertToInteractive',\n",
              "                                                    [key], {});\n",
              "        if (!dataTable) return;\n",
              "\n",
              "        const docLinkHtml = 'Like what you see? Visit the ' +\n",
              "          '<a target=\"_blank\" href=https://colab.research.google.com/notebooks/data_table.ipynb>data table notebook</a>'\n",
              "          + ' to learn more about interactive tables.';\n",
              "        element.innerHTML = '';\n",
              "        dataTable['output_type'] = 'display_data';\n",
              "        await google.colab.output.renderOutput(dataTable, element);\n",
              "        const docLink = document.createElement('div');\n",
              "        docLink.innerHTML = docLinkHtml;\n",
              "        element.appendChild(docLink);\n",
              "      }\n",
              "    </script>\n",
              "  </div>\n",
              "\n",
              "\n",
              "<div id=\"df-c7d69b3b-9318-45ea-9a4c-d7874cf3ec85\">\n",
              "  <button class=\"colab-df-quickchart\" onclick=\"quickchart('df-c7d69b3b-9318-45ea-9a4c-d7874cf3ec85')\"\n",
              "            title=\"Suggest charts\"\n",
              "            style=\"display:none;\">\n",
              "\n",
              "<svg xmlns=\"http://www.w3.org/2000/svg\" height=\"24px\"viewBox=\"0 0 24 24\"\n",
              "     width=\"24px\">\n",
              "    <g>\n",
              "        <path d=\"M19 3H5c-1.1 0-2 .9-2 2v14c0 1.1.9 2 2 2h14c1.1 0 2-.9 2-2V5c0-1.1-.9-2-2-2zM9 17H7v-7h2v7zm4 0h-2V7h2v10zm4 0h-2v-4h2v4z\"/>\n",
              "    </g>\n",
              "</svg>\n",
              "  </button>\n",
              "\n",
              "<style>\n",
              "  .colab-df-quickchart {\n",
              "      --bg-color: #E8F0FE;\n",
              "      --fill-color: #1967D2;\n",
              "      --hover-bg-color: #E2EBFA;\n",
              "      --hover-fill-color: #174EA6;\n",
              "      --disabled-fill-color: #AAA;\n",
              "      --disabled-bg-color: #DDD;\n",
              "  }\n",
              "\n",
              "  [theme=dark] .colab-df-quickchart {\n",
              "      --bg-color: #3B4455;\n",
              "      --fill-color: #D2E3FC;\n",
              "      --hover-bg-color: #434B5C;\n",
              "      --hover-fill-color: #FFFFFF;\n",
              "      --disabled-bg-color: #3B4455;\n",
              "      --disabled-fill-color: #666;\n",
              "  }\n",
              "\n",
              "  .colab-df-quickchart {\n",
              "    background-color: var(--bg-color);\n",
              "    border: none;\n",
              "    border-radius: 50%;\n",
              "    cursor: pointer;\n",
              "    display: none;\n",
              "    fill: var(--fill-color);\n",
              "    height: 32px;\n",
              "    padding: 0;\n",
              "    width: 32px;\n",
              "  }\n",
              "\n",
              "  .colab-df-quickchart:hover {\n",
              "    background-color: var(--hover-bg-color);\n",
              "    box-shadow: 0 1px 2px rgba(60, 64, 67, 0.3), 0 1px 3px 1px rgba(60, 64, 67, 0.15);\n",
              "    fill: var(--button-hover-fill-color);\n",
              "  }\n",
              "\n",
              "  .colab-df-quickchart-complete:disabled,\n",
              "  .colab-df-quickchart-complete:disabled:hover {\n",
              "    background-color: var(--disabled-bg-color);\n",
              "    fill: var(--disabled-fill-color);\n",
              "    box-shadow: none;\n",
              "  }\n",
              "\n",
              "  .colab-df-spinner {\n",
              "    border: 2px solid var(--fill-color);\n",
              "    border-color: transparent;\n",
              "    border-bottom-color: var(--fill-color);\n",
              "    animation:\n",
              "      spin 1s steps(1) infinite;\n",
              "  }\n",
              "\n",
              "  @keyframes spin {\n",
              "    0% {\n",
              "      border-color: transparent;\n",
              "      border-bottom-color: var(--fill-color);\n",
              "      border-left-color: var(--fill-color);\n",
              "    }\n",
              "    20% {\n",
              "      border-color: transparent;\n",
              "      border-left-color: var(--fill-color);\n",
              "      border-top-color: var(--fill-color);\n",
              "    }\n",
              "    30% {\n",
              "      border-color: transparent;\n",
              "      border-left-color: var(--fill-color);\n",
              "      border-top-color: var(--fill-color);\n",
              "      border-right-color: var(--fill-color);\n",
              "    }\n",
              "    40% {\n",
              "      border-color: transparent;\n",
              "      border-right-color: var(--fill-color);\n",
              "      border-top-color: var(--fill-color);\n",
              "    }\n",
              "    60% {\n",
              "      border-color: transparent;\n",
              "      border-right-color: var(--fill-color);\n",
              "    }\n",
              "    80% {\n",
              "      border-color: transparent;\n",
              "      border-right-color: var(--fill-color);\n",
              "      border-bottom-color: var(--fill-color);\n",
              "    }\n",
              "    90% {\n",
              "      border-color: transparent;\n",
              "      border-bottom-color: var(--fill-color);\n",
              "    }\n",
              "  }\n",
              "</style>\n",
              "\n",
              "  <script>\n",
              "    async function quickchart(key) {\n",
              "      const quickchartButtonEl =\n",
              "        document.querySelector('#' + key + ' button');\n",
              "      quickchartButtonEl.disabled = true;  // To prevent multiple clicks.\n",
              "      quickchartButtonEl.classList.add('colab-df-spinner');\n",
              "      try {\n",
              "        const charts = await google.colab.kernel.invokeFunction(\n",
              "            'suggestCharts', [key], {});\n",
              "      } catch (error) {\n",
              "        console.error('Error during call to suggestCharts:', error);\n",
              "      }\n",
              "      quickchartButtonEl.classList.remove('colab-df-spinner');\n",
              "      quickchartButtonEl.classList.add('colab-df-quickchart-complete');\n",
              "    }\n",
              "    (() => {\n",
              "      let quickchartButtonEl =\n",
              "        document.querySelector('#df-c7d69b3b-9318-45ea-9a4c-d7874cf3ec85 button');\n",
              "      quickchartButtonEl.style.display =\n",
              "        google.colab.kernel.accessAllowed ? 'block' : 'none';\n",
              "    })();\n",
              "  </script>\n",
              "</div>\n",
              "\n",
              "    </div>\n",
              "  </div>\n"
            ],
            "application/vnd.google.colaboratory.intrinsic+json": {
              "type": "dataframe",
              "variable_name": "dataset",
              "summary": "{\n  \"name\": \"dataset\",\n  \"rows\": 76840,\n  \"fields\": [\n    {\n      \"column\": \"UF\",\n      \"properties\": {\n        \"dtype\": \"number\",\n        \"std\": 11,\n        \"min\": 11,\n        \"max\": 53,\n        \"samples\": [\n          22,\n          27,\n          23\n        ],\n        \"num_unique_values\": 27,\n        \"semantic_type\": \"\",\n        \"description\": \"\"\n      }\n    },\n    {\n      \"column\": \"Sexo\",\n      \"properties\": {\n        \"dtype\": \"number\",\n        \"std\": 0,\n        \"min\": 0,\n        \"max\": 1,\n        \"samples\": [\n          1,\n          0\n        ],\n        \"num_unique_values\": 2,\n        \"semantic_type\": \"\",\n        \"description\": \"\"\n      }\n    },\n    {\n      \"column\": \"Idade\",\n      \"properties\": {\n        \"dtype\": \"number\",\n        \"std\": 12,\n        \"min\": 13,\n        \"max\": 99,\n        \"samples\": [\n          88,\n          23\n        ],\n        \"num_unique_values\": 84,\n        \"semantic_type\": \"\",\n        \"description\": \"\"\n      }\n    },\n    {\n      \"column\": \"Cor\",\n      \"properties\": {\n        \"dtype\": \"number\",\n        \"std\": 2,\n        \"min\": 0,\n        \"max\": 8,\n        \"samples\": [\n          2,\n          0\n        ],\n        \"num_unique_values\": 5,\n        \"semantic_type\": \"\",\n        \"description\": \"\"\n      }\n    },\n    {\n      \"column\": \"Anos de Estudo\",\n      \"properties\": {\n        \"dtype\": \"number\",\n        \"std\": 4,\n        \"min\": 1,\n        \"max\": 17,\n        \"samples\": [\n          12,\n          15\n        ],\n        \"num_unique_values\": 17,\n        \"semantic_type\": \"\",\n        \"description\": \"\"\n      }\n    },\n    {\n      \"column\": \"Renda\",\n      \"properties\": {\n        \"dtype\": \"number\",\n        \"std\": 3323,\n        \"min\": 0,\n        \"max\": 200000,\n        \"samples\": [\n          3279,\n          2456\n        ],\n        \"num_unique_values\": 1606,\n        \"semantic_type\": \"\",\n        \"description\": \"\"\n      }\n    },\n    {\n      \"column\": \"Altura\",\n      \"properties\": {\n        \"dtype\": \"number\",\n        \"std\": 0.07971743006825292,\n        \"min\": 1.339244614,\n        \"max\": 2.028496765,\n        \"samples\": [\n          1.616531581,\n          1.799777606\n        ],\n        \"num_unique_values\": 76831,\n        \"semantic_type\": \"\",\n        \"description\": \"\"\n      }\n    }\n  ]\n}"
            }
          },
          "metadata": {},
          "execution_count": 25
        }
      ]
    },
    {
      "cell_type": "code",
      "execution_count": 26,
      "metadata": {
        "id": "N-wZ_2UajQLm",
        "colab": {
          "base_uri": "https://localhost:8080/"
        },
        "outputId": "faca9f0b-5d84-46f9-f0d2-abdf2accd87b"
      },
      "outputs": [
        {
          "output_type": "execute_result",
          "data": {
            "text/plain": [
              "E    49755\n",
              "D    16700\n",
              "C     7599\n",
              "B     2178\n",
              "A      608\n",
              "Name: Renda, dtype: int64"
            ]
          },
          "metadata": {},
          "execution_count": 26
        }
      ],
      "source": [
        "frequencia = pd.value_counts(\n",
        "       pd.cut(x = dataset['Renda'],\n",
        "       bins = classes,\n",
        "       labels = labels,\n",
        "       include_lowest = True))\n",
        "frequencia"
      ]
    },
    {
      "cell_type": "code",
      "execution_count": 27,
      "metadata": {
        "id": "WrZ2m2GajQLo",
        "colab": {
          "base_uri": "https://localhost:8080/"
        },
        "outputId": "a603073f-3671-4014-a55c-eb299171a17e"
      },
      "outputs": [
        {
          "output_type": "execute_result",
          "data": {
            "text/plain": [
              "E    0.647514\n",
              "D    0.217335\n",
              "C    0.098894\n",
              "B    0.028345\n",
              "A    0.007913\n",
              "Name: Renda, dtype: float64"
            ]
          },
          "metadata": {},
          "execution_count": 27
        }
      ],
      "source": [
        "percentual = pd.value_counts(\n",
        "  pd.cut(x = dataset['Renda'],\n",
        "    bins = classes,\n",
        "    labels = labels,\n",
        "    include_lowest = True),\n",
        "    normalize = True * 100\n",
        ")\n",
        "percentual"
      ]
    },
    {
      "cell_type": "code",
      "execution_count": 28,
      "metadata": {
        "id": "btKoxJDujQLp",
        "colab": {
          "base_uri": "https://localhost:8080/",
          "height": 206
        },
        "outputId": "81211712-3c70-409e-cd5b-06e74299b22a"
      },
      "outputs": [
        {
          "output_type": "execute_result",
          "data": {
            "text/plain": [
              "   Frequência  Percentual (%)\n",
              "E       49755        0.647514\n",
              "D       16700        0.217335\n",
              "C        7599        0.098894\n",
              "B        2178        0.028345\n",
              "A         608        0.007913"
            ],
            "text/html": [
              "\n",
              "  <div id=\"df-f1ea146b-e5c2-4644-b336-7fd62c188dc1\" class=\"colab-df-container\">\n",
              "    <div>\n",
              "<style scoped>\n",
              "    .dataframe tbody tr th:only-of-type {\n",
              "        vertical-align: middle;\n",
              "    }\n",
              "\n",
              "    .dataframe tbody tr th {\n",
              "        vertical-align: top;\n",
              "    }\n",
              "\n",
              "    .dataframe thead th {\n",
              "        text-align: right;\n",
              "    }\n",
              "</style>\n",
              "<table border=\"1\" class=\"dataframe\">\n",
              "  <thead>\n",
              "    <tr style=\"text-align: right;\">\n",
              "      <th></th>\n",
              "      <th>Frequência</th>\n",
              "      <th>Percentual (%)</th>\n",
              "    </tr>\n",
              "  </thead>\n",
              "  <tbody>\n",
              "    <tr>\n",
              "      <th>E</th>\n",
              "      <td>49755</td>\n",
              "      <td>0.647514</td>\n",
              "    </tr>\n",
              "    <tr>\n",
              "      <th>D</th>\n",
              "      <td>16700</td>\n",
              "      <td>0.217335</td>\n",
              "    </tr>\n",
              "    <tr>\n",
              "      <th>C</th>\n",
              "      <td>7599</td>\n",
              "      <td>0.098894</td>\n",
              "    </tr>\n",
              "    <tr>\n",
              "      <th>B</th>\n",
              "      <td>2178</td>\n",
              "      <td>0.028345</td>\n",
              "    </tr>\n",
              "    <tr>\n",
              "      <th>A</th>\n",
              "      <td>608</td>\n",
              "      <td>0.007913</td>\n",
              "    </tr>\n",
              "  </tbody>\n",
              "</table>\n",
              "</div>\n",
              "    <div class=\"colab-df-buttons\">\n",
              "\n",
              "  <div class=\"colab-df-container\">\n",
              "    <button class=\"colab-df-convert\" onclick=\"convertToInteractive('df-f1ea146b-e5c2-4644-b336-7fd62c188dc1')\"\n",
              "            title=\"Convert this dataframe to an interactive table.\"\n",
              "            style=\"display:none;\">\n",
              "\n",
              "  <svg xmlns=\"http://www.w3.org/2000/svg\" height=\"24px\" viewBox=\"0 -960 960 960\">\n",
              "    <path d=\"M120-120v-720h720v720H120Zm60-500h600v-160H180v160Zm220 220h160v-160H400v160Zm0 220h160v-160H400v160ZM180-400h160v-160H180v160Zm440 0h160v-160H620v160ZM180-180h160v-160H180v160Zm440 0h160v-160H620v160Z\"/>\n",
              "  </svg>\n",
              "    </button>\n",
              "\n",
              "  <style>\n",
              "    .colab-df-container {\n",
              "      display:flex;\n",
              "      gap: 12px;\n",
              "    }\n",
              "\n",
              "    .colab-df-convert {\n",
              "      background-color: #E8F0FE;\n",
              "      border: none;\n",
              "      border-radius: 50%;\n",
              "      cursor: pointer;\n",
              "      display: none;\n",
              "      fill: #1967D2;\n",
              "      height: 32px;\n",
              "      padding: 0 0 0 0;\n",
              "      width: 32px;\n",
              "    }\n",
              "\n",
              "    .colab-df-convert:hover {\n",
              "      background-color: #E2EBFA;\n",
              "      box-shadow: 0px 1px 2px rgba(60, 64, 67, 0.3), 0px 1px 3px 1px rgba(60, 64, 67, 0.15);\n",
              "      fill: #174EA6;\n",
              "    }\n",
              "\n",
              "    .colab-df-buttons div {\n",
              "      margin-bottom: 4px;\n",
              "    }\n",
              "\n",
              "    [theme=dark] .colab-df-convert {\n",
              "      background-color: #3B4455;\n",
              "      fill: #D2E3FC;\n",
              "    }\n",
              "\n",
              "    [theme=dark] .colab-df-convert:hover {\n",
              "      background-color: #434B5C;\n",
              "      box-shadow: 0px 1px 3px 1px rgba(0, 0, 0, 0.15);\n",
              "      filter: drop-shadow(0px 1px 2px rgba(0, 0, 0, 0.3));\n",
              "      fill: #FFFFFF;\n",
              "    }\n",
              "  </style>\n",
              "\n",
              "    <script>\n",
              "      const buttonEl =\n",
              "        document.querySelector('#df-f1ea146b-e5c2-4644-b336-7fd62c188dc1 button.colab-df-convert');\n",
              "      buttonEl.style.display =\n",
              "        google.colab.kernel.accessAllowed ? 'block' : 'none';\n",
              "\n",
              "      async function convertToInteractive(key) {\n",
              "        const element = document.querySelector('#df-f1ea146b-e5c2-4644-b336-7fd62c188dc1');\n",
              "        const dataTable =\n",
              "          await google.colab.kernel.invokeFunction('convertToInteractive',\n",
              "                                                    [key], {});\n",
              "        if (!dataTable) return;\n",
              "\n",
              "        const docLinkHtml = 'Like what you see? Visit the ' +\n",
              "          '<a target=\"_blank\" href=https://colab.research.google.com/notebooks/data_table.ipynb>data table notebook</a>'\n",
              "          + ' to learn more about interactive tables.';\n",
              "        element.innerHTML = '';\n",
              "        dataTable['output_type'] = 'display_data';\n",
              "        await google.colab.output.renderOutput(dataTable, element);\n",
              "        const docLink = document.createElement('div');\n",
              "        docLink.innerHTML = docLinkHtml;\n",
              "        element.appendChild(docLink);\n",
              "      }\n",
              "    </script>\n",
              "  </div>\n",
              "\n",
              "\n",
              "<div id=\"df-eeb13f77-48f7-4701-8e2d-7970fc4ab635\">\n",
              "  <button class=\"colab-df-quickchart\" onclick=\"quickchart('df-eeb13f77-48f7-4701-8e2d-7970fc4ab635')\"\n",
              "            title=\"Suggest charts\"\n",
              "            style=\"display:none;\">\n",
              "\n",
              "<svg xmlns=\"http://www.w3.org/2000/svg\" height=\"24px\"viewBox=\"0 0 24 24\"\n",
              "     width=\"24px\">\n",
              "    <g>\n",
              "        <path d=\"M19 3H5c-1.1 0-2 .9-2 2v14c0 1.1.9 2 2 2h14c1.1 0 2-.9 2-2V5c0-1.1-.9-2-2-2zM9 17H7v-7h2v7zm4 0h-2V7h2v10zm4 0h-2v-4h2v4z\"/>\n",
              "    </g>\n",
              "</svg>\n",
              "  </button>\n",
              "\n",
              "<style>\n",
              "  .colab-df-quickchart {\n",
              "      --bg-color: #E8F0FE;\n",
              "      --fill-color: #1967D2;\n",
              "      --hover-bg-color: #E2EBFA;\n",
              "      --hover-fill-color: #174EA6;\n",
              "      --disabled-fill-color: #AAA;\n",
              "      --disabled-bg-color: #DDD;\n",
              "  }\n",
              "\n",
              "  [theme=dark] .colab-df-quickchart {\n",
              "      --bg-color: #3B4455;\n",
              "      --fill-color: #D2E3FC;\n",
              "      --hover-bg-color: #434B5C;\n",
              "      --hover-fill-color: #FFFFFF;\n",
              "      --disabled-bg-color: #3B4455;\n",
              "      --disabled-fill-color: #666;\n",
              "  }\n",
              "\n",
              "  .colab-df-quickchart {\n",
              "    background-color: var(--bg-color);\n",
              "    border: none;\n",
              "    border-radius: 50%;\n",
              "    cursor: pointer;\n",
              "    display: none;\n",
              "    fill: var(--fill-color);\n",
              "    height: 32px;\n",
              "    padding: 0;\n",
              "    width: 32px;\n",
              "  }\n",
              "\n",
              "  .colab-df-quickchart:hover {\n",
              "    background-color: var(--hover-bg-color);\n",
              "    box-shadow: 0 1px 2px rgba(60, 64, 67, 0.3), 0 1px 3px 1px rgba(60, 64, 67, 0.15);\n",
              "    fill: var(--button-hover-fill-color);\n",
              "  }\n",
              "\n",
              "  .colab-df-quickchart-complete:disabled,\n",
              "  .colab-df-quickchart-complete:disabled:hover {\n",
              "    background-color: var(--disabled-bg-color);\n",
              "    fill: var(--disabled-fill-color);\n",
              "    box-shadow: none;\n",
              "  }\n",
              "\n",
              "  .colab-df-spinner {\n",
              "    border: 2px solid var(--fill-color);\n",
              "    border-color: transparent;\n",
              "    border-bottom-color: var(--fill-color);\n",
              "    animation:\n",
              "      spin 1s steps(1) infinite;\n",
              "  }\n",
              "\n",
              "  @keyframes spin {\n",
              "    0% {\n",
              "      border-color: transparent;\n",
              "      border-bottom-color: var(--fill-color);\n",
              "      border-left-color: var(--fill-color);\n",
              "    }\n",
              "    20% {\n",
              "      border-color: transparent;\n",
              "      border-left-color: var(--fill-color);\n",
              "      border-top-color: var(--fill-color);\n",
              "    }\n",
              "    30% {\n",
              "      border-color: transparent;\n",
              "      border-left-color: var(--fill-color);\n",
              "      border-top-color: var(--fill-color);\n",
              "      border-right-color: var(--fill-color);\n",
              "    }\n",
              "    40% {\n",
              "      border-color: transparent;\n",
              "      border-right-color: var(--fill-color);\n",
              "      border-top-color: var(--fill-color);\n",
              "    }\n",
              "    60% {\n",
              "      border-color: transparent;\n",
              "      border-right-color: var(--fill-color);\n",
              "    }\n",
              "    80% {\n",
              "      border-color: transparent;\n",
              "      border-right-color: var(--fill-color);\n",
              "      border-bottom-color: var(--fill-color);\n",
              "    }\n",
              "    90% {\n",
              "      border-color: transparent;\n",
              "      border-bottom-color: var(--fill-color);\n",
              "    }\n",
              "  }\n",
              "</style>\n",
              "\n",
              "  <script>\n",
              "    async function quickchart(key) {\n",
              "      const quickchartButtonEl =\n",
              "        document.querySelector('#' + key + ' button');\n",
              "      quickchartButtonEl.disabled = true;  // To prevent multiple clicks.\n",
              "      quickchartButtonEl.classList.add('colab-df-spinner');\n",
              "      try {\n",
              "        const charts = await google.colab.kernel.invokeFunction(\n",
              "            'suggestCharts', [key], {});\n",
              "      } catch (error) {\n",
              "        console.error('Error during call to suggestCharts:', error);\n",
              "      }\n",
              "      quickchartButtonEl.classList.remove('colab-df-spinner');\n",
              "      quickchartButtonEl.classList.add('colab-df-quickchart-complete');\n",
              "    }\n",
              "    (() => {\n",
              "      let quickchartButtonEl =\n",
              "        document.querySelector('#df-eeb13f77-48f7-4701-8e2d-7970fc4ab635 button');\n",
              "      quickchartButtonEl.style.display =\n",
              "        google.colab.kernel.accessAllowed ? 'block' : 'none';\n",
              "    })();\n",
              "  </script>\n",
              "</div>\n",
              "\n",
              "  <div id=\"id_6cbfbaca-7c52-4ebe-84fa-f574926e3056\">\n",
              "    <style>\n",
              "      .colab-df-generate {\n",
              "        background-color: #E8F0FE;\n",
              "        border: none;\n",
              "        border-radius: 50%;\n",
              "        cursor: pointer;\n",
              "        display: none;\n",
              "        fill: #1967D2;\n",
              "        height: 32px;\n",
              "        padding: 0 0 0 0;\n",
              "        width: 32px;\n",
              "      }\n",
              "\n",
              "      .colab-df-generate:hover {\n",
              "        background-color: #E2EBFA;\n",
              "        box-shadow: 0px 1px 2px rgba(60, 64, 67, 0.3), 0px 1px 3px 1px rgba(60, 64, 67, 0.15);\n",
              "        fill: #174EA6;\n",
              "      }\n",
              "\n",
              "      [theme=dark] .colab-df-generate {\n",
              "        background-color: #3B4455;\n",
              "        fill: #D2E3FC;\n",
              "      }\n",
              "\n",
              "      [theme=dark] .colab-df-generate:hover {\n",
              "        background-color: #434B5C;\n",
              "        box-shadow: 0px 1px 3px 1px rgba(0, 0, 0, 0.15);\n",
              "        filter: drop-shadow(0px 1px 2px rgba(0, 0, 0, 0.3));\n",
              "        fill: #FFFFFF;\n",
              "      }\n",
              "    </style>\n",
              "    <button class=\"colab-df-generate\" onclick=\"generateWithVariable('dist_freq_qualitativas_personalizada')\"\n",
              "            title=\"Generate code using this dataframe.\"\n",
              "            style=\"display:none;\">\n",
              "\n",
              "  <svg xmlns=\"http://www.w3.org/2000/svg\" height=\"24px\"viewBox=\"0 0 24 24\"\n",
              "       width=\"24px\">\n",
              "    <path d=\"M7,19H8.4L18.45,9,17,7.55,7,17.6ZM5,21V16.75L18.45,3.32a2,2,0,0,1,2.83,0l1.4,1.43a1.91,1.91,0,0,1,.58,1.4,1.91,1.91,0,0,1-.58,1.4L9.25,21ZM18.45,9,17,7.55Zm-12,3A5.31,5.31,0,0,0,4.9,8.1,5.31,5.31,0,0,0,1,6.5,5.31,5.31,0,0,0,4.9,4.9,5.31,5.31,0,0,0,6.5,1,5.31,5.31,0,0,0,8.1,4.9,5.31,5.31,0,0,0,12,6.5,5.46,5.46,0,0,0,6.5,12Z\"/>\n",
              "  </svg>\n",
              "    </button>\n",
              "    <script>\n",
              "      (() => {\n",
              "      const buttonEl =\n",
              "        document.querySelector('#id_6cbfbaca-7c52-4ebe-84fa-f574926e3056 button.colab-df-generate');\n",
              "      buttonEl.style.display =\n",
              "        google.colab.kernel.accessAllowed ? 'block' : 'none';\n",
              "\n",
              "      buttonEl.onclick = () => {\n",
              "        google.colab.notebook.generateWithVariable('dist_freq_qualitativas_personalizada');\n",
              "      }\n",
              "      })();\n",
              "    </script>\n",
              "  </div>\n",
              "\n",
              "    </div>\n",
              "  </div>\n"
            ],
            "application/vnd.google.colaboratory.intrinsic+json": {
              "type": "dataframe",
              "variable_name": "dist_freq_qualitativas_personalizada",
              "summary": "{\n  \"name\": \"dist_freq_qualitativas_personalizada\",\n  \"rows\": 5,\n  \"fields\": [\n    {\n      \"column\": \"Frequ\\u00eancia\",\n      \"properties\": {\n        \"dtype\": \"number\",\n        \"std\": 20226,\n        \"min\": 608,\n        \"max\": 49755,\n        \"samples\": [\n          16700,\n          608,\n          7599\n        ],\n        \"num_unique_values\": 5,\n        \"semantic_type\": \"\",\n        \"description\": \"\"\n      }\n    },\n    {\n      \"column\": \"Percentual (%)\",\n      \"properties\": {\n        \"dtype\": \"number\",\n        \"std\": 0.26322764864328313,\n        \"min\": 0.007912545549193128,\n        \"max\": 0.6475143154606976,\n        \"samples\": [\n          0.21733472149921915,\n          0.007912545549193128,\n          0.09889380530973452\n        ],\n        \"num_unique_values\": 5,\n        \"semantic_type\": \"\",\n        \"description\": \"\"\n      }\n    }\n  ]\n}"
            }
          },
          "metadata": {},
          "execution_count": 28
        }
      ],
      "source": [
        "dist_freq_qualitativas_personalizada = pd.DataFrame({'Frequência': frequencia, \"Percentual (%)\": percentual})\n",
        "dist_freq_qualitativas_personalizada"
      ]
    },
    {
      "cell_type": "code",
      "execution_count": 29,
      "metadata": {
        "id": "uTMEJXUHjQLs",
        "colab": {
          "base_uri": "https://localhost:8080/",
          "height": 206
        },
        "outputId": "115b39ee-1a98-4c51-dd13-b8dbe470ac59"
      },
      "outputs": [
        {
          "output_type": "execute_result",
          "data": {
            "text/plain": [
              "   Frequência  Percentual (%)\n",
              "A         608        0.007913\n",
              "B        2178        0.028345\n",
              "C        7599        0.098894\n",
              "D       16700        0.217335\n",
              "E       49755        0.647514"
            ],
            "text/html": [
              "\n",
              "  <div id=\"df-6f3543a5-0c5c-4abb-9c1e-b383153987ca\" class=\"colab-df-container\">\n",
              "    <div>\n",
              "<style scoped>\n",
              "    .dataframe tbody tr th:only-of-type {\n",
              "        vertical-align: middle;\n",
              "    }\n",
              "\n",
              "    .dataframe tbody tr th {\n",
              "        vertical-align: top;\n",
              "    }\n",
              "\n",
              "    .dataframe thead th {\n",
              "        text-align: right;\n",
              "    }\n",
              "</style>\n",
              "<table border=\"1\" class=\"dataframe\">\n",
              "  <thead>\n",
              "    <tr style=\"text-align: right;\">\n",
              "      <th></th>\n",
              "      <th>Frequência</th>\n",
              "      <th>Percentual (%)</th>\n",
              "    </tr>\n",
              "  </thead>\n",
              "  <tbody>\n",
              "    <tr>\n",
              "      <th>A</th>\n",
              "      <td>608</td>\n",
              "      <td>0.007913</td>\n",
              "    </tr>\n",
              "    <tr>\n",
              "      <th>B</th>\n",
              "      <td>2178</td>\n",
              "      <td>0.028345</td>\n",
              "    </tr>\n",
              "    <tr>\n",
              "      <th>C</th>\n",
              "      <td>7599</td>\n",
              "      <td>0.098894</td>\n",
              "    </tr>\n",
              "    <tr>\n",
              "      <th>D</th>\n",
              "      <td>16700</td>\n",
              "      <td>0.217335</td>\n",
              "    </tr>\n",
              "    <tr>\n",
              "      <th>E</th>\n",
              "      <td>49755</td>\n",
              "      <td>0.647514</td>\n",
              "    </tr>\n",
              "  </tbody>\n",
              "</table>\n",
              "</div>\n",
              "    <div class=\"colab-df-buttons\">\n",
              "\n",
              "  <div class=\"colab-df-container\">\n",
              "    <button class=\"colab-df-convert\" onclick=\"convertToInteractive('df-6f3543a5-0c5c-4abb-9c1e-b383153987ca')\"\n",
              "            title=\"Convert this dataframe to an interactive table.\"\n",
              "            style=\"display:none;\">\n",
              "\n",
              "  <svg xmlns=\"http://www.w3.org/2000/svg\" height=\"24px\" viewBox=\"0 -960 960 960\">\n",
              "    <path d=\"M120-120v-720h720v720H120Zm60-500h600v-160H180v160Zm220 220h160v-160H400v160Zm0 220h160v-160H400v160ZM180-400h160v-160H180v160Zm440 0h160v-160H620v160ZM180-180h160v-160H180v160Zm440 0h160v-160H620v160Z\"/>\n",
              "  </svg>\n",
              "    </button>\n",
              "\n",
              "  <style>\n",
              "    .colab-df-container {\n",
              "      display:flex;\n",
              "      gap: 12px;\n",
              "    }\n",
              "\n",
              "    .colab-df-convert {\n",
              "      background-color: #E8F0FE;\n",
              "      border: none;\n",
              "      border-radius: 50%;\n",
              "      cursor: pointer;\n",
              "      display: none;\n",
              "      fill: #1967D2;\n",
              "      height: 32px;\n",
              "      padding: 0 0 0 0;\n",
              "      width: 32px;\n",
              "    }\n",
              "\n",
              "    .colab-df-convert:hover {\n",
              "      background-color: #E2EBFA;\n",
              "      box-shadow: 0px 1px 2px rgba(60, 64, 67, 0.3), 0px 1px 3px 1px rgba(60, 64, 67, 0.15);\n",
              "      fill: #174EA6;\n",
              "    }\n",
              "\n",
              "    .colab-df-buttons div {\n",
              "      margin-bottom: 4px;\n",
              "    }\n",
              "\n",
              "    [theme=dark] .colab-df-convert {\n",
              "      background-color: #3B4455;\n",
              "      fill: #D2E3FC;\n",
              "    }\n",
              "\n",
              "    [theme=dark] .colab-df-convert:hover {\n",
              "      background-color: #434B5C;\n",
              "      box-shadow: 0px 1px 3px 1px rgba(0, 0, 0, 0.15);\n",
              "      filter: drop-shadow(0px 1px 2px rgba(0, 0, 0, 0.3));\n",
              "      fill: #FFFFFF;\n",
              "    }\n",
              "  </style>\n",
              "\n",
              "    <script>\n",
              "      const buttonEl =\n",
              "        document.querySelector('#df-6f3543a5-0c5c-4abb-9c1e-b383153987ca button.colab-df-convert');\n",
              "      buttonEl.style.display =\n",
              "        google.colab.kernel.accessAllowed ? 'block' : 'none';\n",
              "\n",
              "      async function convertToInteractive(key) {\n",
              "        const element = document.querySelector('#df-6f3543a5-0c5c-4abb-9c1e-b383153987ca');\n",
              "        const dataTable =\n",
              "          await google.colab.kernel.invokeFunction('convertToInteractive',\n",
              "                                                    [key], {});\n",
              "        if (!dataTable) return;\n",
              "\n",
              "        const docLinkHtml = 'Like what you see? Visit the ' +\n",
              "          '<a target=\"_blank\" href=https://colab.research.google.com/notebooks/data_table.ipynb>data table notebook</a>'\n",
              "          + ' to learn more about interactive tables.';\n",
              "        element.innerHTML = '';\n",
              "        dataTable['output_type'] = 'display_data';\n",
              "        await google.colab.output.renderOutput(dataTable, element);\n",
              "        const docLink = document.createElement('div');\n",
              "        docLink.innerHTML = docLinkHtml;\n",
              "        element.appendChild(docLink);\n",
              "      }\n",
              "    </script>\n",
              "  </div>\n",
              "\n",
              "\n",
              "<div id=\"df-8f6046b5-507a-49cd-bd2c-10d47695798a\">\n",
              "  <button class=\"colab-df-quickchart\" onclick=\"quickchart('df-8f6046b5-507a-49cd-bd2c-10d47695798a')\"\n",
              "            title=\"Suggest charts\"\n",
              "            style=\"display:none;\">\n",
              "\n",
              "<svg xmlns=\"http://www.w3.org/2000/svg\" height=\"24px\"viewBox=\"0 0 24 24\"\n",
              "     width=\"24px\">\n",
              "    <g>\n",
              "        <path d=\"M19 3H5c-1.1 0-2 .9-2 2v14c0 1.1.9 2 2 2h14c1.1 0 2-.9 2-2V5c0-1.1-.9-2-2-2zM9 17H7v-7h2v7zm4 0h-2V7h2v10zm4 0h-2v-4h2v4z\"/>\n",
              "    </g>\n",
              "</svg>\n",
              "  </button>\n",
              "\n",
              "<style>\n",
              "  .colab-df-quickchart {\n",
              "      --bg-color: #E8F0FE;\n",
              "      --fill-color: #1967D2;\n",
              "      --hover-bg-color: #E2EBFA;\n",
              "      --hover-fill-color: #174EA6;\n",
              "      --disabled-fill-color: #AAA;\n",
              "      --disabled-bg-color: #DDD;\n",
              "  }\n",
              "\n",
              "  [theme=dark] .colab-df-quickchart {\n",
              "      --bg-color: #3B4455;\n",
              "      --fill-color: #D2E3FC;\n",
              "      --hover-bg-color: #434B5C;\n",
              "      --hover-fill-color: #FFFFFF;\n",
              "      --disabled-bg-color: #3B4455;\n",
              "      --disabled-fill-color: #666;\n",
              "  }\n",
              "\n",
              "  .colab-df-quickchart {\n",
              "    background-color: var(--bg-color);\n",
              "    border: none;\n",
              "    border-radius: 50%;\n",
              "    cursor: pointer;\n",
              "    display: none;\n",
              "    fill: var(--fill-color);\n",
              "    height: 32px;\n",
              "    padding: 0;\n",
              "    width: 32px;\n",
              "  }\n",
              "\n",
              "  .colab-df-quickchart:hover {\n",
              "    background-color: var(--hover-bg-color);\n",
              "    box-shadow: 0 1px 2px rgba(60, 64, 67, 0.3), 0 1px 3px 1px rgba(60, 64, 67, 0.15);\n",
              "    fill: var(--button-hover-fill-color);\n",
              "  }\n",
              "\n",
              "  .colab-df-quickchart-complete:disabled,\n",
              "  .colab-df-quickchart-complete:disabled:hover {\n",
              "    background-color: var(--disabled-bg-color);\n",
              "    fill: var(--disabled-fill-color);\n",
              "    box-shadow: none;\n",
              "  }\n",
              "\n",
              "  .colab-df-spinner {\n",
              "    border: 2px solid var(--fill-color);\n",
              "    border-color: transparent;\n",
              "    border-bottom-color: var(--fill-color);\n",
              "    animation:\n",
              "      spin 1s steps(1) infinite;\n",
              "  }\n",
              "\n",
              "  @keyframes spin {\n",
              "    0% {\n",
              "      border-color: transparent;\n",
              "      border-bottom-color: var(--fill-color);\n",
              "      border-left-color: var(--fill-color);\n",
              "    }\n",
              "    20% {\n",
              "      border-color: transparent;\n",
              "      border-left-color: var(--fill-color);\n",
              "      border-top-color: var(--fill-color);\n",
              "    }\n",
              "    30% {\n",
              "      border-color: transparent;\n",
              "      border-left-color: var(--fill-color);\n",
              "      border-top-color: var(--fill-color);\n",
              "      border-right-color: var(--fill-color);\n",
              "    }\n",
              "    40% {\n",
              "      border-color: transparent;\n",
              "      border-right-color: var(--fill-color);\n",
              "      border-top-color: var(--fill-color);\n",
              "    }\n",
              "    60% {\n",
              "      border-color: transparent;\n",
              "      border-right-color: var(--fill-color);\n",
              "    }\n",
              "    80% {\n",
              "      border-color: transparent;\n",
              "      border-right-color: var(--fill-color);\n",
              "      border-bottom-color: var(--fill-color);\n",
              "    }\n",
              "    90% {\n",
              "      border-color: transparent;\n",
              "      border-bottom-color: var(--fill-color);\n",
              "    }\n",
              "  }\n",
              "</style>\n",
              "\n",
              "  <script>\n",
              "    async function quickchart(key) {\n",
              "      const quickchartButtonEl =\n",
              "        document.querySelector('#' + key + ' button');\n",
              "      quickchartButtonEl.disabled = true;  // To prevent multiple clicks.\n",
              "      quickchartButtonEl.classList.add('colab-df-spinner');\n",
              "      try {\n",
              "        const charts = await google.colab.kernel.invokeFunction(\n",
              "            'suggestCharts', [key], {});\n",
              "      } catch (error) {\n",
              "        console.error('Error during call to suggestCharts:', error);\n",
              "      }\n",
              "      quickchartButtonEl.classList.remove('colab-df-spinner');\n",
              "      quickchartButtonEl.classList.add('colab-df-quickchart-complete');\n",
              "    }\n",
              "    (() => {\n",
              "      let quickchartButtonEl =\n",
              "        document.querySelector('#df-8f6046b5-507a-49cd-bd2c-10d47695798a button');\n",
              "      quickchartButtonEl.style.display =\n",
              "        google.colab.kernel.accessAllowed ? 'block' : 'none';\n",
              "    })();\n",
              "  </script>\n",
              "</div>\n",
              "\n",
              "    </div>\n",
              "  </div>\n"
            ],
            "application/vnd.google.colaboratory.intrinsic+json": {
              "type": "dataframe",
              "summary": "{\n  \"name\": \"dist_freq_qualitativas_personalizada\",\n  \"rows\": 5,\n  \"fields\": [\n    {\n      \"column\": \"Frequ\\u00eancia\",\n      \"properties\": {\n        \"dtype\": \"number\",\n        \"std\": 20226,\n        \"min\": 608,\n        \"max\": 49755,\n        \"samples\": [\n          2178,\n          49755,\n          7599\n        ],\n        \"num_unique_values\": 5,\n        \"semantic_type\": \"\",\n        \"description\": \"\"\n      }\n    },\n    {\n      \"column\": \"Percentual (%)\",\n      \"properties\": {\n        \"dtype\": \"number\",\n        \"std\": 0.26322764864328313,\n        \"min\": 0.007912545549193128,\n        \"max\": 0.6475143154606976,\n        \"samples\": [\n          0.028344612181155648,\n          0.6475143154606976,\n          0.09889380530973452\n        ],\n        \"num_unique_values\": 5,\n        \"semantic_type\": \"\",\n        \"description\": \"\"\n      }\n    }\n  ]\n}"
            }
          },
          "metadata": {},
          "execution_count": 29
        }
      ],
      "source": [
        "dist_freq_qualitativas_personalizada.sort_index(ascending=False)"
      ]
    },
    {
      "cell_type": "markdown",
      "metadata": {
        "id": "ViJYvvjujQLu"
      },
      "source": [
        "## <font color=green>2.3 Distribuição de frequências para variáveis quantitativas (classes de amplitude fixa)</font>\n",
        "***"
      ]
    },
    {
      "cell_type": "markdown",
      "metadata": {
        "id": "02ve2BVojQLv"
      },
      "source": [
        "### Importando bibliotecas\n",
        "\n",
        "http://www.numpy.org/"
      ]
    },
    {
      "cell_type": "code",
      "execution_count": 30,
      "metadata": {
        "id": "hSIsHKuJjQLw"
      },
      "outputs": [],
      "source": [
        "import numpy as np"
      ]
    },
    {
      "cell_type": "markdown",
      "metadata": {
        "id": "s9UGNaMzjQLy"
      },
      "source": [
        "### Passo 1 - Difinindo o número de classes"
      ]
    },
    {
      "cell_type": "markdown",
      "metadata": {
        "id": "p268tvNHjQLy"
      },
      "source": [
        "#### Regra de Sturges\n",
        "\n",
        "# $$k = 1 + \\frac {10}{3}\\log_{10}n$$"
      ]
    },
    {
      "cell_type": "code",
      "execution_count": 31,
      "metadata": {
        "id": "wgLH6gGqjQLz",
        "colab": {
          "base_uri": "https://localhost:8080/"
        },
        "outputId": "f53efbb5-c07f-4cd9-ffde-c89afe78a12c"
      },
      "outputs": [
        {
          "output_type": "execute_result",
          "data": {
            "text/plain": [
              "76840"
            ]
          },
          "metadata": {},
          "execution_count": 31
        }
      ],
      "source": [
        "n = dataset.shape[0]\n",
        "n"
      ]
    },
    {
      "cell_type": "code",
      "execution_count": 32,
      "metadata": {
        "id": "uTuVep-8jQL0",
        "colab": {
          "base_uri": "https://localhost:8080/"
        },
        "outputId": "726aaf44-fa58-436c-ad85-29bc10d0d70e"
      },
      "outputs": [
        {
          "output_type": "execute_result",
          "data": {
            "text/plain": [
              "17.285291187298853"
            ]
          },
          "metadata": {},
          "execution_count": 32
        }
      ],
      "source": [
        "k = 1 + 10/3 * np.log10(n)\n",
        "k"
      ]
    },
    {
      "cell_type": "code",
      "execution_count": 33,
      "metadata": {
        "id": "988IDFNOjQL2",
        "colab": {
          "base_uri": "https://localhost:8080/"
        },
        "outputId": "e83e6a5c-4266-4413-c6ca-5e7ba7146dba"
      },
      "outputs": [
        {
          "output_type": "execute_result",
          "data": {
            "text/plain": [
              "17"
            ]
          },
          "metadata": {},
          "execution_count": 33
        }
      ],
      "source": [
        "k = int(k.round(0))\n",
        "k"
      ]
    },
    {
      "cell_type": "markdown",
      "metadata": {
        "id": "5eO-RhaljQL6"
      },
      "source": [
        "### Passo 2 - Criar a tabela de frequências"
      ]
    },
    {
      "cell_type": "code",
      "execution_count": 34,
      "metadata": {
        "id": "-ylxSip1jQL9"
      },
      "outputs": [],
      "source": [
        "frequencia = pd.value_counts(\n",
        "    pd.cut(x = dataset['Renda'],\n",
        "           bins = 17, # classe de amplitude fixa\n",
        "           include_lowest = True\n",
        "    ),\n",
        "    sort = False # organizando os valores das CLASSES em ordem decrescente\n",
        "    )"
      ]
    },
    {
      "cell_type": "code",
      "execution_count": 35,
      "metadata": {
        "id": "n9kkJ0WTjQL_",
        "colab": {
          "base_uri": "https://localhost:8080/"
        },
        "outputId": "1d19a8c9-136c-4c82-b2d5-e0146c0b8b2d"
      },
      "outputs": [
        {
          "output_type": "execute_result",
          "data": {
            "text/plain": [
              "(-200.001, 11764.706]       0.983784\n",
              "(11764.706, 23529.412]      0.013300\n",
              "(23529.412, 35294.118]      0.002199\n",
              "(35294.118, 47058.824]      0.000247\n",
              "(47058.824, 58823.529]      0.000208\n",
              "(58823.529, 70588.235]      0.000065\n",
              "(70588.235, 82352.941]      0.000052\n",
              "(82352.941, 94117.647]      0.000013\n",
              "(94117.647, 105882.353]     0.000078\n",
              "(105882.353, 117647.059]    0.000000\n",
              "(117647.059, 129411.765]    0.000013\n",
              "(129411.765, 141176.471]    0.000000\n",
              "(141176.471, 152941.176]    0.000000\n",
              "(152941.176, 164705.882]    0.000000\n",
              "(164705.882, 176470.588]    0.000000\n",
              "(176470.588, 188235.294]    0.000000\n",
              "(188235.294, 200000.0]      0.000039\n",
              "Name: Renda, dtype: float64"
            ]
          },
          "metadata": {},
          "execution_count": 35
        }
      ],
      "source": [
        "percentual = pd.value_counts(\n",
        "    pd.cut(x = dataset['Renda'],\n",
        "           bins = 17, # classe de amplitude fixa\n",
        "           include_lowest = True\n",
        "    ),\n",
        "    sort = False, # organizando os valores das CLASSES em ordem decrescente\n",
        "    normalize=True\n",
        "    )\n",
        "percentual"
      ]
    },
    {
      "cell_type": "code",
      "source": [
        "dist_freq_qualitativas_amplitude_fixa = pd.DataFrame({'Frequência': frequencia, \"Percentual (%)\": percentual})\n",
        "dist_freq_qualitativas_amplitude_fixa"
      ],
      "metadata": {
        "id": "yZFfa0vUQJ94",
        "colab": {
          "base_uri": "https://localhost:8080/",
          "height": 582
        },
        "outputId": "8631fc6c-829a-4674-9465-2ba68c119ae3"
      },
      "execution_count": 36,
      "outputs": [
        {
          "output_type": "execute_result",
          "data": {
            "text/plain": [
              "                          Frequência  Percentual (%)\n",
              "(-200.001, 11764.706]          75594        0.983784\n",
              "(11764.706, 23529.412]          1022        0.013300\n",
              "(23529.412, 35294.118]           169        0.002199\n",
              "(35294.118, 47058.824]            19        0.000247\n",
              "(47058.824, 58823.529]            16        0.000208\n",
              "(58823.529, 70588.235]             5        0.000065\n",
              "(70588.235, 82352.941]             4        0.000052\n",
              "(82352.941, 94117.647]             1        0.000013\n",
              "(94117.647, 105882.353]            6        0.000078\n",
              "(105882.353, 117647.059]           0        0.000000\n",
              "(117647.059, 129411.765]           1        0.000013\n",
              "(129411.765, 141176.471]           0        0.000000\n",
              "(141176.471, 152941.176]           0        0.000000\n",
              "(152941.176, 164705.882]           0        0.000000\n",
              "(164705.882, 176470.588]           0        0.000000\n",
              "(176470.588, 188235.294]           0        0.000000\n",
              "(188235.294, 200000.0]             3        0.000039"
            ],
            "text/html": [
              "\n",
              "  <div id=\"df-bab1915e-3cd6-4753-9b2d-d50d69a6c2ce\" class=\"colab-df-container\">\n",
              "    <div>\n",
              "<style scoped>\n",
              "    .dataframe tbody tr th:only-of-type {\n",
              "        vertical-align: middle;\n",
              "    }\n",
              "\n",
              "    .dataframe tbody tr th {\n",
              "        vertical-align: top;\n",
              "    }\n",
              "\n",
              "    .dataframe thead th {\n",
              "        text-align: right;\n",
              "    }\n",
              "</style>\n",
              "<table border=\"1\" class=\"dataframe\">\n",
              "  <thead>\n",
              "    <tr style=\"text-align: right;\">\n",
              "      <th></th>\n",
              "      <th>Frequência</th>\n",
              "      <th>Percentual (%)</th>\n",
              "    </tr>\n",
              "  </thead>\n",
              "  <tbody>\n",
              "    <tr>\n",
              "      <th>(-200.001, 11764.706]</th>\n",
              "      <td>75594</td>\n",
              "      <td>0.983784</td>\n",
              "    </tr>\n",
              "    <tr>\n",
              "      <th>(11764.706, 23529.412]</th>\n",
              "      <td>1022</td>\n",
              "      <td>0.013300</td>\n",
              "    </tr>\n",
              "    <tr>\n",
              "      <th>(23529.412, 35294.118]</th>\n",
              "      <td>169</td>\n",
              "      <td>0.002199</td>\n",
              "    </tr>\n",
              "    <tr>\n",
              "      <th>(35294.118, 47058.824]</th>\n",
              "      <td>19</td>\n",
              "      <td>0.000247</td>\n",
              "    </tr>\n",
              "    <tr>\n",
              "      <th>(47058.824, 58823.529]</th>\n",
              "      <td>16</td>\n",
              "      <td>0.000208</td>\n",
              "    </tr>\n",
              "    <tr>\n",
              "      <th>(58823.529, 70588.235]</th>\n",
              "      <td>5</td>\n",
              "      <td>0.000065</td>\n",
              "    </tr>\n",
              "    <tr>\n",
              "      <th>(70588.235, 82352.941]</th>\n",
              "      <td>4</td>\n",
              "      <td>0.000052</td>\n",
              "    </tr>\n",
              "    <tr>\n",
              "      <th>(82352.941, 94117.647]</th>\n",
              "      <td>1</td>\n",
              "      <td>0.000013</td>\n",
              "    </tr>\n",
              "    <tr>\n",
              "      <th>(94117.647, 105882.353]</th>\n",
              "      <td>6</td>\n",
              "      <td>0.000078</td>\n",
              "    </tr>\n",
              "    <tr>\n",
              "      <th>(105882.353, 117647.059]</th>\n",
              "      <td>0</td>\n",
              "      <td>0.000000</td>\n",
              "    </tr>\n",
              "    <tr>\n",
              "      <th>(117647.059, 129411.765]</th>\n",
              "      <td>1</td>\n",
              "      <td>0.000013</td>\n",
              "    </tr>\n",
              "    <tr>\n",
              "      <th>(129411.765, 141176.471]</th>\n",
              "      <td>0</td>\n",
              "      <td>0.000000</td>\n",
              "    </tr>\n",
              "    <tr>\n",
              "      <th>(141176.471, 152941.176]</th>\n",
              "      <td>0</td>\n",
              "      <td>0.000000</td>\n",
              "    </tr>\n",
              "    <tr>\n",
              "      <th>(152941.176, 164705.882]</th>\n",
              "      <td>0</td>\n",
              "      <td>0.000000</td>\n",
              "    </tr>\n",
              "    <tr>\n",
              "      <th>(164705.882, 176470.588]</th>\n",
              "      <td>0</td>\n",
              "      <td>0.000000</td>\n",
              "    </tr>\n",
              "    <tr>\n",
              "      <th>(176470.588, 188235.294]</th>\n",
              "      <td>0</td>\n",
              "      <td>0.000000</td>\n",
              "    </tr>\n",
              "    <tr>\n",
              "      <th>(188235.294, 200000.0]</th>\n",
              "      <td>3</td>\n",
              "      <td>0.000039</td>\n",
              "    </tr>\n",
              "  </tbody>\n",
              "</table>\n",
              "</div>\n",
              "    <div class=\"colab-df-buttons\">\n",
              "\n",
              "  <div class=\"colab-df-container\">\n",
              "    <button class=\"colab-df-convert\" onclick=\"convertToInteractive('df-bab1915e-3cd6-4753-9b2d-d50d69a6c2ce')\"\n",
              "            title=\"Convert this dataframe to an interactive table.\"\n",
              "            style=\"display:none;\">\n",
              "\n",
              "  <svg xmlns=\"http://www.w3.org/2000/svg\" height=\"24px\" viewBox=\"0 -960 960 960\">\n",
              "    <path d=\"M120-120v-720h720v720H120Zm60-500h600v-160H180v160Zm220 220h160v-160H400v160Zm0 220h160v-160H400v160ZM180-400h160v-160H180v160Zm440 0h160v-160H620v160ZM180-180h160v-160H180v160Zm440 0h160v-160H620v160Z\"/>\n",
              "  </svg>\n",
              "    </button>\n",
              "\n",
              "  <style>\n",
              "    .colab-df-container {\n",
              "      display:flex;\n",
              "      gap: 12px;\n",
              "    }\n",
              "\n",
              "    .colab-df-convert {\n",
              "      background-color: #E8F0FE;\n",
              "      border: none;\n",
              "      border-radius: 50%;\n",
              "      cursor: pointer;\n",
              "      display: none;\n",
              "      fill: #1967D2;\n",
              "      height: 32px;\n",
              "      padding: 0 0 0 0;\n",
              "      width: 32px;\n",
              "    }\n",
              "\n",
              "    .colab-df-convert:hover {\n",
              "      background-color: #E2EBFA;\n",
              "      box-shadow: 0px 1px 2px rgba(60, 64, 67, 0.3), 0px 1px 3px 1px rgba(60, 64, 67, 0.15);\n",
              "      fill: #174EA6;\n",
              "    }\n",
              "\n",
              "    .colab-df-buttons div {\n",
              "      margin-bottom: 4px;\n",
              "    }\n",
              "\n",
              "    [theme=dark] .colab-df-convert {\n",
              "      background-color: #3B4455;\n",
              "      fill: #D2E3FC;\n",
              "    }\n",
              "\n",
              "    [theme=dark] .colab-df-convert:hover {\n",
              "      background-color: #434B5C;\n",
              "      box-shadow: 0px 1px 3px 1px rgba(0, 0, 0, 0.15);\n",
              "      filter: drop-shadow(0px 1px 2px rgba(0, 0, 0, 0.3));\n",
              "      fill: #FFFFFF;\n",
              "    }\n",
              "  </style>\n",
              "\n",
              "    <script>\n",
              "      const buttonEl =\n",
              "        document.querySelector('#df-bab1915e-3cd6-4753-9b2d-d50d69a6c2ce button.colab-df-convert');\n",
              "      buttonEl.style.display =\n",
              "        google.colab.kernel.accessAllowed ? 'block' : 'none';\n",
              "\n",
              "      async function convertToInteractive(key) {\n",
              "        const element = document.querySelector('#df-bab1915e-3cd6-4753-9b2d-d50d69a6c2ce');\n",
              "        const dataTable =\n",
              "          await google.colab.kernel.invokeFunction('convertToInteractive',\n",
              "                                                    [key], {});\n",
              "        if (!dataTable) return;\n",
              "\n",
              "        const docLinkHtml = 'Like what you see? Visit the ' +\n",
              "          '<a target=\"_blank\" href=https://colab.research.google.com/notebooks/data_table.ipynb>data table notebook</a>'\n",
              "          + ' to learn more about interactive tables.';\n",
              "        element.innerHTML = '';\n",
              "        dataTable['output_type'] = 'display_data';\n",
              "        await google.colab.output.renderOutput(dataTable, element);\n",
              "        const docLink = document.createElement('div');\n",
              "        docLink.innerHTML = docLinkHtml;\n",
              "        element.appendChild(docLink);\n",
              "      }\n",
              "    </script>\n",
              "  </div>\n",
              "\n",
              "\n",
              "<div id=\"df-074afbe8-26b5-4889-91ea-d73839b12210\">\n",
              "  <button class=\"colab-df-quickchart\" onclick=\"quickchart('df-074afbe8-26b5-4889-91ea-d73839b12210')\"\n",
              "            title=\"Suggest charts\"\n",
              "            style=\"display:none;\">\n",
              "\n",
              "<svg xmlns=\"http://www.w3.org/2000/svg\" height=\"24px\"viewBox=\"0 0 24 24\"\n",
              "     width=\"24px\">\n",
              "    <g>\n",
              "        <path d=\"M19 3H5c-1.1 0-2 .9-2 2v14c0 1.1.9 2 2 2h14c1.1 0 2-.9 2-2V5c0-1.1-.9-2-2-2zM9 17H7v-7h2v7zm4 0h-2V7h2v10zm4 0h-2v-4h2v4z\"/>\n",
              "    </g>\n",
              "</svg>\n",
              "  </button>\n",
              "\n",
              "<style>\n",
              "  .colab-df-quickchart {\n",
              "      --bg-color: #E8F0FE;\n",
              "      --fill-color: #1967D2;\n",
              "      --hover-bg-color: #E2EBFA;\n",
              "      --hover-fill-color: #174EA6;\n",
              "      --disabled-fill-color: #AAA;\n",
              "      --disabled-bg-color: #DDD;\n",
              "  }\n",
              "\n",
              "  [theme=dark] .colab-df-quickchart {\n",
              "      --bg-color: #3B4455;\n",
              "      --fill-color: #D2E3FC;\n",
              "      --hover-bg-color: #434B5C;\n",
              "      --hover-fill-color: #FFFFFF;\n",
              "      --disabled-bg-color: #3B4455;\n",
              "      --disabled-fill-color: #666;\n",
              "  }\n",
              "\n",
              "  .colab-df-quickchart {\n",
              "    background-color: var(--bg-color);\n",
              "    border: none;\n",
              "    border-radius: 50%;\n",
              "    cursor: pointer;\n",
              "    display: none;\n",
              "    fill: var(--fill-color);\n",
              "    height: 32px;\n",
              "    padding: 0;\n",
              "    width: 32px;\n",
              "  }\n",
              "\n",
              "  .colab-df-quickchart:hover {\n",
              "    background-color: var(--hover-bg-color);\n",
              "    box-shadow: 0 1px 2px rgba(60, 64, 67, 0.3), 0 1px 3px 1px rgba(60, 64, 67, 0.15);\n",
              "    fill: var(--button-hover-fill-color);\n",
              "  }\n",
              "\n",
              "  .colab-df-quickchart-complete:disabled,\n",
              "  .colab-df-quickchart-complete:disabled:hover {\n",
              "    background-color: var(--disabled-bg-color);\n",
              "    fill: var(--disabled-fill-color);\n",
              "    box-shadow: none;\n",
              "  }\n",
              "\n",
              "  .colab-df-spinner {\n",
              "    border: 2px solid var(--fill-color);\n",
              "    border-color: transparent;\n",
              "    border-bottom-color: var(--fill-color);\n",
              "    animation:\n",
              "      spin 1s steps(1) infinite;\n",
              "  }\n",
              "\n",
              "  @keyframes spin {\n",
              "    0% {\n",
              "      border-color: transparent;\n",
              "      border-bottom-color: var(--fill-color);\n",
              "      border-left-color: var(--fill-color);\n",
              "    }\n",
              "    20% {\n",
              "      border-color: transparent;\n",
              "      border-left-color: var(--fill-color);\n",
              "      border-top-color: var(--fill-color);\n",
              "    }\n",
              "    30% {\n",
              "      border-color: transparent;\n",
              "      border-left-color: var(--fill-color);\n",
              "      border-top-color: var(--fill-color);\n",
              "      border-right-color: var(--fill-color);\n",
              "    }\n",
              "    40% {\n",
              "      border-color: transparent;\n",
              "      border-right-color: var(--fill-color);\n",
              "      border-top-color: var(--fill-color);\n",
              "    }\n",
              "    60% {\n",
              "      border-color: transparent;\n",
              "      border-right-color: var(--fill-color);\n",
              "    }\n",
              "    80% {\n",
              "      border-color: transparent;\n",
              "      border-right-color: var(--fill-color);\n",
              "      border-bottom-color: var(--fill-color);\n",
              "    }\n",
              "    90% {\n",
              "      border-color: transparent;\n",
              "      border-bottom-color: var(--fill-color);\n",
              "    }\n",
              "  }\n",
              "</style>\n",
              "\n",
              "  <script>\n",
              "    async function quickchart(key) {\n",
              "      const quickchartButtonEl =\n",
              "        document.querySelector('#' + key + ' button');\n",
              "      quickchartButtonEl.disabled = true;  // To prevent multiple clicks.\n",
              "      quickchartButtonEl.classList.add('colab-df-spinner');\n",
              "      try {\n",
              "        const charts = await google.colab.kernel.invokeFunction(\n",
              "            'suggestCharts', [key], {});\n",
              "      } catch (error) {\n",
              "        console.error('Error during call to suggestCharts:', error);\n",
              "      }\n",
              "      quickchartButtonEl.classList.remove('colab-df-spinner');\n",
              "      quickchartButtonEl.classList.add('colab-df-quickchart-complete');\n",
              "    }\n",
              "    (() => {\n",
              "      let quickchartButtonEl =\n",
              "        document.querySelector('#df-074afbe8-26b5-4889-91ea-d73839b12210 button');\n",
              "      quickchartButtonEl.style.display =\n",
              "        google.colab.kernel.accessAllowed ? 'block' : 'none';\n",
              "    })();\n",
              "  </script>\n",
              "</div>\n",
              "\n",
              "  <div id=\"id_cda676b5-1c2d-40cf-aa26-8c3e7ee1081c\">\n",
              "    <style>\n",
              "      .colab-df-generate {\n",
              "        background-color: #E8F0FE;\n",
              "        border: none;\n",
              "        border-radius: 50%;\n",
              "        cursor: pointer;\n",
              "        display: none;\n",
              "        fill: #1967D2;\n",
              "        height: 32px;\n",
              "        padding: 0 0 0 0;\n",
              "        width: 32px;\n",
              "      }\n",
              "\n",
              "      .colab-df-generate:hover {\n",
              "        background-color: #E2EBFA;\n",
              "        box-shadow: 0px 1px 2px rgba(60, 64, 67, 0.3), 0px 1px 3px 1px rgba(60, 64, 67, 0.15);\n",
              "        fill: #174EA6;\n",
              "      }\n",
              "\n",
              "      [theme=dark] .colab-df-generate {\n",
              "        background-color: #3B4455;\n",
              "        fill: #D2E3FC;\n",
              "      }\n",
              "\n",
              "      [theme=dark] .colab-df-generate:hover {\n",
              "        background-color: #434B5C;\n",
              "        box-shadow: 0px 1px 3px 1px rgba(0, 0, 0, 0.15);\n",
              "        filter: drop-shadow(0px 1px 2px rgba(0, 0, 0, 0.3));\n",
              "        fill: #FFFFFF;\n",
              "      }\n",
              "    </style>\n",
              "    <button class=\"colab-df-generate\" onclick=\"generateWithVariable('dist_freq_qualitativas_amplitude_fixa')\"\n",
              "            title=\"Generate code using this dataframe.\"\n",
              "            style=\"display:none;\">\n",
              "\n",
              "  <svg xmlns=\"http://www.w3.org/2000/svg\" height=\"24px\"viewBox=\"0 0 24 24\"\n",
              "       width=\"24px\">\n",
              "    <path d=\"M7,19H8.4L18.45,9,17,7.55,7,17.6ZM5,21V16.75L18.45,3.32a2,2,0,0,1,2.83,0l1.4,1.43a1.91,1.91,0,0,1,.58,1.4,1.91,1.91,0,0,1-.58,1.4L9.25,21ZM18.45,9,17,7.55Zm-12,3A5.31,5.31,0,0,0,4.9,8.1,5.31,5.31,0,0,0,1,6.5,5.31,5.31,0,0,0,4.9,4.9,5.31,5.31,0,0,0,6.5,1,5.31,5.31,0,0,0,8.1,4.9,5.31,5.31,0,0,0,12,6.5,5.46,5.46,0,0,0,6.5,12Z\"/>\n",
              "  </svg>\n",
              "    </button>\n",
              "    <script>\n",
              "      (() => {\n",
              "      const buttonEl =\n",
              "        document.querySelector('#id_cda676b5-1c2d-40cf-aa26-8c3e7ee1081c button.colab-df-generate');\n",
              "      buttonEl.style.display =\n",
              "        google.colab.kernel.accessAllowed ? 'block' : 'none';\n",
              "\n",
              "      buttonEl.onclick = () => {\n",
              "        google.colab.notebook.generateWithVariable('dist_freq_qualitativas_amplitude_fixa');\n",
              "      }\n",
              "      })();\n",
              "    </script>\n",
              "  </div>\n",
              "\n",
              "    </div>\n",
              "  </div>\n"
            ],
            "application/vnd.google.colaboratory.intrinsic+json": {
              "type": "dataframe",
              "variable_name": "dist_freq_qualitativas_amplitude_fixa",
              "summary": "{\n  \"name\": \"dist_freq_qualitativas_amplitude_fixa\",\n  \"rows\": 17,\n  \"fields\": [\n    {\n      \"column\": \"Frequ\\u00eancia\",\n      \"properties\": {\n        \"dtype\": \"number\",\n        \"std\": 18317,\n        \"min\": 0,\n        \"max\": 75594,\n        \"samples\": [\n          5,\n          75594,\n          0\n        ],\n        \"num_unique_values\": 11,\n        \"semantic_type\": \"\",\n        \"description\": \"\"\n      }\n    },\n    {\n      \"column\": \"Percentual (%)\",\n      \"properties\": {\n        \"dtype\": \"number\",\n        \"std\": 0.2383786699091055,\n        \"min\": 0.0,\n        \"max\": 0.9837844872462259,\n        \"samples\": [\n          6.50702758979698e-05,\n          0.9837844872462259,\n          0.0\n        ],\n        \"num_unique_values\": 11,\n        \"semantic_type\": \"\",\n        \"description\": \"\"\n      }\n    }\n  ]\n}"
            }
          },
          "metadata": {},
          "execution_count": 36
        }
      ]
    },
    {
      "cell_type": "code",
      "source": [
        "# adicionando título na coluna \"amplitude\"\n",
        "dist_freq_qualitativas_amplitude_fixa.rename_axis('Amplitude', axis = 'columns', inplace=True)\n",
        "dist_freq_qualitativas_amplitude_fixa"
      ],
      "metadata": {
        "id": "s3RoCS9YQjjT",
        "colab": {
          "base_uri": "https://localhost:8080/",
          "height": 582
        },
        "outputId": "ddf403e7-927c-4987-f502-b2104fb18228"
      },
      "execution_count": 37,
      "outputs": [
        {
          "output_type": "execute_result",
          "data": {
            "text/plain": [
              "Amplitude                 Frequência  Percentual (%)\n",
              "(-200.001, 11764.706]          75594        0.983784\n",
              "(11764.706, 23529.412]          1022        0.013300\n",
              "(23529.412, 35294.118]           169        0.002199\n",
              "(35294.118, 47058.824]            19        0.000247\n",
              "(47058.824, 58823.529]            16        0.000208\n",
              "(58823.529, 70588.235]             5        0.000065\n",
              "(70588.235, 82352.941]             4        0.000052\n",
              "(82352.941, 94117.647]             1        0.000013\n",
              "(94117.647, 105882.353]            6        0.000078\n",
              "(105882.353, 117647.059]           0        0.000000\n",
              "(117647.059, 129411.765]           1        0.000013\n",
              "(129411.765, 141176.471]           0        0.000000\n",
              "(141176.471, 152941.176]           0        0.000000\n",
              "(152941.176, 164705.882]           0        0.000000\n",
              "(164705.882, 176470.588]           0        0.000000\n",
              "(176470.588, 188235.294]           0        0.000000\n",
              "(188235.294, 200000.0]             3        0.000039"
            ],
            "text/html": [
              "\n",
              "  <div id=\"df-8c9cc4d4-afcc-4080-b1d7-4f5967cb12ed\" class=\"colab-df-container\">\n",
              "    <div>\n",
              "<style scoped>\n",
              "    .dataframe tbody tr th:only-of-type {\n",
              "        vertical-align: middle;\n",
              "    }\n",
              "\n",
              "    .dataframe tbody tr th {\n",
              "        vertical-align: top;\n",
              "    }\n",
              "\n",
              "    .dataframe thead th {\n",
              "        text-align: right;\n",
              "    }\n",
              "</style>\n",
              "<table border=\"1\" class=\"dataframe\">\n",
              "  <thead>\n",
              "    <tr style=\"text-align: right;\">\n",
              "      <th>Amplitude</th>\n",
              "      <th>Frequência</th>\n",
              "      <th>Percentual (%)</th>\n",
              "    </tr>\n",
              "  </thead>\n",
              "  <tbody>\n",
              "    <tr>\n",
              "      <th>(-200.001, 11764.706]</th>\n",
              "      <td>75594</td>\n",
              "      <td>0.983784</td>\n",
              "    </tr>\n",
              "    <tr>\n",
              "      <th>(11764.706, 23529.412]</th>\n",
              "      <td>1022</td>\n",
              "      <td>0.013300</td>\n",
              "    </tr>\n",
              "    <tr>\n",
              "      <th>(23529.412, 35294.118]</th>\n",
              "      <td>169</td>\n",
              "      <td>0.002199</td>\n",
              "    </tr>\n",
              "    <tr>\n",
              "      <th>(35294.118, 47058.824]</th>\n",
              "      <td>19</td>\n",
              "      <td>0.000247</td>\n",
              "    </tr>\n",
              "    <tr>\n",
              "      <th>(47058.824, 58823.529]</th>\n",
              "      <td>16</td>\n",
              "      <td>0.000208</td>\n",
              "    </tr>\n",
              "    <tr>\n",
              "      <th>(58823.529, 70588.235]</th>\n",
              "      <td>5</td>\n",
              "      <td>0.000065</td>\n",
              "    </tr>\n",
              "    <tr>\n",
              "      <th>(70588.235, 82352.941]</th>\n",
              "      <td>4</td>\n",
              "      <td>0.000052</td>\n",
              "    </tr>\n",
              "    <tr>\n",
              "      <th>(82352.941, 94117.647]</th>\n",
              "      <td>1</td>\n",
              "      <td>0.000013</td>\n",
              "    </tr>\n",
              "    <tr>\n",
              "      <th>(94117.647, 105882.353]</th>\n",
              "      <td>6</td>\n",
              "      <td>0.000078</td>\n",
              "    </tr>\n",
              "    <tr>\n",
              "      <th>(105882.353, 117647.059]</th>\n",
              "      <td>0</td>\n",
              "      <td>0.000000</td>\n",
              "    </tr>\n",
              "    <tr>\n",
              "      <th>(117647.059, 129411.765]</th>\n",
              "      <td>1</td>\n",
              "      <td>0.000013</td>\n",
              "    </tr>\n",
              "    <tr>\n",
              "      <th>(129411.765, 141176.471]</th>\n",
              "      <td>0</td>\n",
              "      <td>0.000000</td>\n",
              "    </tr>\n",
              "    <tr>\n",
              "      <th>(141176.471, 152941.176]</th>\n",
              "      <td>0</td>\n",
              "      <td>0.000000</td>\n",
              "    </tr>\n",
              "    <tr>\n",
              "      <th>(152941.176, 164705.882]</th>\n",
              "      <td>0</td>\n",
              "      <td>0.000000</td>\n",
              "    </tr>\n",
              "    <tr>\n",
              "      <th>(164705.882, 176470.588]</th>\n",
              "      <td>0</td>\n",
              "      <td>0.000000</td>\n",
              "    </tr>\n",
              "    <tr>\n",
              "      <th>(176470.588, 188235.294]</th>\n",
              "      <td>0</td>\n",
              "      <td>0.000000</td>\n",
              "    </tr>\n",
              "    <tr>\n",
              "      <th>(188235.294, 200000.0]</th>\n",
              "      <td>3</td>\n",
              "      <td>0.000039</td>\n",
              "    </tr>\n",
              "  </tbody>\n",
              "</table>\n",
              "</div>\n",
              "    <div class=\"colab-df-buttons\">\n",
              "\n",
              "  <div class=\"colab-df-container\">\n",
              "    <button class=\"colab-df-convert\" onclick=\"convertToInteractive('df-8c9cc4d4-afcc-4080-b1d7-4f5967cb12ed')\"\n",
              "            title=\"Convert this dataframe to an interactive table.\"\n",
              "            style=\"display:none;\">\n",
              "\n",
              "  <svg xmlns=\"http://www.w3.org/2000/svg\" height=\"24px\" viewBox=\"0 -960 960 960\">\n",
              "    <path d=\"M120-120v-720h720v720H120Zm60-500h600v-160H180v160Zm220 220h160v-160H400v160Zm0 220h160v-160H400v160ZM180-400h160v-160H180v160Zm440 0h160v-160H620v160ZM180-180h160v-160H180v160Zm440 0h160v-160H620v160Z\"/>\n",
              "  </svg>\n",
              "    </button>\n",
              "\n",
              "  <style>\n",
              "    .colab-df-container {\n",
              "      display:flex;\n",
              "      gap: 12px;\n",
              "    }\n",
              "\n",
              "    .colab-df-convert {\n",
              "      background-color: #E8F0FE;\n",
              "      border: none;\n",
              "      border-radius: 50%;\n",
              "      cursor: pointer;\n",
              "      display: none;\n",
              "      fill: #1967D2;\n",
              "      height: 32px;\n",
              "      padding: 0 0 0 0;\n",
              "      width: 32px;\n",
              "    }\n",
              "\n",
              "    .colab-df-convert:hover {\n",
              "      background-color: #E2EBFA;\n",
              "      box-shadow: 0px 1px 2px rgba(60, 64, 67, 0.3), 0px 1px 3px 1px rgba(60, 64, 67, 0.15);\n",
              "      fill: #174EA6;\n",
              "    }\n",
              "\n",
              "    .colab-df-buttons div {\n",
              "      margin-bottom: 4px;\n",
              "    }\n",
              "\n",
              "    [theme=dark] .colab-df-convert {\n",
              "      background-color: #3B4455;\n",
              "      fill: #D2E3FC;\n",
              "    }\n",
              "\n",
              "    [theme=dark] .colab-df-convert:hover {\n",
              "      background-color: #434B5C;\n",
              "      box-shadow: 0px 1px 3px 1px rgba(0, 0, 0, 0.15);\n",
              "      filter: drop-shadow(0px 1px 2px rgba(0, 0, 0, 0.3));\n",
              "      fill: #FFFFFF;\n",
              "    }\n",
              "  </style>\n",
              "\n",
              "    <script>\n",
              "      const buttonEl =\n",
              "        document.querySelector('#df-8c9cc4d4-afcc-4080-b1d7-4f5967cb12ed button.colab-df-convert');\n",
              "      buttonEl.style.display =\n",
              "        google.colab.kernel.accessAllowed ? 'block' : 'none';\n",
              "\n",
              "      async function convertToInteractive(key) {\n",
              "        const element = document.querySelector('#df-8c9cc4d4-afcc-4080-b1d7-4f5967cb12ed');\n",
              "        const dataTable =\n",
              "          await google.colab.kernel.invokeFunction('convertToInteractive',\n",
              "                                                    [key], {});\n",
              "        if (!dataTable) return;\n",
              "\n",
              "        const docLinkHtml = 'Like what you see? Visit the ' +\n",
              "          '<a target=\"_blank\" href=https://colab.research.google.com/notebooks/data_table.ipynb>data table notebook</a>'\n",
              "          + ' to learn more about interactive tables.';\n",
              "        element.innerHTML = '';\n",
              "        dataTable['output_type'] = 'display_data';\n",
              "        await google.colab.output.renderOutput(dataTable, element);\n",
              "        const docLink = document.createElement('div');\n",
              "        docLink.innerHTML = docLinkHtml;\n",
              "        element.appendChild(docLink);\n",
              "      }\n",
              "    </script>\n",
              "  </div>\n",
              "\n",
              "\n",
              "<div id=\"df-25444e45-1d13-405b-8ea9-46c8a8afa920\">\n",
              "  <button class=\"colab-df-quickchart\" onclick=\"quickchart('df-25444e45-1d13-405b-8ea9-46c8a8afa920')\"\n",
              "            title=\"Suggest charts\"\n",
              "            style=\"display:none;\">\n",
              "\n",
              "<svg xmlns=\"http://www.w3.org/2000/svg\" height=\"24px\"viewBox=\"0 0 24 24\"\n",
              "     width=\"24px\">\n",
              "    <g>\n",
              "        <path d=\"M19 3H5c-1.1 0-2 .9-2 2v14c0 1.1.9 2 2 2h14c1.1 0 2-.9 2-2V5c0-1.1-.9-2-2-2zM9 17H7v-7h2v7zm4 0h-2V7h2v10zm4 0h-2v-4h2v4z\"/>\n",
              "    </g>\n",
              "</svg>\n",
              "  </button>\n",
              "\n",
              "<style>\n",
              "  .colab-df-quickchart {\n",
              "      --bg-color: #E8F0FE;\n",
              "      --fill-color: #1967D2;\n",
              "      --hover-bg-color: #E2EBFA;\n",
              "      --hover-fill-color: #174EA6;\n",
              "      --disabled-fill-color: #AAA;\n",
              "      --disabled-bg-color: #DDD;\n",
              "  }\n",
              "\n",
              "  [theme=dark] .colab-df-quickchart {\n",
              "      --bg-color: #3B4455;\n",
              "      --fill-color: #D2E3FC;\n",
              "      --hover-bg-color: #434B5C;\n",
              "      --hover-fill-color: #FFFFFF;\n",
              "      --disabled-bg-color: #3B4455;\n",
              "      --disabled-fill-color: #666;\n",
              "  }\n",
              "\n",
              "  .colab-df-quickchart {\n",
              "    background-color: var(--bg-color);\n",
              "    border: none;\n",
              "    border-radius: 50%;\n",
              "    cursor: pointer;\n",
              "    display: none;\n",
              "    fill: var(--fill-color);\n",
              "    height: 32px;\n",
              "    padding: 0;\n",
              "    width: 32px;\n",
              "  }\n",
              "\n",
              "  .colab-df-quickchart:hover {\n",
              "    background-color: var(--hover-bg-color);\n",
              "    box-shadow: 0 1px 2px rgba(60, 64, 67, 0.3), 0 1px 3px 1px rgba(60, 64, 67, 0.15);\n",
              "    fill: var(--button-hover-fill-color);\n",
              "  }\n",
              "\n",
              "  .colab-df-quickchart-complete:disabled,\n",
              "  .colab-df-quickchart-complete:disabled:hover {\n",
              "    background-color: var(--disabled-bg-color);\n",
              "    fill: var(--disabled-fill-color);\n",
              "    box-shadow: none;\n",
              "  }\n",
              "\n",
              "  .colab-df-spinner {\n",
              "    border: 2px solid var(--fill-color);\n",
              "    border-color: transparent;\n",
              "    border-bottom-color: var(--fill-color);\n",
              "    animation:\n",
              "      spin 1s steps(1) infinite;\n",
              "  }\n",
              "\n",
              "  @keyframes spin {\n",
              "    0% {\n",
              "      border-color: transparent;\n",
              "      border-bottom-color: var(--fill-color);\n",
              "      border-left-color: var(--fill-color);\n",
              "    }\n",
              "    20% {\n",
              "      border-color: transparent;\n",
              "      border-left-color: var(--fill-color);\n",
              "      border-top-color: var(--fill-color);\n",
              "    }\n",
              "    30% {\n",
              "      border-color: transparent;\n",
              "      border-left-color: var(--fill-color);\n",
              "      border-top-color: var(--fill-color);\n",
              "      border-right-color: var(--fill-color);\n",
              "    }\n",
              "    40% {\n",
              "      border-color: transparent;\n",
              "      border-right-color: var(--fill-color);\n",
              "      border-top-color: var(--fill-color);\n",
              "    }\n",
              "    60% {\n",
              "      border-color: transparent;\n",
              "      border-right-color: var(--fill-color);\n",
              "    }\n",
              "    80% {\n",
              "      border-color: transparent;\n",
              "      border-right-color: var(--fill-color);\n",
              "      border-bottom-color: var(--fill-color);\n",
              "    }\n",
              "    90% {\n",
              "      border-color: transparent;\n",
              "      border-bottom-color: var(--fill-color);\n",
              "    }\n",
              "  }\n",
              "</style>\n",
              "\n",
              "  <script>\n",
              "    async function quickchart(key) {\n",
              "      const quickchartButtonEl =\n",
              "        document.querySelector('#' + key + ' button');\n",
              "      quickchartButtonEl.disabled = true;  // To prevent multiple clicks.\n",
              "      quickchartButtonEl.classList.add('colab-df-spinner');\n",
              "      try {\n",
              "        const charts = await google.colab.kernel.invokeFunction(\n",
              "            'suggestCharts', [key], {});\n",
              "      } catch (error) {\n",
              "        console.error('Error during call to suggestCharts:', error);\n",
              "      }\n",
              "      quickchartButtonEl.classList.remove('colab-df-spinner');\n",
              "      quickchartButtonEl.classList.add('colab-df-quickchart-complete');\n",
              "    }\n",
              "    (() => {\n",
              "      let quickchartButtonEl =\n",
              "        document.querySelector('#df-25444e45-1d13-405b-8ea9-46c8a8afa920 button');\n",
              "      quickchartButtonEl.style.display =\n",
              "        google.colab.kernel.accessAllowed ? 'block' : 'none';\n",
              "    })();\n",
              "  </script>\n",
              "</div>\n",
              "\n",
              "  <div id=\"id_4b66885c-5b42-4723-9c7d-d35cb56e00fa\">\n",
              "    <style>\n",
              "      .colab-df-generate {\n",
              "        background-color: #E8F0FE;\n",
              "        border: none;\n",
              "        border-radius: 50%;\n",
              "        cursor: pointer;\n",
              "        display: none;\n",
              "        fill: #1967D2;\n",
              "        height: 32px;\n",
              "        padding: 0 0 0 0;\n",
              "        width: 32px;\n",
              "      }\n",
              "\n",
              "      .colab-df-generate:hover {\n",
              "        background-color: #E2EBFA;\n",
              "        box-shadow: 0px 1px 2px rgba(60, 64, 67, 0.3), 0px 1px 3px 1px rgba(60, 64, 67, 0.15);\n",
              "        fill: #174EA6;\n",
              "      }\n",
              "\n",
              "      [theme=dark] .colab-df-generate {\n",
              "        background-color: #3B4455;\n",
              "        fill: #D2E3FC;\n",
              "      }\n",
              "\n",
              "      [theme=dark] .colab-df-generate:hover {\n",
              "        background-color: #434B5C;\n",
              "        box-shadow: 0px 1px 3px 1px rgba(0, 0, 0, 0.15);\n",
              "        filter: drop-shadow(0px 1px 2px rgba(0, 0, 0, 0.3));\n",
              "        fill: #FFFFFF;\n",
              "      }\n",
              "    </style>\n",
              "    <button class=\"colab-df-generate\" onclick=\"generateWithVariable('dist_freq_qualitativas_amplitude_fixa')\"\n",
              "            title=\"Generate code using this dataframe.\"\n",
              "            style=\"display:none;\">\n",
              "\n",
              "  <svg xmlns=\"http://www.w3.org/2000/svg\" height=\"24px\"viewBox=\"0 0 24 24\"\n",
              "       width=\"24px\">\n",
              "    <path d=\"M7,19H8.4L18.45,9,17,7.55,7,17.6ZM5,21V16.75L18.45,3.32a2,2,0,0,1,2.83,0l1.4,1.43a1.91,1.91,0,0,1,.58,1.4,1.91,1.91,0,0,1-.58,1.4L9.25,21ZM18.45,9,17,7.55Zm-12,3A5.31,5.31,0,0,0,4.9,8.1,5.31,5.31,0,0,0,1,6.5,5.31,5.31,0,0,0,4.9,4.9,5.31,5.31,0,0,0,6.5,1,5.31,5.31,0,0,0,8.1,4.9,5.31,5.31,0,0,0,12,6.5,5.46,5.46,0,0,0,6.5,12Z\"/>\n",
              "  </svg>\n",
              "    </button>\n",
              "    <script>\n",
              "      (() => {\n",
              "      const buttonEl =\n",
              "        document.querySelector('#id_4b66885c-5b42-4723-9c7d-d35cb56e00fa button.colab-df-generate');\n",
              "      buttonEl.style.display =\n",
              "        google.colab.kernel.accessAllowed ? 'block' : 'none';\n",
              "\n",
              "      buttonEl.onclick = () => {\n",
              "        google.colab.notebook.generateWithVariable('dist_freq_qualitativas_amplitude_fixa');\n",
              "      }\n",
              "      })();\n",
              "    </script>\n",
              "  </div>\n",
              "\n",
              "    </div>\n",
              "  </div>\n"
            ],
            "application/vnd.google.colaboratory.intrinsic+json": {
              "type": "dataframe",
              "variable_name": "dist_freq_qualitativas_amplitude_fixa",
              "summary": "{\n  \"name\": \"dist_freq_qualitativas_amplitude_fixa\",\n  \"rows\": 17,\n  \"fields\": [\n    {\n      \"column\": \"Frequ\\u00eancia\",\n      \"properties\": {\n        \"dtype\": \"number\",\n        \"std\": 18317,\n        \"min\": 0,\n        \"max\": 75594,\n        \"samples\": [\n          5,\n          75594,\n          0\n        ],\n        \"num_unique_values\": 11,\n        \"semantic_type\": \"\",\n        \"description\": \"\"\n      }\n    },\n    {\n      \"column\": \"Percentual (%)\",\n      \"properties\": {\n        \"dtype\": \"number\",\n        \"std\": 0.2383786699091055,\n        \"min\": 0.0,\n        \"max\": 0.9837844872462259,\n        \"samples\": [\n          6.50702758979698e-05,\n          0.9837844872462259,\n          0.0\n        ],\n        \"num_unique_values\": 11,\n        \"semantic_type\": \"\",\n        \"description\": \"\"\n      }\n    }\n  ]\n}"
            }
          },
          "metadata": {},
          "execution_count": 37
        }
      ]
    },
    {
      "cell_type": "markdown",
      "metadata": {
        "id": "Js9iLwNkjQME"
      },
      "source": [
        "## <font color=green>2.4 Histograma</font>\n",
        "***\n",
        "\n",
        "O <b>HISTOGRAMA</b> é a representação gráfica de uma distribuição de frequências. É uma gráfico formado por um conjunto de retângulos colocados lado a lado, onde a área de cada retângulo é proporcional à frequência da classe que ele representa."
      ]
    },
    {
      "cell_type": "markdown",
      "metadata": {
        "id": "VzZEXDKX3PUH"
      },
      "source": [
        "### Importando a biblioteca\n",
        "\n",
        "https://seaborn.pydata.org/"
      ]
    },
    {
      "cell_type": "code",
      "execution_count": 38,
      "metadata": {
        "id": "PYRaBCnxjQME"
      },
      "outputs": [],
      "source": [
        "import seaborn as sns\n",
        "import matplotlib.pyplot as plt"
      ]
    },
    {
      "cell_type": "code",
      "execution_count": 39,
      "metadata": {
        "id": "GAX3aCa6jQMG",
        "colab": {
          "base_uri": "https://localhost:8080/",
          "height": 795
        },
        "outputId": "7110c476-a95a-4c2c-d08e-d3915edad064"
      },
      "outputs": [
        {
          "output_type": "stream",
          "name": "stderr",
          "text": [
            "<ipython-input-39-454038a543b4>:1: UserWarning: \n",
            "\n",
            "`distplot` is a deprecated function and will be removed in seaborn v0.14.0.\n",
            "\n",
            "Please adapt your code to use either `displot` (a figure-level function with\n",
            "similar flexibility) or `histplot` (an axes-level function for histograms).\n",
            "\n",
            "For a guide to updating your code to use the new functions, please see\n",
            "https://gist.github.com/mwaskom/de44147ed2974457ad6372750bbe5751\n",
            "\n",
            "  ax = sns.distplot(dataset['Altura'], kde=False) # aplicando a criação do histograma\n"
          ]
        },
        {
          "output_type": "execute_result",
          "data": {
            "text/plain": [
              "Text(0.5, 0, 'Metros')"
            ]
          },
          "metadata": {},
          "execution_count": 39
        },
        {
          "output_type": "display_data",
          "data": {
            "text/plain": [
              "<Figure size 1200x600 with 1 Axes>"
            ],
            "image/png": "[encoded data removed]"
          },
          "metadata": {}
        }
      ],
      "source": [
        "ax = sns.distplot(dataset['Altura'], kde=False) # aplicando a criação do histograma\n",
        "ax.figure.set_size_inches(12, 6) # setando as dimensões da figura\n",
        "ax.set_title('Distribuição de frequências - Altura', fontsize=18) # setando título e tamanho da fonte\n",
        "ax.set_xlabel('Metros', fontsize=14) # setando título do eixo x e tamanho da fonte"
      ]
    },
    {
      "cell_type": "code",
      "source": [
        "ax = sns.distplot(dataset['Altura'], kde=True) # aplicando a criação do histograma\n",
        "ax.figure.set_size_inches(12, 6) # setando as dimensões da figura\n",
        "ax.set_title('Distribuição de frequências - Altura', fontsize=18) # setando título e tamanho da fonte\n",
        "ax.set_xlabel('Metros', fontsize=14) # setando título do eixo x e tamanho da fonte"
      ],
      "metadata": {
        "id": "-bndf6OFTL-K",
        "colab": {
          "base_uri": "https://localhost:8080/",
          "height": 795
        },
        "outputId": "4b90adfd-c331-4260-9489-63398941ffbd"
      },
      "execution_count": 40,
      "outputs": [
        {
          "output_type": "stream",
          "name": "stderr",
          "text": [
            "<ipython-input-40-25dee197d603>:1: UserWarning: \n",
            "\n",
            "`distplot` is a deprecated function and will be removed in seaborn v0.14.0.\n",
            "\n",
            "Please adapt your code to use either `displot` (a figure-level function with\n",
            "similar flexibility) or `histplot` (an axes-level function for histograms).\n",
            "\n",
            "For a guide to updating your code to use the new functions, please see\n",
            "https://gist.github.com/mwaskom/de44147ed2974457ad6372750bbe5751\n",
            "\n",
            "  ax = sns.distplot(dataset['Altura'], kde=True) # aplicando a criação do histograma\n"
          ]
        },
        {
          "output_type": "execute_result",
          "data": {
            "text/plain": [
              "Text(0.5, 0, 'Metros')"
            ]
          },
          "metadata": {},
          "execution_count": 40
        },
        {
          "output_type": "display_data",
          "data": {
            "text/plain": [
              "<Figure size 1200x600 with 1 Axes>"
            ],
            "image/png": "[encoded data removed]"
          },
          "metadata": {}
        }
      ]
    },
    {
      "cell_type": "code",
      "execution_count": 41,
      "metadata": {
        "id": "wiQPnuMojQMJ",
        "colab": {
          "base_uri": "https://localhost:8080/",
          "height": 540
        },
        "outputId": "3d2a7d42-026e-4793-da4b-0a87cee39840"
      },
      "outputs": [
        {
          "output_type": "execute_result",
          "data": {
            "text/plain": [
              "<Axes: >"
            ]
          },
          "metadata": {},
          "execution_count": 41
        },
        {
          "output_type": "display_data",
          "data": {
            "text/plain": [
              "<Figure size 1200x600 with 1 Axes>"
            ],
            "image/png": "[encoded data removed]"
          },
          "metadata": {}
        }
      ],
      "source": [
        "dataset['Altura'].hist(bins = 50, figsize=(12, 6)) # usando pandas"
      ]
    },
    {
      "cell_type": "code",
      "execution_count": 42,
      "metadata": {
        "id": "3fySBW7qjQMK",
        "colab": {
          "base_uri": "https://localhost:8080/",
          "height": 206
        },
        "outputId": "56b65e7d-1c5c-4c56-9d55-9ec8a7e80874"
      },
      "outputs": [
        {
          "output_type": "execute_result",
          "data": {
            "text/plain": [
              "   Frequência  Percentual (%)\n",
              "E       49755        0.647514\n",
              "D       16700        0.217335\n",
              "C        7599        0.098894\n",
              "B        2178        0.028345\n",
              "A         608        0.007913"
            ],
            "text/html": [
              "\n",
              "  <div id=\"df-1ccce890-7b36-4ea6-9428-0c3ef752bded\" class=\"colab-df-container\">\n",
              "    <div>\n",
              "<style scoped>\n",
              "    .dataframe tbody tr th:only-of-type {\n",
              "        vertical-align: middle;\n",
              "    }\n",
              "\n",
              "    .dataframe tbody tr th {\n",
              "        vertical-align: top;\n",
              "    }\n",
              "\n",
              "    .dataframe thead th {\n",
              "        text-align: right;\n",
              "    }\n",
              "</style>\n",
              "<table border=\"1\" class=\"dataframe\">\n",
              "  <thead>\n",
              "    <tr style=\"text-align: right;\">\n",
              "      <th></th>\n",
              "      <th>Frequência</th>\n",
              "      <th>Percentual (%)</th>\n",
              "    </tr>\n",
              "  </thead>\n",
              "  <tbody>\n",
              "    <tr>\n",
              "      <th>E</th>\n",
              "      <td>49755</td>\n",
              "      <td>0.647514</td>\n",
              "    </tr>\n",
              "    <tr>\n",
              "      <th>D</th>\n",
              "      <td>16700</td>\n",
              "      <td>0.217335</td>\n",
              "    </tr>\n",
              "    <tr>\n",
              "      <th>C</th>\n",
              "      <td>7599</td>\n",
              "      <td>0.098894</td>\n",
              "    </tr>\n",
              "    <tr>\n",
              "      <th>B</th>\n",
              "      <td>2178</td>\n",
              "      <td>0.028345</td>\n",
              "    </tr>\n",
              "    <tr>\n",
              "      <th>A</th>\n",
              "      <td>608</td>\n",
              "      <td>0.007913</td>\n",
              "    </tr>\n",
              "  </tbody>\n",
              "</table>\n",
              "</div>\n",
              "    <div class=\"colab-df-buttons\">\n",
              "\n",
              "  <div class=\"colab-df-container\">\n",
              "    <button class=\"colab-df-convert\" onclick=\"convertToInteractive('df-1ccce890-7b36-4ea6-9428-0c3ef752bded')\"\n",
              "            title=\"Convert this dataframe to an interactive table.\"\n",
              "            style=\"display:none;\">\n",
              "\n",
              "  <svg xmlns=\"http://www.w3.org/2000/svg\" height=\"24px\" viewBox=\"0 -960 960 960\">\n",
              "    <path d=\"M120-120v-720h720v720H120Zm60-500h600v-160H180v160Zm220 220h160v-160H400v160Zm0 220h160v-160H400v160ZM180-400h160v-160H180v160Zm440 0h160v-160H620v160ZM180-180h160v-160H180v160Zm440 0h160v-160H620v160Z\"/>\n",
              "  </svg>\n",
              "    </button>\n",
              "\n",
              "  <style>\n",
              "    .colab-df-container {\n",
              "      display:flex;\n",
              "      gap: 12px;\n",
              "    }\n",
              "\n",
              "    .colab-df-convert {\n",
              "      background-color: #E8F0FE;\n",
              "      border: none;\n",
              "      border-radius: 50%;\n",
              "      cursor: pointer;\n",
              "      display: none;\n",
              "      fill: #1967D2;\n",
              "      height: 32px;\n",
              "      padding: 0 0 0 0;\n",
              "      width: 32px;\n",
              "    }\n",
              "\n",
              "    .colab-df-convert:hover {\n",
              "      background-color: #E2EBFA;\n",
              "      box-shadow: 0px 1px 2px rgba(60, 64, 67, 0.3), 0px 1px 3px 1px rgba(60, 64, 67, 0.15);\n",
              "      fill: #174EA6;\n",
              "    }\n",
              "\n",
              "    .colab-df-buttons div {\n",
              "      margin-bottom: 4px;\n",
              "    }\n",
              "\n",
              "    [theme=dark] .colab-df-convert {\n",
              "      background-color: #3B4455;\n",
              "      fill: #D2E3FC;\n",
              "    }\n",
              "\n",
              "    [theme=dark] .colab-df-convert:hover {\n",
              "      background-color: #434B5C;\n",
              "      box-shadow: 0px 1px 3px 1px rgba(0, 0, 0, 0.15);\n",
              "      filter: drop-shadow(0px 1px 2px rgba(0, 0, 0, 0.3));\n",
              "      fill: #FFFFFF;\n",
              "    }\n",
              "  </style>\n",
              "\n",
              "    <script>\n",
              "      const buttonEl =\n",
              "        document.querySelector('#df-1ccce890-7b36-4ea6-9428-0c3ef752bded button.colab-df-convert');\n",
              "      buttonEl.style.display =\n",
              "        google.colab.kernel.accessAllowed ? 'block' : 'none';\n",
              "\n",
              "      async function convertToInteractive(key) {\n",
              "        const element = document.querySelector('#df-1ccce890-7b36-4ea6-9428-0c3ef752bded');\n",
              "        const dataTable =\n",
              "          await google.colab.kernel.invokeFunction('convertToInteractive',\n",
              "                                                    [key], {});\n",
              "        if (!dataTable) return;\n",
              "\n",
              "        const docLinkHtml = 'Like what you see? Visit the ' +\n",
              "          '<a target=\"_blank\" href=https://colab.research.google.com/notebooks/data_table.ipynb>data table notebook</a>'\n",
              "          + ' to learn more about interactive tables.';\n",
              "        element.innerHTML = '';\n",
              "        dataTable['output_type'] = 'display_data';\n",
              "        await google.colab.output.renderOutput(dataTable, element);\n",
              "        const docLink = document.createElement('div');\n",
              "        docLink.innerHTML = docLinkHtml;\n",
              "        element.appendChild(docLink);\n",
              "      }\n",
              "    </script>\n",
              "  </div>\n",
              "\n",
              "\n",
              "<div id=\"df-5b205188-00e0-4380-b263-7940f96bfcc6\">\n",
              "  <button class=\"colab-df-quickchart\" onclick=\"quickchart('df-5b205188-00e0-4380-b263-7940f96bfcc6')\"\n",
              "            title=\"Suggest charts\"\n",
              "            style=\"display:none;\">\n",
              "\n",
              "<svg xmlns=\"http://www.w3.org/2000/svg\" height=\"24px\"viewBox=\"0 0 24 24\"\n",
              "     width=\"24px\">\n",
              "    <g>\n",
              "        <path d=\"M19 3H5c-1.1 0-2 .9-2 2v14c0 1.1.9 2 2 2h14c1.1 0 2-.9 2-2V5c0-1.1-.9-2-2-2zM9 17H7v-7h2v7zm4 0h-2V7h2v10zm4 0h-2v-4h2v4z\"/>\n",
              "    </g>\n",
              "</svg>\n",
              "  </button>\n",
              "\n",
              "<style>\n",
              "  .colab-df-quickchart {\n",
              "      --bg-color: #E8F0FE;\n",
              "      --fill-color: #1967D2;\n",
              "      --hover-bg-color: #E2EBFA;\n",
              "      --hover-fill-color: #174EA6;\n",
              "      --disabled-fill-color: #AAA;\n",
              "      --disabled-bg-color: #DDD;\n",
              "  }\n",
              "\n",
              "  [theme=dark] .colab-df-quickchart {\n",
              "      --bg-color: #3B4455;\n",
              "      --fill-color: #D2E3FC;\n",
              "      --hover-bg-color: #434B5C;\n",
              "      --hover-fill-color: #FFFFFF;\n",
              "      --disabled-bg-color: #3B4455;\n",
              "      --disabled-fill-color: #666;\n",
              "  }\n",
              "\n",
              "  .colab-df-quickchart {\n",
              "    background-color: var(--bg-color);\n",
              "    border: none;\n",
              "    border-radius: 50%;\n",
              "    cursor: pointer;\n",
              "    display: none;\n",
              "    fill: var(--fill-color);\n",
              "    height: 32px;\n",
              "    padding: 0;\n",
              "    width: 32px;\n",
              "  }\n",
              "\n",
              "  .colab-df-quickchart:hover {\n",
              "    background-color: var(--hover-bg-color);\n",
              "    box-shadow: 0 1px 2px rgba(60, 64, 67, 0.3), 0 1px 3px 1px rgba(60, 64, 67, 0.15);\n",
              "    fill: var(--button-hover-fill-color);\n",
              "  }\n",
              "\n",
              "  .colab-df-quickchart-complete:disabled,\n",
              "  .colab-df-quickchart-complete:disabled:hover {\n",
              "    background-color: var(--disabled-bg-color);\n",
              "    fill: var(--disabled-fill-color);\n",
              "    box-shadow: none;\n",
              "  }\n",
              "\n",
              "  .colab-df-spinner {\n",
              "    border: 2px solid var(--fill-color);\n",
              "    border-color: transparent;\n",
              "    border-bottom-color: var(--fill-color);\n",
              "    animation:\n",
              "      spin 1s steps(1) infinite;\n",
              "  }\n",
              "\n",
              "  @keyframes spin {\n",
              "    0% {\n",
              "      border-color: transparent;\n",
              "      border-bottom-color: var(--fill-color);\n",
              "      border-left-color: var(--fill-color);\n",
              "    }\n",
              "    20% {\n",
              "      border-color: transparent;\n",
              "      border-left-color: var(--fill-color);\n",
              "      border-top-color: var(--fill-color);\n",
              "    }\n",
              "    30% {\n",
              "      border-color: transparent;\n",
              "      border-left-color: var(--fill-color);\n",
              "      border-top-color: var(--fill-color);\n",
              "      border-right-color: var(--fill-color);\n",
              "    }\n",
              "    40% {\n",
              "      border-color: transparent;\n",
              "      border-right-color: var(--fill-color);\n",
              "      border-top-color: var(--fill-color);\n",
              "    }\n",
              "    60% {\n",
              "      border-color: transparent;\n",
              "      border-right-color: var(--fill-color);\n",
              "    }\n",
              "    80% {\n",
              "      border-color: transparent;\n",
              "      border-right-color: var(--fill-color);\n",
              "      border-bottom-color: var(--fill-color);\n",
              "    }\n",
              "    90% {\n",
              "      border-color: transparent;\n",
              "      border-bottom-color: var(--fill-color);\n",
              "    }\n",
              "  }\n",
              "</style>\n",
              "\n",
              "  <script>\n",
              "    async function quickchart(key) {\n",
              "      const quickchartButtonEl =\n",
              "        document.querySelector('#' + key + ' button');\n",
              "      quickchartButtonEl.disabled = true;  // To prevent multiple clicks.\n",
              "      quickchartButtonEl.classList.add('colab-df-spinner');\n",
              "      try {\n",
              "        const charts = await google.colab.kernel.invokeFunction(\n",
              "            'suggestCharts', [key], {});\n",
              "      } catch (error) {\n",
              "        console.error('Error during call to suggestCharts:', error);\n",
              "      }\n",
              "      quickchartButtonEl.classList.remove('colab-df-spinner');\n",
              "      quickchartButtonEl.classList.add('colab-df-quickchart-complete');\n",
              "    }\n",
              "    (() => {\n",
              "      let quickchartButtonEl =\n",
              "        document.querySelector('#df-5b205188-00e0-4380-b263-7940f96bfcc6 button');\n",
              "      quickchartButtonEl.style.display =\n",
              "        google.colab.kernel.accessAllowed ? 'block' : 'none';\n",
              "    })();\n",
              "  </script>\n",
              "</div>\n",
              "\n",
              "  <div id=\"id_81c65ee8-6c87-4698-b943-27da315aa799\">\n",
              "    <style>\n",
              "      .colab-df-generate {\n",
              "        background-color: #E8F0FE;\n",
              "        border: none;\n",
              "        border-radius: 50%;\n",
              "        cursor: pointer;\n",
              "        display: none;\n",
              "        fill: #1967D2;\n",
              "        height: 32px;\n",
              "        padding: 0 0 0 0;\n",
              "        width: 32px;\n",
              "      }\n",
              "\n",
              "      .colab-df-generate:hover {\n",
              "        background-color: #E2EBFA;\n",
              "        box-shadow: 0px 1px 2px rgba(60, 64, 67, 0.3), 0px 1px 3px 1px rgba(60, 64, 67, 0.15);\n",
              "        fill: #174EA6;\n",
              "      }\n",
              "\n",
              "      [theme=dark] .colab-df-generate {\n",
              "        background-color: #3B4455;\n",
              "        fill: #D2E3FC;\n",
              "      }\n",
              "\n",
              "      [theme=dark] .colab-df-generate:hover {\n",
              "        background-color: #434B5C;\n",
              "        box-shadow: 0px 1px 3px 1px rgba(0, 0, 0, 0.15);\n",
              "        filter: drop-shadow(0px 1px 2px rgba(0, 0, 0, 0.3));\n",
              "        fill: #FFFFFF;\n",
              "      }\n",
              "    </style>\n",
              "    <button class=\"colab-df-generate\" onclick=\"generateWithVariable('dist_freq_qualitativas_personalizada')\"\n",
              "            title=\"Generate code using this dataframe.\"\n",
              "            style=\"display:none;\">\n",
              "\n",
              "  <svg xmlns=\"http://www.w3.org/2000/svg\" height=\"24px\"viewBox=\"0 0 24 24\"\n",
              "       width=\"24px\">\n",
              "    <path d=\"M7,19H8.4L18.45,9,17,7.55,7,17.6ZM5,21V16.75L18.45,3.32a2,2,0,0,1,2.83,0l1.4,1.43a1.91,1.91,0,0,1,.58,1.4,1.91,1.91,0,0,1-.58,1.4L9.25,21ZM18.45,9,17,7.55Zm-12,3A5.31,5.31,0,0,0,4.9,8.1,5.31,5.31,0,0,0,1,6.5,5.31,5.31,0,0,0,4.9,4.9,5.31,5.31,0,0,0,6.5,1,5.31,5.31,0,0,0,8.1,4.9,5.31,5.31,0,0,0,12,6.5,5.46,5.46,0,0,0,6.5,12Z\"/>\n",
              "  </svg>\n",
              "    </button>\n",
              "    <script>\n",
              "      (() => {\n",
              "      const buttonEl =\n",
              "        document.querySelector('#id_81c65ee8-6c87-4698-b943-27da315aa799 button.colab-df-generate');\n",
              "      buttonEl.style.display =\n",
              "        google.colab.kernel.accessAllowed ? 'block' : 'none';\n",
              "\n",
              "      buttonEl.onclick = () => {\n",
              "        google.colab.notebook.generateWithVariable('dist_freq_qualitativas_personalizada');\n",
              "      }\n",
              "      })();\n",
              "    </script>\n",
              "  </div>\n",
              "\n",
              "    </div>\n",
              "  </div>\n"
            ],
            "application/vnd.google.colaboratory.intrinsic+json": {
              "type": "dataframe",
              "variable_name": "dist_freq_qualitativas_personalizada",
              "summary": "{\n  \"name\": \"dist_freq_qualitativas_personalizada\",\n  \"rows\": 5,\n  \"fields\": [\n    {\n      \"column\": \"Frequ\\u00eancia\",\n      \"properties\": {\n        \"dtype\": \"number\",\n        \"std\": 20226,\n        \"min\": 608,\n        \"max\": 49755,\n        \"samples\": [\n          16700,\n          608,\n          7599\n        ],\n        \"num_unique_values\": 5,\n        \"semantic_type\": \"\",\n        \"description\": \"\"\n      }\n    },\n    {\n      \"column\": \"Percentual (%)\",\n      \"properties\": {\n        \"dtype\": \"number\",\n        \"std\": 0.26322764864328313,\n        \"min\": 0.007912545549193128,\n        \"max\": 0.6475143154606976,\n        \"samples\": [\n          0.21733472149921915,\n          0.007912545549193128,\n          0.09889380530973452\n        ],\n        \"num_unique_values\": 5,\n        \"semantic_type\": \"\",\n        \"description\": \"\"\n      }\n    }\n  ]\n}"
            }
          },
          "metadata": {},
          "execution_count": 42
        }
      ],
      "source": [
        "dist_freq_qualitativas_personalizada"
      ]
    },
    {
      "cell_type": "code",
      "execution_count": 43,
      "metadata": {
        "id": "0HcLhLYtjQMM",
        "colab": {
          "base_uri": "https://localhost:8080/",
          "height": 537
        },
        "outputId": "ef692c54-a835-4695-a47e-f77bc6eef3ed"
      },
      "outputs": [
        {
          "output_type": "execute_result",
          "data": {
            "text/plain": [
              "<Axes: >"
            ]
          },
          "metadata": {},
          "execution_count": 43
        },
        {
          "output_type": "display_data",
          "data": {
            "text/plain": [
              "<Figure size 1200x600 with 1 Axes>"
            ],
            "image/png": "[encoded data removed]"
          },
          "metadata": {}
        }
      ],
      "source": [
        "dist_freq_qualitativas_personalizada['Frequência'].plot.bar(width=1, alpha=0.2, figsize=(12,6), color='red')"
      ]
    },
    {
      "cell_type": "markdown",
      "metadata": {
        "id": "uIb17Es3jQMP"
      },
      "source": [
        "# <font color=green>3 MEDIDAS DE TENDÊNCIA CENTRAL</font>\n",
        "***"
      ]
    },
    {
      "cell_type": "markdown",
      "metadata": {
        "id": "Wrya4suEX7H-"
      },
      "source": [
        "## DataFrame de exemplo"
      ]
    },
    {
      "cell_type": "code",
      "execution_count": 44,
      "metadata": {
        "id": "jj7a21flX7H_",
        "colab": {
          "base_uri": "https://localhost:8080/",
          "height": 269
        },
        "outputId": "e4071d7c-0135-4aa5-aa44-52eea0caf23a"
      },
      "outputs": [
        {
          "output_type": "execute_result",
          "data": {
            "text/plain": [
              "Matérias    Fulano  Beltrano  Sicrano\n",
              "Matemática       8      10.0      7.5\n",
              "Português       10       2.0      8.0\n",
              "Inglês           4       0.5      7.0\n",
              "Geografia        8       1.0      8.0\n",
              "História         6       3.0      8.0\n",
              "Física          10       9.5      8.5\n",
              "Química          8      10.0      7.0"
            ],
            "text/html": [
              "\n",
              "  <div id=\"df-1f2f397c-eb55-4511-a5c7-6127ad71f314\" class=\"colab-df-container\">\n",
              "    <div>\n",
              "<style scoped>\n",
              "    .dataframe tbody tr th:only-of-type {\n",
              "        vertical-align: middle;\n",
              "    }\n",
              "\n",
              "    .dataframe tbody tr th {\n",
              "        vertical-align: top;\n",
              "    }\n",
              "\n",
              "    .dataframe thead th {\n",
              "        text-align: right;\n",
              "    }\n",
              "</style>\n",
              "<table border=\"1\" class=\"dataframe\">\n",
              "  <thead>\n",
              "    <tr style=\"text-align: right;\">\n",
              "      <th>Matérias</th>\n",
              "      <th>Fulano</th>\n",
              "      <th>Beltrano</th>\n",
              "      <th>Sicrano</th>\n",
              "    </tr>\n",
              "  </thead>\n",
              "  <tbody>\n",
              "    <tr>\n",
              "      <th>Matemática</th>\n",
              "      <td>8</td>\n",
              "      <td>10.0</td>\n",
              "      <td>7.5</td>\n",
              "    </tr>\n",
              "    <tr>\n",
              "      <th>Português</th>\n",
              "      <td>10</td>\n",
              "      <td>2.0</td>\n",
              "      <td>8.0</td>\n",
              "    </tr>\n",
              "    <tr>\n",
              "      <th>Inglês</th>\n",
              "      <td>4</td>\n",
              "      <td>0.5</td>\n",
              "      <td>7.0</td>\n",
              "    </tr>\n",
              "    <tr>\n",
              "      <th>Geografia</th>\n",
              "      <td>8</td>\n",
              "      <td>1.0</td>\n",
              "      <td>8.0</td>\n",
              "    </tr>\n",
              "    <tr>\n",
              "      <th>História</th>\n",
              "      <td>6</td>\n",
              "      <td>3.0</td>\n",
              "      <td>8.0</td>\n",
              "    </tr>\n",
              "    <tr>\n",
              "      <th>Física</th>\n",
              "      <td>10</td>\n",
              "      <td>9.5</td>\n",
              "      <td>8.5</td>\n",
              "    </tr>\n",
              "    <tr>\n",
              "      <th>Química</th>\n",
              "      <td>8</td>\n",
              "      <td>10.0</td>\n",
              "      <td>7.0</td>\n",
              "    </tr>\n",
              "  </tbody>\n",
              "</table>\n",
              "</div>\n",
              "    <div class=\"colab-df-buttons\">\n",
              "\n",
              "  <div class=\"colab-df-container\">\n",
              "    <button class=\"colab-df-convert\" onclick=\"convertToInteractive('df-1f2f397c-eb55-4511-a5c7-6127ad71f314')\"\n",
              "            title=\"Convert this dataframe to an interactive table.\"\n",
              "            style=\"display:none;\">\n",
              "\n",
              "  <svg xmlns=\"http://www.w3.org/2000/svg\" height=\"24px\" viewBox=\"0 -960 960 960\">\n",
              "    <path d=\"M120-120v-720h720v720H120Zm60-500h600v-160H180v160Zm220 220h160v-160H400v160Zm0 220h160v-160H400v160ZM180-400h160v-160H180v160Zm440 0h160v-160H620v160ZM180-180h160v-160H180v160Zm440 0h160v-160H620v160Z\"/>\n",
              "  </svg>\n",
              "    </button>\n",
              "\n",
              "  <style>\n",
              "    .colab-df-container {\n",
              "      display:flex;\n",
              "      gap: 12px;\n",
              "    }\n",
              "\n",
              "    .colab-df-convert {\n",
              "      background-color: #E8F0FE;\n",
              "      border: none;\n",
              "      border-radius: 50%;\n",
              "      cursor: pointer;\n",
              "      display: none;\n",
              "      fill: #1967D2;\n",
              "      height: 32px;\n",
              "      padding: 0 0 0 0;\n",
              "      width: 32px;\n",
              "    }\n",
              "\n",
              "    .colab-df-convert:hover {\n",
              "      background-color: #E2EBFA;\n",
              "      box-shadow: 0px 1px 2px rgba(60, 64, 67, 0.3), 0px 1px 3px 1px rgba(60, 64, 67, 0.15);\n",
              "      fill: #174EA6;\n",
              "    }\n",
              "\n",
              "    .colab-df-buttons div {\n",
              "      margin-bottom: 4px;\n",
              "    }\n",
              "\n",
              "    [theme=dark] .colab-df-convert {\n",
              "      background-color: #3B4455;\n",
              "      fill: #D2E3FC;\n",
              "    }\n",
              "\n",
              "    [theme=dark] .colab-df-convert:hover {\n",
              "      background-color: #434B5C;\n",
              "      box-shadow: 0px 1px 3px 1px rgba(0, 0, 0, 0.15);\n",
              "      filter: drop-shadow(0px 1px 2px rgba(0, 0, 0, 0.3));\n",
              "      fill: #FFFFFF;\n",
              "    }\n",
              "  </style>\n",
              "\n",
              "    <script>\n",
              "      const buttonEl =\n",
              "        document.querySelector('#df-1f2f397c-eb55-4511-a5c7-6127ad71f314 button.colab-df-convert');\n",
              "      buttonEl.style.display =\n",
              "        google.colab.kernel.accessAllowed ? 'block' : 'none';\n",
              "\n",
              "      async function convertToInteractive(key) {\n",
              "        const element = document.querySelector('#df-1f2f397c-eb55-4511-a5c7-6127ad71f314');\n",
              "        const dataTable =\n",
              "          await google.colab.kernel.invokeFunction('convertToInteractive',\n",
              "                                                    [key], {});\n",
              "        if (!dataTable) return;\n",
              "\n",
              "        const docLinkHtml = 'Like what you see? Visit the ' +\n",
              "          '<a target=\"_blank\" href=https://colab.research.google.com/notebooks/data_table.ipynb>data table notebook</a>'\n",
              "          + ' to learn more about interactive tables.';\n",
              "        element.innerHTML = '';\n",
              "        dataTable['output_type'] = 'display_data';\n",
              "        await google.colab.output.renderOutput(dataTable, element);\n",
              "        const docLink = document.createElement('div');\n",
              "        docLink.innerHTML = docLinkHtml;\n",
              "        element.appendChild(docLink);\n",
              "      }\n",
              "    </script>\n",
              "  </div>\n",
              "\n",
              "\n",
              "<div id=\"df-c2de5a67-4caa-4680-b82f-c740e8ab04c3\">\n",
              "  <button class=\"colab-df-quickchart\" onclick=\"quickchart('df-c2de5a67-4caa-4680-b82f-c740e8ab04c3')\"\n",
              "            title=\"Suggest charts\"\n",
              "            style=\"display:none;\">\n",
              "\n",
              "<svg xmlns=\"http://www.w3.org/2000/svg\" height=\"24px\"viewBox=\"0 0 24 24\"\n",
              "     width=\"24px\">\n",
              "    <g>\n",
              "        <path d=\"M19 3H5c-1.1 0-2 .9-2 2v14c0 1.1.9 2 2 2h14c1.1 0 2-.9 2-2V5c0-1.1-.9-2-2-2zM9 17H7v-7h2v7zm4 0h-2V7h2v10zm4 0h-2v-4h2v4z\"/>\n",
              "    </g>\n",
              "</svg>\n",
              "  </button>\n",
              "\n",
              "<style>\n",
              "  .colab-df-quickchart {\n",
              "      --bg-color: #E8F0FE;\n",
              "      --fill-color: #1967D2;\n",
              "      --hover-bg-color: #E2EBFA;\n",
              "      --hover-fill-color: #174EA6;\n",
              "      --disabled-fill-color: #AAA;\n",
              "      --disabled-bg-color: #DDD;\n",
              "  }\n",
              "\n",
              "  [theme=dark] .colab-df-quickchart {\n",
              "      --bg-color: #3B4455;\n",
              "      --fill-color: #D2E3FC;\n",
              "      --hover-bg-color: #434B5C;\n",
              "      --hover-fill-color: #FFFFFF;\n",
              "      --disabled-bg-color: #3B4455;\n",
              "      --disabled-fill-color: #666;\n",
              "  }\n",
              "\n",
              "  .colab-df-quickchart {\n",
              "    background-color: var(--bg-color);\n",
              "    border: none;\n",
              "    border-radius: 50%;\n",
              "    cursor: pointer;\n",
              "    display: none;\n",
              "    fill: var(--fill-color);\n",
              "    height: 32px;\n",
              "    padding: 0;\n",
              "    width: 32px;\n",
              "  }\n",
              "\n",
              "  .colab-df-quickchart:hover {\n",
              "    background-color: var(--hover-bg-color);\n",
              "    box-shadow: 0 1px 2px rgba(60, 64, 67, 0.3), 0 1px 3px 1px rgba(60, 64, 67, 0.15);\n",
              "    fill: var(--button-hover-fill-color);\n",
              "  }\n",
              "\n",
              "  .colab-df-quickchart-complete:disabled,\n",
              "  .colab-df-quickchart-complete:disabled:hover {\n",
              "    background-color: var(--disabled-bg-color);\n",
              "    fill: var(--disabled-fill-color);\n",
              "    box-shadow: none;\n",
              "  }\n",
              "\n",
              "  .colab-df-spinner {\n",
              "    border: 2px solid var(--fill-color);\n",
              "    border-color: transparent;\n",
              "    border-bottom-color: var(--fill-color);\n",
              "    animation:\n",
              "      spin 1s steps(1) infinite;\n",
              "  }\n",
              "\n",
              "  @keyframes spin {\n",
              "    0% {\n",
              "      border-color: transparent;\n",
              "      border-bottom-color: var(--fill-color);\n",
              "      border-left-color: var(--fill-color);\n",
              "    }\n",
              "    20% {\n",
              "      border-color: transparent;\n",
              "      border-left-color: var(--fill-color);\n",
              "      border-top-color: var(--fill-color);\n",
              "    }\n",
              "    30% {\n",
              "      border-color: transparent;\n",
              "      border-left-color: var(--fill-color);\n",
              "      border-top-color: var(--fill-color);\n",
              "      border-right-color: var(--fill-color);\n",
              "    }\n",
              "    40% {\n",
              "      border-color: transparent;\n",
              "      border-right-color: var(--fill-color);\n",
              "      border-top-color: var(--fill-color);\n",
              "    }\n",
              "    60% {\n",
              "      border-color: transparent;\n",
              "      border-right-color: var(--fill-color);\n",
              "    }\n",
              "    80% {\n",
              "      border-color: transparent;\n",
              "      border-right-color: var(--fill-color);\n",
              "      border-bottom-color: var(--fill-color);\n",
              "    }\n",
              "    90% {\n",
              "      border-color: transparent;\n",
              "      border-bottom-color: var(--fill-color);\n",
              "    }\n",
              "  }\n",
              "</style>\n",
              "\n",
              "  <script>\n",
              "    async function quickchart(key) {\n",
              "      const quickchartButtonEl =\n",
              "        document.querySelector('#' + key + ' button');\n",
              "      quickchartButtonEl.disabled = true;  // To prevent multiple clicks.\n",
              "      quickchartButtonEl.classList.add('colab-df-spinner');\n",
              "      try {\n",
              "        const charts = await google.colab.kernel.invokeFunction(\n",
              "            'suggestCharts', [key], {});\n",
              "      } catch (error) {\n",
              "        console.error('Error during call to suggestCharts:', error);\n",
              "      }\n",
              "      quickchartButtonEl.classList.remove('colab-df-spinner');\n",
              "      quickchartButtonEl.classList.add('colab-df-quickchart-complete');\n",
              "    }\n",
              "    (() => {\n",
              "      let quickchartButtonEl =\n",
              "        document.querySelector('#df-c2de5a67-4caa-4680-b82f-c740e8ab04c3 button');\n",
              "      quickchartButtonEl.style.display =\n",
              "        google.colab.kernel.accessAllowed ? 'block' : 'none';\n",
              "    })();\n",
              "  </script>\n",
              "</div>\n",
              "\n",
              "  <div id=\"id_058ecf4a-2d41-4379-bb96-8b044ecb65f0\">\n",
              "    <style>\n",
              "      .colab-df-generate {\n",
              "        background-color: #E8F0FE;\n",
              "        border: none;\n",
              "        border-radius: 50%;\n",
              "        cursor: pointer;\n",
              "        display: none;\n",
              "        fill: #1967D2;\n",
              "        height: 32px;\n",
              "        padding: 0 0 0 0;\n",
              "        width: 32px;\n",
              "      }\n",
              "\n",
              "      .colab-df-generate:hover {\n",
              "        background-color: #E2EBFA;\n",
              "        box-shadow: 0px 1px 2px rgba(60, 64, 67, 0.3), 0px 1px 3px 1px rgba(60, 64, 67, 0.15);\n",
              "        fill: #174EA6;\n",
              "      }\n",
              "\n",
              "      [theme=dark] .colab-df-generate {\n",
              "        background-color: #3B4455;\n",
              "        fill: #D2E3FC;\n",
              "      }\n",
              "\n",
              "      [theme=dark] .colab-df-generate:hover {\n",
              "        background-color: #434B5C;\n",
              "        box-shadow: 0px 1px 3px 1px rgba(0, 0, 0, 0.15);\n",
              "        filter: drop-shadow(0px 1px 2px rgba(0, 0, 0, 0.3));\n",
              "        fill: #FFFFFF;\n",
              "      }\n",
              "    </style>\n",
              "    <button class=\"colab-df-generate\" onclick=\"generateWithVariable('df')\"\n",
              "            title=\"Generate code using this dataframe.\"\n",
              "            style=\"display:none;\">\n",
              "\n",
              "  <svg xmlns=\"http://www.w3.org/2000/svg\" height=\"24px\"viewBox=\"0 0 24 24\"\n",
              "       width=\"24px\">\n",
              "    <path d=\"M7,19H8.4L18.45,9,17,7.55,7,17.6ZM5,21V16.75L18.45,3.32a2,2,0,0,1,2.83,0l1.4,1.43a1.91,1.91,0,0,1,.58,1.4,1.91,1.91,0,0,1-.58,1.4L9.25,21ZM18.45,9,17,7.55Zm-12,3A5.31,5.31,0,0,0,4.9,8.1,5.31,5.31,0,0,0,1,6.5,5.31,5.31,0,0,0,4.9,4.9,5.31,5.31,0,0,0,6.5,1,5.31,5.31,0,0,0,8.1,4.9,5.31,5.31,0,0,0,12,6.5,5.46,5.46,0,0,0,6.5,12Z\"/>\n",
              "  </svg>\n",
              "    </button>\n",
              "    <script>\n",
              "      (() => {\n",
              "      const buttonEl =\n",
              "        document.querySelector('#id_058ecf4a-2d41-4379-bb96-8b044ecb65f0 button.colab-df-generate');\n",
              "      buttonEl.style.display =\n",
              "        google.colab.kernel.accessAllowed ? 'block' : 'none';\n",
              "\n",
              "      buttonEl.onclick = () => {\n",
              "        google.colab.notebook.generateWithVariable('df');\n",
              "      }\n",
              "      })();\n",
              "    </script>\n",
              "  </div>\n",
              "\n",
              "    </div>\n",
              "  </div>\n"
            ],
            "application/vnd.google.colaboratory.intrinsic+json": {
              "type": "dataframe",
              "variable_name": "df",
              "summary": "{\n  \"name\": \"df\",\n  \"rows\": 7,\n  \"fields\": [\n    {\n      \"column\": \"Fulano\",\n      \"properties\": {\n        \"dtype\": \"number\",\n        \"std\": 2,\n        \"min\": 4,\n        \"max\": 10,\n        \"samples\": [\n          10,\n          6,\n          8\n        ],\n        \"num_unique_values\": 4,\n        \"semantic_type\": \"\",\n        \"description\": \"\"\n      }\n    },\n    {\n      \"column\": \"Beltrano\",\n      \"properties\": {\n        \"dtype\": \"number\",\n        \"std\": 4.46014093307119,\n        \"min\": 0.5,\n        \"max\": 10.0,\n        \"samples\": [\n          10.0,\n          2.0,\n          9.5\n        ],\n        \"num_unique_values\": 6,\n        \"semantic_type\": \"\",\n        \"description\": \"\"\n      }\n    },\n    {\n      \"column\": \"Sicrano\",\n      \"properties\": {\n        \"dtype\": \"number\",\n        \"std\": 0.5669467095138409,\n        \"min\": 7.0,\n        \"max\": 8.5,\n        \"samples\": [\n          8.0,\n          8.5,\n          7.5\n        ],\n        \"num_unique_values\": 4,\n        \"semantic_type\": \"\",\n        \"description\": \"\"\n      }\n    }\n  ]\n}"
            }
          },
          "metadata": {},
          "execution_count": 44
        }
      ],
      "source": [
        "df = pd.DataFrame(data = {'Fulano': [8, 10, 4, 8, 6, 10, 8],\n",
        "                          'Beltrano': [10, 2, 0.5, 1, 3, 9.5, 10],\n",
        "                          'Sicrano': [7.5, 8, 7, 8, 8, 8.5, 7]},\n",
        "                 index = ['Matemática',\n",
        "                          'Português',\n",
        "                          'Inglês',\n",
        "                          'Geografia',\n",
        "                          'História',\n",
        "                          'Física',\n",
        "                          'Química'])\n",
        "df.rename_axis('Matérias', axis = 'columns', inplace = True)\n",
        "df\n"
      ]
    },
    {
      "cell_type": "markdown",
      "metadata": {
        "id": "kcHJFW-YjQMP"
      },
      "source": [
        "## <font color=green>3.1 Média aritmética</font>\n",
        "***\n",
        "\n",
        "É representada por $\\mu$ quando se refere à população e por $\\bar{X}$ quando se refere à amostra\n",
        "\n",
        "# $$\\mu = \\frac 1n\\sum_{i=1}^{n}X_i$$\n",
        "\n",
        "onde\n",
        "\n",
        "$n$ = número de observações (registros)\n",
        "\n",
        "$X_i$ = valor da i-ésima observação (registro)"
      ]
    },
    {
      "cell_type": "code",
      "execution_count": 45,
      "metadata": {
        "id": "QW4JPcBmX7IA",
        "colab": {
          "base_uri": "https://localhost:8080/"
        },
        "outputId": "01b201a6-8589-4fc1-b89a-c263705879db"
      },
      "outputs": [
        {
          "output_type": "execute_result",
          "data": {
            "text/plain": [
              "7.714285714285714"
            ]
          },
          "metadata": {},
          "execution_count": 45
        }
      ],
      "source": [
        "(8 + 10 + 4 + 8 + 6 + 10 + 8) / 7"
      ]
    },
    {
      "cell_type": "code",
      "execution_count": 46,
      "metadata": {
        "id": "LuT8WNy5X7IB",
        "colab": {
          "base_uri": "https://localhost:8080/"
        },
        "outputId": "fab82342-bd79-47e9-a7a9-7f6d55889ff8"
      },
      "outputs": [
        {
          "output_type": "execute_result",
          "data": {
            "text/plain": [
              "7.714285714285714"
            ]
          },
          "metadata": {},
          "execution_count": 46
        }
      ],
      "source": [
        "df['Fulano'].mean()"
      ]
    },
    {
      "cell_type": "code",
      "execution_count": 47,
      "metadata": {
        "id": "BRMZcmMEjQMQ",
        "colab": {
          "base_uri": "https://localhost:8080/"
        },
        "outputId": "89e7b8de-5ff2-4b98-9f2f-38be9c7e3370"
      },
      "outputs": [
        {
          "output_type": "execute_result",
          "data": {
            "text/plain": [
              "2000.3831988547631"
            ]
          },
          "metadata": {},
          "execution_count": 47
        }
      ],
      "source": [
        "dataset['Renda'].mean()"
      ]
    },
    {
      "cell_type": "code",
      "execution_count": 48,
      "metadata": {
        "id": "CGgJbsK0HBQc",
        "colab": {
          "base_uri": "https://localhost:8080/",
          "height": 143
        },
        "outputId": "b1f06e0a-84c3-4aec-f360-02843f7b61c9"
      },
      "outputs": [
        {
          "output_type": "execute_result",
          "data": {
            "text/plain": [
              "            Renda\n",
              "Sexo             \n",
              "0     2192.441596\n",
              "1     1566.847393"
            ],
            "text/html": [
              "\n",
              "  <div id=\"df-d9c9fd6b-fff7-4a77-aee5-0ace440c7c2a\" class=\"colab-df-container\">\n",
              "    <div>\n",
              "<style scoped>\n",
              "    .dataframe tbody tr th:only-of-type {\n",
              "        vertical-align: middle;\n",
              "    }\n",
              "\n",
              "    .dataframe tbody tr th {\n",
              "        vertical-align: top;\n",
              "    }\n",
              "\n",
              "    .dataframe thead th {\n",
              "        text-align: right;\n",
              "    }\n",
              "</style>\n",
              "<table border=\"1\" class=\"dataframe\">\n",
              "  <thead>\n",
              "    <tr style=\"text-align: right;\">\n",
              "      <th></th>\n",
              "      <th>Renda</th>\n",
              "    </tr>\n",
              "    <tr>\n",
              "      <th>Sexo</th>\n",
              "      <th></th>\n",
              "    </tr>\n",
              "  </thead>\n",
              "  <tbody>\n",
              "    <tr>\n",
              "      <th>0</th>\n",
              "      <td>2192.441596</td>\n",
              "    </tr>\n",
              "    <tr>\n",
              "      <th>1</th>\n",
              "      <td>1566.847393</td>\n",
              "    </tr>\n",
              "  </tbody>\n",
              "</table>\n",
              "</div>\n",
              "    <div class=\"colab-df-buttons\">\n",
              "\n",
              "  <div class=\"colab-df-container\">\n",
              "    <button class=\"colab-df-convert\" onclick=\"convertToInteractive('df-d9c9fd6b-fff7-4a77-aee5-0ace440c7c2a')\"\n",
              "            title=\"Convert this dataframe to an interactive table.\"\n",
              "            style=\"display:none;\">\n",
              "\n",
              "  <svg xmlns=\"http://www.w3.org/2000/svg\" height=\"24px\" viewBox=\"0 -960 960 960\">\n",
              "    <path d=\"M120-120v-720h720v720H120Zm60-500h600v-160H180v160Zm220 220h160v-160H400v160Zm0 220h160v-160H400v160ZM180-400h160v-160H180v160Zm440 0h160v-160H620v160ZM180-180h160v-160H180v160Zm440 0h160v-160H620v160Z\"/>\n",
              "  </svg>\n",
              "    </button>\n",
              "\n",
              "  <style>\n",
              "    .colab-df-container {\n",
              "      display:flex;\n",
              "      gap: 12px;\n",
              "    }\n",
              "\n",
              "    .colab-df-convert {\n",
              "      background-color: #E8F0FE;\n",
              "      border: none;\n",
              "      border-radius: 50%;\n",
              "      cursor: pointer;\n",
              "      display: none;\n",
              "      fill: #1967D2;\n",
              "      height: 32px;\n",
              "      padding: 0 0 0 0;\n",
              "      width: 32px;\n",
              "    }\n",
              "\n",
              "    .colab-df-convert:hover {\n",
              "      background-color: #E2EBFA;\n",
              "      box-shadow: 0px 1px 2px rgba(60, 64, 67, 0.3), 0px 1px 3px 1px rgba(60, 64, 67, 0.15);\n",
              "      fill: #174EA6;\n",
              "    }\n",
              "\n",
              "    .colab-df-buttons div {\n",
              "      margin-bottom: 4px;\n",
              "    }\n",
              "\n",
              "    [theme=dark] .colab-df-convert {\n",
              "      background-color: #3B4455;\n",
              "      fill: #D2E3FC;\n",
              "    }\n",
              "\n",
              "    [theme=dark] .colab-df-convert:hover {\n",
              "      background-color: #434B5C;\n",
              "      box-shadow: 0px 1px 3px 1px rgba(0, 0, 0, 0.15);\n",
              "      filter: drop-shadow(0px 1px 2px rgba(0, 0, 0, 0.3));\n",
              "      fill: #FFFFFF;\n",
              "    }\n",
              "  </style>\n",
              "\n",
              "    <script>\n",
              "      const buttonEl =\n",
              "        document.querySelector('#df-d9c9fd6b-fff7-4a77-aee5-0ace440c7c2a button.colab-df-convert');\n",
              "      buttonEl.style.display =\n",
              "        google.colab.kernel.accessAllowed ? 'block' : 'none';\n",
              "\n",
              "      async function convertToInteractive(key) {\n",
              "        const element = document.querySelector('#df-d9c9fd6b-fff7-4a77-aee5-0ace440c7c2a');\n",
              "        const dataTable =\n",
              "          await google.colab.kernel.invokeFunction('convertToInteractive',\n",
              "                                                    [key], {});\n",
              "        if (!dataTable) return;\n",
              "\n",
              "        const docLinkHtml = 'Like what you see? Visit the ' +\n",
              "          '<a target=\"_blank\" href=https://colab.research.google.com/notebooks/data_table.ipynb>data table notebook</a>'\n",
              "          + ' to learn more about interactive tables.';\n",
              "        element.innerHTML = '';\n",
              "        dataTable['output_type'] = 'display_data';\n",
              "        await google.colab.output.renderOutput(dataTable, element);\n",
              "        const docLink = document.createElement('div');\n",
              "        docLink.innerHTML = docLinkHtml;\n",
              "        element.appendChild(docLink);\n",
              "      }\n",
              "    </script>\n",
              "  </div>\n",
              "\n",
              "\n",
              "<div id=\"df-b37b12f6-71df-4c8f-90f3-17a460f35a5f\">\n",
              "  <button class=\"colab-df-quickchart\" onclick=\"quickchart('df-b37b12f6-71df-4c8f-90f3-17a460f35a5f')\"\n",
              "            title=\"Suggest charts\"\n",
              "            style=\"display:none;\">\n",
              "\n",
              "<svg xmlns=\"http://www.w3.org/2000/svg\" height=\"24px\"viewBox=\"0 0 24 24\"\n",
              "     width=\"24px\">\n",
              "    <g>\n",
              "        <path d=\"M19 3H5c-1.1 0-2 .9-2 2v14c0 1.1.9 2 2 2h14c1.1 0 2-.9 2-2V5c0-1.1-.9-2-2-2zM9 17H7v-7h2v7zm4 0h-2V7h2v10zm4 0h-2v-4h2v4z\"/>\n",
              "    </g>\n",
              "</svg>\n",
              "  </button>\n",
              "\n",
              "<style>\n",
              "  .colab-df-quickchart {\n",
              "      --bg-color: #E8F0FE;\n",
              "      --fill-color: #1967D2;\n",
              "      --hover-bg-color: #E2EBFA;\n",
              "      --hover-fill-color: #174EA6;\n",
              "      --disabled-fill-color: #AAA;\n",
              "      --disabled-bg-color: #DDD;\n",
              "  }\n",
              "\n",
              "  [theme=dark] .colab-df-quickchart {\n",
              "      --bg-color: #3B4455;\n",
              "      --fill-color: #D2E3FC;\n",
              "      --hover-bg-color: #434B5C;\n",
              "      --hover-fill-color: #FFFFFF;\n",
              "      --disabled-bg-color: #3B4455;\n",
              "      --disabled-fill-color: #666;\n",
              "  }\n",
              "\n",
              "  .colab-df-quickchart {\n",
              "    background-color: var(--bg-color);\n",
              "    border: none;\n",
              "    border-radius: 50%;\n",
              "    cursor: pointer;\n",
              "    display: none;\n",
              "    fill: var(--fill-color);\n",
              "    height: 32px;\n",
              "    padding: 0;\n",
              "    width: 32px;\n",
              "  }\n",
              "\n",
              "  .colab-df-quickchart:hover {\n",
              "    background-color: var(--hover-bg-color);\n",
              "    box-shadow: 0 1px 2px rgba(60, 64, 67, 0.3), 0 1px 3px 1px rgba(60, 64, 67, 0.15);\n",
              "    fill: var(--button-hover-fill-color);\n",
              "  }\n",
              "\n",
              "  .colab-df-quickchart-complete:disabled,\n",
              "  .colab-df-quickchart-complete:disabled:hover {\n",
              "    background-color: var(--disabled-bg-color);\n",
              "    fill: var(--disabled-fill-color);\n",
              "    box-shadow: none;\n",
              "  }\n",
              "\n",
              "  .colab-df-spinner {\n",
              "    border: 2px solid var(--fill-color);\n",
              "    border-color: transparent;\n",
              "    border-bottom-color: var(--fill-color);\n",
              "    animation:\n",
              "      spin 1s steps(1) infinite;\n",
              "  }\n",
              "\n",
              "  @keyframes spin {\n",
              "    0% {\n",
              "      border-color: transparent;\n",
              "      border-bottom-color: var(--fill-color);\n",
              "      border-left-color: var(--fill-color);\n",
              "    }\n",
              "    20% {\n",
              "      border-color: transparent;\n",
              "      border-left-color: var(--fill-color);\n",
              "      border-top-color: var(--fill-color);\n",
              "    }\n",
              "    30% {\n",
              "      border-color: transparent;\n",
              "      border-left-color: var(--fill-color);\n",
              "      border-top-color: var(--fill-color);\n",
              "      border-right-color: var(--fill-color);\n",
              "    }\n",
              "    40% {\n",
              "      border-color: transparent;\n",
              "      border-right-color: var(--fill-color);\n",
              "      border-top-color: var(--fill-color);\n",
              "    }\n",
              "    60% {\n",
              "      border-color: transparent;\n",
              "      border-right-color: var(--fill-color);\n",
              "    }\n",
              "    80% {\n",
              "      border-color: transparent;\n",
              "      border-right-color: var(--fill-color);\n",
              "      border-bottom-color: var(--fill-color);\n",
              "    }\n",
              "    90% {\n",
              "      border-color: transparent;\n",
              "      border-bottom-color: var(--fill-color);\n",
              "    }\n",
              "  }\n",
              "</style>\n",
              "\n",
              "  <script>\n",
              "    async function quickchart(key) {\n",
              "      const quickchartButtonEl =\n",
              "        document.querySelector('#' + key + ' button');\n",
              "      quickchartButtonEl.disabled = true;  // To prevent multiple clicks.\n",
              "      quickchartButtonEl.classList.add('colab-df-spinner');\n",
              "      try {\n",
              "        const charts = await google.colab.kernel.invokeFunction(\n",
              "            'suggestCharts', [key], {});\n",
              "      } catch (error) {\n",
              "        console.error('Error during call to suggestCharts:', error);\n",
              "      }\n",
              "      quickchartButtonEl.classList.remove('colab-df-spinner');\n",
              "      quickchartButtonEl.classList.add('colab-df-quickchart-complete');\n",
              "    }\n",
              "    (() => {\n",
              "      let quickchartButtonEl =\n",
              "        document.querySelector('#df-b37b12f6-71df-4c8f-90f3-17a460f35a5f button');\n",
              "      quickchartButtonEl.style.display =\n",
              "        google.colab.kernel.accessAllowed ? 'block' : 'none';\n",
              "    })();\n",
              "  </script>\n",
              "</div>\n",
              "\n",
              "    </div>\n",
              "  </div>\n"
            ],
            "application/vnd.google.colaboratory.intrinsic+json": {
              "type": "dataframe",
              "summary": "{\n  \"name\": \"dataset\",\n  \"rows\": 2,\n  \"fields\": [\n    {\n      \"column\": \"Renda\",\n      \"properties\": {\n        \"dtype\": \"number\",\n        \"std\": 442.36190341099854,\n        \"min\": 1566.84739296312,\n        \"max\": 2192.4415962441312,\n        \"samples\": [\n          1566.84739296312,\n          2192.4415962441312\n        ],\n        \"num_unique_values\": 2,\n        \"semantic_type\": \"\",\n        \"description\": \"\"\n      }\n    }\n  ]\n}"
            }
          },
          "metadata": {},
          "execution_count": 48
        }
      ],
      "source": [
        "dataset.groupby(['Sexo'])[['Renda']].mean()"
      ]
    },
    {
      "cell_type": "markdown",
      "metadata": {
        "id": "9geu3UcKjQMS"
      },
      "source": [
        "## <font color=green>3.2 Mediana</font>\n",
        "***\n",
        "\n",
        "Para obtermos a mediana de uma conjunto de dados devemos proceder da seguinte maneira:\n",
        "1. Ordenar o conjunto de dados;\n",
        "2. Identificar o número de observações (registros) do conjunto de dados ($n$);\n",
        "3. Identicar o elemento mediano:\n",
        "\n",
        "> Quando $n$ for ímpar, a posição do elemento mediano será obtida da seguinte forma:\n",
        "\n",
        "\n",
        "# $$Elemento_{Md} = \\frac{n+1}2$$\n",
        "\n",
        "> Quando $n$ for par, a posição do elemento mediano será obtida da seguinte forma:\n",
        "\n",
        "\n",
        "# $$Elemento_{Md} = \\frac{n}2$$\n",
        "\n",
        "4. Obter a mediana:\n",
        "\n",
        "> Quando $n$ for ímpar:\n",
        "\n",
        "\n",
        "# $$Md = X_{Elemento_{Md}}$$\n",
        "\n",
        "> Quando $n$ for par:\n",
        "\n",
        "\n",
        "# $$Md = \\frac{X_{Elemento_{Md}} + X_{Elemento_{Md}+1}}2$$\n",
        "***"
      ]
    },
    {
      "cell_type": "markdown",
      "metadata": {
        "id": "e0IuYdJFjQMT"
      },
      "source": [
        "### Exemplo 1 - n ímpar\n",
        "\n",
        "<img src='https://caelum-online-public.s3.amazonaws.com/1177-estatistica-parte1/01/img002.png' width='40%' style=\"float:left\">"
      ]
    },
    {
      "cell_type": "code",
      "execution_count": 49,
      "metadata": {
        "id": "3dXjdRFlX7IH",
        "colab": {
          "base_uri": "https://localhost:8080/"
        },
        "outputId": "ff728843-72df-4632-9880-d7342b2b6fc3"
      },
      "outputs": [
        {
          "output_type": "execute_result",
          "data": {
            "text/plain": [
              "Matemática     8\n",
              "Português     10\n",
              "Inglês         4\n",
              "Geografia      8\n",
              "História       6\n",
              "Física        10\n",
              "Química        8\n",
              "Name: Fulano, dtype: int64"
            ]
          },
          "metadata": {},
          "execution_count": 49
        }
      ],
      "source": [
        "notas_fulano = df['Fulano']\n",
        "notas_fulano"
      ]
    },
    {
      "cell_type": "code",
      "source": [
        "notas_fulano = notas_fulano.reset_index()"
      ],
      "metadata": {
        "id": "-yDd_u3B5MHL"
      },
      "execution_count": 50,
      "outputs": []
    },
    {
      "cell_type": "code",
      "execution_count": 51,
      "metadata": {
        "id": "cU91DJ-yjQMV",
        "colab": {
          "base_uri": "https://localhost:8080/"
        },
        "outputId": "636e7b34-1b28-49eb-c93b-44e93d4bf4c0"
      },
      "outputs": [
        {
          "output_type": "execute_result",
          "data": {
            "text/plain": [
              "7"
            ]
          },
          "metadata": {},
          "execution_count": 51
        }
      ],
      "source": [
        "n = notas_fulano.shape[0]\n",
        "n"
      ]
    },
    {
      "cell_type": "code",
      "source": [
        "elemento_md = (n + 1) / 2\n",
        "elemento_md\n"
      ],
      "metadata": {
        "id": "L88fsbkj5ZHs",
        "colab": {
          "base_uri": "https://localhost:8080/"
        },
        "outputId": "2af8f631-b685-41e5-da59-925ae66e636e"
      },
      "execution_count": 52,
      "outputs": [
        {
          "output_type": "execute_result",
          "data": {
            "text/plain": [
              "4.0"
            ]
          },
          "metadata": {},
          "execution_count": 52
        }
      ]
    },
    {
      "cell_type": "code",
      "execution_count": 53,
      "metadata": {
        "id": "z9bOnYKf1NOd",
        "colab": {
          "base_uri": "https://localhost:8080/"
        },
        "outputId": "0f4b7c64-5c30-4bbb-b789-f5353416c566"
      },
      "outputs": [
        {
          "output_type": "execute_result",
          "data": {
            "text/plain": [
              "index     Geografia\n",
              "Fulano            8\n",
              "Name: 3, dtype: object"
            ]
          },
          "metadata": {},
          "execution_count": 53
        }
      ],
      "source": [
        "notas_fulano.loc[elemento_md - 1]\n"
      ]
    },
    {
      "cell_type": "code",
      "execution_count": 54,
      "metadata": {
        "id": "trC12MHxjQMY",
        "colab": {
          "base_uri": "https://localhost:8080/"
        },
        "outputId": "dee1d3f4-0a6f-475a-b0d9-02334b455a2f"
      },
      "outputs": [
        {
          "output_type": "stream",
          "name": "stderr",
          "text": [
            "<ipython-input-54-7d9c9ca06f46>:1: FutureWarning: The default value of numeric_only in DataFrame.median is deprecated. In a future version, it will default to False. In addition, specifying 'numeric_only=None' is deprecated. Select only valid columns or specify the value of numeric_only to silence this warning.\n",
            "  notas_fulano.median()\n"
          ]
        },
        {
          "output_type": "execute_result",
          "data": {
            "text/plain": [
              "Fulano    8.0\n",
              "dtype: float64"
            ]
          },
          "metadata": {},
          "execution_count": 54
        }
      ],
      "source": [
        "notas_fulano.median()"
      ]
    },
    {
      "cell_type": "markdown",
      "metadata": {
        "id": "hQHyjfLkjQMe"
      },
      "source": [
        "### Exemplo 2 - n par\n",
        "\n",
        "<img src='https://caelum-online-public.s3.amazonaws.com/1177-estatistica-parte1/01/img003.png' width='50%' style=\"float:left\">"
      ]
    },
    {
      "cell_type": "code",
      "execution_count": 55,
      "metadata": {
        "id": "Jkx1WZenjQMe",
        "colab": {
          "base_uri": "https://localhost:8080/"
        },
        "outputId": "97d96008-1e04-44bd-baaa-1402d6aff5ac"
      },
      "outputs": [
        {
          "output_type": "execute_result",
          "data": {
            "text/plain": [
              "Matemática    10.0\n",
              "Inglês         0.5\n",
              "Física         9.5\n",
              "História       3.0\n",
              "Química       10.0\n",
              "Português      2.0\n",
              "Name: Beltrano, dtype: float64"
            ]
          },
          "metadata": {},
          "execution_count": 55
        }
      ],
      "source": [
        "numero_beltrano = df['Beltrano'].sample(6, random_state=101)\n",
        "numero_beltrano"
      ]
    },
    {
      "cell_type": "code",
      "execution_count": 56,
      "metadata": {
        "id": "D1LUpvZkYsHq",
        "colab": {
          "base_uri": "https://localhost:8080/"
        },
        "outputId": "51e219dc-baa4-4539-9f39-2ea003875f8b"
      },
      "outputs": [
        {
          "output_type": "execute_result",
          "data": {
            "text/plain": [
              "6.25"
            ]
          },
          "metadata": {},
          "execution_count": 56
        }
      ],
      "source": [
        "numero_beltrano.median()"
      ]
    },
    {
      "cell_type": "code",
      "execution_count": 56,
      "metadata": {
        "id": "PuiScCf0-vh9"
      },
      "outputs": [],
      "source": []
    },
    {
      "cell_type": "code",
      "execution_count": 56,
      "metadata": {
        "id": "6wB1UztBjQMf"
      },
      "outputs": [],
      "source": []
    },
    {
      "cell_type": "code",
      "execution_count": 56,
      "metadata": {
        "id": "tEBVXl7CjQMh"
      },
      "outputs": [],
      "source": []
    },
    {
      "cell_type": "code",
      "execution_count": 56,
      "metadata": {
        "id": "N-jSUjZSjQMi"
      },
      "outputs": [],
      "source": []
    },
    {
      "cell_type": "code",
      "execution_count": 56,
      "metadata": {
        "id": "IevBBtrRjQMj"
      },
      "outputs": [],
      "source": []
    },
    {
      "cell_type": "markdown",
      "metadata": {
        "id": "nK27TxrkjQMl"
      },
      "source": [
        "### Obtendo a mediana em nosso dataset"
      ]
    },
    {
      "cell_type": "code",
      "execution_count": 57,
      "metadata": {
        "id": "dJznpnjUjQMl",
        "colab": {
          "base_uri": "https://localhost:8080/"
        },
        "outputId": "7ae6c5a6-ac66-4975-b4cd-aa6a82bc2fd3"
      },
      "outputs": [
        {
          "output_type": "execute_result",
          "data": {
            "text/plain": [
              "1200.0"
            ]
          },
          "metadata": {},
          "execution_count": 57
        }
      ],
      "source": [
        "dataset['Renda'].median()"
      ]
    },
    {
      "cell_type": "code",
      "execution_count": 58,
      "metadata": {
        "id": "W4a5PVYdjQMm",
        "colab": {
          "base_uri": "https://localhost:8080/"
        },
        "outputId": "13c70318-0217-4999-df2a-8d7462774de3"
      },
      "outputs": [
        {
          "output_type": "execute_result",
          "data": {
            "text/plain": [
              "1200.0"
            ]
          },
          "metadata": {},
          "execution_count": 58
        }
      ],
      "source": [
        "dataset['Renda'].quantile()"
      ]
    },
    {
      "cell_type": "markdown",
      "metadata": {
        "id": "CmCu6BXQjQMo"
      },
      "source": [
        "## <font color=green>3.3 Moda</font>\n",
        "***\n",
        "\n",
        "Pode-se definir a moda como sendo o valor mais frequente de um conjunto de dados. A moda é bastante utilizada para dados qualitativos."
      ]
    },
    {
      "cell_type": "code",
      "execution_count": 59,
      "metadata": {
        "id": "BHibMzw8X7Id",
        "colab": {
          "base_uri": "https://localhost:8080/",
          "height": 269
        },
        "outputId": "7fecae70-5cc9-4bf9-d13a-96947b591607"
      },
      "outputs": [
        {
          "output_type": "execute_result",
          "data": {
            "text/plain": [
              "Matérias    Fulano  Beltrano  Sicrano\n",
              "Matemática       8      10.0      7.5\n",
              "Português       10       2.0      8.0\n",
              "Inglês           4       0.5      7.0\n",
              "Geografia        8       1.0      8.0\n",
              "História         6       3.0      8.0\n",
              "Física          10       9.5      8.5\n",
              "Química          8      10.0      7.0"
            ],
            "text/html": [
              "\n",
              "  <div id=\"df-3a0c759b-c684-433c-ad73-97f0315d4f22\" class=\"colab-df-container\">\n",
              "    <div>\n",
              "<style scoped>\n",
              "    .dataframe tbody tr th:only-of-type {\n",
              "        vertical-align: middle;\n",
              "    }\n",
              "\n",
              "    .dataframe tbody tr th {\n",
              "        vertical-align: top;\n",
              "    }\n",
              "\n",
              "    .dataframe thead th {\n",
              "        text-align: right;\n",
              "    }\n",
              "</style>\n",
              "<table border=\"1\" class=\"dataframe\">\n",
              "  <thead>\n",
              "    <tr style=\"text-align: right;\">\n",
              "      <th>Matérias</th>\n",
              "      <th>Fulano</th>\n",
              "      <th>Beltrano</th>\n",
              "      <th>Sicrano</th>\n",
              "    </tr>\n",
              "  </thead>\n",
              "  <tbody>\n",
              "    <tr>\n",
              "      <th>Matemática</th>\n",
              "      <td>8</td>\n",
              "      <td>10.0</td>\n",
              "      <td>7.5</td>\n",
              "    </tr>\n",
              "    <tr>\n",
              "      <th>Português</th>\n",
              "      <td>10</td>\n",
              "      <td>2.0</td>\n",
              "      <td>8.0</td>\n",
              "    </tr>\n",
              "    <tr>\n",
              "      <th>Inglês</th>\n",
              "      <td>4</td>\n",
              "      <td>0.5</td>\n",
              "      <td>7.0</td>\n",
              "    </tr>\n",
              "    <tr>\n",
              "      <th>Geografia</th>\n",
              "      <td>8</td>\n",
              "      <td>1.0</td>\n",
              "      <td>8.0</td>\n",
              "    </tr>\n",
              "    <tr>\n",
              "      <th>História</th>\n",
              "      <td>6</td>\n",
              "      <td>3.0</td>\n",
              "      <td>8.0</td>\n",
              "    </tr>\n",
              "    <tr>\n",
              "      <th>Física</th>\n",
              "      <td>10</td>\n",
              "      <td>9.5</td>\n",
              "      <td>8.5</td>\n",
              "    </tr>\n",
              "    <tr>\n",
              "      <th>Química</th>\n",
              "      <td>8</td>\n",
              "      <td>10.0</td>\n",
              "      <td>7.0</td>\n",
              "    </tr>\n",
              "  </tbody>\n",
              "</table>\n",
              "</div>\n",
              "    <div class=\"colab-df-buttons\">\n",
              "\n",
              "  <div class=\"colab-df-container\">\n",
              "    <button class=\"colab-df-convert\" onclick=\"convertToInteractive('df-3a0c759b-c684-433c-ad73-97f0315d4f22')\"\n",
              "            title=\"Convert this dataframe to an interactive table.\"\n",
              "            style=\"display:none;\">\n",
              "\n",
              "  <svg xmlns=\"http://www.w3.org/2000/svg\" height=\"24px\" viewBox=\"0 -960 960 960\">\n",
              "    <path d=\"M120-120v-720h720v720H120Zm60-500h600v-160H180v160Zm220 220h160v-160H400v160Zm0 220h160v-160H400v160ZM180-400h160v-160H180v160Zm440 0h160v-160H620v160ZM180-180h160v-160H180v160Zm440 0h160v-160H620v160Z\"/>\n",
              "  </svg>\n",
              "    </button>\n",
              "\n",
              "  <style>\n",
              "    .colab-df-container {\n",
              "      display:flex;\n",
              "      gap: 12px;\n",
              "    }\n",
              "\n",
              "    .colab-df-convert {\n",
              "      background-color: #E8F0FE;\n",
              "      border: none;\n",
              "      border-radius: 50%;\n",
              "      cursor: pointer;\n",
              "      display: none;\n",
              "      fill: #1967D2;\n",
              "      height: 32px;\n",
              "      padding: 0 0 0 0;\n",
              "      width: 32px;\n",
              "    }\n",
              "\n",
              "    .colab-df-convert:hover {\n",
              "      background-color: #E2EBFA;\n",
              "      box-shadow: 0px 1px 2px rgba(60, 64, 67, 0.3), 0px 1px 3px 1px rgba(60, 64, 67, 0.15);\n",
              "      fill: #174EA6;\n",
              "    }\n",
              "\n",
              "    .colab-df-buttons div {\n",
              "      margin-bottom: 4px;\n",
              "    }\n",
              "\n",
              "    [theme=dark] .colab-df-convert {\n",
              "      background-color: #3B4455;\n",
              "      fill: #D2E3FC;\n",
              "    }\n",
              "\n",
              "    [theme=dark] .colab-df-convert:hover {\n",
              "      background-color: #434B5C;\n",
              "      box-shadow: 0px 1px 3px 1px rgba(0, 0, 0, 0.15);\n",
              "      filter: drop-shadow(0px 1px 2px rgba(0, 0, 0, 0.3));\n",
              "      fill: #FFFFFF;\n",
              "    }\n",
              "  </style>\n",
              "\n",
              "    <script>\n",
              "      const buttonEl =\n",
              "        document.querySelector('#df-3a0c759b-c684-433c-ad73-97f0315d4f22 button.colab-df-convert');\n",
              "      buttonEl.style.display =\n",
              "        google.colab.kernel.accessAllowed ? 'block' : 'none';\n",
              "\n",
              "      async function convertToInteractive(key) {\n",
              "        const element = document.querySelector('#df-3a0c759b-c684-433c-ad73-97f0315d4f22');\n",
              "        const dataTable =\n",
              "          await google.colab.kernel.invokeFunction('convertToInteractive',\n",
              "                                                    [key], {});\n",
              "        if (!dataTable) return;\n",
              "\n",
              "        const docLinkHtml = 'Like what you see? Visit the ' +\n",
              "          '<a target=\"_blank\" href=https://colab.research.google.com/notebooks/data_table.ipynb>data table notebook</a>'\n",
              "          + ' to learn more about interactive tables.';\n",
              "        element.innerHTML = '';\n",
              "        dataTable['output_type'] = 'display_data';\n",
              "        await google.colab.output.renderOutput(dataTable, element);\n",
              "        const docLink = document.createElement('div');\n",
              "        docLink.innerHTML = docLinkHtml;\n",
              "        element.appendChild(docLink);\n",
              "      }\n",
              "    </script>\n",
              "  </div>\n",
              "\n",
              "\n",
              "<div id=\"df-97a897c4-dadf-4aba-a3bf-065decd3fc19\">\n",
              "  <button class=\"colab-df-quickchart\" onclick=\"quickchart('df-97a897c4-dadf-4aba-a3bf-065decd3fc19')\"\n",
              "            title=\"Suggest charts\"\n",
              "            style=\"display:none;\">\n",
              "\n",
              "<svg xmlns=\"http://www.w3.org/2000/svg\" height=\"24px\"viewBox=\"0 0 24 24\"\n",
              "     width=\"24px\">\n",
              "    <g>\n",
              "        <path d=\"M19 3H5c-1.1 0-2 .9-2 2v14c0 1.1.9 2 2 2h14c1.1 0 2-.9 2-2V5c0-1.1-.9-2-2-2zM9 17H7v-7h2v7zm4 0h-2V7h2v10zm4 0h-2v-4h2v4z\"/>\n",
              "    </g>\n",
              "</svg>\n",
              "  </button>\n",
              "\n",
              "<style>\n",
              "  .colab-df-quickchart {\n",
              "      --bg-color: #E8F0FE;\n",
              "      --fill-color: #1967D2;\n",
              "      --hover-bg-color: #E2EBFA;\n",
              "      --hover-fill-color: #174EA6;\n",
              "      --disabled-fill-color: #AAA;\n",
              "      --disabled-bg-color: #DDD;\n",
              "  }\n",
              "\n",
              "  [theme=dark] .colab-df-quickchart {\n",
              "      --bg-color: #3B4455;\n",
              "      --fill-color: #D2E3FC;\n",
              "      --hover-bg-color: #434B5C;\n",
              "      --hover-fill-color: #FFFFFF;\n",
              "      --disabled-bg-color: #3B4455;\n",
              "      --disabled-fill-color: #666;\n",
              "  }\n",
              "\n",
              "  .colab-df-quickchart {\n",
              "    background-color: var(--bg-color);\n",
              "    border: none;\n",
              "    border-radius: 50%;\n",
              "    cursor: pointer;\n",
              "    display: none;\n",
              "    fill: var(--fill-color);\n",
              "    height: 32px;\n",
              "    padding: 0;\n",
              "    width: 32px;\n",
              "  }\n",
              "\n",
              "  .colab-df-quickchart:hover {\n",
              "    background-color: var(--hover-bg-color);\n",
              "    box-shadow: 0 1px 2px rgba(60, 64, 67, 0.3), 0 1px 3px 1px rgba(60, 64, 67, 0.15);\n",
              "    fill: var(--button-hover-fill-color);\n",
              "  }\n",
              "\n",
              "  .colab-df-quickchart-complete:disabled,\n",
              "  .colab-df-quickchart-complete:disabled:hover {\n",
              "    background-color: var(--disabled-bg-color);\n",
              "    fill: var(--disabled-fill-color);\n",
              "    box-shadow: none;\n",
              "  }\n",
              "\n",
              "  .colab-df-spinner {\n",
              "    border: 2px solid var(--fill-color);\n",
              "    border-color: transparent;\n",
              "    border-bottom-color: var(--fill-color);\n",
              "    animation:\n",
              "      spin 1s steps(1) infinite;\n",
              "  }\n",
              "\n",
              "  @keyframes spin {\n",
              "    0% {\n",
              "      border-color: transparent;\n",
              "      border-bottom-color: var(--fill-color);\n",
              "      border-left-color: var(--fill-color);\n",
              "    }\n",
              "    20% {\n",
              "      border-color: transparent;\n",
              "      border-left-color: var(--fill-color);\n",
              "      border-top-color: var(--fill-color);\n",
              "    }\n",
              "    30% {\n",
              "      border-color: transparent;\n",
              "      border-left-color: var(--fill-color);\n",
              "      border-top-color: var(--fill-color);\n",
              "      border-right-color: var(--fill-color);\n",
              "    }\n",
              "    40% {\n",
              "      border-color: transparent;\n",
              "      border-right-color: var(--fill-color);\n",
              "      border-top-color: var(--fill-color);\n",
              "    }\n",
              "    60% {\n",
              "      border-color: transparent;\n",
              "      border-right-color: var(--fill-color);\n",
              "    }\n",
              "    80% {\n",
              "      border-color: transparent;\n",
              "      border-right-color: var(--fill-color);\n",
              "      border-bottom-color: var(--fill-color);\n",
              "    }\n",
              "    90% {\n",
              "      border-color: transparent;\n",
              "      border-bottom-color: var(--fill-color);\n",
              "    }\n",
              "  }\n",
              "</style>\n",
              "\n",
              "  <script>\n",
              "    async function quickchart(key) {\n",
              "      const quickchartButtonEl =\n",
              "        document.querySelector('#' + key + ' button');\n",
              "      quickchartButtonEl.disabled = true;  // To prevent multiple clicks.\n",
              "      quickchartButtonEl.classList.add('colab-df-spinner');\n",
              "      try {\n",
              "        const charts = await google.colab.kernel.invokeFunction(\n",
              "            'suggestCharts', [key], {});\n",
              "      } catch (error) {\n",
              "        console.error('Error during call to suggestCharts:', error);\n",
              "      }\n",
              "      quickchartButtonEl.classList.remove('colab-df-spinner');\n",
              "      quickchartButtonEl.classList.add('colab-df-quickchart-complete');\n",
              "    }\n",
              "    (() => {\n",
              "      let quickchartButtonEl =\n",
              "        document.querySelector('#df-97a897c4-dadf-4aba-a3bf-065decd3fc19 button');\n",
              "      quickchartButtonEl.style.display =\n",
              "        google.colab.kernel.accessAllowed ? 'block' : 'none';\n",
              "    })();\n",
              "  </script>\n",
              "</div>\n",
              "\n",
              "  <div id=\"id_bd801d63-9508-4eab-95d1-b36d36107084\">\n",
              "    <style>\n",
              "      .colab-df-generate {\n",
              "        background-color: #E8F0FE;\n",
              "        border: none;\n",
              "        border-radius: 50%;\n",
              "        cursor: pointer;\n",
              "        display: none;\n",
              "        fill: #1967D2;\n",
              "        height: 32px;\n",
              "        padding: 0 0 0 0;\n",
              "        width: 32px;\n",
              "      }\n",
              "\n",
              "      .colab-df-generate:hover {\n",
              "        background-color: #E2EBFA;\n",
              "        box-shadow: 0px 1px 2px rgba(60, 64, 67, 0.3), 0px 1px 3px 1px rgba(60, 64, 67, 0.15);\n",
              "        fill: #174EA6;\n",
              "      }\n",
              "\n",
              "      [theme=dark] .colab-df-generate {\n",
              "        background-color: #3B4455;\n",
              "        fill: #D2E3FC;\n",
              "      }\n",
              "\n",
              "      [theme=dark] .colab-df-generate:hover {\n",
              "        background-color: #434B5C;\n",
              "        box-shadow: 0px 1px 3px 1px rgba(0, 0, 0, 0.15);\n",
              "        filter: drop-shadow(0px 1px 2px rgba(0, 0, 0, 0.3));\n",
              "        fill: #FFFFFF;\n",
              "      }\n",
              "    </style>\n",
              "    <button class=\"colab-df-generate\" onclick=\"generateWithVariable('df')\"\n",
              "            title=\"Generate code using this dataframe.\"\n",
              "            style=\"display:none;\">\n",
              "\n",
              "  <svg xmlns=\"http://www.w3.org/2000/svg\" height=\"24px\"viewBox=\"0 0 24 24\"\n",
              "       width=\"24px\">\n",
              "    <path d=\"M7,19H8.4L18.45,9,17,7.55,7,17.6ZM5,21V16.75L18.45,3.32a2,2,0,0,1,2.83,0l1.4,1.43a1.91,1.91,0,0,1,.58,1.4,1.91,1.91,0,0,1-.58,1.4L9.25,21ZM18.45,9,17,7.55Zm-12,3A5.31,5.31,0,0,0,4.9,8.1,5.31,5.31,0,0,0,1,6.5,5.31,5.31,0,0,0,4.9,4.9,5.31,5.31,0,0,0,6.5,1,5.31,5.31,0,0,0,8.1,4.9,5.31,5.31,0,0,0,12,6.5,5.46,5.46,0,0,0,6.5,12Z\"/>\n",
              "  </svg>\n",
              "    </button>\n",
              "    <script>\n",
              "      (() => {\n",
              "      const buttonEl =\n",
              "        document.querySelector('#id_bd801d63-9508-4eab-95d1-b36d36107084 button.colab-df-generate');\n",
              "      buttonEl.style.display =\n",
              "        google.colab.kernel.accessAllowed ? 'block' : 'none';\n",
              "\n",
              "      buttonEl.onclick = () => {\n",
              "        google.colab.notebook.generateWithVariable('df');\n",
              "      }\n",
              "      })();\n",
              "    </script>\n",
              "  </div>\n",
              "\n",
              "    </div>\n",
              "  </div>\n"
            ],
            "application/vnd.google.colaboratory.intrinsic+json": {
              "type": "dataframe",
              "variable_name": "df",
              "summary": "{\n  \"name\": \"df\",\n  \"rows\": 7,\n  \"fields\": [\n    {\n      \"column\": \"Fulano\",\n      \"properties\": {\n        \"dtype\": \"number\",\n        \"std\": 2,\n        \"min\": 4,\n        \"max\": 10,\n        \"samples\": [\n          10,\n          6,\n          8\n        ],\n        \"num_unique_values\": 4,\n        \"semantic_type\": \"\",\n        \"description\": \"\"\n      }\n    },\n    {\n      \"column\": \"Beltrano\",\n      \"properties\": {\n        \"dtype\": \"number\",\n        \"std\": 4.46014093307119,\n        \"min\": 0.5,\n        \"max\": 10.0,\n        \"samples\": [\n          10.0,\n          2.0,\n          9.5\n        ],\n        \"num_unique_values\": 6,\n        \"semantic_type\": \"\",\n        \"description\": \"\"\n      }\n    },\n    {\n      \"column\": \"Sicrano\",\n      \"properties\": {\n        \"dtype\": \"number\",\n        \"std\": 0.5669467095138409,\n        \"min\": 7.0,\n        \"max\": 8.5,\n        \"samples\": [\n          8.0,\n          8.5,\n          7.5\n        ],\n        \"num_unique_values\": 4,\n        \"semantic_type\": \"\",\n        \"description\": \"\"\n      }\n    }\n  ]\n}"
            }
          },
          "metadata": {},
          "execution_count": 59
        }
      ],
      "source": [
        "df"
      ]
    },
    {
      "cell_type": "code",
      "execution_count": 60,
      "metadata": {
        "id": "xICDpQguX7Ik",
        "colab": {
          "base_uri": "https://localhost:8080/",
          "height": 81
        },
        "outputId": "422d05f0-5517-4927-e421-325e87842ee0"
      },
      "outputs": [
        {
          "output_type": "execute_result",
          "data": {
            "text/plain": [
              "Matérias  Fulano  Beltrano  Sicrano\n",
              "0              8      10.0      8.0"
            ],
            "text/html": [
              "\n",
              "  <div id=\"df-940ca847-941d-4224-8a1c-8e53ac6cf5d7\" class=\"colab-df-container\">\n",
              "    <div>\n",
              "<style scoped>\n",
              "    .dataframe tbody tr th:only-of-type {\n",
              "        vertical-align: middle;\n",
              "    }\n",
              "\n",
              "    .dataframe tbody tr th {\n",
              "        vertical-align: top;\n",
              "    }\n",
              "\n",
              "    .dataframe thead th {\n",
              "        text-align: right;\n",
              "    }\n",
              "</style>\n",
              "<table border=\"1\" class=\"dataframe\">\n",
              "  <thead>\n",
              "    <tr style=\"text-align: right;\">\n",
              "      <th>Matérias</th>\n",
              "      <th>Fulano</th>\n",
              "      <th>Beltrano</th>\n",
              "      <th>Sicrano</th>\n",
              "    </tr>\n",
              "  </thead>\n",
              "  <tbody>\n",
              "    <tr>\n",
              "      <th>0</th>\n",
              "      <td>8</td>\n",
              "      <td>10.0</td>\n",
              "      <td>8.0</td>\n",
              "    </tr>\n",
              "  </tbody>\n",
              "</table>\n",
              "</div>\n",
              "    <div class=\"colab-df-buttons\">\n",
              "\n",
              "  <div class=\"colab-df-container\">\n",
              "    <button class=\"colab-df-convert\" onclick=\"convertToInteractive('df-940ca847-941d-4224-8a1c-8e53ac6cf5d7')\"\n",
              "            title=\"Convert this dataframe to an interactive table.\"\n",
              "            style=\"display:none;\">\n",
              "\n",
              "  <svg xmlns=\"http://www.w3.org/2000/svg\" height=\"24px\" viewBox=\"0 -960 960 960\">\n",
              "    <path d=\"M120-120v-720h720v720H120Zm60-500h600v-160H180v160Zm220 220h160v-160H400v160Zm0 220h160v-160H400v160ZM180-400h160v-160H180v160Zm440 0h160v-160H620v160ZM180-180h160v-160H180v160Zm440 0h160v-160H620v160Z\"/>\n",
              "  </svg>\n",
              "    </button>\n",
              "\n",
              "  <style>\n",
              "    .colab-df-container {\n",
              "      display:flex;\n",
              "      gap: 12px;\n",
              "    }\n",
              "\n",
              "    .colab-df-convert {\n",
              "      background-color: #E8F0FE;\n",
              "      border: none;\n",
              "      border-radius: 50%;\n",
              "      cursor: pointer;\n",
              "      display: none;\n",
              "      fill: #1967D2;\n",
              "      height: 32px;\n",
              "      padding: 0 0 0 0;\n",
              "      width: 32px;\n",
              "    }\n",
              "\n",
              "    .colab-df-convert:hover {\n",
              "      background-color: #E2EBFA;\n",
              "      box-shadow: 0px 1px 2px rgba(60, 64, 67, 0.3), 0px 1px 3px 1px rgba(60, 64, 67, 0.15);\n",
              "      fill: #174EA6;\n",
              "    }\n",
              "\n",
              "    .colab-df-buttons div {\n",
              "      margin-bottom: 4px;\n",
              "    }\n",
              "\n",
              "    [theme=dark] .colab-df-convert {\n",
              "      background-color: #3B4455;\n",
              "      fill: #D2E3FC;\n",
              "    }\n",
              "\n",
              "    [theme=dark] .colab-df-convert:hover {\n",
              "      background-color: #434B5C;\n",
              "      box-shadow: 0px 1px 3px 1px rgba(0, 0, 0, 0.15);\n",
              "      filter: drop-shadow(0px 1px 2px rgba(0, 0, 0, 0.3));\n",
              "      fill: #FFFFFF;\n",
              "    }\n",
              "  </style>\n",
              "\n",
              "    <script>\n",
              "      const buttonEl =\n",
              "        document.querySelector('#df-940ca847-941d-4224-8a1c-8e53ac6cf5d7 button.colab-df-convert');\n",
              "      buttonEl.style.display =\n",
              "        google.colab.kernel.accessAllowed ? 'block' : 'none';\n",
              "\n",
              "      async function convertToInteractive(key) {\n",
              "        const element = document.querySelector('#df-940ca847-941d-4224-8a1c-8e53ac6cf5d7');\n",
              "        const dataTable =\n",
              "          await google.colab.kernel.invokeFunction('convertToInteractive',\n",
              "                                                    [key], {});\n",
              "        if (!dataTable) return;\n",
              "\n",
              "        const docLinkHtml = 'Like what you see? Visit the ' +\n",
              "          '<a target=\"_blank\" href=https://colab.research.google.com/notebooks/data_table.ipynb>data table notebook</a>'\n",
              "          + ' to learn more about interactive tables.';\n",
              "        element.innerHTML = '';\n",
              "        dataTable['output_type'] = 'display_data';\n",
              "        await google.colab.output.renderOutput(dataTable, element);\n",
              "        const docLink = document.createElement('div');\n",
              "        docLink.innerHTML = docLinkHtml;\n",
              "        element.appendChild(docLink);\n",
              "      }\n",
              "    </script>\n",
              "  </div>\n",
              "\n",
              "\n",
              "    </div>\n",
              "  </div>\n"
            ],
            "application/vnd.google.colaboratory.intrinsic+json": {
              "type": "dataframe",
              "repr_error": "cannot convert float NaN to integer"
            }
          },
          "metadata": {},
          "execution_count": 60
        }
      ],
      "source": [
        "df.mode()"
      ]
    },
    {
      "cell_type": "code",
      "execution_count": 61,
      "metadata": {
        "id": "x9lIRFESX7Il",
        "colab": {
          "base_uri": "https://localhost:8080/"
        },
        "outputId": "425c0c04-4f9b-42ac-b0e3-052a5573e072"
      },
      "outputs": [
        {
          "output_type": "execute_result",
          "data": {
            "text/plain": [
              "0     1\n",
              "1     5\n",
              "2     8\n",
              "3     8\n",
              "4     4\n",
              "5     4\n",
              "6     5\n",
              "7     6\n",
              "8     9\n",
              "9     4\n",
              "10    0\n",
              "11    5\n",
              "dtype: int64"
            ]
          },
          "metadata": {},
          "execution_count": 61
        }
      ],
      "source": [
        "exemplo = pd.Series([1, 5, 8, 8, 4, 4, 5, 6, 9, 4, 0, 5])\n",
        "exemplo"
      ]
    },
    {
      "cell_type": "code",
      "execution_count": 62,
      "metadata": {
        "id": "yUP6QFuiX7Io",
        "colab": {
          "base_uri": "https://localhost:8080/"
        },
        "outputId": "c37f9092-464d-4225-da69-7c1784d0cf6e"
      },
      "outputs": [
        {
          "output_type": "execute_result",
          "data": {
            "text/plain": [
              "0    4\n",
              "1    5\n",
              "dtype: int64"
            ]
          },
          "metadata": {},
          "execution_count": 62
        }
      ],
      "source": [
        "exemplo.mode()"
      ]
    },
    {
      "cell_type": "markdown",
      "metadata": {
        "id": "YwhBwz-JjQMr"
      },
      "source": [
        "### Obtendo a moda em nosso dataset"
      ]
    },
    {
      "cell_type": "code",
      "execution_count": 63,
      "metadata": {
        "id": "mC8vvYk-jQMr",
        "colab": {
          "base_uri": "https://localhost:8080/"
        },
        "outputId": "aef3f4f6-83d8-4e1f-cf66-004c694cda84"
      },
      "outputs": [
        {
          "output_type": "execute_result",
          "data": {
            "text/plain": [
              "0    788\n",
              "Name: Renda, dtype: int64"
            ]
          },
          "metadata": {},
          "execution_count": 63
        }
      ],
      "source": [
        "dataset['Renda'].mode()"
      ]
    },
    {
      "cell_type": "code",
      "execution_count": 64,
      "metadata": {
        "id": "Sdosy_vSX7Iw",
        "colab": {
          "base_uri": "https://localhost:8080/"
        },
        "outputId": "0ba7fdd0-0126-45bb-a7bb-01bbe51e8af8"
      },
      "outputs": [
        {
          "output_type": "execute_result",
          "data": {
            "text/plain": [
              "0    1.568128\n",
              "1    1.671225\n",
              "2    1.681659\n",
              "3    1.692977\n",
              "4    1.708163\n",
              "5    1.708370\n",
              "6    1.753842\n",
              "7    1.779073\n",
              "8    1.796462\n",
              "Name: Altura, dtype: float64"
            ]
          },
          "metadata": {},
          "execution_count": 64
        }
      ],
      "source": [
        "dataset['Altura'].mode()"
      ]
    },
    {
      "cell_type": "markdown",
      "metadata": {
        "id": "_-0gjQWFjQMu"
      },
      "source": [
        "## <font color=green>3.4 Relação entre média, mediana e moda</font>\n",
        "***"
      ]
    },
    {
      "cell_type": "markdown",
      "metadata": {
        "id": "0S7pa_jLjQMu"
      },
      "source": [
        "<img src='https://caelum-online-public.s3.amazonaws.com/1177-estatistica-parte1/01/img004.png' width='80%'>"
      ]
    },
    {
      "cell_type": "markdown",
      "metadata": {
        "id": "b7ZchyFsjQMu"
      },
      "source": [
        "### Avaliando a variável RENDA"
      ]
    },
    {
      "cell_type": "code",
      "source": [
        "dados = pd.read_csv('/content/dados.csv')"
      ],
      "metadata": {
        "id": "TxNeONDn9PCH"
      },
      "execution_count": 65,
      "outputs": []
    },
    {
      "cell_type": "code",
      "execution_count": 66,
      "metadata": {
        "id": "d8WQQ0PdjQMv",
        "colab": {
          "base_uri": "https://localhost:8080/",
          "height": 761
        },
        "outputId": "e047716e-92f3-4098-c029-c95923413577"
      },
      "outputs": [
        {
          "output_type": "stream",
          "name": "stderr",
          "text": [
            "<ipython-input-66-4f1151ba8135>:1: UserWarning: \n",
            "\n",
            "`distplot` is a deprecated function and will be removed in seaborn v0.14.0.\n",
            "\n",
            "Please adapt your code to use either `displot` (a figure-level function with\n",
            "similar flexibility) or `histplot` (an axes-level function for histograms).\n",
            "\n",
            "For a guide to updating your code to use the new functions, please see\n",
            "https://gist.github.com/mwaskom/de44147ed2974457ad6372750bbe5751\n",
            "\n",
            "  ax = sns.distplot(dados['Renda'], color = 'blue', kde=False)\n"
          ]
        },
        {
          "output_type": "execute_result",
          "data": {
            "text/plain": [
              "<Axes: xlabel='Renda'>"
            ]
          },
          "metadata": {},
          "execution_count": 66
        },
        {
          "output_type": "display_data",
          "data": {
            "text/plain": [
              "<Figure size 1200x600 with 1 Axes>"
            ],
            "image/png": "[encoded data removed]"
          },
          "metadata": {}
        }
      ],
      "source": [
        "ax = sns.distplot(dados['Renda'], color = 'blue', kde=False)\n",
        "ax.figure.set_size_inches(12, 6)\n",
        "ax"
      ]
    },
    {
      "cell_type": "code",
      "execution_count": 67,
      "metadata": {
        "id": "krws6f_SjQMw",
        "colab": {
          "base_uri": "https://localhost:8080/",
          "height": 747
        },
        "outputId": "c4ea2204-222b-4915-8e38-2a0783574e5a"
      },
      "outputs": [
        {
          "output_type": "stream",
          "name": "stderr",
          "text": [
            "<ipython-input-67-8e282f8fbb41>:1: UserWarning: \n",
            "\n",
            "`distplot` is a deprecated function and will be removed in seaborn v0.14.0.\n",
            "\n",
            "Please adapt your code to use either `displot` (a figure-level function with\n",
            "similar flexibility) or `histplot` (an axes-level function for histograms).\n",
            "\n",
            "For a guide to updating your code to use the new functions, please see\n",
            "https://gist.github.com/mwaskom/de44147ed2974457ad6372750bbe5751\n",
            "\n",
            "  ax = sns.distplot(dados.query('Renda > 20000'), color = 'blue', kde=True)\n"
          ]
        },
        {
          "output_type": "execute_result",
          "data": {
            "text/plain": [
              "<Axes: ylabel='Density'>"
            ]
          },
          "metadata": {},
          "execution_count": 67
        },
        {
          "output_type": "display_data",
          "data": {
            "text/plain": [
              "<Figure size 1200x600 with 1 Axes>"
            ],
            "image/png": "[encoded data removed]"
          },
          "metadata": {}
        }
      ],
      "source": [
        "ax = sns.distplot(dados.query('Renda > 20000'), color = 'blue', kde=True)\n",
        "ax.figure.set_size_inches(12, 6)\n",
        "ax"
      ]
    },
    {
      "cell_type": "code",
      "execution_count": 68,
      "metadata": {
        "id": "_Y7KpB25jQMx",
        "colab": {
          "base_uri": "https://localhost:8080/"
        },
        "outputId": "c9da2e71-c5da-462f-a8a2-c5efb74b3c2f"
      },
      "outputs": [
        {
          "output_type": "execute_result",
          "data": {
            "text/plain": [
              "788"
            ]
          },
          "metadata": {},
          "execution_count": 68
        }
      ],
      "source": [
        "Moda = dados.Renda.mode()[0]\n",
        "Moda\n"
      ]
    },
    {
      "cell_type": "code",
      "execution_count": 69,
      "metadata": {
        "id": "gQ0e56VajQMy",
        "colab": {
          "base_uri": "https://localhost:8080/"
        },
        "outputId": "9a5e9162-5835-487c-eaeb-04ec95989ae4"
      },
      "outputs": [
        {
          "output_type": "execute_result",
          "data": {
            "text/plain": [
              "1200.0"
            ]
          },
          "metadata": {},
          "execution_count": 69
        }
      ],
      "source": [
        "Mediana = dados.Renda.median()\n",
        "Mediana"
      ]
    },
    {
      "cell_type": "code",
      "execution_count": 70,
      "metadata": {
        "id": "nX6lnCBujQM0",
        "colab": {
          "base_uri": "https://localhost:8080/"
        },
        "outputId": "88a1043f-0d3e-4134-fa58-8c12fbf783f0"
      },
      "outputs": [
        {
          "output_type": "execute_result",
          "data": {
            "text/plain": [
              "2000.3831988547631"
            ]
          },
          "metadata": {},
          "execution_count": 70
        }
      ],
      "source": [
        "Media = dados.Renda.mean()\n",
        "Media"
      ]
    },
    {
      "cell_type": "code",
      "source": [
        "Media > Mediana > Moda"
      ],
      "metadata": {
        "id": "VIuOE_sm_cbn",
        "colab": {
          "base_uri": "https://localhost:8080/"
        },
        "outputId": "17d1ea72-421e-425f-9932-da8cf1004c60"
      },
      "execution_count": 71,
      "outputs": [
        {
          "output_type": "execute_result",
          "data": {
            "text/plain": [
              "True"
            ]
          },
          "metadata": {},
          "execution_count": 71
        }
      ]
    },
    {
      "cell_type": "markdown",
      "metadata": {
        "id": "FnLQAxSijQM1"
      },
      "source": [
        "***"
      ]
    },
    {
      "cell_type": "markdown",
      "metadata": {
        "id": "WazchssNjQM1"
      },
      "source": [
        "### Avaliando a variável ALTURA"
      ]
    },
    {
      "cell_type": "code",
      "execution_count": 72,
      "metadata": {
        "id": "41uJsCk9jQM2",
        "colab": {
          "base_uri": "https://localhost:8080/",
          "height": 761
        },
        "outputId": "5a478efc-5266-4af2-94f3-fcc9b4f185de"
      },
      "outputs": [
        {
          "output_type": "stream",
          "name": "stderr",
          "text": [
            "<ipython-input-72-ee0ecaff5bf2>:1: UserWarning: \n",
            "\n",
            "`distplot` is a deprecated function and will be removed in seaborn v0.14.0.\n",
            "\n",
            "Please adapt your code to use either `displot` (a figure-level function with\n",
            "similar flexibility) or `histplot` (an axes-level function for histograms).\n",
            "\n",
            "For a guide to updating your code to use the new functions, please see\n",
            "https://gist.github.com/mwaskom/de44147ed2974457ad6372750bbe5751\n",
            "\n",
            "  ax = sns.distplot(dados['Altura'], color = 'blue', kde=True)\n"
          ]
        },
        {
          "output_type": "execute_result",
          "data": {
            "text/plain": [
              "<Axes: xlabel='Altura', ylabel='Density'>"
            ]
          },
          "metadata": {},
          "execution_count": 72
        },
        {
          "output_type": "display_data",
          "data": {
            "text/plain": [
              "<Figure size 1200x600 with 1 Axes>"
            ],
            "image/png": "[encoded data removed]"
          },
          "metadata": {}
        }
      ],
      "source": [
        "ax = sns.distplot(dados['Altura'], color = 'blue', kde=True)\n",
        "ax.figure.set_size_inches(12, 6)\n",
        "ax"
      ]
    },
    {
      "cell_type": "code",
      "execution_count": 73,
      "metadata": {
        "id": "EkgerGuXjQM3",
        "colab": {
          "base_uri": "https://localhost:8080/"
        },
        "outputId": "628d2872-4021-42bb-f234-25aaaf3874b8"
      },
      "outputs": [
        {
          "output_type": "execute_result",
          "data": {
            "text/plain": [
              "1.56812756"
            ]
          },
          "metadata": {},
          "execution_count": 73
        }
      ],
      "source": [
        "Moda = dados['Altura'].mode()[0]\n",
        "Moda"
      ]
    },
    {
      "cell_type": "code",
      "execution_count": 74,
      "metadata": {
        "id": "Jj6MFUXbjQM4",
        "colab": {
          "base_uri": "https://localhost:8080/"
        },
        "outputId": "f05903a1-2e8c-496b-e9af-fae22b265365"
      },
      "outputs": [
        {
          "output_type": "execute_result",
          "data": {
            "text/plain": [
              "1.6993247325"
            ]
          },
          "metadata": {},
          "execution_count": 74
        }
      ],
      "source": [
        "Mediana = dados['Altura'].median()\n",
        "Mediana"
      ]
    },
    {
      "cell_type": "code",
      "execution_count": 75,
      "metadata": {
        "id": "84X-3AzvjQM5",
        "colab": {
          "base_uri": "https://localhost:8080/"
        },
        "outputId": "8d3c831b-299a-46c1-b827-43b0072dc09a"
      },
      "outputs": [
        {
          "output_type": "execute_result",
          "data": {
            "text/plain": [
              "1.6995124540575741"
            ]
          },
          "metadata": {},
          "execution_count": 75
        }
      ],
      "source": [
        "Media = dados['Altura'].mean()\n",
        "Media"
      ]
    },
    {
      "cell_type": "code",
      "source": [
        "Moda == Mediana == Media"
      ],
      "metadata": {
        "id": "dwtw9eRx-Ghy",
        "colab": {
          "base_uri": "https://localhost:8080/"
        },
        "outputId": "f965a64b-234f-45ee-98a4-532d0e774d0a"
      },
      "execution_count": 76,
      "outputs": [
        {
          "output_type": "execute_result",
          "data": {
            "text/plain": [
              "False"
            ]
          },
          "metadata": {},
          "execution_count": 76
        }
      ]
    },
    {
      "cell_type": "markdown",
      "metadata": {
        "id": "PJIMB8i8jQM6"
      },
      "source": [
        "***"
      ]
    },
    {
      "cell_type": "markdown",
      "metadata": {
        "id": "eS4I2H7jjQM7"
      },
      "source": [
        "### Avaliando a variável ANOS DE ESTUDO"
      ]
    },
    {
      "cell_type": "code",
      "execution_count": 77,
      "metadata": {
        "id": "NPCcjXqPjQM8",
        "colab": {
          "base_uri": "https://localhost:8080/",
          "height": 761
        },
        "outputId": "dfbb708c-aa32-4c97-e39c-ec3aaa66edff"
      },
      "outputs": [
        {
          "output_type": "stream",
          "name": "stderr",
          "text": [
            "<ipython-input-77-83f3197906a4>:1: UserWarning: \n",
            "\n",
            "`distplot` is a deprecated function and will be removed in seaborn v0.14.0.\n",
            "\n",
            "Please adapt your code to use either `displot` (a figure-level function with\n",
            "similar flexibility) or `histplot` (an axes-level function for histograms).\n",
            "\n",
            "For a guide to updating your code to use the new functions, please see\n",
            "https://gist.github.com/mwaskom/de44147ed2974457ad6372750bbe5751\n",
            "\n",
            "  ax = sns.distplot(dados['Anos de Estudo'], color = 'blue', kde=True)\n"
          ]
        },
        {
          "output_type": "execute_result",
          "data": {
            "text/plain": [
              "<Axes: xlabel='Anos de Estudo', ylabel='Density'>"
            ]
          },
          "metadata": {},
          "execution_count": 77
        },
        {
          "output_type": "display_data",
          "data": {
            "text/plain": [
              "<Figure size 1200x600 with 1 Axes>"
            ],
            "image/png": "[encoded data removed]"
          },
          "metadata": {}
        }
      ],
      "source": [
        "ax = sns.distplot(dados['Anos de Estudo'], color = 'blue', kde=True)\n",
        "ax.figure.set_size_inches(12, 6)\n",
        "ax"
      ]
    },
    {
      "cell_type": "code",
      "execution_count": 78,
      "metadata": {
        "id": "PjfvPYUajQM9",
        "colab": {
          "base_uri": "https://localhost:8080/"
        },
        "outputId": "c802e683-079c-4489-e87b-5265b9d16686"
      },
      "outputs": [
        {
          "output_type": "execute_result",
          "data": {
            "text/plain": [
              "12"
            ]
          },
          "metadata": {},
          "execution_count": 78
        }
      ],
      "source": [
        "Moda = dados['Anos de Estudo'].mode()[0]\n",
        "Moda"
      ]
    },
    {
      "cell_type": "code",
      "execution_count": 79,
      "metadata": {
        "id": "VF_Bj8x2jQM-",
        "colab": {
          "base_uri": "https://localhost:8080/"
        },
        "outputId": "3fdd1ed0-1118-4773-a60e-a762bddaa828"
      },
      "outputs": [
        {
          "output_type": "execute_result",
          "data": {
            "text/plain": [
              "11.0"
            ]
          },
          "metadata": {},
          "execution_count": 79
        }
      ],
      "source": [
        "Mediana = dados['Anos de Estudo'].median()\n",
        "Mediana"
      ]
    },
    {
      "cell_type": "code",
      "execution_count": 80,
      "metadata": {
        "id": "ohqUZ5RsjQNA",
        "colab": {
          "base_uri": "https://localhost:8080/"
        },
        "outputId": "79583711-50b5-4448-a07f-9cc229cf299e"
      },
      "outputs": [
        {
          "output_type": "execute_result",
          "data": {
            "text/plain": [
              "9.469664237376367"
            ]
          },
          "metadata": {},
          "execution_count": 80
        }
      ],
      "source": [
        "Media = dados['Anos de Estudo'].mean()\n",
        "Media"
      ]
    },
    {
      "cell_type": "code",
      "execution_count": 81,
      "metadata": {
        "id": "AwM8UvApjQNC",
        "colab": {
          "base_uri": "https://localhost:8080/"
        },
        "outputId": "184a8c01-39e8-4bd0-cc13-ca1803bcca2c"
      },
      "outputs": [
        {
          "output_type": "execute_result",
          "data": {
            "text/plain": [
              "True"
            ]
          },
          "metadata": {},
          "execution_count": 81
        }
      ],
      "source": [
        "Moda > Mediana > Media"
      ]
    },
    {
      "cell_type": "markdown",
      "metadata": {
        "id": "vcaIo45UjQND"
      },
      "source": [
        "# <font color=green>4 MEDIDAS SEPARATRIZES</font>\n",
        "***"
      ]
    },
    {
      "cell_type": "markdown",
      "metadata": {
        "id": "f4XrApNxjQNE"
      },
      "source": [
        "## <font color=green>4.1 Quartis, decis e percentis</font>\n",
        "***\n",
        "\n",
        "Há uma série de medidas de posição semelhantes na sua concepção à mediana, embora não sejam medidas de tendência central. Como se sabe, a mediana divide a distribuição em duas partes iguais quanto ao número de elementos de cada parte. Já os quartis permitem dividir a distribuição em quatro partes iguais quanto ao número de elementos de cada uma; os decis em dez partes e os centis em cem partes iguais."
      ]
    },
    {
      "cell_type": "code",
      "execution_count": 82,
      "metadata": {
        "id": "VmbdUO-ujQNE",
        "colab": {
          "base_uri": "https://localhost:8080/"
        },
        "outputId": "d7dd2c77-ad21-40e8-9080-afe514900477"
      },
      "outputs": [
        {
          "output_type": "execute_result",
          "data": {
            "text/plain": [
              "0.25     788.0\n",
              "0.50    1200.0\n",
              "0.75    2000.0\n",
              "Name: Renda, dtype: float64"
            ]
          },
          "metadata": {},
          "execution_count": 82
        }
      ],
      "source": [
        "dataset['Renda'].quantile([0.25, 0.5, 0.75])"
      ]
    },
    {
      "cell_type": "code",
      "source": [
        "# criando decis\n",
        "\n",
        "[i for i in range(1, 10)]"
      ],
      "metadata": {
        "id": "XMu6y2IUsZir",
        "colab": {
          "base_uri": "https://localhost:8080/"
        },
        "outputId": "26756220-ed31-4cf5-ac6e-1e67fd302a28"
      },
      "execution_count": 83,
      "outputs": [
        {
          "output_type": "execute_result",
          "data": {
            "text/plain": [
              "[1, 2, 3, 4, 5, 6, 7, 8, 9]"
            ]
          },
          "metadata": {},
          "execution_count": 83
        }
      ]
    },
    {
      "cell_type": "code",
      "source": [
        "dataset['Renda'].quantile([i / 10 for i in range(1, 10)])"
      ],
      "metadata": {
        "id": "2Cg3nEFowATA",
        "colab": {
          "base_uri": "https://localhost:8080/"
        },
        "outputId": "01160224-6734-4164-f9db-24ade8737df5"
      },
      "execution_count": 84,
      "outputs": [
        {
          "output_type": "execute_result",
          "data": {
            "text/plain": [
              "0.1     350.0\n",
              "0.2     788.0\n",
              "0.3     800.0\n",
              "0.4    1000.0\n",
              "0.5    1200.0\n",
              "0.6    1500.0\n",
              "0.7    1900.0\n",
              "0.8    2500.0\n",
              "0.9    4000.0\n",
              "Name: Renda, dtype: float64"
            ]
          },
          "metadata": {},
          "execution_count": 84
        }
      ]
    },
    {
      "cell_type": "markdown",
      "source": [
        "# Leitura Decis\n",
        "\n",
        "**0.1**     350.0 -> 10% das rendas estão abaixo de 350.0\n",
        "\n",
        "**0.2**     788.0 -> 20% das rendas estão abaixo de 788.0\n",
        "\n",
        "**0.3**     800.0 -> 30% das rendas estão abaixo de 800.0\n",
        "\n",
        "**0.4**    1000.0 -> 40% das rendas estão abaixo de 1000.0\n",
        "\n",
        "**0.5**    1200.0 -> 50% das rendas estão abaixo de 1200.0\n",
        "\n",
        "**0.6**    1500.0 -> 60% das rendas estão abaixo de 1500.0\n",
        "\n",
        "**0.7**    1900.0 -> 70% das rendas estão abaixo de 1900.0\n",
        "\n",
        "**0.8**    2500.0 -> 80% das rendas estão abaixo de 2500.0\n",
        "\n",
        "**0.9**    4000.0 -> 90% das rendas estão abaixo de 4000.0"
      ],
      "metadata": {
        "id": "NGMMT0pe_CXf"
      }
    },
    {
      "cell_type": "code",
      "source": [
        "ax = sns.distplot(dados['Idade'], hist_kws={'cumulative':True}, kde_kws={'cumulative':True})\n",
        "\n",
        "ax.figure.set_size_inches(14, 6)\n",
        "ax.set_title('Distribuição de frequência acumulada')\n",
        "ax.set_xlabel('Acumulado')\n",
        "ax.set_ylabel('Anos')"
      ],
      "metadata": {
        "id": "FeCYOgHCr3PC",
        "colab": {
          "base_uri": "https://localhost:8080/",
          "height": 784
        },
        "outputId": "2eda3eba-6261-4b58-c35d-06c496aebaaf"
      },
      "execution_count": 85,
      "outputs": [
        {
          "output_type": "stream",
          "name": "stderr",
          "text": [
            "<ipython-input-85-71908359af78>:1: UserWarning: \n",
            "\n",
            "`distplot` is a deprecated function and will be removed in seaborn v0.14.0.\n",
            "\n",
            "Please adapt your code to use either `displot` (a figure-level function with\n",
            "similar flexibility) or `histplot` (an axes-level function for histograms).\n",
            "\n",
            "For a guide to updating your code to use the new functions, please see\n",
            "https://gist.github.com/mwaskom/de44147ed2974457ad6372750bbe5751\n",
            "\n",
            "  ax = sns.distplot(dados['Idade'], hist_kws={'cumulative':True}, kde_kws={'cumulative':True})\n"
          ]
        },
        {
          "output_type": "execute_result",
          "data": {
            "text/plain": [
              "Text(0, 0.5, 'Anos')"
            ]
          },
          "metadata": {},
          "execution_count": 85
        },
        {
          "output_type": "display_data",
          "data": {
            "text/plain": [
              "<Figure size 1400x600 with 1 Axes>"
            ],
            "image/png": "[encoded data removed]"
          },
          "metadata": {}
        }
      ]
    },
    {
      "cell_type": "code",
      "execution_count": 86,
      "metadata": {
        "id": "EpRKboV5jQNG",
        "colab": {
          "base_uri": "https://localhost:8080/"
        },
        "outputId": "cd49e866-9fcd-4685-e489-8ed068785fae"
      },
      "outputs": [
        {
          "output_type": "execute_result",
          "data": {
            "text/plain": [
              "0.1    28.0\n",
              "0.2    33.0\n",
              "0.3    36.0\n",
              "0.4    40.0\n",
              "0.5    43.0\n",
              "0.6    47.0\n",
              "0.7    51.0\n",
              "0.8    55.0\n",
              "0.9    61.0\n",
              "Name: Idade, dtype: float64"
            ]
          },
          "metadata": {},
          "execution_count": 86
        }
      ],
      "source": [
        "dataset['Idade'].quantile([i / 10 for i in range(1, 10)])\n"
      ]
    },
    {
      "cell_type": "markdown",
      "metadata": {
        "id": "6gIeZO_CjQNJ"
      },
      "source": [
        "## <font color=green>4.2 Box-plot</font>\n",
        "***\n",
        "\n",
        "O box plot dá uma idéia da posição, dispersão, assimetria, caudas e dados discrepantes (outliers). A posição central é dada pela mediana e a dispersão por $IIQ$. As posições relativas de $Q1$, $Mediana$ e $Q3$ dão uma noção da simetria da distribuição. Os comprimentos das cauda são dados pelas linhas que vão do retângulo aos valores remotos e pelos valores atípicos."
      ]
    },
    {
      "cell_type": "markdown",
      "metadata": {
        "id": "VeiTE_gvjQNK"
      },
      "source": [
        "<img src='https://caelum-online-public.s3.amazonaws.com/1177-estatistica-parte1/01/img005.png' width='65%'>"
      ]
    },
    {
      "cell_type": "code",
      "execution_count": 87,
      "metadata": {
        "id": "pBY2EWkzjQNK",
        "colab": {
          "base_uri": "https://localhost:8080/",
          "height": 560
        },
        "outputId": "08c65145-9924-47bc-8960-0d7bfc55d729"
      },
      "outputs": [
        {
          "output_type": "execute_result",
          "data": {
            "text/plain": [
              "<Axes: xlabel='Altura', ylabel='Metros'>"
            ]
          },
          "metadata": {},
          "execution_count": 87
        },
        {
          "output_type": "display_data",
          "data": {
            "text/plain": [
              "<Figure size 1400x600 with 1 Axes>"
            ],
            "image/png": "[encoded data removed]"
          },
          "metadata": {}
        }
      ],
      "source": [
        "ax = sns.boxplot(data=dataset, x = 'Altura', orient='h')\n",
        "ax.figure.set_size_inches(14, 6)\n",
        "ax.set_xlabel('Altura')\n",
        "ax.set_ylabel('Metros')\n",
        "ax"
      ]
    },
    {
      "cell_type": "code",
      "execution_count": 88,
      "metadata": {
        "id": "AEhX7-ggsuiY",
        "colab": {
          "base_uri": "https://localhost:8080/",
          "height": 560
        },
        "outputId": "a0d981f6-1961-4326-8ce4-609291e6d25f"
      },
      "outputs": [
        {
          "output_type": "execute_result",
          "data": {
            "text/plain": [
              "<Axes: xlabel='Altura', ylabel='Sexo'>"
            ]
          },
          "metadata": {},
          "execution_count": 88
        },
        {
          "output_type": "display_data",
          "data": {
            "text/plain": [
              "<Figure size 1400x600 with 1 Axes>"
            ],
            "image/png": "[encoded data removed]"
          },
          "metadata": {}
        }
      ],
      "source": [
        "ax = sns.boxplot(data=dataset, x = 'Altura', y='Sexo', orient='h')\n",
        "ax.figure.set_size_inches(14, 6)\n",
        "ax.set_xlabel('Altura')\n",
        "ax.set_ylabel('Sexo')\n",
        "ax"
      ]
    },
    {
      "cell_type": "code",
      "execution_count": 89,
      "metadata": {
        "id": "2ZPrRov1suSF",
        "colab": {
          "base_uri": "https://localhost:8080/",
          "height": 582
        },
        "outputId": "d830dc5d-9ed7-4156-ead9-0fed59f25e42"
      },
      "outputs": [
        {
          "output_type": "execute_result",
          "data": {
            "text/plain": [
              "<Axes: title={'center': 'Renda'}, xlabel='R$'>"
            ]
          },
          "metadata": {},
          "execution_count": 89
        },
        {
          "output_type": "display_data",
          "data": {
            "text/plain": [
              "<Figure size 1400x600 with 1 Axes>"
            ],
            "image/png": "[encoded data removed]"
          },
          "metadata": {}
        }
      ],
      "source": [
        "ax = sns.boxplot(data=dataset, x = 'Renda', orient='h')\n",
        "ax.figure.set_size_inches(14, 6)\n",
        "ax.set_title('Renda')\n",
        "ax.set_xlabel('R$')\n",
        "ax"
      ]
    },
    {
      "cell_type": "code",
      "execution_count": 90,
      "metadata": {
        "id": "CSwlKUrrsuFi",
        "colab": {
          "base_uri": "https://localhost:8080/",
          "height": 582
        },
        "outputId": "232a05d5-ad8c-4b10-9207-25a4224c7955"
      },
      "outputs": [
        {
          "output_type": "execute_result",
          "data": {
            "text/plain": [
              "<Axes: title={'center': 'Renda'}, xlabel='R$'>"
            ]
          },
          "metadata": {},
          "execution_count": 90
        },
        {
          "output_type": "display_data",
          "data": {
            "text/plain": [
              "<Figure size 1400x600 with 1 Axes>"
            ],
            "image/png": "[encoded data removed]"
          },
          "metadata": {}
        }
      ],
      "source": [
        "ax = sns.boxplot(data=dataset.query('Renda < 10000'), x = 'Renda', orient='h')\n",
        "ax.figure.set_size_inches(14, 6)\n",
        "ax.set_title('Renda')\n",
        "ax.set_xlabel('R$')\n",
        "ax"
      ]
    },
    {
      "cell_type": "code",
      "execution_count": 91,
      "metadata": {
        "id": "IDrzBcJ_jQNL",
        "colab": {
          "base_uri": "https://localhost:8080/",
          "height": 674
        },
        "outputId": "5b2e53a9-089d-40cc-cff3-3e89f77d3e19"
      },
      "outputs": [
        {
          "output_type": "stream",
          "name": "stderr",
          "text": [
            "<ipython-input-91-073dec854895>:1: FutureWarning: \n",
            "\n",
            "Passing `palette` without assigning `hue` is deprecated and will be removed in v0.14.0. Assign the `y` variable to `hue` and set `legend=False` for the same effect.\n",
            "\n",
            "  ax = sns.boxplot(data=dataset.query('Renda < 10000'), x = 'Renda', y = 'Sexo', orient='h', palette='dark')\n"
          ]
        },
        {
          "output_type": "execute_result",
          "data": {
            "text/plain": [
              "<Axes: title={'center': 'Renda'}, xlabel='R$', ylabel='Sexo'>"
            ]
          },
          "metadata": {},
          "execution_count": 91
        },
        {
          "output_type": "display_data",
          "data": {
            "text/plain": [
              "<Figure size 1200x600 with 1 Axes>"
            ],
            "image/png": "[encoded data removed]"
          },
          "metadata": {}
        }
      ],
      "source": [
        "ax = sns.boxplot(data=dataset.query('Renda < 10000'), x = 'Renda', y = 'Sexo', orient='h', palette='dark')\n",
        "ax.figure.set_size_inches(12, 6)\n",
        "ax.set_title('Renda')\n",
        "ax.set_xlabel('R$')\n",
        "ax"
      ]
    },
    {
      "cell_type": "code",
      "execution_count": 92,
      "metadata": {
        "id": "V3I-2KsbjQNM",
        "colab": {
          "base_uri": "https://localhost:8080/",
          "height": 582
        },
        "outputId": "ff868276-a74d-42e7-ea8d-fdc8b0c2e251"
      },
      "outputs": [
        {
          "output_type": "execute_result",
          "data": {
            "text/plain": [
              "<Axes: title={'center': 'Anos de Estudo'}, xlabel='Anos'>"
            ]
          },
          "metadata": {},
          "execution_count": 92
        },
        {
          "output_type": "display_data",
          "data": {
            "text/plain": [
              "<Figure size 1200x600 with 1 Axes>"
            ],
            "image/png": "[encoded data removed]"
          },
          "metadata": {}
        }
      ],
      "source": [
        "ax = sns.boxplot(data=dataset, x = 'Anos de Estudo', orient='h', color='yellow')\n",
        "ax.figure.set_size_inches(12, 6)\n",
        "ax.set_title('Anos de Estudo')\n",
        "ax.set_xlabel('Anos')\n",
        "ax"
      ]
    },
    {
      "cell_type": "code",
      "source": [],
      "metadata": {
        "id": "vNXbPiBOFsWE"
      },
      "execution_count": 92,
      "outputs": []
    },
    {
      "cell_type": "code",
      "source": [
        "# Mulheres em suma possuem um grau de escolaridade maior que os dos homens e ganham menos.\n",
        "ax = sns.boxplot(data=dataset, x = 'Anos de Estudo', y = 'Sexo', orient='h', palette='dark')\n",
        "ax.figure.set_size_inches(12, 4)\n",
        "ax.set_title('Anos de Estudo')\n",
        "ax.set_xlabel('Anos')\n",
        "ax"
      ],
      "metadata": {
        "colab": {
          "base_uri": "https://localhost:8080/",
          "height": 520
        },
        "id": "nOKWruI9FnTv",
        "outputId": "a477f5cf-29b9-4e70-ff48-11936c7f0215"
      },
      "execution_count": 93,
      "outputs": [
        {
          "output_type": "stream",
          "name": "stderr",
          "text": [
            "<ipython-input-93-11621eef49e1>:2: FutureWarning: \n",
            "\n",
            "Passing `palette` without assigning `hue` is deprecated and will be removed in v0.14.0. Assign the `y` variable to `hue` and set `legend=False` for the same effect.\n",
            "\n",
            "  ax = sns.boxplot(data=dataset, x = 'Anos de Estudo', y = 'Sexo', orient='h', palette='dark')\n"
          ]
        },
        {
          "output_type": "execute_result",
          "data": {
            "text/plain": [
              "<Axes: title={'center': 'Anos de Estudo'}, xlabel='Anos', ylabel='Sexo'>"
            ]
          },
          "metadata": {},
          "execution_count": 93
        },
        {
          "output_type": "display_data",
          "data": {
            "text/plain": [
              "<Figure size 1200x400 with 1 Axes>"
            ],
            "image/png": "[encoded data removed]"
          },
          "metadata": {}
        }
      ]
    },
    {
      "cell_type": "markdown",
      "metadata": {
        "id": "amloMZwVjQNN"
      },
      "source": [
        "<img src='https://caelum-online-public.s3.amazonaws.com/1177-estatistica-parte1/01/img006.png' width='80%'>"
      ]
    },
    {
      "cell_type": "markdown",
      "metadata": {
        "id": "aJ6v_NI9jQNN"
      },
      "source": [
        "# <font color=green>5 MEDIDAS DE DISPERSÃO</font>\n",
        "***\n",
        "\n",
        "Embora as medidas de posição forneçam uma sumarização bastante importante dos dados, elas podem não ser suficientes para caracterizar conjuntos distintos, especialmente quando as observações de determinada distribuição apresentarem dados muito dispersos."
      ]
    },
    {
      "cell_type": "markdown",
      "metadata": {
        "id": "D6xVxAQ7jQNO"
      },
      "source": [
        "## <font color=green>5.1 Desvio médio absoluto</font>\n",
        "***\n",
        "\n",
        "\n",
        "# $$DM = \\frac 1n\\sum_{i=1}^{n}|X_i-\\bar{X}|$$\n"
      ]
    },
    {
      "cell_type": "code",
      "execution_count": 94,
      "metadata": {
        "id": "0sL31blV7nz3",
        "colab": {
          "base_uri": "https://localhost:8080/",
          "height": 269
        },
        "outputId": "f21d15a2-e021-485b-ca82-621a3a217db2"
      },
      "outputs": [
        {
          "output_type": "execute_result",
          "data": {
            "text/plain": [
              "Matérias    Fulano  Beltrano  Sicrano\n",
              "Matemática       8      10.0      7.5\n",
              "Português       10       2.0      8.0\n",
              "Inglês           4       0.5      7.0\n",
              "Geografia        8       1.0      8.0\n",
              "História         6       3.0      8.0\n",
              "Física          10       9.5      8.5\n",
              "Química          8      10.0      7.0"
            ],
            "text/html": [
              "\n",
              "  <div id=\"df-0cfa0676-2ab5-4514-b27b-a7b3d4cdc0f5\" class=\"colab-df-container\">\n",
              "    <div>\n",
              "<style scoped>\n",
              "    .dataframe tbody tr th:only-of-type {\n",
              "        vertical-align: middle;\n",
              "    }\n",
              "\n",
              "    .dataframe tbody tr th {\n",
              "        vertical-align: top;\n",
              "    }\n",
              "\n",
              "    .dataframe thead th {\n",
              "        text-align: right;\n",
              "    }\n",
              "</style>\n",
              "<table border=\"1\" class=\"dataframe\">\n",
              "  <thead>\n",
              "    <tr style=\"text-align: right;\">\n",
              "      <th>Matérias</th>\n",
              "      <th>Fulano</th>\n",
              "      <th>Beltrano</th>\n",
              "      <th>Sicrano</th>\n",
              "    </tr>\n",
              "  </thead>\n",
              "  <tbody>\n",
              "    <tr>\n",
              "      <th>Matemática</th>\n",
              "      <td>8</td>\n",
              "      <td>10.0</td>\n",
              "      <td>7.5</td>\n",
              "    </tr>\n",
              "    <tr>\n",
              "      <th>Português</th>\n",
              "      <td>10</td>\n",
              "      <td>2.0</td>\n",
              "      <td>8.0</td>\n",
              "    </tr>\n",
              "    <tr>\n",
              "      <th>Inglês</th>\n",
              "      <td>4</td>\n",
              "      <td>0.5</td>\n",
              "      <td>7.0</td>\n",
              "    </tr>\n",
              "    <tr>\n",
              "      <th>Geografia</th>\n",
              "      <td>8</td>\n",
              "      <td>1.0</td>\n",
              "      <td>8.0</td>\n",
              "    </tr>\n",
              "    <tr>\n",
              "      <th>História</th>\n",
              "      <td>6</td>\n",
              "      <td>3.0</td>\n",
              "      <td>8.0</td>\n",
              "    </tr>\n",
              "    <tr>\n",
              "      <th>Física</th>\n",
              "      <td>10</td>\n",
              "      <td>9.5</td>\n",
              "      <td>8.5</td>\n",
              "    </tr>\n",
              "    <tr>\n",
              "      <th>Química</th>\n",
              "      <td>8</td>\n",
              "      <td>10.0</td>\n",
              "      <td>7.0</td>\n",
              "    </tr>\n",
              "  </tbody>\n",
              "</table>\n",
              "</div>\n",
              "    <div class=\"colab-df-buttons\">\n",
              "\n",
              "  <div class=\"colab-df-container\">\n",
              "    <button class=\"colab-df-convert\" onclick=\"convertToInteractive('df-0cfa0676-2ab5-4514-b27b-a7b3d4cdc0f5')\"\n",
              "            title=\"Convert this dataframe to an interactive table.\"\n",
              "            style=\"display:none;\">\n",
              "\n",
              "  <svg xmlns=\"http://www.w3.org/2000/svg\" height=\"24px\" viewBox=\"0 -960 960 960\">\n",
              "    <path d=\"M120-120v-720h720v720H120Zm60-500h600v-160H180v160Zm220 220h160v-160H400v160Zm0 220h160v-160H400v160ZM180-400h160v-160H180v160Zm440 0h160v-160H620v160ZM180-180h160v-160H180v160Zm440 0h160v-160H620v160Z\"/>\n",
              "  </svg>\n",
              "    </button>\n",
              "\n",
              "  <style>\n",
              "    .colab-df-container {\n",
              "      display:flex;\n",
              "      gap: 12px;\n",
              "    }\n",
              "\n",
              "    .colab-df-convert {\n",
              "      background-color: #E8F0FE;\n",
              "      border: none;\n",
              "      border-radius: 50%;\n",
              "      cursor: pointer;\n",
              "      display: none;\n",
              "      fill: #1967D2;\n",
              "      height: 32px;\n",
              "      padding: 0 0 0 0;\n",
              "      width: 32px;\n",
              "    }\n",
              "\n",
              "    .colab-df-convert:hover {\n",
              "      background-color: #E2EBFA;\n",
              "      box-shadow: 0px 1px 2px rgba(60, 64, 67, 0.3), 0px 1px 3px 1px rgba(60, 64, 67, 0.15);\n",
              "      fill: #174EA6;\n",
              "    }\n",
              "\n",
              "    .colab-df-buttons div {\n",
              "      margin-bottom: 4px;\n",
              "    }\n",
              "\n",
              "    [theme=dark] .colab-df-convert {\n",
              "      background-color: #3B4455;\n",
              "      fill: #D2E3FC;\n",
              "    }\n",
              "\n",
              "    [theme=dark] .colab-df-convert:hover {\n",
              "      background-color: #434B5C;\n",
              "      box-shadow: 0px 1px 3px 1px rgba(0, 0, 0, 0.15);\n",
              "      filter: drop-shadow(0px 1px 2px rgba(0, 0, 0, 0.3));\n",
              "      fill: #FFFFFF;\n",
              "    }\n",
              "  </style>\n",
              "\n",
              "    <script>\n",
              "      const buttonEl =\n",
              "        document.querySelector('#df-0cfa0676-2ab5-4514-b27b-a7b3d4cdc0f5 button.colab-df-convert');\n",
              "      buttonEl.style.display =\n",
              "        google.colab.kernel.accessAllowed ? 'block' : 'none';\n",
              "\n",
              "      async function convertToInteractive(key) {\n",
              "        const element = document.querySelector('#df-0cfa0676-2ab5-4514-b27b-a7b3d4cdc0f5');\n",
              "        const dataTable =\n",
              "          await google.colab.kernel.invokeFunction('convertToInteractive',\n",
              "                                                    [key], {});\n",
              "        if (!dataTable) return;\n",
              "\n",
              "        const docLinkHtml = 'Like what you see? Visit the ' +\n",
              "          '<a target=\"_blank\" href=https://colab.research.google.com/notebooks/data_table.ipynb>data table notebook</a>'\n",
              "          + ' to learn more about interactive tables.';\n",
              "        element.innerHTML = '';\n",
              "        dataTable['output_type'] = 'display_data';\n",
              "        await google.colab.output.renderOutput(dataTable, element);\n",
              "        const docLink = document.createElement('div');\n",
              "        docLink.innerHTML = docLinkHtml;\n",
              "        element.appendChild(docLink);\n",
              "      }\n",
              "    </script>\n",
              "  </div>\n",
              "\n",
              "\n",
              "<div id=\"df-cfe518ff-14bb-48fa-b5ae-1fd49d4b59e3\">\n",
              "  <button class=\"colab-df-quickchart\" onclick=\"quickchart('df-cfe518ff-14bb-48fa-b5ae-1fd49d4b59e3')\"\n",
              "            title=\"Suggest charts\"\n",
              "            style=\"display:none;\">\n",
              "\n",
              "<svg xmlns=\"http://www.w3.org/2000/svg\" height=\"24px\"viewBox=\"0 0 24 24\"\n",
              "     width=\"24px\">\n",
              "    <g>\n",
              "        <path d=\"M19 3H5c-1.1 0-2 .9-2 2v14c0 1.1.9 2 2 2h14c1.1 0 2-.9 2-2V5c0-1.1-.9-2-2-2zM9 17H7v-7h2v7zm4 0h-2V7h2v10zm4 0h-2v-4h2v4z\"/>\n",
              "    </g>\n",
              "</svg>\n",
              "  </button>\n",
              "\n",
              "<style>\n",
              "  .colab-df-quickchart {\n",
              "      --bg-color: #E8F0FE;\n",
              "      --fill-color: #1967D2;\n",
              "      --hover-bg-color: #E2EBFA;\n",
              "      --hover-fill-color: #174EA6;\n",
              "      --disabled-fill-color: #AAA;\n",
              "      --disabled-bg-color: #DDD;\n",
              "  }\n",
              "\n",
              "  [theme=dark] .colab-df-quickchart {\n",
              "      --bg-color: #3B4455;\n",
              "      --fill-color: #D2E3FC;\n",
              "      --hover-bg-color: #434B5C;\n",
              "      --hover-fill-color: #FFFFFF;\n",
              "      --disabled-bg-color: #3B4455;\n",
              "      --disabled-fill-color: #666;\n",
              "  }\n",
              "\n",
              "  .colab-df-quickchart {\n",
              "    background-color: var(--bg-color);\n",
              "    border: none;\n",
              "    border-radius: 50%;\n",
              "    cursor: pointer;\n",
              "    display: none;\n",
              "    fill: var(--fill-color);\n",
              "    height: 32px;\n",
              "    padding: 0;\n",
              "    width: 32px;\n",
              "  }\n",
              "\n",
              "  .colab-df-quickchart:hover {\n",
              "    background-color: var(--hover-bg-color);\n",
              "    box-shadow: 0 1px 2px rgba(60, 64, 67, 0.3), 0 1px 3px 1px rgba(60, 64, 67, 0.15);\n",
              "    fill: var(--button-hover-fill-color);\n",
              "  }\n",
              "\n",
              "  .colab-df-quickchart-complete:disabled,\n",
              "  .colab-df-quickchart-complete:disabled:hover {\n",
              "    background-color: var(--disabled-bg-color);\n",
              "    fill: var(--disabled-fill-color);\n",
              "    box-shadow: none;\n",
              "  }\n",
              "\n",
              "  .colab-df-spinner {\n",
              "    border: 2px solid var(--fill-color);\n",
              "    border-color: transparent;\n",
              "    border-bottom-color: var(--fill-color);\n",
              "    animation:\n",
              "      spin 1s steps(1) infinite;\n",
              "  }\n",
              "\n",
              "  @keyframes spin {\n",
              "    0% {\n",
              "      border-color: transparent;\n",
              "      border-bottom-color: var(--fill-color);\n",
              "      border-left-color: var(--fill-color);\n",
              "    }\n",
              "    20% {\n",
              "      border-color: transparent;\n",
              "      border-left-color: var(--fill-color);\n",
              "      border-top-color: var(--fill-color);\n",
              "    }\n",
              "    30% {\n",
              "      border-color: transparent;\n",
              "      border-left-color: var(--fill-color);\n",
              "      border-top-color: var(--fill-color);\n",
              "      border-right-color: var(--fill-color);\n",
              "    }\n",
              "    40% {\n",
              "      border-color: transparent;\n",
              "      border-right-color: var(--fill-color);\n",
              "      border-top-color: var(--fill-color);\n",
              "    }\n",
              "    60% {\n",
              "      border-color: transparent;\n",
              "      border-right-color: var(--fill-color);\n",
              "    }\n",
              "    80% {\n",
              "      border-color: transparent;\n",
              "      border-right-color: var(--fill-color);\n",
              "      border-bottom-color: var(--fill-color);\n",
              "    }\n",
              "    90% {\n",
              "      border-color: transparent;\n",
              "      border-bottom-color: var(--fill-color);\n",
              "    }\n",
              "  }\n",
              "</style>\n",
              "\n",
              "  <script>\n",
              "    async function quickchart(key) {\n",
              "      const quickchartButtonEl =\n",
              "        document.querySelector('#' + key + ' button');\n",
              "      quickchartButtonEl.disabled = true;  // To prevent multiple clicks.\n",
              "      quickchartButtonEl.classList.add('colab-df-spinner');\n",
              "      try {\n",
              "        const charts = await google.colab.kernel.invokeFunction(\n",
              "            'suggestCharts', [key], {});\n",
              "      } catch (error) {\n",
              "        console.error('Error during call to suggestCharts:', error);\n",
              "      }\n",
              "      quickchartButtonEl.classList.remove('colab-df-spinner');\n",
              "      quickchartButtonEl.classList.add('colab-df-quickchart-complete');\n",
              "    }\n",
              "    (() => {\n",
              "      let quickchartButtonEl =\n",
              "        document.querySelector('#df-cfe518ff-14bb-48fa-b5ae-1fd49d4b59e3 button');\n",
              "      quickchartButtonEl.style.display =\n",
              "        google.colab.kernel.accessAllowed ? 'block' : 'none';\n",
              "    })();\n",
              "  </script>\n",
              "</div>\n",
              "\n",
              "  <div id=\"id_467008a5-d453-4482-9170-0d27bcef77e6\">\n",
              "    <style>\n",
              "      .colab-df-generate {\n",
              "        background-color: #E8F0FE;\n",
              "        border: none;\n",
              "        border-radius: 50%;\n",
              "        cursor: pointer;\n",
              "        display: none;\n",
              "        fill: #1967D2;\n",
              "        height: 32px;\n",
              "        padding: 0 0 0 0;\n",
              "        width: 32px;\n",
              "      }\n",
              "\n",
              "      .colab-df-generate:hover {\n",
              "        background-color: #E2EBFA;\n",
              "        box-shadow: 0px 1px 2px rgba(60, 64, 67, 0.3), 0px 1px 3px 1px rgba(60, 64, 67, 0.15);\n",
              "        fill: #174EA6;\n",
              "      }\n",
              "\n",
              "      [theme=dark] .colab-df-generate {\n",
              "        background-color: #3B4455;\n",
              "        fill: #D2E3FC;\n",
              "      }\n",
              "\n",
              "      [theme=dark] .colab-df-generate:hover {\n",
              "        background-color: #434B5C;\n",
              "        box-shadow: 0px 1px 3px 1px rgba(0, 0, 0, 0.15);\n",
              "        filter: drop-shadow(0px 1px 2px rgba(0, 0, 0, 0.3));\n",
              "        fill: #FFFFFF;\n",
              "      }\n",
              "    </style>\n",
              "    <button class=\"colab-df-generate\" onclick=\"generateWithVariable('df')\"\n",
              "            title=\"Generate code using this dataframe.\"\n",
              "            style=\"display:none;\">\n",
              "\n",
              "  <svg xmlns=\"http://www.w3.org/2000/svg\" height=\"24px\"viewBox=\"0 0 24 24\"\n",
              "       width=\"24px\">\n",
              "    <path d=\"M7,19H8.4L18.45,9,17,7.55,7,17.6ZM5,21V16.75L18.45,3.32a2,2,0,0,1,2.83,0l1.4,1.43a1.91,1.91,0,0,1,.58,1.4,1.91,1.91,0,0,1-.58,1.4L9.25,21ZM18.45,9,17,7.55Zm-12,3A5.31,5.31,0,0,0,4.9,8.1,5.31,5.31,0,0,0,1,6.5,5.31,5.31,0,0,0,4.9,4.9,5.31,5.31,0,0,0,6.5,1,5.31,5.31,0,0,0,8.1,4.9,5.31,5.31,0,0,0,12,6.5,5.46,5.46,0,0,0,6.5,12Z\"/>\n",
              "  </svg>\n",
              "    </button>\n",
              "    <script>\n",
              "      (() => {\n",
              "      const buttonEl =\n",
              "        document.querySelector('#id_467008a5-d453-4482-9170-0d27bcef77e6 button.colab-df-generate');\n",
              "      buttonEl.style.display =\n",
              "        google.colab.kernel.accessAllowed ? 'block' : 'none';\n",
              "\n",
              "      buttonEl.onclick = () => {\n",
              "        google.colab.notebook.generateWithVariable('df');\n",
              "      }\n",
              "      })();\n",
              "    </script>\n",
              "  </div>\n",
              "\n",
              "    </div>\n",
              "  </div>\n"
            ],
            "application/vnd.google.colaboratory.intrinsic+json": {
              "type": "dataframe",
              "variable_name": "df",
              "summary": "{\n  \"name\": \"df\",\n  \"rows\": 7,\n  \"fields\": [\n    {\n      \"column\": \"Fulano\",\n      \"properties\": {\n        \"dtype\": \"number\",\n        \"std\": 2,\n        \"min\": 4,\n        \"max\": 10,\n        \"samples\": [\n          10,\n          6,\n          8\n        ],\n        \"num_unique_values\": 4,\n        \"semantic_type\": \"\",\n        \"description\": \"\"\n      }\n    },\n    {\n      \"column\": \"Beltrano\",\n      \"properties\": {\n        \"dtype\": \"number\",\n        \"std\": 4.46014093307119,\n        \"min\": 0.5,\n        \"max\": 10.0,\n        \"samples\": [\n          10.0,\n          2.0,\n          9.5\n        ],\n        \"num_unique_values\": 6,\n        \"semantic_type\": \"\",\n        \"description\": \"\"\n      }\n    },\n    {\n      \"column\": \"Sicrano\",\n      \"properties\": {\n        \"dtype\": \"number\",\n        \"std\": 0.5669467095138409,\n        \"min\": 7.0,\n        \"max\": 8.5,\n        \"samples\": [\n          8.0,\n          8.5,\n          7.5\n        ],\n        \"num_unique_values\": 4,\n        \"semantic_type\": \"\",\n        \"description\": \"\"\n      }\n    }\n  ]\n}"
            }
          },
          "metadata": {},
          "execution_count": 94
        }
      ],
      "source": [
        "df"
      ]
    },
    {
      "cell_type": "code",
      "execution_count": 95,
      "metadata": {
        "id": "f3pAri4G7nc4",
        "colab": {
          "base_uri": "https://localhost:8080/"
        },
        "outputId": "32b6a6f9-0bf4-4a2e-cacf-91cdd1730a29"
      },
      "outputs": [
        {
          "output_type": "execute_result",
          "data": {
            "text/plain": [
              "Matérias\n",
              "Fulano      7.714286\n",
              "Beltrano    5.142857\n",
              "Sicrano     7.714286\n",
              "dtype: float64"
            ]
          },
          "metadata": {},
          "execution_count": 95
        }
      ],
      "source": [
        "df.mean()"
      ]
    },
    {
      "cell_type": "code",
      "execution_count": 96,
      "metadata": {
        "id": "8_Q2tOTmjQNO",
        "colab": {
          "base_uri": "https://localhost:8080/",
          "height": 269
        },
        "outputId": "35bb7781-0cb0-4ef9-c4dc-ae48a85870c6"
      },
      "outputs": [
        {
          "output_type": "execute_result",
          "data": {
            "text/plain": [
              "Matérias    Fulano\n",
              "Matemática       8\n",
              "Português       10\n",
              "Inglês           4\n",
              "Geografia        8\n",
              "História         6\n",
              "Física          10\n",
              "Química          8"
            ],
            "text/html": [
              "\n",
              "  <div id=\"df-f42828e1-e26e-4bcf-bdd9-cf91c3a196c7\" class=\"colab-df-container\">\n",
              "    <div>\n",
              "<style scoped>\n",
              "    .dataframe tbody tr th:only-of-type {\n",
              "        vertical-align: middle;\n",
              "    }\n",
              "\n",
              "    .dataframe tbody tr th {\n",
              "        vertical-align: top;\n",
              "    }\n",
              "\n",
              "    .dataframe thead th {\n",
              "        text-align: right;\n",
              "    }\n",
              "</style>\n",
              "<table border=\"1\" class=\"dataframe\">\n",
              "  <thead>\n",
              "    <tr style=\"text-align: right;\">\n",
              "      <th>Matérias</th>\n",
              "      <th>Fulano</th>\n",
              "    </tr>\n",
              "  </thead>\n",
              "  <tbody>\n",
              "    <tr>\n",
              "      <th>Matemática</th>\n",
              "      <td>8</td>\n",
              "    </tr>\n",
              "    <tr>\n",
              "      <th>Português</th>\n",
              "      <td>10</td>\n",
              "    </tr>\n",
              "    <tr>\n",
              "      <th>Inglês</th>\n",
              "      <td>4</td>\n",
              "    </tr>\n",
              "    <tr>\n",
              "      <th>Geografia</th>\n",
              "      <td>8</td>\n",
              "    </tr>\n",
              "    <tr>\n",
              "      <th>História</th>\n",
              "      <td>6</td>\n",
              "    </tr>\n",
              "    <tr>\n",
              "      <th>Física</th>\n",
              "      <td>10</td>\n",
              "    </tr>\n",
              "    <tr>\n",
              "      <th>Química</th>\n",
              "      <td>8</td>\n",
              "    </tr>\n",
              "  </tbody>\n",
              "</table>\n",
              "</div>\n",
              "    <div class=\"colab-df-buttons\">\n",
              "\n",
              "  <div class=\"colab-df-container\">\n",
              "    <button class=\"colab-df-convert\" onclick=\"convertToInteractive('df-f42828e1-e26e-4bcf-bdd9-cf91c3a196c7')\"\n",
              "            title=\"Convert this dataframe to an interactive table.\"\n",
              "            style=\"display:none;\">\n",
              "\n",
              "  <svg xmlns=\"http://www.w3.org/2000/svg\" height=\"24px\" viewBox=\"0 -960 960 960\">\n",
              "    <path d=\"M120-120v-720h720v720H120Zm60-500h600v-160H180v160Zm220 220h160v-160H400v160Zm0 220h160v-160H400v160ZM180-400h160v-160H180v160Zm440 0h160v-160H620v160ZM180-180h160v-160H180v160Zm440 0h160v-160H620v160Z\"/>\n",
              "  </svg>\n",
              "    </button>\n",
              "\n",
              "  <style>\n",
              "    .colab-df-container {\n",
              "      display:flex;\n",
              "      gap: 12px;\n",
              "    }\n",
              "\n",
              "    .colab-df-convert {\n",
              "      background-color: #E8F0FE;\n",
              "      border: none;\n",
              "      border-radius: 50%;\n",
              "      cursor: pointer;\n",
              "      display: none;\n",
              "      fill: #1967D2;\n",
              "      height: 32px;\n",
              "      padding: 0 0 0 0;\n",
              "      width: 32px;\n",
              "    }\n",
              "\n",
              "    .colab-df-convert:hover {\n",
              "      background-color: #E2EBFA;\n",
              "      box-shadow: 0px 1px 2px rgba(60, 64, 67, 0.3), 0px 1px 3px 1px rgba(60, 64, 67, 0.15);\n",
              "      fill: #174EA6;\n",
              "    }\n",
              "\n",
              "    .colab-df-buttons div {\n",
              "      margin-bottom: 4px;\n",
              "    }\n",
              "\n",
              "    [theme=dark] .colab-df-convert {\n",
              "      background-color: #3B4455;\n",
              "      fill: #D2E3FC;\n",
              "    }\n",
              "\n",
              "    [theme=dark] .colab-df-convert:hover {\n",
              "      background-color: #434B5C;\n",
              "      box-shadow: 0px 1px 3px 1px rgba(0, 0, 0, 0.15);\n",
              "      filter: drop-shadow(0px 1px 2px rgba(0, 0, 0, 0.3));\n",
              "      fill: #FFFFFF;\n",
              "    }\n",
              "  </style>\n",
              "\n",
              "    <script>\n",
              "      const buttonEl =\n",
              "        document.querySelector('#df-f42828e1-e26e-4bcf-bdd9-cf91c3a196c7 button.colab-df-convert');\n",
              "      buttonEl.style.display =\n",
              "        google.colab.kernel.accessAllowed ? 'block' : 'none';\n",
              "\n",
              "      async function convertToInteractive(key) {\n",
              "        const element = document.querySelector('#df-f42828e1-e26e-4bcf-bdd9-cf91c3a196c7');\n",
              "        const dataTable =\n",
              "          await google.colab.kernel.invokeFunction('convertToInteractive',\n",
              "                                                    [key], {});\n",
              "        if (!dataTable) return;\n",
              "\n",
              "        const docLinkHtml = 'Like what you see? Visit the ' +\n",
              "          '<a target=\"_blank\" href=https://colab.research.google.com/notebooks/data_table.ipynb>data table notebook</a>'\n",
              "          + ' to learn more about interactive tables.';\n",
              "        element.innerHTML = '';\n",
              "        dataTable['output_type'] = 'display_data';\n",
              "        await google.colab.output.renderOutput(dataTable, element);\n",
              "        const docLink = document.createElement('div');\n",
              "        docLink.innerHTML = docLinkHtml;\n",
              "        element.appendChild(docLink);\n",
              "      }\n",
              "    </script>\n",
              "  </div>\n",
              "\n",
              "\n",
              "<div id=\"df-22cae8bb-1e22-49e9-8b05-6d54a37fc4fa\">\n",
              "  <button class=\"colab-df-quickchart\" onclick=\"quickchart('df-22cae8bb-1e22-49e9-8b05-6d54a37fc4fa')\"\n",
              "            title=\"Suggest charts\"\n",
              "            style=\"display:none;\">\n",
              "\n",
              "<svg xmlns=\"http://www.w3.org/2000/svg\" height=\"24px\"viewBox=\"0 0 24 24\"\n",
              "     width=\"24px\">\n",
              "    <g>\n",
              "        <path d=\"M19 3H5c-1.1 0-2 .9-2 2v14c0 1.1.9 2 2 2h14c1.1 0 2-.9 2-2V5c0-1.1-.9-2-2-2zM9 17H7v-7h2v7zm4 0h-2V7h2v10zm4 0h-2v-4h2v4z\"/>\n",
              "    </g>\n",
              "</svg>\n",
              "  </button>\n",
              "\n",
              "<style>\n",
              "  .colab-df-quickchart {\n",
              "      --bg-color: #E8F0FE;\n",
              "      --fill-color: #1967D2;\n",
              "      --hover-bg-color: #E2EBFA;\n",
              "      --hover-fill-color: #174EA6;\n",
              "      --disabled-fill-color: #AAA;\n",
              "      --disabled-bg-color: #DDD;\n",
              "  }\n",
              "\n",
              "  [theme=dark] .colab-df-quickchart {\n",
              "      --bg-color: #3B4455;\n",
              "      --fill-color: #D2E3FC;\n",
              "      --hover-bg-color: #434B5C;\n",
              "      --hover-fill-color: #FFFFFF;\n",
              "      --disabled-bg-color: #3B4455;\n",
              "      --disabled-fill-color: #666;\n",
              "  }\n",
              "\n",
              "  .colab-df-quickchart {\n",
              "    background-color: var(--bg-color);\n",
              "    border: none;\n",
              "    border-radius: 50%;\n",
              "    cursor: pointer;\n",
              "    display: none;\n",
              "    fill: var(--fill-color);\n",
              "    height: 32px;\n",
              "    padding: 0;\n",
              "    width: 32px;\n",
              "  }\n",
              "\n",
              "  .colab-df-quickchart:hover {\n",
              "    background-color: var(--hover-bg-color);\n",
              "    box-shadow: 0 1px 2px rgba(60, 64, 67, 0.3), 0 1px 3px 1px rgba(60, 64, 67, 0.15);\n",
              "    fill: var(--button-hover-fill-color);\n",
              "  }\n",
              "\n",
              "  .colab-df-quickchart-complete:disabled,\n",
              "  .colab-df-quickchart-complete:disabled:hover {\n",
              "    background-color: var(--disabled-bg-color);\n",
              "    fill: var(--disabled-fill-color);\n",
              "    box-shadow: none;\n",
              "  }\n",
              "\n",
              "  .colab-df-spinner {\n",
              "    border: 2px solid var(--fill-color);\n",
              "    border-color: transparent;\n",
              "    border-bottom-color: var(--fill-color);\n",
              "    animation:\n",
              "      spin 1s steps(1) infinite;\n",
              "  }\n",
              "\n",
              "  @keyframes spin {\n",
              "    0% {\n",
              "      border-color: transparent;\n",
              "      border-bottom-color: var(--fill-color);\n",
              "      border-left-color: var(--fill-color);\n",
              "    }\n",
              "    20% {\n",
              "      border-color: transparent;\n",
              "      border-left-color: var(--fill-color);\n",
              "      border-top-color: var(--fill-color);\n",
              "    }\n",
              "    30% {\n",
              "      border-color: transparent;\n",
              "      border-left-color: var(--fill-color);\n",
              "      border-top-color: var(--fill-color);\n",
              "      border-right-color: var(--fill-color);\n",
              "    }\n",
              "    40% {\n",
              "      border-color: transparent;\n",
              "      border-right-color: var(--fill-color);\n",
              "      border-top-color: var(--fill-color);\n",
              "    }\n",
              "    60% {\n",
              "      border-color: transparent;\n",
              "      border-right-color: var(--fill-color);\n",
              "    }\n",
              "    80% {\n",
              "      border-color: transparent;\n",
              "      border-right-color: var(--fill-color);\n",
              "      border-bottom-color: var(--fill-color);\n",
              "    }\n",
              "    90% {\n",
              "      border-color: transparent;\n",
              "      border-bottom-color: var(--fill-color);\n",
              "    }\n",
              "  }\n",
              "</style>\n",
              "\n",
              "  <script>\n",
              "    async function quickchart(key) {\n",
              "      const quickchartButtonEl =\n",
              "        document.querySelector('#' + key + ' button');\n",
              "      quickchartButtonEl.disabled = true;  // To prevent multiple clicks.\n",
              "      quickchartButtonEl.classList.add('colab-df-spinner');\n",
              "      try {\n",
              "        const charts = await google.colab.kernel.invokeFunction(\n",
              "            'suggestCharts', [key], {});\n",
              "      } catch (error) {\n",
              "        console.error('Error during call to suggestCharts:', error);\n",
              "      }\n",
              "      quickchartButtonEl.classList.remove('colab-df-spinner');\n",
              "      quickchartButtonEl.classList.add('colab-df-quickchart-complete');\n",
              "    }\n",
              "    (() => {\n",
              "      let quickchartButtonEl =\n",
              "        document.querySelector('#df-22cae8bb-1e22-49e9-8b05-6d54a37fc4fa button');\n",
              "      quickchartButtonEl.style.display =\n",
              "        google.colab.kernel.accessAllowed ? 'block' : 'none';\n",
              "    })();\n",
              "  </script>\n",
              "</div>\n",
              "\n",
              "  <div id=\"id_091138dd-bd27-40f6-95e6-631a72667140\">\n",
              "    <style>\n",
              "      .colab-df-generate {\n",
              "        background-color: #E8F0FE;\n",
              "        border: none;\n",
              "        border-radius: 50%;\n",
              "        cursor: pointer;\n",
              "        display: none;\n",
              "        fill: #1967D2;\n",
              "        height: 32px;\n",
              "        padding: 0 0 0 0;\n",
              "        width: 32px;\n",
              "      }\n",
              "\n",
              "      .colab-df-generate:hover {\n",
              "        background-color: #E2EBFA;\n",
              "        box-shadow: 0px 1px 2px rgba(60, 64, 67, 0.3), 0px 1px 3px 1px rgba(60, 64, 67, 0.15);\n",
              "        fill: #174EA6;\n",
              "      }\n",
              "\n",
              "      [theme=dark] .colab-df-generate {\n",
              "        background-color: #3B4455;\n",
              "        fill: #D2E3FC;\n",
              "      }\n",
              "\n",
              "      [theme=dark] .colab-df-generate:hover {\n",
              "        background-color: #434B5C;\n",
              "        box-shadow: 0px 1px 3px 1px rgba(0, 0, 0, 0.15);\n",
              "        filter: drop-shadow(0px 1px 2px rgba(0, 0, 0, 0.3));\n",
              "        fill: #FFFFFF;\n",
              "      }\n",
              "    </style>\n",
              "    <button class=\"colab-df-generate\" onclick=\"generateWithVariable('notas_fulano')\"\n",
              "            title=\"Generate code using this dataframe.\"\n",
              "            style=\"display:none;\">\n",
              "\n",
              "  <svg xmlns=\"http://www.w3.org/2000/svg\" height=\"24px\"viewBox=\"0 0 24 24\"\n",
              "       width=\"24px\">\n",
              "    <path d=\"M7,19H8.4L18.45,9,17,7.55,7,17.6ZM5,21V16.75L18.45,3.32a2,2,0,0,1,2.83,0l1.4,1.43a1.91,1.91,0,0,1,.58,1.4,1.91,1.91,0,0,1-.58,1.4L9.25,21ZM18.45,9,17,7.55Zm-12,3A5.31,5.31,0,0,0,4.9,8.1,5.31,5.31,0,0,0,1,6.5,5.31,5.31,0,0,0,4.9,4.9,5.31,5.31,0,0,0,6.5,1,5.31,5.31,0,0,0,8.1,4.9,5.31,5.31,0,0,0,12,6.5,5.46,5.46,0,0,0,6.5,12Z\"/>\n",
              "  </svg>\n",
              "    </button>\n",
              "    <script>\n",
              "      (() => {\n",
              "      const buttonEl =\n",
              "        document.querySelector('#id_091138dd-bd27-40f6-95e6-631a72667140 button.colab-df-generate');\n",
              "      buttonEl.style.display =\n",
              "        google.colab.kernel.accessAllowed ? 'block' : 'none';\n",
              "\n",
              "      buttonEl.onclick = () => {\n",
              "        google.colab.notebook.generateWithVariable('notas_fulano');\n",
              "      }\n",
              "      })();\n",
              "    </script>\n",
              "  </div>\n",
              "\n",
              "    </div>\n",
              "  </div>\n"
            ],
            "application/vnd.google.colaboratory.intrinsic+json": {
              "type": "dataframe",
              "variable_name": "notas_fulano",
              "summary": "{\n  \"name\": \"notas_fulano\",\n  \"rows\": 7,\n  \"fields\": [\n    {\n      \"column\": \"Fulano\",\n      \"properties\": {\n        \"dtype\": \"number\",\n        \"std\": 2,\n        \"min\": 4,\n        \"max\": 10,\n        \"samples\": [\n          10,\n          6,\n          8\n        ],\n        \"num_unique_values\": 4,\n        \"semantic_type\": \"\",\n        \"description\": \"\"\n      }\n    }\n  ]\n}"
            }
          },
          "metadata": {},
          "execution_count": 96
        }
      ],
      "source": [
        "notas_fulano = df[['Fulano']]\n",
        "notas_fulano"
      ]
    },
    {
      "cell_type": "code",
      "execution_count": 97,
      "metadata": {
        "id": "RWo0AhBEjQNP",
        "colab": {
          "base_uri": "https://localhost:8080/"
        },
        "outputId": "92a00316-86a3-41c5-e10f-6532bcabdbe8"
      },
      "outputs": [
        {
          "output_type": "execute_result",
          "data": {
            "text/plain": [
              "7.714285714285714"
            ]
          },
          "metadata": {},
          "execution_count": 97
        }
      ],
      "source": [
        "nota_media_fulano = notas_fulano.mean()[0]\n",
        "nota_media_fulano"
      ]
    },
    {
      "cell_type": "code",
      "execution_count": 98,
      "metadata": {
        "id": "OiWDTw0ljQNQ",
        "colab": {
          "base_uri": "https://localhost:8080/",
          "height": 378
        },
        "outputId": "878d0549-46ca-4a78-bec1-46c85f161a3a"
      },
      "outputs": [
        {
          "output_type": "stream",
          "name": "stderr",
          "text": [
            "<ipython-input-98-e2160f3efa0b>:1: SettingWithCopyWarning: \n",
            "A value is trying to be set on a copy of a slice from a DataFrame.\n",
            "Try using .loc[row_indexer,col_indexer] = value instead\n",
            "\n",
            "See the caveats in the documentation: https://pandas.pydata.org/pandas-docs/stable/user_guide/indexing.html#returning-a-view-versus-a-copy\n",
            "  notas_fulano['Desvio'] = notas_fulano['Fulano'] - nota_media_fulano\n"
          ]
        },
        {
          "output_type": "execute_result",
          "data": {
            "text/plain": [
              "Matérias    Fulano    Desvio\n",
              "Matemática       8  0.285714\n",
              "Português       10  2.285714\n",
              "Inglês           4 -3.714286\n",
              "Geografia        8  0.285714\n",
              "História         6 -1.714286\n",
              "Física          10  2.285714\n",
              "Química          8  0.285714"
            ],
            "text/html": [
              "\n",
              "  <div id=\"df-fe2d236c-d87a-44e0-a166-e07af3b625ba\" class=\"colab-df-container\">\n",
              "    <div>\n",
              "<style scoped>\n",
              "    .dataframe tbody tr th:only-of-type {\n",
              "        vertical-align: middle;\n",
              "    }\n",
              "\n",
              "    .dataframe tbody tr th {\n",
              "        vertical-align: top;\n",
              "    }\n",
              "\n",
              "    .dataframe thead th {\n",
              "        text-align: right;\n",
              "    }\n",
              "</style>\n",
              "<table border=\"1\" class=\"dataframe\">\n",
              "  <thead>\n",
              "    <tr style=\"text-align: right;\">\n",
              "      <th>Matérias</th>\n",
              "      <th>Fulano</th>\n",
              "      <th>Desvio</th>\n",
              "    </tr>\n",
              "  </thead>\n",
              "  <tbody>\n",
              "    <tr>\n",
              "      <th>Matemática</th>\n",
              "      <td>8</td>\n",
              "      <td>0.285714</td>\n",
              "    </tr>\n",
              "    <tr>\n",
              "      <th>Português</th>\n",
              "      <td>10</td>\n",
              "      <td>2.285714</td>\n",
              "    </tr>\n",
              "    <tr>\n",
              "      <th>Inglês</th>\n",
              "      <td>4</td>\n",
              "      <td>-3.714286</td>\n",
              "    </tr>\n",
              "    <tr>\n",
              "      <th>Geografia</th>\n",
              "      <td>8</td>\n",
              "      <td>0.285714</td>\n",
              "    </tr>\n",
              "    <tr>\n",
              "      <th>História</th>\n",
              "      <td>6</td>\n",
              "      <td>-1.714286</td>\n",
              "    </tr>\n",
              "    <tr>\n",
              "      <th>Física</th>\n",
              "      <td>10</td>\n",
              "      <td>2.285714</td>\n",
              "    </tr>\n",
              "    <tr>\n",
              "      <th>Química</th>\n",
              "      <td>8</td>\n",
              "      <td>0.285714</td>\n",
              "    </tr>\n",
              "  </tbody>\n",
              "</table>\n",
              "</div>\n",
              "    <div class=\"colab-df-buttons\">\n",
              "\n",
              "  <div class=\"colab-df-container\">\n",
              "    <button class=\"colab-df-convert\" onclick=\"convertToInteractive('df-fe2d236c-d87a-44e0-a166-e07af3b625ba')\"\n",
              "            title=\"Convert this dataframe to an interactive table.\"\n",
              "            style=\"display:none;\">\n",
              "\n",
              "  <svg xmlns=\"http://www.w3.org/2000/svg\" height=\"24px\" viewBox=\"0 -960 960 960\">\n",
              "    <path d=\"M120-120v-720h720v720H120Zm60-500h600v-160H180v160Zm220 220h160v-160H400v160Zm0 220h160v-160H400v160ZM180-400h160v-160H180v160Zm440 0h160v-160H620v160ZM180-180h160v-160H180v160Zm440 0h160v-160H620v160Z\"/>\n",
              "  </svg>\n",
              "    </button>\n",
              "\n",
              "  <style>\n",
              "    .colab-df-container {\n",
              "      display:flex;\n",
              "      gap: 12px;\n",
              "    }\n",
              "\n",
              "    .colab-df-convert {\n",
              "      background-color: #E8F0FE;\n",
              "      border: none;\n",
              "      border-radius: 50%;\n",
              "      cursor: pointer;\n",
              "      display: none;\n",
              "      fill: #1967D2;\n",
              "      height: 32px;\n",
              "      padding: 0 0 0 0;\n",
              "      width: 32px;\n",
              "    }\n",
              "\n",
              "    .colab-df-convert:hover {\n",
              "      background-color: #E2EBFA;\n",
              "      box-shadow: 0px 1px 2px rgba(60, 64, 67, 0.3), 0px 1px 3px 1px rgba(60, 64, 67, 0.15);\n",
              "      fill: #174EA6;\n",
              "    }\n",
              "\n",
              "    .colab-df-buttons div {\n",
              "      margin-bottom: 4px;\n",
              "    }\n",
              "\n",
              "    [theme=dark] .colab-df-convert {\n",
              "      background-color: #3B4455;\n",
              "      fill: #D2E3FC;\n",
              "    }\n",
              "\n",
              "    [theme=dark] .colab-df-convert:hover {\n",
              "      background-color: #434B5C;\n",
              "      box-shadow: 0px 1px 3px 1px rgba(0, 0, 0, 0.15);\n",
              "      filter: drop-shadow(0px 1px 2px rgba(0, 0, 0, 0.3));\n",
              "      fill: #FFFFFF;\n",
              "    }\n",
              "  </style>\n",
              "\n",
              "    <script>\n",
              "      const buttonEl =\n",
              "        document.querySelector('#df-fe2d236c-d87a-44e0-a166-e07af3b625ba button.colab-df-convert');\n",
              "      buttonEl.style.display =\n",
              "        google.colab.kernel.accessAllowed ? 'block' : 'none';\n",
              "\n",
              "      async function convertToInteractive(key) {\n",
              "        const element = document.querySelector('#df-fe2d236c-d87a-44e0-a166-e07af3b625ba');\n",
              "        const dataTable =\n",
              "          await google.colab.kernel.invokeFunction('convertToInteractive',\n",
              "                                                    [key], {});\n",
              "        if (!dataTable) return;\n",
              "\n",
              "        const docLinkHtml = 'Like what you see? Visit the ' +\n",
              "          '<a target=\"_blank\" href=https://colab.research.google.com/notebooks/data_table.ipynb>data table notebook</a>'\n",
              "          + ' to learn more about interactive tables.';\n",
              "        element.innerHTML = '';\n",
              "        dataTable['output_type'] = 'display_data';\n",
              "        await google.colab.output.renderOutput(dataTable, element);\n",
              "        const docLink = document.createElement('div');\n",
              "        docLink.innerHTML = docLinkHtml;\n",
              "        element.appendChild(docLink);\n",
              "      }\n",
              "    </script>\n",
              "  </div>\n",
              "\n",
              "\n",
              "<div id=\"df-a69ae3a8-58c1-457f-a94d-bb1cf8c02904\">\n",
              "  <button class=\"colab-df-quickchart\" onclick=\"quickchart('df-a69ae3a8-58c1-457f-a94d-bb1cf8c02904')\"\n",
              "            title=\"Suggest charts\"\n",
              "            style=\"display:none;\">\n",
              "\n",
              "<svg xmlns=\"http://www.w3.org/2000/svg\" height=\"24px\"viewBox=\"0 0 24 24\"\n",
              "     width=\"24px\">\n",
              "    <g>\n",
              "        <path d=\"M19 3H5c-1.1 0-2 .9-2 2v14c0 1.1.9 2 2 2h14c1.1 0 2-.9 2-2V5c0-1.1-.9-2-2-2zM9 17H7v-7h2v7zm4 0h-2V7h2v10zm4 0h-2v-4h2v4z\"/>\n",
              "    </g>\n",
              "</svg>\n",
              "  </button>\n",
              "\n",
              "<style>\n",
              "  .colab-df-quickchart {\n",
              "      --bg-color: #E8F0FE;\n",
              "      --fill-color: #1967D2;\n",
              "      --hover-bg-color: #E2EBFA;\n",
              "      --hover-fill-color: #174EA6;\n",
              "      --disabled-fill-color: #AAA;\n",
              "      --disabled-bg-color: #DDD;\n",
              "  }\n",
              "\n",
              "  [theme=dark] .colab-df-quickchart {\n",
              "      --bg-color: #3B4455;\n",
              "      --fill-color: #D2E3FC;\n",
              "      --hover-bg-color: #434B5C;\n",
              "      --hover-fill-color: #FFFFFF;\n",
              "      --disabled-bg-color: #3B4455;\n",
              "      --disabled-fill-color: #666;\n",
              "  }\n",
              "\n",
              "  .colab-df-quickchart {\n",
              "    background-color: var(--bg-color);\n",
              "    border: none;\n",
              "    border-radius: 50%;\n",
              "    cursor: pointer;\n",
              "    display: none;\n",
              "    fill: var(--fill-color);\n",
              "    height: 32px;\n",
              "    padding: 0;\n",
              "    width: 32px;\n",
              "  }\n",
              "\n",
              "  .colab-df-quickchart:hover {\n",
              "    background-color: var(--hover-bg-color);\n",
              "    box-shadow: 0 1px 2px rgba(60, 64, 67, 0.3), 0 1px 3px 1px rgba(60, 64, 67, 0.15);\n",
              "    fill: var(--button-hover-fill-color);\n",
              "  }\n",
              "\n",
              "  .colab-df-quickchart-complete:disabled,\n",
              "  .colab-df-quickchart-complete:disabled:hover {\n",
              "    background-color: var(--disabled-bg-color);\n",
              "    fill: var(--disabled-fill-color);\n",
              "    box-shadow: none;\n",
              "  }\n",
              "\n",
              "  .colab-df-spinner {\n",
              "    border: 2px solid var(--fill-color);\n",
              "    border-color: transparent;\n",
              "    border-bottom-color: var(--fill-color);\n",
              "    animation:\n",
              "      spin 1s steps(1) infinite;\n",
              "  }\n",
              "\n",
              "  @keyframes spin {\n",
              "    0% {\n",
              "      border-color: transparent;\n",
              "      border-bottom-color: var(--fill-color);\n",
              "      border-left-color: var(--fill-color);\n",
              "    }\n",
              "    20% {\n",
              "      border-color: transparent;\n",
              "      border-left-color: var(--fill-color);\n",
              "      border-top-color: var(--fill-color);\n",
              "    }\n",
              "    30% {\n",
              "      border-color: transparent;\n",
              "      border-left-color: var(--fill-color);\n",
              "      border-top-color: var(--fill-color);\n",
              "      border-right-color: var(--fill-color);\n",
              "    }\n",
              "    40% {\n",
              "      border-color: transparent;\n",
              "      border-right-color: var(--fill-color);\n",
              "      border-top-color: var(--fill-color);\n",
              "    }\n",
              "    60% {\n",
              "      border-color: transparent;\n",
              "      border-right-color: var(--fill-color);\n",
              "    }\n",
              "    80% {\n",
              "      border-color: transparent;\n",
              "      border-right-color: var(--fill-color);\n",
              "      border-bottom-color: var(--fill-color);\n",
              "    }\n",
              "    90% {\n",
              "      border-color: transparent;\n",
              "      border-bottom-color: var(--fill-color);\n",
              "    }\n",
              "  }\n",
              "</style>\n",
              "\n",
              "  <script>\n",
              "    async function quickchart(key) {\n",
              "      const quickchartButtonEl =\n",
              "        document.querySelector('#' + key + ' button');\n",
              "      quickchartButtonEl.disabled = true;  // To prevent multiple clicks.\n",
              "      quickchartButtonEl.classList.add('colab-df-spinner');\n",
              "      try {\n",
              "        const charts = await google.colab.kernel.invokeFunction(\n",
              "            'suggestCharts', [key], {});\n",
              "      } catch (error) {\n",
              "        console.error('Error during call to suggestCharts:', error);\n",
              "      }\n",
              "      quickchartButtonEl.classList.remove('colab-df-spinner');\n",
              "      quickchartButtonEl.classList.add('colab-df-quickchart-complete');\n",
              "    }\n",
              "    (() => {\n",
              "      let quickchartButtonEl =\n",
              "        document.querySelector('#df-a69ae3a8-58c1-457f-a94d-bb1cf8c02904 button');\n",
              "      quickchartButtonEl.style.display =\n",
              "        google.colab.kernel.accessAllowed ? 'block' : 'none';\n",
              "    })();\n",
              "  </script>\n",
              "</div>\n",
              "\n",
              "  <div id=\"id_d55434cb-411e-4f86-a0a5-06c0b1c3d847\">\n",
              "    <style>\n",
              "      .colab-df-generate {\n",
              "        background-color: #E8F0FE;\n",
              "        border: none;\n",
              "        border-radius: 50%;\n",
              "        cursor: pointer;\n",
              "        display: none;\n",
              "        fill: #1967D2;\n",
              "        height: 32px;\n",
              "        padding: 0 0 0 0;\n",
              "        width: 32px;\n",
              "      }\n",
              "\n",
              "      .colab-df-generate:hover {\n",
              "        background-color: #E2EBFA;\n",
              "        box-shadow: 0px 1px 2px rgba(60, 64, 67, 0.3), 0px 1px 3px 1px rgba(60, 64, 67, 0.15);\n",
              "        fill: #174EA6;\n",
              "      }\n",
              "\n",
              "      [theme=dark] .colab-df-generate {\n",
              "        background-color: #3B4455;\n",
              "        fill: #D2E3FC;\n",
              "      }\n",
              "\n",
              "      [theme=dark] .colab-df-generate:hover {\n",
              "        background-color: #434B5C;\n",
              "        box-shadow: 0px 1px 3px 1px rgba(0, 0, 0, 0.15);\n",
              "        filter: drop-shadow(0px 1px 2px rgba(0, 0, 0, 0.3));\n",
              "        fill: #FFFFFF;\n",
              "      }\n",
              "    </style>\n",
              "    <button class=\"colab-df-generate\" onclick=\"generateWithVariable('notas_fulano')\"\n",
              "            title=\"Generate code using this dataframe.\"\n",
              "            style=\"display:none;\">\n",
              "\n",
              "  <svg xmlns=\"http://www.w3.org/2000/svg\" height=\"24px\"viewBox=\"0 0 24 24\"\n",
              "       width=\"24px\">\n",
              "    <path d=\"M7,19H8.4L18.45,9,17,7.55,7,17.6ZM5,21V16.75L18.45,3.32a2,2,0,0,1,2.83,0l1.4,1.43a1.91,1.91,0,0,1,.58,1.4,1.91,1.91,0,0,1-.58,1.4L9.25,21ZM18.45,9,17,7.55Zm-12,3A5.31,5.31,0,0,0,4.9,8.1,5.31,5.31,0,0,0,1,6.5,5.31,5.31,0,0,0,4.9,4.9,5.31,5.31,0,0,0,6.5,1,5.31,5.31,0,0,0,8.1,4.9,5.31,5.31,0,0,0,12,6.5,5.46,5.46,0,0,0,6.5,12Z\"/>\n",
              "  </svg>\n",
              "    </button>\n",
              "    <script>\n",
              "      (() => {\n",
              "      const buttonEl =\n",
              "        document.querySelector('#id_d55434cb-411e-4f86-a0a5-06c0b1c3d847 button.colab-df-generate');\n",
              "      buttonEl.style.display =\n",
              "        google.colab.kernel.accessAllowed ? 'block' : 'none';\n",
              "\n",
              "      buttonEl.onclick = () => {\n",
              "        google.colab.notebook.generateWithVariable('notas_fulano');\n",
              "      }\n",
              "      })();\n",
              "    </script>\n",
              "  </div>\n",
              "\n",
              "    </div>\n",
              "  </div>\n"
            ],
            "application/vnd.google.colaboratory.intrinsic+json": {
              "type": "dataframe",
              "variable_name": "notas_fulano",
              "summary": "{\n  \"name\": \"notas_fulano\",\n  \"rows\": 7,\n  \"fields\": [\n    {\n      \"column\": \"Fulano\",\n      \"properties\": {\n        \"dtype\": \"number\",\n        \"std\": 2,\n        \"min\": 4,\n        \"max\": 10,\n        \"samples\": [\n          10,\n          6,\n          8\n        ],\n        \"num_unique_values\": 4,\n        \"semantic_type\": \"\",\n        \"description\": \"\"\n      }\n    },\n    {\n      \"column\": \"Desvio\",\n      \"properties\": {\n        \"dtype\": \"number\",\n        \"std\": 2.1380899352993947,\n        \"min\": -3.7142857142857144,\n        \"max\": 2.2857142857142856,\n        \"samples\": [\n          2.2857142857142856,\n          -1.7142857142857144,\n          0.2857142857142856\n        ],\n        \"num_unique_values\": 4,\n        \"semantic_type\": \"\",\n        \"description\": \"\"\n      }\n    }\n  ]\n}"
            }
          },
          "metadata": {},
          "execution_count": 98
        }
      ],
      "source": [
        "notas_fulano['Desvio'] = notas_fulano['Fulano'] - nota_media_fulano\n",
        "notas_fulano"
      ]
    },
    {
      "cell_type": "code",
      "execution_count": 99,
      "metadata": {
        "id": "qQbjktz5jQNR",
        "colab": {
          "base_uri": "https://localhost:8080/",
          "height": 269
        },
        "outputId": "3e957c57-6539-4656-e1c7-70d249b6608a"
      },
      "outputs": [
        {
          "output_type": "execute_result",
          "data": {
            "text/plain": [
              "Matérias    Fulano    Desvio  |Desvio|\n",
              "Matemática       8  0.285714  0.285714\n",
              "Português       10  2.285714  2.285714\n",
              "Inglês           4 -3.714286  3.714286\n",
              "Geografia        8  0.285714  0.285714\n",
              "História         6 -1.714286  1.714286\n",
              "Física          10  2.285714  2.285714\n",
              "Química          8  0.285714  0.285714"
            ],
            "text/html": [
              "\n",
              "  <div id=\"df-ba000299-fed8-451a-a4ca-89e4eb44f1ed\" class=\"colab-df-container\">\n",
              "    <div>\n",
              "<style scoped>\n",
              "    .dataframe tbody tr th:only-of-type {\n",
              "        vertical-align: middle;\n",
              "    }\n",
              "\n",
              "    .dataframe tbody tr th {\n",
              "        vertical-align: top;\n",
              "    }\n",
              "\n",
              "    .dataframe thead th {\n",
              "        text-align: right;\n",
              "    }\n",
              "</style>\n",
              "<table border=\"1\" class=\"dataframe\">\n",
              "  <thead>\n",
              "    <tr style=\"text-align: right;\">\n",
              "      <th>Matérias</th>\n",
              "      <th>Fulano</th>\n",
              "      <th>Desvio</th>\n",
              "      <th>|Desvio|</th>\n",
              "    </tr>\n",
              "  </thead>\n",
              "  <tbody>\n",
              "    <tr>\n",
              "      <th>Matemática</th>\n",
              "      <td>8</td>\n",
              "      <td>0.285714</td>\n",
              "      <td>0.285714</td>\n",
              "    </tr>\n",
              "    <tr>\n",
              "      <th>Português</th>\n",
              "      <td>10</td>\n",
              "      <td>2.285714</td>\n",
              "      <td>2.285714</td>\n",
              "    </tr>\n",
              "    <tr>\n",
              "      <th>Inglês</th>\n",
              "      <td>4</td>\n",
              "      <td>-3.714286</td>\n",
              "      <td>3.714286</td>\n",
              "    </tr>\n",
              "    <tr>\n",
              "      <th>Geografia</th>\n",
              "      <td>8</td>\n",
              "      <td>0.285714</td>\n",
              "      <td>0.285714</td>\n",
              "    </tr>\n",
              "    <tr>\n",
              "      <th>História</th>\n",
              "      <td>6</td>\n",
              "      <td>-1.714286</td>\n",
              "      <td>1.714286</td>\n",
              "    </tr>\n",
              "    <tr>\n",
              "      <th>Física</th>\n",
              "      <td>10</td>\n",
              "      <td>2.285714</td>\n",
              "      <td>2.285714</td>\n",
              "    </tr>\n",
              "    <tr>\n",
              "      <th>Química</th>\n",
              "      <td>8</td>\n",
              "      <td>0.285714</td>\n",
              "      <td>0.285714</td>\n",
              "    </tr>\n",
              "  </tbody>\n",
              "</table>\n",
              "</div>\n",
              "    <div class=\"colab-df-buttons\">\n",
              "\n",
              "  <div class=\"colab-df-container\">\n",
              "    <button class=\"colab-df-convert\" onclick=\"convertToInteractive('df-ba000299-fed8-451a-a4ca-89e4eb44f1ed')\"\n",
              "            title=\"Convert this dataframe to an interactive table.\"\n",
              "            style=\"display:none;\">\n",
              "\n",
              "  <svg xmlns=\"http://www.w3.org/2000/svg\" height=\"24px\" viewBox=\"0 -960 960 960\">\n",
              "    <path d=\"M120-120v-720h720v720H120Zm60-500h600v-160H180v160Zm220 220h160v-160H400v160Zm0 220h160v-160H400v160ZM180-400h160v-160H180v160Zm440 0h160v-160H620v160ZM180-180h160v-160H180v160Zm440 0h160v-160H620v160Z\"/>\n",
              "  </svg>\n",
              "    </button>\n",
              "\n",
              "  <style>\n",
              "    .colab-df-container {\n",
              "      display:flex;\n",
              "      gap: 12px;\n",
              "    }\n",
              "\n",
              "    .colab-df-convert {\n",
              "      background-color: #E8F0FE;\n",
              "      border: none;\n",
              "      border-radius: 50%;\n",
              "      cursor: pointer;\n",
              "      display: none;\n",
              "      fill: #1967D2;\n",
              "      height: 32px;\n",
              "      padding: 0 0 0 0;\n",
              "      width: 32px;\n",
              "    }\n",
              "\n",
              "    .colab-df-convert:hover {\n",
              "      background-color: #E2EBFA;\n",
              "      box-shadow: 0px 1px 2px rgba(60, 64, 67, 0.3), 0px 1px 3px 1px rgba(60, 64, 67, 0.15);\n",
              "      fill: #174EA6;\n",
              "    }\n",
              "\n",
              "    .colab-df-buttons div {\n",
              "      margin-bottom: 4px;\n",
              "    }\n",
              "\n",
              "    [theme=dark] .colab-df-convert {\n",
              "      background-color: #3B4455;\n",
              "      fill: #D2E3FC;\n",
              "    }\n",
              "\n",
              "    [theme=dark] .colab-df-convert:hover {\n",
              "      background-color: #434B5C;\n",
              "      box-shadow: 0px 1px 3px 1px rgba(0, 0, 0, 0.15);\n",
              "      filter: drop-shadow(0px 1px 2px rgba(0, 0, 0, 0.3));\n",
              "      fill: #FFFFFF;\n",
              "    }\n",
              "  </style>\n",
              "\n",
              "    <script>\n",
              "      const buttonEl =\n",
              "        document.querySelector('#df-ba000299-fed8-451a-a4ca-89e4eb44f1ed button.colab-df-convert');\n",
              "      buttonEl.style.display =\n",
              "        google.colab.kernel.accessAllowed ? 'block' : 'none';\n",
              "\n",
              "      async function convertToInteractive(key) {\n",
              "        const element = document.querySelector('#df-ba000299-fed8-451a-a4ca-89e4eb44f1ed');\n",
              "        const dataTable =\n",
              "          await google.colab.kernel.invokeFunction('convertToInteractive',\n",
              "                                                    [key], {});\n",
              "        if (!dataTable) return;\n",
              "\n",
              "        const docLinkHtml = 'Like what you see? Visit the ' +\n",
              "          '<a target=\"_blank\" href=https://colab.research.google.com/notebooks/data_table.ipynb>data table notebook</a>'\n",
              "          + ' to learn more about interactive tables.';\n",
              "        element.innerHTML = '';\n",
              "        dataTable['output_type'] = 'display_data';\n",
              "        await google.colab.output.renderOutput(dataTable, element);\n",
              "        const docLink = document.createElement('div');\n",
              "        docLink.innerHTML = docLinkHtml;\n",
              "        element.appendChild(docLink);\n",
              "      }\n",
              "    </script>\n",
              "  </div>\n",
              "\n",
              "\n",
              "<div id=\"df-fea53b91-760b-449d-8deb-aefa7e49d460\">\n",
              "  <button class=\"colab-df-quickchart\" onclick=\"quickchart('df-fea53b91-760b-449d-8deb-aefa7e49d460')\"\n",
              "            title=\"Suggest charts\"\n",
              "            style=\"display:none;\">\n",
              "\n",
              "<svg xmlns=\"http://www.w3.org/2000/svg\" height=\"24px\"viewBox=\"0 0 24 24\"\n",
              "     width=\"24px\">\n",
              "    <g>\n",
              "        <path d=\"M19 3H5c-1.1 0-2 .9-2 2v14c0 1.1.9 2 2 2h14c1.1 0 2-.9 2-2V5c0-1.1-.9-2-2-2zM9 17H7v-7h2v7zm4 0h-2V7h2v10zm4 0h-2v-4h2v4z\"/>\n",
              "    </g>\n",
              "</svg>\n",
              "  </button>\n",
              "\n",
              "<style>\n",
              "  .colab-df-quickchart {\n",
              "      --bg-color: #E8F0FE;\n",
              "      --fill-color: #1967D2;\n",
              "      --hover-bg-color: #E2EBFA;\n",
              "      --hover-fill-color: #174EA6;\n",
              "      --disabled-fill-color: #AAA;\n",
              "      --disabled-bg-color: #DDD;\n",
              "  }\n",
              "\n",
              "  [theme=dark] .colab-df-quickchart {\n",
              "      --bg-color: #3B4455;\n",
              "      --fill-color: #D2E3FC;\n",
              "      --hover-bg-color: #434B5C;\n",
              "      --hover-fill-color: #FFFFFF;\n",
              "      --disabled-bg-color: #3B4455;\n",
              "      --disabled-fill-color: #666;\n",
              "  }\n",
              "\n",
              "  .colab-df-quickchart {\n",
              "    background-color: var(--bg-color);\n",
              "    border: none;\n",
              "    border-radius: 50%;\n",
              "    cursor: pointer;\n",
              "    display: none;\n",
              "    fill: var(--fill-color);\n",
              "    height: 32px;\n",
              "    padding: 0;\n",
              "    width: 32px;\n",
              "  }\n",
              "\n",
              "  .colab-df-quickchart:hover {\n",
              "    background-color: var(--hover-bg-color);\n",
              "    box-shadow: 0 1px 2px rgba(60, 64, 67, 0.3), 0 1px 3px 1px rgba(60, 64, 67, 0.15);\n",
              "    fill: var(--button-hover-fill-color);\n",
              "  }\n",
              "\n",
              "  .colab-df-quickchart-complete:disabled,\n",
              "  .colab-df-quickchart-complete:disabled:hover {\n",
              "    background-color: var(--disabled-bg-color);\n",
              "    fill: var(--disabled-fill-color);\n",
              "    box-shadow: none;\n",
              "  }\n",
              "\n",
              "  .colab-df-spinner {\n",
              "    border: 2px solid var(--fill-color);\n",
              "    border-color: transparent;\n",
              "    border-bottom-color: var(--fill-color);\n",
              "    animation:\n",
              "      spin 1s steps(1) infinite;\n",
              "  }\n",
              "\n",
              "  @keyframes spin {\n",
              "    0% {\n",
              "      border-color: transparent;\n",
              "      border-bottom-color: var(--fill-color);\n",
              "      border-left-color: var(--fill-color);\n",
              "    }\n",
              "    20% {\n",
              "      border-color: transparent;\n",
              "      border-left-color: var(--fill-color);\n",
              "      border-top-color: var(--fill-color);\n",
              "    }\n",
              "    30% {\n",
              "      border-color: transparent;\n",
              "      border-left-color: var(--fill-color);\n",
              "      border-top-color: var(--fill-color);\n",
              "      border-right-color: var(--fill-color);\n",
              "    }\n",
              "    40% {\n",
              "      border-color: transparent;\n",
              "      border-right-color: var(--fill-color);\n",
              "      border-top-color: var(--fill-color);\n",
              "    }\n",
              "    60% {\n",
              "      border-color: transparent;\n",
              "      border-right-color: var(--fill-color);\n",
              "    }\n",
              "    80% {\n",
              "      border-color: transparent;\n",
              "      border-right-color: var(--fill-color);\n",
              "      border-bottom-color: var(--fill-color);\n",
              "    }\n",
              "    90% {\n",
              "      border-color: transparent;\n",
              "      border-bottom-color: var(--fill-color);\n",
              "    }\n",
              "  }\n",
              "</style>\n",
              "\n",
              "  <script>\n",
              "    async function quickchart(key) {\n",
              "      const quickchartButtonEl =\n",
              "        document.querySelector('#' + key + ' button');\n",
              "      quickchartButtonEl.disabled = true;  // To prevent multiple clicks.\n",
              "      quickchartButtonEl.classList.add('colab-df-spinner');\n",
              "      try {\n",
              "        const charts = await google.colab.kernel.invokeFunction(\n",
              "            'suggestCharts', [key], {});\n",
              "      } catch (error) {\n",
              "        console.error('Error during call to suggestCharts:', error);\n",
              "      }\n",
              "      quickchartButtonEl.classList.remove('colab-df-spinner');\n",
              "      quickchartButtonEl.classList.add('colab-df-quickchart-complete');\n",
              "    }\n",
              "    (() => {\n",
              "      let quickchartButtonEl =\n",
              "        document.querySelector('#df-fea53b91-760b-449d-8deb-aefa7e49d460 button');\n",
              "      quickchartButtonEl.style.display =\n",
              "        google.colab.kernel.accessAllowed ? 'block' : 'none';\n",
              "    })();\n",
              "  </script>\n",
              "</div>\n",
              "\n",
              "  <div id=\"id_e242fcbc-7bdd-4a7b-a592-6cf60595f417\">\n",
              "    <style>\n",
              "      .colab-df-generate {\n",
              "        background-color: #E8F0FE;\n",
              "        border: none;\n",
              "        border-radius: 50%;\n",
              "        cursor: pointer;\n",
              "        display: none;\n",
              "        fill: #1967D2;\n",
              "        height: 32px;\n",
              "        padding: 0 0 0 0;\n",
              "        width: 32px;\n",
              "      }\n",
              "\n",
              "      .colab-df-generate:hover {\n",
              "        background-color: #E2EBFA;\n",
              "        box-shadow: 0px 1px 2px rgba(60, 64, 67, 0.3), 0px 1px 3px 1px rgba(60, 64, 67, 0.15);\n",
              "        fill: #174EA6;\n",
              "      }\n",
              "\n",
              "      [theme=dark] .colab-df-generate {\n",
              "        background-color: #3B4455;\n",
              "        fill: #D2E3FC;\n",
              "      }\n",
              "\n",
              "      [theme=dark] .colab-df-generate:hover {\n",
              "        background-color: #434B5C;\n",
              "        box-shadow: 0px 1px 3px 1px rgba(0, 0, 0, 0.15);\n",
              "        filter: drop-shadow(0px 1px 2px rgba(0, 0, 0, 0.3));\n",
              "        fill: #FFFFFF;\n",
              "      }\n",
              "    </style>\n",
              "    <button class=\"colab-df-generate\" onclick=\"generateWithVariable('notas_fulano')\"\n",
              "            title=\"Generate code using this dataframe.\"\n",
              "            style=\"display:none;\">\n",
              "\n",
              "  <svg xmlns=\"http://www.w3.org/2000/svg\" height=\"24px\"viewBox=\"0 0 24 24\"\n",
              "       width=\"24px\">\n",
              "    <path d=\"M7,19H8.4L18.45,9,17,7.55,7,17.6ZM5,21V16.75L18.45,3.32a2,2,0,0,1,2.83,0l1.4,1.43a1.91,1.91,0,0,1,.58,1.4,1.91,1.91,0,0,1-.58,1.4L9.25,21ZM18.45,9,17,7.55Zm-12,3A5.31,5.31,0,0,0,4.9,8.1,5.31,5.31,0,0,0,1,6.5,5.31,5.31,0,0,0,4.9,4.9,5.31,5.31,0,0,0,6.5,1,5.31,5.31,0,0,0,8.1,4.9,5.31,5.31,0,0,0,12,6.5,5.46,5.46,0,0,0,6.5,12Z\"/>\n",
              "  </svg>\n",
              "    </button>\n",
              "    <script>\n",
              "      (() => {\n",
              "      const buttonEl =\n",
              "        document.querySelector('#id_e242fcbc-7bdd-4a7b-a592-6cf60595f417 button.colab-df-generate');\n",
              "      buttonEl.style.display =\n",
              "        google.colab.kernel.accessAllowed ? 'block' : 'none';\n",
              "\n",
              "      buttonEl.onclick = () => {\n",
              "        google.colab.notebook.generateWithVariable('notas_fulano');\n",
              "      }\n",
              "      })();\n",
              "    </script>\n",
              "  </div>\n",
              "\n",
              "    </div>\n",
              "  </div>\n"
            ],
            "application/vnd.google.colaboratory.intrinsic+json": {
              "type": "dataframe",
              "variable_name": "notas_fulano",
              "summary": "{\n  \"name\": \"notas_fulano\",\n  \"rows\": 7,\n  \"fields\": [\n    {\n      \"column\": \"Fulano\",\n      \"properties\": {\n        \"dtype\": \"number\",\n        \"std\": 2,\n        \"min\": 4,\n        \"max\": 10,\n        \"samples\": [\n          10,\n          6,\n          8\n        ],\n        \"num_unique_values\": 4,\n        \"semantic_type\": \"\",\n        \"description\": \"\"\n      }\n    },\n    {\n      \"column\": \"Desvio\",\n      \"properties\": {\n        \"dtype\": \"number\",\n        \"std\": 2.1380899352993947,\n        \"min\": -3.7142857142857144,\n        \"max\": 2.2857142857142856,\n        \"samples\": [\n          2.2857142857142856,\n          -1.7142857142857144,\n          0.2857142857142856\n        ],\n        \"num_unique_values\": 4,\n        \"semantic_type\": \"\",\n        \"description\": \"\"\n      }\n    },\n    {\n      \"column\": \"|Desvio|\",\n      \"properties\": {\n        \"dtype\": \"number\",\n        \"std\": 1.3284653604064374,\n        \"min\": 0.2857142857142856,\n        \"max\": 3.7142857142857144,\n        \"samples\": [\n          2.2857142857142856,\n          1.7142857142857144,\n          0.2857142857142856\n        ],\n        \"num_unique_values\": 4,\n        \"semantic_type\": \"\",\n        \"description\": \"\"\n      }\n    }\n  ]\n}"
            }
          },
          "metadata": {},
          "execution_count": 99
        }
      ],
      "source": [
        "notas_fulano['|Desvio|'] = notas_fulano['Desvio'].abs()\n",
        "notas_fulano"
      ]
    },
    {
      "cell_type": "code",
      "execution_count": 100,
      "metadata": {
        "id": "dtIDTt6djQNV",
        "colab": {
          "base_uri": "https://localhost:8080/"
        },
        "outputId": "3237424f-40b4-4d13-8249-c8f525144d84"
      },
      "outputs": [
        {
          "output_type": "execute_result",
          "data": {
            "text/plain": [
              "1.5510204081632648"
            ]
          },
          "metadata": {},
          "execution_count": 100
        }
      ],
      "source": [
        "notas_fulano['|Desvio|'].mean()"
      ]
    },
    {
      "cell_type": "code",
      "execution_count": 101,
      "metadata": {
        "id": "m4buiQWF01xt",
        "colab": {
          "base_uri": "https://localhost:8080/"
        },
        "outputId": "8ec0d145-ed8f-4146-b98a-284b4193e450"
      },
      "outputs": [
        {
          "output_type": "stream",
          "name": "stderr",
          "text": [
            "<ipython-input-101-92cb839bc00c>:2: FutureWarning: The 'mad' method is deprecated and will be removed in a future version. To compute the same result, you may do `(df - df.mean()).abs().mean()`.\n",
            "  desvio_medio_absoluto = notas_fulano['Fulano'].mad()\n"
          ]
        },
        {
          "output_type": "execute_result",
          "data": {
            "text/plain": [
              "1.5510204081632648"
            ]
          },
          "metadata": {},
          "execution_count": 101
        }
      ],
      "source": [
        "# perceba que a função pronta retorna o mesmo resultado do nosso cálculo\n",
        "desvio_medio_absoluto = notas_fulano['Fulano'].mad()\n",
        "desvio_medio_absoluto"
      ]
    },
    {
      "cell_type": "code",
      "execution_count": 102,
      "metadata": {
        "id": "1PEJ_LUn01eV",
        "colab": {
          "base_uri": "https://localhost:8080/",
          "height": 269
        },
        "outputId": "a02be4bf-560c-4193-ff6e-5a9ef2f27644"
      },
      "outputs": [
        {
          "output_type": "execute_result",
          "data": {
            "text/plain": [
              "Matérias    Fulano    Desvio  |Desvio|  (Desvio)^2\n",
              "Matemática       8  0.285714  0.285714    0.081633\n",
              "Português       10  2.285714  2.285714    5.224490\n",
              "Inglês           4 -3.714286  3.714286   13.795918\n",
              "Geografia        8  0.285714  0.285714    0.081633\n",
              "História         6 -1.714286  1.714286    2.938776\n",
              "Física          10  2.285714  2.285714    5.224490\n",
              "Química          8  0.285714  0.285714    0.081633"
            ],
            "text/html": [
              "\n",
              "  <div id=\"df-fa5bb9be-1c0f-4586-89ff-bcd38c08d092\" class=\"colab-df-container\">\n",
              "    <div>\n",
              "<style scoped>\n",
              "    .dataframe tbody tr th:only-of-type {\n",
              "        vertical-align: middle;\n",
              "    }\n",
              "\n",
              "    .dataframe tbody tr th {\n",
              "        vertical-align: top;\n",
              "    }\n",
              "\n",
              "    .dataframe thead th {\n",
              "        text-align: right;\n",
              "    }\n",
              "</style>\n",
              "<table border=\"1\" class=\"dataframe\">\n",
              "  <thead>\n",
              "    <tr style=\"text-align: right;\">\n",
              "      <th>Matérias</th>\n",
              "      <th>Fulano</th>\n",
              "      <th>Desvio</th>\n",
              "      <th>|Desvio|</th>\n",
              "      <th>(Desvio)^2</th>\n",
              "    </tr>\n",
              "  </thead>\n",
              "  <tbody>\n",
              "    <tr>\n",
              "      <th>Matemática</th>\n",
              "      <td>8</td>\n",
              "      <td>0.285714</td>\n",
              "      <td>0.285714</td>\n",
              "      <td>0.081633</td>\n",
              "    </tr>\n",
              "    <tr>\n",
              "      <th>Português</th>\n",
              "      <td>10</td>\n",
              "      <td>2.285714</td>\n",
              "      <td>2.285714</td>\n",
              "      <td>5.224490</td>\n",
              "    </tr>\n",
              "    <tr>\n",
              "      <th>Inglês</th>\n",
              "      <td>4</td>\n",
              "      <td>-3.714286</td>\n",
              "      <td>3.714286</td>\n",
              "      <td>13.795918</td>\n",
              "    </tr>\n",
              "    <tr>\n",
              "      <th>Geografia</th>\n",
              "      <td>8</td>\n",
              "      <td>0.285714</td>\n",
              "      <td>0.285714</td>\n",
              "      <td>0.081633</td>\n",
              "    </tr>\n",
              "    <tr>\n",
              "      <th>História</th>\n",
              "      <td>6</td>\n",
              "      <td>-1.714286</td>\n",
              "      <td>1.714286</td>\n",
              "      <td>2.938776</td>\n",
              "    </tr>\n",
              "    <tr>\n",
              "      <th>Física</th>\n",
              "      <td>10</td>\n",
              "      <td>2.285714</td>\n",
              "      <td>2.285714</td>\n",
              "      <td>5.224490</td>\n",
              "    </tr>\n",
              "    <tr>\n",
              "      <th>Química</th>\n",
              "      <td>8</td>\n",
              "      <td>0.285714</td>\n",
              "      <td>0.285714</td>\n",
              "      <td>0.081633</td>\n",
              "    </tr>\n",
              "  </tbody>\n",
              "</table>\n",
              "</div>\n",
              "    <div class=\"colab-df-buttons\">\n",
              "\n",
              "  <div class=\"colab-df-container\">\n",
              "    <button class=\"colab-df-convert\" onclick=\"convertToInteractive('df-fa5bb9be-1c0f-4586-89ff-bcd38c08d092')\"\n",
              "            title=\"Convert this dataframe to an interactive table.\"\n",
              "            style=\"display:none;\">\n",
              "\n",
              "  <svg xmlns=\"http://www.w3.org/2000/svg\" height=\"24px\" viewBox=\"0 -960 960 960\">\n",
              "    <path d=\"M120-120v-720h720v720H120Zm60-500h600v-160H180v160Zm220 220h160v-160H400v160Zm0 220h160v-160H400v160ZM180-400h160v-160H180v160Zm440 0h160v-160H620v160ZM180-180h160v-160H180v160Zm440 0h160v-160H620v160Z\"/>\n",
              "  </svg>\n",
              "    </button>\n",
              "\n",
              "  <style>\n",
              "    .colab-df-container {\n",
              "      display:flex;\n",
              "      gap: 12px;\n",
              "    }\n",
              "\n",
              "    .colab-df-convert {\n",
              "      background-color: #E8F0FE;\n",
              "      border: none;\n",
              "      border-radius: 50%;\n",
              "      cursor: pointer;\n",
              "      display: none;\n",
              "      fill: #1967D2;\n",
              "      height: 32px;\n",
              "      padding: 0 0 0 0;\n",
              "      width: 32px;\n",
              "    }\n",
              "\n",
              "    .colab-df-convert:hover {\n",
              "      background-color: #E2EBFA;\n",
              "      box-shadow: 0px 1px 2px rgba(60, 64, 67, 0.3), 0px 1px 3px 1px rgba(60, 64, 67, 0.15);\n",
              "      fill: #174EA6;\n",
              "    }\n",
              "\n",
              "    .colab-df-buttons div {\n",
              "      margin-bottom: 4px;\n",
              "    }\n",
              "\n",
              "    [theme=dark] .colab-df-convert {\n",
              "      background-color: #3B4455;\n",
              "      fill: #D2E3FC;\n",
              "    }\n",
              "\n",
              "    [theme=dark] .colab-df-convert:hover {\n",
              "      background-color: #434B5C;\n",
              "      box-shadow: 0px 1px 3px 1px rgba(0, 0, 0, 0.15);\n",
              "      filter: drop-shadow(0px 1px 2px rgba(0, 0, 0, 0.3));\n",
              "      fill: #FFFFFF;\n",
              "    }\n",
              "  </style>\n",
              "\n",
              "    <script>\n",
              "      const buttonEl =\n",
              "        document.querySelector('#df-fa5bb9be-1c0f-4586-89ff-bcd38c08d092 button.colab-df-convert');\n",
              "      buttonEl.style.display =\n",
              "        google.colab.kernel.accessAllowed ? 'block' : 'none';\n",
              "\n",
              "      async function convertToInteractive(key) {\n",
              "        const element = document.querySelector('#df-fa5bb9be-1c0f-4586-89ff-bcd38c08d092');\n",
              "        const dataTable =\n",
              "          await google.colab.kernel.invokeFunction('convertToInteractive',\n",
              "                                                    [key], {});\n",
              "        if (!dataTable) return;\n",
              "\n",
              "        const docLinkHtml = 'Like what you see? Visit the ' +\n",
              "          '<a target=\"_blank\" href=https://colab.research.google.com/notebooks/data_table.ipynb>data table notebook</a>'\n",
              "          + ' to learn more about interactive tables.';\n",
              "        element.innerHTML = '';\n",
              "        dataTable['output_type'] = 'display_data';\n",
              "        await google.colab.output.renderOutput(dataTable, element);\n",
              "        const docLink = document.createElement('div');\n",
              "        docLink.innerHTML = docLinkHtml;\n",
              "        element.appendChild(docLink);\n",
              "      }\n",
              "    </script>\n",
              "  </div>\n",
              "\n",
              "\n",
              "<div id=\"df-d710e7d5-f710-4d9d-8491-05e738973022\">\n",
              "  <button class=\"colab-df-quickchart\" onclick=\"quickchart('df-d710e7d5-f710-4d9d-8491-05e738973022')\"\n",
              "            title=\"Suggest charts\"\n",
              "            style=\"display:none;\">\n",
              "\n",
              "<svg xmlns=\"http://www.w3.org/2000/svg\" height=\"24px\"viewBox=\"0 0 24 24\"\n",
              "     width=\"24px\">\n",
              "    <g>\n",
              "        <path d=\"M19 3H5c-1.1 0-2 .9-2 2v14c0 1.1.9 2 2 2h14c1.1 0 2-.9 2-2V5c0-1.1-.9-2-2-2zM9 17H7v-7h2v7zm4 0h-2V7h2v10zm4 0h-2v-4h2v4z\"/>\n",
              "    </g>\n",
              "</svg>\n",
              "  </button>\n",
              "\n",
              "<style>\n",
              "  .colab-df-quickchart {\n",
              "      --bg-color: #E8F0FE;\n",
              "      --fill-color: #1967D2;\n",
              "      --hover-bg-color: #E2EBFA;\n",
              "      --hover-fill-color: #174EA6;\n",
              "      --disabled-fill-color: #AAA;\n",
              "      --disabled-bg-color: #DDD;\n",
              "  }\n",
              "\n",
              "  [theme=dark] .colab-df-quickchart {\n",
              "      --bg-color: #3B4455;\n",
              "      --fill-color: #D2E3FC;\n",
              "      --hover-bg-color: #434B5C;\n",
              "      --hover-fill-color: #FFFFFF;\n",
              "      --disabled-bg-color: #3B4455;\n",
              "      --disabled-fill-color: #666;\n",
              "  }\n",
              "\n",
              "  .colab-df-quickchart {\n",
              "    background-color: var(--bg-color);\n",
              "    border: none;\n",
              "    border-radius: 50%;\n",
              "    cursor: pointer;\n",
              "    display: none;\n",
              "    fill: var(--fill-color);\n",
              "    height: 32px;\n",
              "    padding: 0;\n",
              "    width: 32px;\n",
              "  }\n",
              "\n",
              "  .colab-df-quickchart:hover {\n",
              "    background-color: var(--hover-bg-color);\n",
              "    box-shadow: 0 1px 2px rgba(60, 64, 67, 0.3), 0 1px 3px 1px rgba(60, 64, 67, 0.15);\n",
              "    fill: var(--button-hover-fill-color);\n",
              "  }\n",
              "\n",
              "  .colab-df-quickchart-complete:disabled,\n",
              "  .colab-df-quickchart-complete:disabled:hover {\n",
              "    background-color: var(--disabled-bg-color);\n",
              "    fill: var(--disabled-fill-color);\n",
              "    box-shadow: none;\n",
              "  }\n",
              "\n",
              "  .colab-df-spinner {\n",
              "    border: 2px solid var(--fill-color);\n",
              "    border-color: transparent;\n",
              "    border-bottom-color: var(--fill-color);\n",
              "    animation:\n",
              "      spin 1s steps(1) infinite;\n",
              "  }\n",
              "\n",
              "  @keyframes spin {\n",
              "    0% {\n",
              "      border-color: transparent;\n",
              "      border-bottom-color: var(--fill-color);\n",
              "      border-left-color: var(--fill-color);\n",
              "    }\n",
              "    20% {\n",
              "      border-color: transparent;\n",
              "      border-left-color: var(--fill-color);\n",
              "      border-top-color: var(--fill-color);\n",
              "    }\n",
              "    30% {\n",
              "      border-color: transparent;\n",
              "      border-left-color: var(--fill-color);\n",
              "      border-top-color: var(--fill-color);\n",
              "      border-right-color: var(--fill-color);\n",
              "    }\n",
              "    40% {\n",
              "      border-color: transparent;\n",
              "      border-right-color: var(--fill-color);\n",
              "      border-top-color: var(--fill-color);\n",
              "    }\n",
              "    60% {\n",
              "      border-color: transparent;\n",
              "      border-right-color: var(--fill-color);\n",
              "    }\n",
              "    80% {\n",
              "      border-color: transparent;\n",
              "      border-right-color: var(--fill-color);\n",
              "      border-bottom-color: var(--fill-color);\n",
              "    }\n",
              "    90% {\n",
              "      border-color: transparent;\n",
              "      border-bottom-color: var(--fill-color);\n",
              "    }\n",
              "  }\n",
              "</style>\n",
              "\n",
              "  <script>\n",
              "    async function quickchart(key) {\n",
              "      const quickchartButtonEl =\n",
              "        document.querySelector('#' + key + ' button');\n",
              "      quickchartButtonEl.disabled = true;  // To prevent multiple clicks.\n",
              "      quickchartButtonEl.classList.add('colab-df-spinner');\n",
              "      try {\n",
              "        const charts = await google.colab.kernel.invokeFunction(\n",
              "            'suggestCharts', [key], {});\n",
              "      } catch (error) {\n",
              "        console.error('Error during call to suggestCharts:', error);\n",
              "      }\n",
              "      quickchartButtonEl.classList.remove('colab-df-spinner');\n",
              "      quickchartButtonEl.classList.add('colab-df-quickchart-complete');\n",
              "    }\n",
              "    (() => {\n",
              "      let quickchartButtonEl =\n",
              "        document.querySelector('#df-d710e7d5-f710-4d9d-8491-05e738973022 button');\n",
              "      quickchartButtonEl.style.display =\n",
              "        google.colab.kernel.accessAllowed ? 'block' : 'none';\n",
              "    })();\n",
              "  </script>\n",
              "</div>\n",
              "\n",
              "  <div id=\"id_fc095b88-3078-49d0-b4b3-667fa74261de\">\n",
              "    <style>\n",
              "      .colab-df-generate {\n",
              "        background-color: #E8F0FE;\n",
              "        border: none;\n",
              "        border-radius: 50%;\n",
              "        cursor: pointer;\n",
              "        display: none;\n",
              "        fill: #1967D2;\n",
              "        height: 32px;\n",
              "        padding: 0 0 0 0;\n",
              "        width: 32px;\n",
              "      }\n",
              "\n",
              "      .colab-df-generate:hover {\n",
              "        background-color: #E2EBFA;\n",
              "        box-shadow: 0px 1px 2px rgba(60, 64, 67, 0.3), 0px 1px 3px 1px rgba(60, 64, 67, 0.15);\n",
              "        fill: #174EA6;\n",
              "      }\n",
              "\n",
              "      [theme=dark] .colab-df-generate {\n",
              "        background-color: #3B4455;\n",
              "        fill: #D2E3FC;\n",
              "      }\n",
              "\n",
              "      [theme=dark] .colab-df-generate:hover {\n",
              "        background-color: #434B5C;\n",
              "        box-shadow: 0px 1px 3px 1px rgba(0, 0, 0, 0.15);\n",
              "        filter: drop-shadow(0px 1px 2px rgba(0, 0, 0, 0.3));\n",
              "        fill: #FFFFFF;\n",
              "      }\n",
              "    </style>\n",
              "    <button class=\"colab-df-generate\" onclick=\"generateWithVariable('notas_fulano')\"\n",
              "            title=\"Generate code using this dataframe.\"\n",
              "            style=\"display:none;\">\n",
              "\n",
              "  <svg xmlns=\"http://www.w3.org/2000/svg\" height=\"24px\"viewBox=\"0 0 24 24\"\n",
              "       width=\"24px\">\n",
              "    <path d=\"M7,19H8.4L18.45,9,17,7.55,7,17.6ZM5,21V16.75L18.45,3.32a2,2,0,0,1,2.83,0l1.4,1.43a1.91,1.91,0,0,1,.58,1.4,1.91,1.91,0,0,1-.58,1.4L9.25,21ZM18.45,9,17,7.55Zm-12,3A5.31,5.31,0,0,0,4.9,8.1,5.31,5.31,0,0,0,1,6.5,5.31,5.31,0,0,0,4.9,4.9,5.31,5.31,0,0,0,6.5,1,5.31,5.31,0,0,0,8.1,4.9,5.31,5.31,0,0,0,12,6.5,5.46,5.46,0,0,0,6.5,12Z\"/>\n",
              "  </svg>\n",
              "    </button>\n",
              "    <script>\n",
              "      (() => {\n",
              "      const buttonEl =\n",
              "        document.querySelector('#id_fc095b88-3078-49d0-b4b3-667fa74261de button.colab-df-generate');\n",
              "      buttonEl.style.display =\n",
              "        google.colab.kernel.accessAllowed ? 'block' : 'none';\n",
              "\n",
              "      buttonEl.onclick = () => {\n",
              "        google.colab.notebook.generateWithVariable('notas_fulano');\n",
              "      }\n",
              "      })();\n",
              "    </script>\n",
              "  </div>\n",
              "\n",
              "    </div>\n",
              "  </div>\n"
            ],
            "application/vnd.google.colaboratory.intrinsic+json": {
              "type": "dataframe",
              "variable_name": "notas_fulano",
              "summary": "{\n  \"name\": \"notas_fulano\",\n  \"rows\": 7,\n  \"fields\": [\n    {\n      \"column\": \"Fulano\",\n      \"properties\": {\n        \"dtype\": \"number\",\n        \"std\": 2,\n        \"min\": 4,\n        \"max\": 10,\n        \"samples\": [\n          10,\n          6,\n          8\n        ],\n        \"num_unique_values\": 4,\n        \"semantic_type\": \"\",\n        \"description\": \"\"\n      }\n    },\n    {\n      \"column\": \"Desvio\",\n      \"properties\": {\n        \"dtype\": \"number\",\n        \"std\": 2.1380899352993947,\n        \"min\": -3.7142857142857144,\n        \"max\": 2.2857142857142856,\n        \"samples\": [\n          2.2857142857142856,\n          -1.7142857142857144,\n          0.2857142857142856\n        ],\n        \"num_unique_values\": 4,\n        \"semantic_type\": \"\",\n        \"description\": \"\"\n      }\n    },\n    {\n      \"column\": \"|Desvio|\",\n      \"properties\": {\n        \"dtype\": \"number\",\n        \"std\": 1.3284653604064374,\n        \"min\": 0.2857142857142856,\n        \"max\": 3.7142857142857144,\n        \"samples\": [\n          2.2857142857142856,\n          1.7142857142857144,\n          0.2857142857142856\n        ],\n        \"num_unique_values\": 4,\n        \"semantic_type\": \"\",\n        \"description\": \"\"\n      }\n    },\n    {\n      \"column\": \"(Desvio)^2\",\n      \"properties\": {\n        \"dtype\": \"number\",\n        \"std\": 4.93455714602691,\n        \"min\": 0.08163265306122441,\n        \"max\": 13.795918367346939,\n        \"samples\": [\n          5.224489795918367,\n          2.9387755102040822,\n          0.08163265306122441\n        ],\n        \"num_unique_values\": 4,\n        \"semantic_type\": \"\",\n        \"description\": \"\"\n      }\n    }\n  ]\n}"
            }
          },
          "metadata": {},
          "execution_count": 102
        }
      ],
      "source": [
        "notas_fulano['(Desvio)^2'] = notas_fulano['Desvio'].pow(2)\n",
        "notas_fulano"
      ]
    },
    {
      "cell_type": "code",
      "source": [
        "notas_fulano['(Desvio)^2']"
      ],
      "metadata": {
        "id": "FHcqfVGENbvL",
        "colab": {
          "base_uri": "https://localhost:8080/"
        },
        "outputId": "472c61e3-1297-435e-c2b3-3aa3f3f7ba12"
      },
      "execution_count": 103,
      "outputs": [
        {
          "output_type": "execute_result",
          "data": {
            "text/plain": [
              "Matemática     0.081633\n",
              "Português      5.224490\n",
              "Inglês        13.795918\n",
              "Geografia      0.081633\n",
              "História       2.938776\n",
              "Física         5.224490\n",
              "Química        0.081633\n",
              "Name: (Desvio)^2, dtype: float64"
            ]
          },
          "metadata": {},
          "execution_count": 103
        }
      ]
    },
    {
      "cell_type": "markdown",
      "metadata": {
        "id": "jSKfnKwEjQNW"
      },
      "source": [
        "## <font color=green>5.2 Variância</font>\n",
        "***"
      ]
    },
    {
      "cell_type": "markdown",
      "metadata": {
        "id": "tHD3yNqzjQNW"
      },
      "source": [
        "### Variância\n",
        "\n",
        "A variância é construída a partir das diferenças entre cada observação e a média dos dados, ou seja, o desvio em torno da média. No cálculo da variância, os desvios em torno da média são elevados ao quadrado."
      ]
    },
    {
      "cell_type": "markdown",
      "source": [
        "![image.png](data:image/png;base64,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)"
      ],
      "metadata": {
        "id": "rzW1iUyhSOFH"
      }
    },
    {
      "cell_type": "markdown",
      "metadata": {
        "id": "WrCn9hw0jQNX"
      },
      "source": [
        "### Variância populacional\n",
        "\n",
        "# $$\\sigma^2 = \\frac 1n\\sum_{i=1}^{n}(X_i-\\mu)^2$$"
      ]
    },
    {
      "cell_type": "markdown",
      "metadata": {
        "id": "jV5mQT_djQNX"
      },
      "source": [
        "### Variância amostral\n",
        "\n",
        "# $$S^2 = \\frac 1{n-1}\\sum_{i=1}^{n}(X_i-\\bar{X})^2$$"
      ]
    },
    {
      "cell_type": "code",
      "execution_count": 104,
      "metadata": {
        "id": "4tlbCQeujQNZ",
        "colab": {
          "base_uri": "https://localhost:8080/",
          "height": 269
        },
        "outputId": "793b5cd3-5388-45f5-8fe4-a9e8423e8169"
      },
      "outputs": [
        {
          "output_type": "execute_result",
          "data": {
            "text/plain": [
              "Matérias    Fulano    Desvio  |Desvio|  (Desvio)^2\n",
              "Matemática       8  0.285714  0.285714    0.081633\n",
              "Português       10  2.285714  2.285714    5.224490\n",
              "Inglês           4 -3.714286  3.714286   13.795918\n",
              "Geografia        8  0.285714  0.285714    0.081633\n",
              "História         6 -1.714286  1.714286    2.938776\n",
              "Física          10  2.285714  2.285714    5.224490\n",
              "Química          8  0.285714  0.285714    0.081633"
            ],
            "text/html": [
              "\n",
              "  <div id=\"df-05de844a-c721-437e-b782-c17305929a4a\" class=\"colab-df-container\">\n",
              "    <div>\n",
              "<style scoped>\n",
              "    .dataframe tbody tr th:only-of-type {\n",
              "        vertical-align: middle;\n",
              "    }\n",
              "\n",
              "    .dataframe tbody tr th {\n",
              "        vertical-align: top;\n",
              "    }\n",
              "\n",
              "    .dataframe thead th {\n",
              "        text-align: right;\n",
              "    }\n",
              "</style>\n",
              "<table border=\"1\" class=\"dataframe\">\n",
              "  <thead>\n",
              "    <tr style=\"text-align: right;\">\n",
              "      <th>Matérias</th>\n",
              "      <th>Fulano</th>\n",
              "      <th>Desvio</th>\n",
              "      <th>|Desvio|</th>\n",
              "      <th>(Desvio)^2</th>\n",
              "    </tr>\n",
              "  </thead>\n",
              "  <tbody>\n",
              "    <tr>\n",
              "      <th>Matemática</th>\n",
              "      <td>8</td>\n",
              "      <td>0.285714</td>\n",
              "      <td>0.285714</td>\n",
              "      <td>0.081633</td>\n",
              "    </tr>\n",
              "    <tr>\n",
              "      <th>Português</th>\n",
              "      <td>10</td>\n",
              "      <td>2.285714</td>\n",
              "      <td>2.285714</td>\n",
              "      <td>5.224490</td>\n",
              "    </tr>\n",
              "    <tr>\n",
              "      <th>Inglês</th>\n",
              "      <td>4</td>\n",
              "      <td>-3.714286</td>\n",
              "      <td>3.714286</td>\n",
              "      <td>13.795918</td>\n",
              "    </tr>\n",
              "    <tr>\n",
              "      <th>Geografia</th>\n",
              "      <td>8</td>\n",
              "      <td>0.285714</td>\n",
              "      <td>0.285714</td>\n",
              "      <td>0.081633</td>\n",
              "    </tr>\n",
              "    <tr>\n",
              "      <th>História</th>\n",
              "      <td>6</td>\n",
              "      <td>-1.714286</td>\n",
              "      <td>1.714286</td>\n",
              "      <td>2.938776</td>\n",
              "    </tr>\n",
              "    <tr>\n",
              "      <th>Física</th>\n",
              "      <td>10</td>\n",
              "      <td>2.285714</td>\n",
              "      <td>2.285714</td>\n",
              "      <td>5.224490</td>\n",
              "    </tr>\n",
              "    <tr>\n",
              "      <th>Química</th>\n",
              "      <td>8</td>\n",
              "      <td>0.285714</td>\n",
              "      <td>0.285714</td>\n",
              "      <td>0.081633</td>\n",
              "    </tr>\n",
              "  </tbody>\n",
              "</table>\n",
              "</div>\n",
              "    <div class=\"colab-df-buttons\">\n",
              "\n",
              "  <div class=\"colab-df-container\">\n",
              "    <button class=\"colab-df-convert\" onclick=\"convertToInteractive('df-05de844a-c721-437e-b782-c17305929a4a')\"\n",
              "            title=\"Convert this dataframe to an interactive table.\"\n",
              "            style=\"display:none;\">\n",
              "\n",
              "  <svg xmlns=\"http://www.w3.org/2000/svg\" height=\"24px\" viewBox=\"0 -960 960 960\">\n",
              "    <path d=\"M120-120v-720h720v720H120Zm60-500h600v-160H180v160Zm220 220h160v-160H400v160Zm0 220h160v-160H400v160ZM180-400h160v-160H180v160Zm440 0h160v-160H620v160ZM180-180h160v-160H180v160Zm440 0h160v-160H620v160Z\"/>\n",
              "  </svg>\n",
              "    </button>\n",
              "\n",
              "  <style>\n",
              "    .colab-df-container {\n",
              "      display:flex;\n",
              "      gap: 12px;\n",
              "    }\n",
              "\n",
              "    .colab-df-convert {\n",
              "      background-color: #E8F0FE;\n",
              "      border: none;\n",
              "      border-radius: 50%;\n",
              "      cursor: pointer;\n",
              "      display: none;\n",
              "      fill: #1967D2;\n",
              "      height: 32px;\n",
              "      padding: 0 0 0 0;\n",
              "      width: 32px;\n",
              "    }\n",
              "\n",
              "    .colab-df-convert:hover {\n",
              "      background-color: #E2EBFA;\n",
              "      box-shadow: 0px 1px 2px rgba(60, 64, 67, 0.3), 0px 1px 3px 1px rgba(60, 64, 67, 0.15);\n",
              "      fill: #174EA6;\n",
              "    }\n",
              "\n",
              "    .colab-df-buttons div {\n",
              "      margin-bottom: 4px;\n",
              "    }\n",
              "\n",
              "    [theme=dark] .colab-df-convert {\n",
              "      background-color: #3B4455;\n",
              "      fill: #D2E3FC;\n",
              "    }\n",
              "\n",
              "    [theme=dark] .colab-df-convert:hover {\n",
              "      background-color: #434B5C;\n",
              "      box-shadow: 0px 1px 3px 1px rgba(0, 0, 0, 0.15);\n",
              "      filter: drop-shadow(0px 1px 2px rgba(0, 0, 0, 0.3));\n",
              "      fill: #FFFFFF;\n",
              "    }\n",
              "  </style>\n",
              "\n",
              "    <script>\n",
              "      const buttonEl =\n",
              "        document.querySelector('#df-05de844a-c721-437e-b782-c17305929a4a button.colab-df-convert');\n",
              "      buttonEl.style.display =\n",
              "        google.colab.kernel.accessAllowed ? 'block' : 'none';\n",
              "\n",
              "      async function convertToInteractive(key) {\n",
              "        const element = document.querySelector('#df-05de844a-c721-437e-b782-c17305929a4a');\n",
              "        const dataTable =\n",
              "          await google.colab.kernel.invokeFunction('convertToInteractive',\n",
              "                                                    [key], {});\n",
              "        if (!dataTable) return;\n",
              "\n",
              "        const docLinkHtml = 'Like what you see? Visit the ' +\n",
              "          '<a target=\"_blank\" href=https://colab.research.google.com/notebooks/data_table.ipynb>data table notebook</a>'\n",
              "          + ' to learn more about interactive tables.';\n",
              "        element.innerHTML = '';\n",
              "        dataTable['output_type'] = 'display_data';\n",
              "        await google.colab.output.renderOutput(dataTable, element);\n",
              "        const docLink = document.createElement('div');\n",
              "        docLink.innerHTML = docLinkHtml;\n",
              "        element.appendChild(docLink);\n",
              "      }\n",
              "    </script>\n",
              "  </div>\n",
              "\n",
              "\n",
              "<div id=\"df-5c74af52-fbed-4b23-8799-7ddea4750b77\">\n",
              "  <button class=\"colab-df-quickchart\" onclick=\"quickchart('df-5c74af52-fbed-4b23-8799-7ddea4750b77')\"\n",
              "            title=\"Suggest charts\"\n",
              "            style=\"display:none;\">\n",
              "\n",
              "<svg xmlns=\"http://www.w3.org/2000/svg\" height=\"24px\"viewBox=\"0 0 24 24\"\n",
              "     width=\"24px\">\n",
              "    <g>\n",
              "        <path d=\"M19 3H5c-1.1 0-2 .9-2 2v14c0 1.1.9 2 2 2h14c1.1 0 2-.9 2-2V5c0-1.1-.9-2-2-2zM9 17H7v-7h2v7zm4 0h-2V7h2v10zm4 0h-2v-4h2v4z\"/>\n",
              "    </g>\n",
              "</svg>\n",
              "  </button>\n",
              "\n",
              "<style>\n",
              "  .colab-df-quickchart {\n",
              "      --bg-color: #E8F0FE;\n",
              "      --fill-color: #1967D2;\n",
              "      --hover-bg-color: #E2EBFA;\n",
              "      --hover-fill-color: #174EA6;\n",
              "      --disabled-fill-color: #AAA;\n",
              "      --disabled-bg-color: #DDD;\n",
              "  }\n",
              "\n",
              "  [theme=dark] .colab-df-quickchart {\n",
              "      --bg-color: #3B4455;\n",
              "      --fill-color: #D2E3FC;\n",
              "      --hover-bg-color: #434B5C;\n",
              "      --hover-fill-color: #FFFFFF;\n",
              "      --disabled-bg-color: #3B4455;\n",
              "      --disabled-fill-color: #666;\n",
              "  }\n",
              "\n",
              "  .colab-df-quickchart {\n",
              "    background-color: var(--bg-color);\n",
              "    border: none;\n",
              "    border-radius: 50%;\n",
              "    cursor: pointer;\n",
              "    display: none;\n",
              "    fill: var(--fill-color);\n",
              "    height: 32px;\n",
              "    padding: 0;\n",
              "    width: 32px;\n",
              "  }\n",
              "\n",
              "  .colab-df-quickchart:hover {\n",
              "    background-color: var(--hover-bg-color);\n",
              "    box-shadow: 0 1px 2px rgba(60, 64, 67, 0.3), 0 1px 3px 1px rgba(60, 64, 67, 0.15);\n",
              "    fill: var(--button-hover-fill-color);\n",
              "  }\n",
              "\n",
              "  .colab-df-quickchart-complete:disabled,\n",
              "  .colab-df-quickchart-complete:disabled:hover {\n",
              "    background-color: var(--disabled-bg-color);\n",
              "    fill: var(--disabled-fill-color);\n",
              "    box-shadow: none;\n",
              "  }\n",
              "\n",
              "  .colab-df-spinner {\n",
              "    border: 2px solid var(--fill-color);\n",
              "    border-color: transparent;\n",
              "    border-bottom-color: var(--fill-color);\n",
              "    animation:\n",
              "      spin 1s steps(1) infinite;\n",
              "  }\n",
              "\n",
              "  @keyframes spin {\n",
              "    0% {\n",
              "      border-color: transparent;\n",
              "      border-bottom-color: var(--fill-color);\n",
              "      border-left-color: var(--fill-color);\n",
              "    }\n",
              "    20% {\n",
              "      border-color: transparent;\n",
              "      border-left-color: var(--fill-color);\n",
              "      border-top-color: var(--fill-color);\n",
              "    }\n",
              "    30% {\n",
              "      border-color: transparent;\n",
              "      border-left-color: var(--fill-color);\n",
              "      border-top-color: var(--fill-color);\n",
              "      border-right-color: var(--fill-color);\n",
              "    }\n",
              "    40% {\n",
              "      border-color: transparent;\n",
              "      border-right-color: var(--fill-color);\n",
              "      border-top-color: var(--fill-color);\n",
              "    }\n",
              "    60% {\n",
              "      border-color: transparent;\n",
              "      border-right-color: var(--fill-color);\n",
              "    }\n",
              "    80% {\n",
              "      border-color: transparent;\n",
              "      border-right-color: var(--fill-color);\n",
              "      border-bottom-color: var(--fill-color);\n",
              "    }\n",
              "    90% {\n",
              "      border-color: transparent;\n",
              "      border-bottom-color: var(--fill-color);\n",
              "    }\n",
              "  }\n",
              "</style>\n",
              "\n",
              "  <script>\n",
              "    async function quickchart(key) {\n",
              "      const quickchartButtonEl =\n",
              "        document.querySelector('#' + key + ' button');\n",
              "      quickchartButtonEl.disabled = true;  // To prevent multiple clicks.\n",
              "      quickchartButtonEl.classList.add('colab-df-spinner');\n",
              "      try {\n",
              "        const charts = await google.colab.kernel.invokeFunction(\n",
              "            'suggestCharts', [key], {});\n",
              "      } catch (error) {\n",
              "        console.error('Error during call to suggestCharts:', error);\n",
              "      }\n",
              "      quickchartButtonEl.classList.remove('colab-df-spinner');\n",
              "      quickchartButtonEl.classList.add('colab-df-quickchart-complete');\n",
              "    }\n",
              "    (() => {\n",
              "      let quickchartButtonEl =\n",
              "        document.querySelector('#df-5c74af52-fbed-4b23-8799-7ddea4750b77 button');\n",
              "      quickchartButtonEl.style.display =\n",
              "        google.colab.kernel.accessAllowed ? 'block' : 'none';\n",
              "    })();\n",
              "  </script>\n",
              "</div>\n",
              "\n",
              "  <div id=\"id_e8261974-f67e-466f-9934-278a22ccc9ff\">\n",
              "    <style>\n",
              "      .colab-df-generate {\n",
              "        background-color: #E8F0FE;\n",
              "        border: none;\n",
              "        border-radius: 50%;\n",
              "        cursor: pointer;\n",
              "        display: none;\n",
              "        fill: #1967D2;\n",
              "        height: 32px;\n",
              "        padding: 0 0 0 0;\n",
              "        width: 32px;\n",
              "      }\n",
              "\n",
              "      .colab-df-generate:hover {\n",
              "        background-color: #E2EBFA;\n",
              "        box-shadow: 0px 1px 2px rgba(60, 64, 67, 0.3), 0px 1px 3px 1px rgba(60, 64, 67, 0.15);\n",
              "        fill: #174EA6;\n",
              "      }\n",
              "\n",
              "      [theme=dark] .colab-df-generate {\n",
              "        background-color: #3B4455;\n",
              "        fill: #D2E3FC;\n",
              "      }\n",
              "\n",
              "      [theme=dark] .colab-df-generate:hover {\n",
              "        background-color: #434B5C;\n",
              "        box-shadow: 0px 1px 3px 1px rgba(0, 0, 0, 0.15);\n",
              "        filter: drop-shadow(0px 1px 2px rgba(0, 0, 0, 0.3));\n",
              "        fill: #FFFFFF;\n",
              "      }\n",
              "    </style>\n",
              "    <button class=\"colab-df-generate\" onclick=\"generateWithVariable('notas_fulano')\"\n",
              "            title=\"Generate code using this dataframe.\"\n",
              "            style=\"display:none;\">\n",
              "\n",
              "  <svg xmlns=\"http://www.w3.org/2000/svg\" height=\"24px\"viewBox=\"0 0 24 24\"\n",
              "       width=\"24px\">\n",
              "    <path d=\"M7,19H8.4L18.45,9,17,7.55,7,17.6ZM5,21V16.75L18.45,3.32a2,2,0,0,1,2.83,0l1.4,1.43a1.91,1.91,0,0,1,.58,1.4,1.91,1.91,0,0,1-.58,1.4L9.25,21ZM18.45,9,17,7.55Zm-12,3A5.31,5.31,0,0,0,4.9,8.1,5.31,5.31,0,0,0,1,6.5,5.31,5.31,0,0,0,4.9,4.9,5.31,5.31,0,0,0,6.5,1,5.31,5.31,0,0,0,8.1,4.9,5.31,5.31,0,0,0,12,6.5,5.46,5.46,0,0,0,6.5,12Z\"/>\n",
              "  </svg>\n",
              "    </button>\n",
              "    <script>\n",
              "      (() => {\n",
              "      const buttonEl =\n",
              "        document.querySelector('#id_e8261974-f67e-466f-9934-278a22ccc9ff button.colab-df-generate');\n",
              "      buttonEl.style.display =\n",
              "        google.colab.kernel.accessAllowed ? 'block' : 'none';\n",
              "\n",
              "      buttonEl.onclick = () => {\n",
              "        google.colab.notebook.generateWithVariable('notas_fulano');\n",
              "      }\n",
              "      })();\n",
              "    </script>\n",
              "  </div>\n",
              "\n",
              "    </div>\n",
              "  </div>\n"
            ],
            "application/vnd.google.colaboratory.intrinsic+json": {
              "type": "dataframe",
              "variable_name": "notas_fulano",
              "summary": "{\n  \"name\": \"notas_fulano\",\n  \"rows\": 7,\n  \"fields\": [\n    {\n      \"column\": \"Fulano\",\n      \"properties\": {\n        \"dtype\": \"number\",\n        \"std\": 2,\n        \"min\": 4,\n        \"max\": 10,\n        \"samples\": [\n          10,\n          6,\n          8\n        ],\n        \"num_unique_values\": 4,\n        \"semantic_type\": \"\",\n        \"description\": \"\"\n      }\n    },\n    {\n      \"column\": \"Desvio\",\n      \"properties\": {\n        \"dtype\": \"number\",\n        \"std\": 2.1380899352993947,\n        \"min\": -3.7142857142857144,\n        \"max\": 2.2857142857142856,\n        \"samples\": [\n          2.2857142857142856,\n          -1.7142857142857144,\n          0.2857142857142856\n        ],\n        \"num_unique_values\": 4,\n        \"semantic_type\": \"\",\n        \"description\": \"\"\n      }\n    },\n    {\n      \"column\": \"|Desvio|\",\n      \"properties\": {\n        \"dtype\": \"number\",\n        \"std\": 1.3284653604064374,\n        \"min\": 0.2857142857142856,\n        \"max\": 3.7142857142857144,\n        \"samples\": [\n          2.2857142857142856,\n          1.7142857142857144,\n          0.2857142857142856\n        ],\n        \"num_unique_values\": 4,\n        \"semantic_type\": \"\",\n        \"description\": \"\"\n      }\n    },\n    {\n      \"column\": \"(Desvio)^2\",\n      \"properties\": {\n        \"dtype\": \"number\",\n        \"std\": 4.93455714602691,\n        \"min\": 0.08163265306122441,\n        \"max\": 13.795918367346939,\n        \"samples\": [\n          5.224489795918367,\n          2.9387755102040822,\n          0.08163265306122441\n        ],\n        \"num_unique_values\": 4,\n        \"semantic_type\": \"\",\n        \"description\": \"\"\n      }\n    }\n  ]\n}"
            }
          },
          "metadata": {},
          "execution_count": 104
        }
      ],
      "source": [
        "notas_fulano['(Desvio)^2'] = notas_fulano['Desvio'].pow(2)\n",
        "notas_fulano"
      ]
    },
    {
      "cell_type": "code",
      "execution_count": 105,
      "metadata": {
        "id": "oCcAfoIOjQNa",
        "colab": {
          "base_uri": "https://localhost:8080/"
        },
        "outputId": "9c0a38d7-f42e-4884-87d8-b1452295491e"
      },
      "outputs": [
        {
          "output_type": "execute_result",
          "data": {
            "text/plain": [
              "4.57142857142857"
            ]
          },
          "metadata": {},
          "execution_count": 105
        }
      ],
      "source": [
        "notas_fulano['(Desvio)^2'].sum() / (len(notas_fulano) - 1)"
      ]
    },
    {
      "cell_type": "code",
      "execution_count": 106,
      "metadata": {
        "id": "EyrfPHLtjQNb",
        "colab": {
          "base_uri": "https://localhost:8080/"
        },
        "outputId": "96ee3a3d-9fdd-4aa3-aaa3-868b8de5f617"
      },
      "outputs": [
        {
          "output_type": "execute_result",
          "data": {
            "text/plain": [
              "4.57142857142857"
            ]
          },
          "metadata": {},
          "execution_count": 106
        }
      ],
      "source": [
        "variancia = notas_fulano['Fulano'].var()\n",
        "variancia"
      ]
    },
    {
      "cell_type": "markdown",
      "metadata": {
        "id": "wQl_CsytjQNg"
      },
      "source": [
        "## <font color=green>5.3 Desvio padrão</font>\n",
        "***\n",
        "\n",
        "Uma das restrições da variância é o fato de fornecer medidas em quadrados das unidades originais - a variância de medidas de comprimento, por exemplo, é em unidades de área. Logo, o fato de as unidades serem diferentes dificulta a comparação da dispersão com as variáveis que a definem. Um modo de eliminar essa dificuldade é considerar sua raiz quadrada."
      ]
    },
    {
      "cell_type": "markdown",
      "metadata": {
        "id": "X9w1Iqt3jQNg"
      },
      "source": [
        "### Desvio padrão populacional\n",
        "\n",
        "# $$\\sigma = \\sqrt{\\frac 1n\\sum_{i=1}^{n}(X_i-\\mu)^2} \\Longrightarrow \\sigma = \\sqrt{\\sigma^2}$$"
      ]
    },
    {
      "cell_type": "markdown",
      "metadata": {
        "id": "D3J4MvMpjQNg"
      },
      "source": [
        "### Desvio padrão amostral\n",
        "\n",
        "# $$S = \\sqrt{\\frac 1{n-1}\\sum_{i=1}^{n}(X_i-\\bar{X})^2} \\Longrightarrow S = \\sqrt{S^2}$$"
      ]
    },
    {
      "cell_type": "code",
      "execution_count": 107,
      "metadata": {
        "id": "2di6iLFaSPda",
        "colab": {
          "base_uri": "https://localhost:8080/"
        },
        "outputId": "e3d67182-b684-4025-db6b-e13d5f558616"
      },
      "outputs": [
        {
          "output_type": "execute_result",
          "data": {
            "text/plain": [
              "2.1380899352993947"
            ]
          },
          "metadata": {},
          "execution_count": 107
        }
      ],
      "source": [
        "np.sqrt(variancia)"
      ]
    },
    {
      "cell_type": "code",
      "execution_count": 108,
      "metadata": {
        "id": "BMTx9yKHSPON",
        "colab": {
          "base_uri": "https://localhost:8080/"
        },
        "outputId": "f2cc25b1-dfa0-49fc-c20f-ccb9552d9459"
      },
      "outputs": [
        {
          "output_type": "execute_result",
          "data": {
            "text/plain": [
              "2.1380899352993947"
            ]
          },
          "metadata": {},
          "execution_count": 108
        }
      ],
      "source": [
        "desvio_padrao = notas_fulano['Fulano'].std()\n",
        "desvio_padrao"
      ]
    },
    {
      "cell_type": "code",
      "execution_count": 109,
      "metadata": {
        "id": "_PeQtqbdjQNh",
        "colab": {
          "base_uri": "https://localhost:8080/"
        },
        "outputId": "e6214d14-d58b-4042-f195-f709475488c3"
      },
      "outputs": [
        {
          "output_type": "execute_result",
          "data": {
            "text/plain": [
              "Matérias\n",
              "Fulano      7.714286\n",
              "Beltrano    5.142857\n",
              "Sicrano     7.714286\n",
              "dtype: float64"
            ]
          },
          "metadata": {},
          "execution_count": 109
        }
      ],
      "source": [
        "df.mean()"
      ]
    },
    {
      "cell_type": "code",
      "execution_count": 110,
      "metadata": {
        "id": "5LYOKy25jQNi",
        "colab": {
          "base_uri": "https://localhost:8080/"
        },
        "outputId": "1f263860-0b0a-42ab-ec18-6e3c10846622"
      },
      "outputs": [
        {
          "output_type": "execute_result",
          "data": {
            "text/plain": [
              "Matérias\n",
              "Fulano      8.0\n",
              "Beltrano    3.0\n",
              "Sicrano     8.0\n",
              "dtype: float64"
            ]
          },
          "metadata": {},
          "execution_count": 110
        }
      ],
      "source": [
        "df.median()"
      ]
    },
    {
      "cell_type": "code",
      "execution_count": 111,
      "metadata": {
        "id": "FfcyfSkFjQNj",
        "colab": {
          "base_uri": "https://localhost:8080/",
          "height": 81
        },
        "outputId": "41024b66-8de0-451c-f257-89075e9d6f2a"
      },
      "outputs": [
        {
          "output_type": "execute_result",
          "data": {
            "text/plain": [
              "Matérias  Fulano  Beltrano  Sicrano\n",
              "0              8      10.0      8.0"
            ],
            "text/html": [
              "\n",
              "  <div id=\"df-bd1f54c0-aa57-4d24-a57d-5942610ac958\" class=\"colab-df-container\">\n",
              "    <div>\n",
              "<style scoped>\n",
              "    .dataframe tbody tr th:only-of-type {\n",
              "        vertical-align: middle;\n",
              "    }\n",
              "\n",
              "    .dataframe tbody tr th {\n",
              "        vertical-align: top;\n",
              "    }\n",
              "\n",
              "    .dataframe thead th {\n",
              "        text-align: right;\n",
              "    }\n",
              "</style>\n",
              "<table border=\"1\" class=\"dataframe\">\n",
              "  <thead>\n",
              "    <tr style=\"text-align: right;\">\n",
              "      <th>Matérias</th>\n",
              "      <th>Fulano</th>\n",
              "      <th>Beltrano</th>\n",
              "      <th>Sicrano</th>\n",
              "    </tr>\n",
              "  </thead>\n",
              "  <tbody>\n",
              "    <tr>\n",
              "      <th>0</th>\n",
              "      <td>8</td>\n",
              "      <td>10.0</td>\n",
              "      <td>8.0</td>\n",
              "    </tr>\n",
              "  </tbody>\n",
              "</table>\n",
              "</div>\n",
              "    <div class=\"colab-df-buttons\">\n",
              "\n",
              "  <div class=\"colab-df-container\">\n",
              "    <button class=\"colab-df-convert\" onclick=\"convertToInteractive('df-bd1f54c0-aa57-4d24-a57d-5942610ac958')\"\n",
              "            title=\"Convert this dataframe to an interactive table.\"\n",
              "            style=\"display:none;\">\n",
              "\n",
              "  <svg xmlns=\"http://www.w3.org/2000/svg\" height=\"24px\" viewBox=\"0 -960 960 960\">\n",
              "    <path d=\"M120-120v-720h720v720H120Zm60-500h600v-160H180v160Zm220 220h160v-160H400v160Zm0 220h160v-160H400v160ZM180-400h160v-160H180v160Zm440 0h160v-160H620v160ZM180-180h160v-160H180v160Zm440 0h160v-160H620v160Z\"/>\n",
              "  </svg>\n",
              "    </button>\n",
              "\n",
              "  <style>\n",
              "    .colab-df-container {\n",
              "      display:flex;\n",
              "      gap: 12px;\n",
              "    }\n",
              "\n",
              "    .colab-df-convert {\n",
              "      background-color: #E8F0FE;\n",
              "      border: none;\n",
              "      border-radius: 50%;\n",
              "      cursor: pointer;\n",
              "      display: none;\n",
              "      fill: #1967D2;\n",
              "      height: 32px;\n",
              "      padding: 0 0 0 0;\n",
              "      width: 32px;\n",
              "    }\n",
              "\n",
              "    .colab-df-convert:hover {\n",
              "      background-color: #E2EBFA;\n",
              "      box-shadow: 0px 1px 2px rgba(60, 64, 67, 0.3), 0px 1px 3px 1px rgba(60, 64, 67, 0.15);\n",
              "      fill: #174EA6;\n",
              "    }\n",
              "\n",
              "    .colab-df-buttons div {\n",
              "      margin-bottom: 4px;\n",
              "    }\n",
              "\n",
              "    [theme=dark] .colab-df-convert {\n",
              "      background-color: #3B4455;\n",
              "      fill: #D2E3FC;\n",
              "    }\n",
              "\n",
              "    [theme=dark] .colab-df-convert:hover {\n",
              "      background-color: #434B5C;\n",
              "      box-shadow: 0px 1px 3px 1px rgba(0, 0, 0, 0.15);\n",
              "      filter: drop-shadow(0px 1px 2px rgba(0, 0, 0, 0.3));\n",
              "      fill: #FFFFFF;\n",
              "    }\n",
              "  </style>\n",
              "\n",
              "    <script>\n",
              "      const buttonEl =\n",
              "        document.querySelector('#df-bd1f54c0-aa57-4d24-a57d-5942610ac958 button.colab-df-convert');\n",
              "      buttonEl.style.display =\n",
              "        google.colab.kernel.accessAllowed ? 'block' : 'none';\n",
              "\n",
              "      async function convertToInteractive(key) {\n",
              "        const element = document.querySelector('#df-bd1f54c0-aa57-4d24-a57d-5942610ac958');\n",
              "        const dataTable =\n",
              "          await google.colab.kernel.invokeFunction('convertToInteractive',\n",
              "                                                    [key], {});\n",
              "        if (!dataTable) return;\n",
              "\n",
              "        const docLinkHtml = 'Like what you see? Visit the ' +\n",
              "          '<a target=\"_blank\" href=https://colab.research.google.com/notebooks/data_table.ipynb>data table notebook</a>'\n",
              "          + ' to learn more about interactive tables.';\n",
              "        element.innerHTML = '';\n",
              "        dataTable['output_type'] = 'display_data';\n",
              "        await google.colab.output.renderOutput(dataTable, element);\n",
              "        const docLink = document.createElement('div');\n",
              "        docLink.innerHTML = docLinkHtml;\n",
              "        element.appendChild(docLink);\n",
              "      }\n",
              "    </script>\n",
              "  </div>\n",
              "\n",
              "\n",
              "    </div>\n",
              "  </div>\n"
            ],
            "application/vnd.google.colaboratory.intrinsic+json": {
              "type": "dataframe",
              "repr_error": "cannot convert float NaN to integer"
            }
          },
          "metadata": {},
          "execution_count": 111
        }
      ],
      "source": [
        "df.mode()"
      ]
    },
    {
      "cell_type": "code",
      "execution_count": 112,
      "metadata": {
        "id": "G8vorygCjQNk",
        "colab": {
          "base_uri": "https://localhost:8080/"
        },
        "outputId": "5dbff387-68f4-4eb5-fb29-fdb5d1816f22"
      },
      "outputs": [
        {
          "output_type": "execute_result",
          "data": {
            "text/plain": [
              "Matérias\n",
              "Fulano      2.138090\n",
              "Beltrano    4.460141\n",
              "Sicrano     0.566947\n",
              "dtype: float64"
            ]
          },
          "metadata": {},
          "execution_count": 112
        }
      ],
      "source": [
        "df.std()"
      ]
    },
    {
      "cell_type": "markdown",
      "source": [
        "Encontrando desvio padrão idade"
      ],
      "metadata": {
        "id": "VmMwp-poRAc5"
      }
    },
    {
      "cell_type": "code",
      "execution_count": 113,
      "metadata": {
        "id": "01op3BEvjQNl"
      },
      "outputs": [],
      "source": [
        "dataset = pd.DataFrame({\n",
        "    'Sexo': ['H', 'M', 'M', 'M', 'M', 'H', 'H', 'H', 'M', 'M'],\n",
        "    'Idade': [53, 72, 54, 27, 30, 40, 58, 32, 44, 51]\n",
        "})"
      ]
    },
    {
      "cell_type": "code",
      "execution_count": 114,
      "metadata": {
        "id": "aiUvZluhUx-0",
        "colab": {
          "base_uri": "https://localhost:8080/"
        },
        "outputId": "43635c15-b647-4774-fd19-a2b8b88cc982"
      },
      "outputs": [
        {
          "output_type": "execute_result",
          "data": {
            "text/plain": [
              "Idade    16.64532\n",
              "Name: M, dtype: float64"
            ]
          },
          "metadata": {},
          "execution_count": 114
        }
      ],
      "source": [
        "dataset.groupby(['Sexo']).std().loc['M']"
      ]
    },
    {
      "cell_type": "markdown",
      "source": [
        "Perceba que o desvio padrão é basicamente estabelecer a raiz quadrada no cálculo da variância"
      ],
      "metadata": {
        "id": "Kb8mEL8hRfuA"
      }
    },
    {
      "cell_type": "code",
      "source": [
        "var = dataset.query('Sexo == \"M\"').var()\n",
        "var"
      ],
      "metadata": {
        "colab": {
          "base_uri": "https://localhost:8080/"
        },
        "id": "ITVgl1odQAze",
        "outputId": "40b2dd92-f22e-422c-c2a7-7011993aef55"
      },
      "execution_count": 115,
      "outputs": [
        {
          "output_type": "stream",
          "name": "stderr",
          "text": [
            "<ipython-input-115-96b404ca01af>:1: FutureWarning: The default value of numeric_only in DataFrame.var is deprecated. In a future version, it will default to False. In addition, specifying 'numeric_only=None' is deprecated. Select only valid columns or specify the value of numeric_only to silence this warning.\n",
            "  var = dataset.query('Sexo == \"M\"').var()\n"
          ]
        },
        {
          "output_type": "execute_result",
          "data": {
            "text/plain": [
              "Idade    277.066667\n",
              "dtype: float64"
            ]
          },
          "metadata": {},
          "execution_count": 115
        }
      ]
    },
    {
      "cell_type": "code",
      "source": [
        "np.sqrt(var)"
      ],
      "metadata": {
        "colab": {
          "base_uri": "https://localhost:8080/"
        },
        "id": "3g9gFjiRRUw5",
        "outputId": "564d940b-411d-4323-b321-8950660c8869"
      },
      "execution_count": 116,
      "outputs": [
        {
          "output_type": "execute_result",
          "data": {
            "text/plain": [
              "Idade    16.64532\n",
              "dtype: float64"
            ]
          },
          "metadata": {},
          "execution_count": 116
        }
      ]
    },
    {
      "cell_type": "code",
      "source": [],
      "metadata": {
        "id": "PXKIP3sIRdGP"
      },
      "execution_count": 116,
      "outputs": []
    }
  ],
  "metadata": {
    "colab": {
      "provenance": [],
      "include_colab_link": true
    },
    "kernelspec": {
      "display_name": "Python 3",
      "language": "python",
      "name": "python3"
    },
    "language_info": {
      "codemirror_mode": {
        "name": "ipython",
        "version": 3
      },
      "file_extension": ".py",
      "mimetype": "text/x-python",
      "name": "python",
      "nbconvert_exporter": "python",
      "pygments_lexer": "ipython3",
      "version": "3.6.5"
    }
  },
  "nbformat": 4,
  "nbformat_minor": 0
}